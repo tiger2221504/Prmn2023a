{
  "cells": [
    {
      "attachments": {},
      "cell_type": "markdown",
      "metadata": {
        "id": "TA5kKi-LY1xg"
      },
      "source": [
        "<a href=\"https://colab.research.google.com/github/kiryu-3/Prmn2023/blob/main/Python/Python_Basic/question/PythonBasic_5_Question.ipynb\" target=\"_parent\"><img src=\"https://colab.research.google.com/assets/colab-badge.svg\" alt=\"Open In Colab\"/></a>"
      ]
    },
    {
      "attachments": {},
      "cell_type": "markdown",
      "metadata": {
        "id": "r-kcfL2yEU8b"
      },
      "source": [
        "# 第5章 課題"
      ]
    },
    {
      "attachments": {},
      "cell_type": "markdown",
      "metadata": {
        "id": "RWo2DmBs_2c4"
      },
      "source": [
        "## 課題1"
      ]
    },
    {
      "attachments": {},
      "cell_type": "markdown",
      "metadata": {
        "id": "QRNvqmTgE8Ww"
      },
      "source": [
        "1桁の自然数を乱数を使って5つ格納した2つのリストを作ってください。  \n",
        "この時、一つのリスト内で5つの値が重複しないようにしてください\n",
        "\n",
        "その後、そのリストから重複する要素を削除した新しいリストと、   \n",
        "共通の要素を持つ新しいリストを出力してください"
      ]
    },
    {
      "attachments": {},
      "cell_type": "markdown",
      "metadata": {
        "id": "Goi4CqGxFOpn"
      },
      "source": [
        "＜実行結果例＞\n",
        "``` py  \n",
        "1つ目のリスト：[1, 2, 3, 4, 5]  \n",
        "2つ目のリスト：[1, 3, 5, 7, 9]  \n",
        "重複削除リスト：[1, 2, 3, 4, 5, 7, 9] \n",
        "共通要素リスト：[1, 3, 5]\n",
        "```"
      ]
    },
    {
      "attachments": {},
      "cell_type": "markdown",
      "metadata": {
        "id": "iEOFeFjqkkyS"
      },
      "source": [
        "＜ヒント＞ set関数を用いても用いなくても答えは出せます。"
      ]
    },
    {
      "cell_type": "code",
      "execution_count": 11,
      "metadata": {
        "id": "pQdhCOALMGWj"
      },
      "outputs": [
        {
          "name": "stdout",
          "output_type": "stream",
          "text": [
            "1つ目のリスト: [2, 3, 5, 6, 8]\n",
            "2つ目のリスト: [2, 3, 4, 5, 7]\n",
            "重複削除リスト: [2, 3, 4, 5, 6, 7, 8]\n",
            "共通要素リスト: [2, 3, 5]\n"
          ]
        }
      ],
      "source": [
        "# 入力用\n",
        "import random\n",
        "\n",
        "number=[1,2,3,4,5,6,7,8,9]\n",
        "number2=[1,2,3,4,5,6,7,8,9]\n",
        "list1=[]\n",
        "list2=[]\n",
        "\n",
        "for i in range(5):\n",
        "  list1.append(number.pop(random.randint(1,len(number)-1)))\n",
        "  list2.append(number2.pop(random.randint(1,len(number)-1)))\n",
        "\n",
        "list1.sort()\n",
        "list2.sort()\n",
        "\n",
        "data_set=set(list1+list2)\n",
        "list3=[i for i in data_set]\n",
        "\n",
        "\n",
        "list4=[]\n",
        "\n",
        "for i in range(5):\n",
        "  for j in range(5):\n",
        "    if(list1[i]==list2[j]):\n",
        "      list4.append(list1[i])\n",
        "      break\n",
        "\n",
        "\n",
        "print(\"1つ目のリスト:\",list1)\n",
        "print(\"2つ目のリスト:\",list2)\n",
        "print(\"重複削除リスト:\",list3)\n",
        "print(\"共通要素リスト:\",list4)"
      ]
    },
    {
      "attachments": {},
      "cell_type": "markdown",
      "metadata": {
        "id": "-qZw_n3X8xrW"
      },
      "source": [
        "## 課題2"
      ]
    },
    {
      "attachments": {},
      "cell_type": "markdown",
      "metadata": {
        "id": "vxwATeobQf_U"
      },
      "source": [
        "共通のキーを持つ辞書を要素とするリストから、特定のキーの値のリストを取得してみます。"
      ]
    },
    {
      "attachments": {},
      "cell_type": "markdown",
      "metadata": {
        "id": "tGPa1uU6Qs2c"
      },
      "source": [
        "以下のリストから、都道府県コード・都道府県・県庁所在地それぞれのリストを作成してください\n",
        "\n",
        "キーが存在しないところがある点に注意してください"
      ]
    },
    {
      "cell_type": "code",
      "execution_count": null,
      "metadata": {
        "id": "8ZdyRWbERGAY"
      },
      "outputs": [],
      "source": [
        "todohuken_data = [{\"コード\": 24, \"都道府県\": \"三重\", \"県庁所在地\": \"津\"},\n",
        "                  {\"コード\": 25, \"都道府県\": \"滋賀\", \"県庁所在地\": \"大津\"},\n",
        "                  {\"コード\": 31, \"都道府県\": \"鳥取\"},\n",
        "                  {\"コード\": 32, \"都道府県\": \"島根\", \"県庁所在地\": \"松江\"},\n",
        "                  {\"コード\": 37, \"都道府県\": \"香川\", \"県庁所在地\": \"高松\"},\n",
        "                  {\"コード\": 38, \"都道府県\": \"愛媛\", \"県庁所在地\": \"松山\"},]"
      ]
    },
    {
      "attachments": {},
      "cell_type": "markdown",
      "metadata": {
        "id": "dQ2n3OMSUXh2"
      },
      "source": [
        "＜出力結果例＞  \n",
        "``` py\n",
        "[24, 25, 31, 32, 37, 38]  \n",
        "['三重', '滋賀', '鳥取', '島根', '香川', '愛媛']\n",
        "['津', '大津', None, '松江', '高松', '松山']\n",
        "```"
      ]
    },
    {
      "cell_type": "code",
      "execution_count": 15,
      "metadata": {
        "id": "duwCERgQUify"
      },
      "outputs": [
        {
          "name": "stdout",
          "output_type": "stream",
          "text": [
            "[24, 25, 31, 32, 37, 38]\n",
            "['三重', '滋賀', '鳥取', '島根', '香川', '愛媛']\n",
            "['津', '大津', None, '松江', '高松', '松山']\n"
          ]
        }
      ],
      "source": [
        "# 入力用\n",
        "todohuken_data = [{\"コード\": 24, \"都道府県\": \"三重\", \"県庁所在地\": \"津\"},\n",
        "                  {\"コード\": 25, \"都道府県\": \"滋賀\", \"県庁所在地\": \"大津\"},\n",
        "                  {\"コード\": 31, \"都道府県\": \"鳥取\"},\n",
        "                  {\"コード\": 32, \"都道府県\": \"島根\", \"県庁所在地\": \"松江\"},\n",
        "                  {\"コード\": 37, \"都道府県\": \"香川\", \"県庁所在地\": \"高松\"},\n",
        "                  {\"コード\": 38, \"都道府県\": \"愛媛\", \"県庁所在地\": \"松山\"},]\n",
        "\n",
        "list1=[]\n",
        "list2=[]\n",
        "list3=[]\n",
        "\n",
        "for x in todohuken_data:\n",
        "    x.setdefault(\"コード\",None)\n",
        "    x.setdefault(\"都道府県\",None)\n",
        "    x.setdefault(\"県庁所在地\",None)\n",
        "\n",
        "    list1.append(x[\"コード\"])\n",
        "    list2.append(x[\"都道府県\"])\n",
        "    list3.append(x[\"県庁所在地\"])\n",
        "\n",
        "print(list1)\n",
        "print(list2)\n",
        "print(list3)"
      ]
    },
    {
      "attachments": {},
      "cell_type": "markdown",
      "metadata": {
        "id": "1S8kadYgq_gV"
      },
      "source": [
        "## 課題3"
      ]
    },
    {
      "attachments": {},
      "cell_type": "markdown",
      "metadata": {
        "id": "OdSKG7k9rA7V"
      },
      "source": [
        "ある文字列が与えられた場合、文字列内の各文字の出現回数をディクショナリの形で返してください\n",
        "\n",
        "大文字と小文字は区別してください  \n",
        "また、出力時はアルファベット順にソートした状態にしてください"
      ]
    },
    {
      "attachments": {},
      "cell_type": "markdown",
      "metadata": {
        "id": "p0suMufQuEzI"
      },
      "source": [
        "＜実行結果例＞　「Hello, World!」の各文字のカウント\n",
        "``` py\n",
        "{'H': 1, 'W': 1, 'd': 1, 'e': 1, 'l': 3, 'o': 2, 'r': 1}\n",
        "```"
      ]
    },
    {
      "cell_type": "code",
      "execution_count": 17,
      "metadata": {
        "id": "bHv50oDhrdzN"
      },
      "outputs": [
        {
          "name": "stdout",
          "output_type": "stream",
          "text": [
            "Hello,World!\n",
            "{'H': 1, 'W': 1, 'd': 1, 'e': 1, 'l': 3, 'o': 2, 'r': 1}\n"
          ]
        }
      ],
      "source": [
        "# 入力用\n",
        "\n",
        "string = input()\n",
        "print(string)\n",
        "\n",
        "# アルファベット以外の文字を削除 最初に実行してください\n",
        "string = ''.join(c for c in string if c.isalpha())\n",
        "\n",
        "dictionary={}\n",
        "\n",
        "for i in string:\n",
        "    dictionary[i]=string.count(i)\n",
        "\n",
        "list=sorted(dictionary.items())\n",
        "dictionary.clear()\n",
        "dictionary.update(list)\n",
        "\n",
        "print(dictionary)"
      ]
    },
    {
      "attachments": {},
      "cell_type": "markdown",
      "metadata": {
        "id": "W573lh39MOlj"
      },
      "source": [
        "## 課題4"
      ]
    },
    {
      "attachments": {},
      "cell_type": "markdown",
      "metadata": {
        "id": "sSIMKY-aNcIx"
      },
      "source": [
        "ある大学の名前と年齢が、次のような形式で格納されたディクショナリ `university_dic` があります。"
      ]
    },
    {
      "cell_type": "code",
      "execution_count": 41,
      "metadata": {
        "id": "v-wGyWuKK3wl"
      },
      "outputs": [],
      "source": [
        "university_dic = {\n",
        "    \"Chitose\" : 25,\n",
        "    \"Hokudai\" : 105,\n",
        "    \"Muroran\" : 74,\n",
        "    \"Hakodate\": 23,\n",
        "}"
      ]
    },
    {
      "attachments": {},
      "cell_type": "markdown",
      "metadata": {
        "id": "XIxDf9QgO1iH"
      },
      "source": [
        "このリストを、年齢順にソートして、新たなディクショナリとして出力してください"
      ]
    },
    {
      "attachments": {},
      "cell_type": "markdown",
      "metadata": {
        "id": "0Z2-_1dAQENU"
      },
      "source": [
        "＜実行結果＞  \n",
        "``` py\n",
        "{'Hakodate': 23, 'Chitose': 25, 'Muroran': 74, 'Hokudai': 105}\n",
        "```"
      ]
    },
    {
      "cell_type": "code",
      "execution_count": 20,
      "metadata": {
        "id": "ficNVfkgR5Kv"
      },
      "outputs": [
        {
          "name": "stdout",
          "output_type": "stream",
          "text": [
            "{'Hakodate': 23, 'Chitose': 25, 'Muroran': 74, 'Hokudai': 105}\n"
          ]
        }
      ],
      "source": [
        "# 入力用\n",
        "university_dic = {\n",
        "    \"Chitose\" : 25,\n",
        "    \"Hokudai\" : 105,\n",
        "    \"Muroran\" : 74,\n",
        "    \"Hakodate\": 23,\n",
        "}\n",
        "\n",
        "list=sorted(university_dic.items(),key=lambda x: int(x[1]))\n",
        "sorted_university_dic={}\n",
        "sorted_university_dic.update(list)\n",
        "\n",
        "print(sorted_university_dic)"
      ]
    },
    {
      "attachments": {},
      "cell_type": "markdown",
      "metadata": {
        "id": "QijnXk7UWAVC"
      },
      "source": [
        "## 課題5"
      ]
    },
    {
      "attachments": {},
      "cell_type": "markdown",
      "metadata": {
        "id": "m7F47Q1mWCA6"
      },
      "source": [
        "**FizzBuzz（フィズ・バズ）問題**という問題について解いていきます。\n",
        "\n",
        "もともとは、英語圏で長距離ドライブ中や飲み会の時に行われる言葉遊びです。"
      ]
    },
    {
      "attachments": {},
      "cell_type": "markdown",
      "metadata": {
        "id": "fArw0VcNWgwZ"
      },
      "source": [
        "以下のような問題になります。\n",
        "\n",
        "1～Nまでの整数を順に出力しなさい。ただし、例外として以下のルールを守ること。\n",
        "\n",
        "* 3で割り切れる数字の場合はFizzを出力\n",
        "* 5で割り切れる数字の場合はBuzzを出力\n",
        "* 7で割り切れる数字の場合はJazzを出力\n",
        "* 複数条件が当てはまる場合は組み合わせて出力（ \"FizzBuzz\", \"FizzJazz\", \"BuzzJazz\" など）"
      ]
    },
    {
      "attachments": {},
      "cell_type": "markdown",
      "metadata": {
        "id": "SYqkpYstWm7Z"
      },
      "source": [
        "ここでは N=100として、まずは一つのリストに  \n",
        "\"Fizz\" か \"Buzz\" か \"Jazz\" か \"組み合わさったもの\" か \"others\" を格納してください。\n",
        "\n",
        "その後、それぞれの要素の数をカウントし、ディクショナリの形で出力してください。"
      ]
    },
    {
      "attachments": {},
      "cell_type": "markdown",
      "metadata": {
        "id": "OqLuJTcWYzFt"
      },
      "source": [
        "＜実行結果例＞  \n",
        "``` py\n",
        "{'Fizz': 23, 'Buzz': 12, 'Jazz': 8, 'FizzBuzz': 6, 'FizzJazz': 4, 'BuzzJazz': 2, 'others': 45}\n",
        "```"
      ]
    },
    {
      "cell_type": "code",
      "execution_count": 23,
      "metadata": {
        "id": "BLYbI0E48o2G"
      },
      "outputs": [
        {
          "name": "stdout",
          "output_type": "stream",
          "text": [
            "{'Fizz': 23, 'Buzz': 12, 'Jazz': 8, 'FizzBuzz': 6, 'FizzJazz': 4, 'BuzzJazz': 2, 'others': 45}\n"
          ]
        }
      ],
      "source": [
        "# 入力用\n",
        "list=[]\n",
        "\n",
        "N=100\n",
        "\n",
        "for i in range(1,N+1):\n",
        "    if(i%15==0):\n",
        "        list.append(\"FizzBuzz\")\n",
        "    elif(i%21==0):\n",
        "        list.append(\"FizzJazz\")\n",
        "    elif(i%35==0):\n",
        "        list.append(\"BuzzJazz\")\n",
        "    elif(i%3==0):\n",
        "        list.append(\"Fizz\")\n",
        "    elif(i%5==0):\n",
        "        list.append(\"Buzz\")\n",
        "    elif(i%7==0):\n",
        "        list.append(\"Jazz\")\n",
        "    else:\n",
        "        list.append(\"others\")\n",
        "\n",
        "dict={}\n",
        "\n",
        "dict[\"Fizz\"]=list.count(\"Fizz\")\n",
        "dict[\"Buzz\"]=list.count(\"Buzz\")\n",
        "dict[\"Jazz\"]=list.count(\"Jazz\")\n",
        "dict[\"FizzBuzz\"]=list.count(\"FizzBuzz\")\n",
        "dict[\"FizzJazz\"]=list.count(\"FizzJazz\")\n",
        "dict[\"BuzzJazz\"]=list.count(\"BuzzJazz\")\n",
        "dict[\"others\"]=list.count(\"others\")\n",
        "\n",
        "print(dict)"
      ]
    }
  ],
  "metadata": {
    "colab": {
      "provenance": []
    },
    "kernelspec": {
      "display_name": "Python 3",
      "name": "python3"
    },
    "language_info": {
      "codemirror_mode": {
        "name": "ipython",
        "version": 3
      },
      "file_extension": ".py",
      "mimetype": "text/x-python",
      "name": "python",
      "nbconvert_exporter": "python",
      "pygments_lexer": "ipython3",
      "version": "3.10.9"
    }
  },
  "nbformat": 4,
  "nbformat_minor": 0
}
