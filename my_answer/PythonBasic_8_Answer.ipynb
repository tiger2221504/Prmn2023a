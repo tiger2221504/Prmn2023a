{
  "cells": [
    {
      "attachments": {},
      "cell_type": "markdown",
      "metadata": {
        "id": "IoLAPliGuLZM"
      },
      "source": [
        "<a href=\"https://colab.research.google.com/github/kiryu-3/Prmn2023/blob/main/Python/Python_Basic/question/PythonBasic_8_Question.ipynb\" target=\"_parent\"><img src=\"https://colab.research.google.com/assets/colab-badge.svg\" alt=\"Open In Colab\"/></a>"
      ]
    },
    {
      "attachments": {},
      "cell_type": "markdown",
      "metadata": {
        "id": "ZFQrSJHsZEns"
      },
      "source": [
        "# オブジェクト指向1 課題"
      ]
    },
    {
      "attachments": {},
      "cell_type": "markdown",
      "metadata": {
        "id": "1DGEULJlZLkL"
      },
      "source": [
        "## 課題1"
      ]
    },
    {
      "attachments": {},
      "cell_type": "markdown",
      "metadata": {
        "id": "he1ry54qZP56"
      },
      "source": [
        "以下の要件を満たすクラスを作成してください"
      ]
    },
    {
      "attachments": {},
      "cell_type": "markdown",
      "metadata": {
        "id": "PkJ0b9znZUMi"
      },
      "source": [
        "**指示**\n",
        "\n",
        "・ moveメソッド内で「歩いたよ」と出力するInsectクラスを作る  \n",
        "・ moveメソッド内で「飛んだよ」と出力するButterflyクラスを作る     \n",
        "・ moveメソッド内で「跳んだよ」と出力するLocustクラスを作る   \n",
        "・ moveメソッド内で「綺麗に飛んだよ」と出力するSwallowtailButterflyクラスを作る  \n",
        "\n",
        "\n",
        "\n"
      ]
    },
    {
      "attachments": {},
      "cell_type": "markdown",
      "metadata": {
        "id": "MOz_aUO4cj-9"
      },
      "source": [
        "4つのクラスのインスタンスをリストinsect_listに格納してください。  \n",
        "その後、格納した4つのインスタンスからmoveメソッドを呼び出してください。"
      ]
    },
    {
      "cell_type": "code",
      "execution_count": 1,
      "metadata": {
        "id": "p1fSdDIhrYbf"
      },
      "outputs": [
        {
          "name": "stdout",
          "output_type": "stream",
          "text": [
            "歩いたよ\n",
            "飛んだよ\n",
            "跳んだよ\n",
            "綺麗に飛んだよ\n"
          ]
        }
      ],
      "source": [
        "# 入力用\n",
        "class Insect:\n",
        "    def move(self):\n",
        "        print(\"歩いたよ\")\n",
        "\n",
        "class Butterfly:\n",
        "    def move(self):\n",
        "        print(\"飛んだよ\")\n",
        "\n",
        "class Locust:\n",
        "    def move(self):\n",
        "        print(\"跳んだよ\")\n",
        "\n",
        "class SwallowtailButterfly:\n",
        "    def move(self):\n",
        "        print(\"綺麗に飛んだよ\")\n",
        "\n",
        "insect_list = [Insect(), Butterfly(), Locust(), SwallowtailButterfly()]\n",
        "\n",
        "for i in insect_list:\n",
        "    i.move()"
      ]
    },
    {
      "attachments": {},
      "cell_type": "markdown",
      "metadata": {
        "id": "sxV6gRm8djFh"
      },
      "source": [
        "## 課題2\n",
        "\n"
      ]
    },
    {
      "attachments": {},
      "cell_type": "markdown",
      "metadata": {
        "id": "AXc3PV3ddkyJ"
      },
      "source": [
        "以下の要件を満たすクラスを作成してください"
      ]
    },
    {
      "attachments": {},
      "cell_type": "markdown",
      "metadata": {
        "id": "kvvx9u5Kdh8i"
      },
      "source": [
        "**指示**\n",
        "\n",
        "・ クラス名は Car、属性として変数fuelを持つ  \n",
        "\n",
        "・ 引数なしコンストラクタでfuelを0で初期化する \n",
        "\n",
        "・ メソッドとして戻り値、引数無しのrun() を持つ \n",
        "\n",
        "・ run()メソッドではfuelを1消費して、走ったことが分かる文言を表示させる  \n",
        "     \t  　(例:  \"燃料を1消費して走りました。\") \n",
        "\t\t\t\t  \n",
        "・ fuelが0以下の時走れなかったことが分かる文言を表示させる\n",
        "        \n",
        "\n",
        "\n"
      ]
    },
    {
      "attachments": {},
      "cell_type": "markdown",
      "metadata": {
        "id": "SZD3JsY_dUZc"
      },
      "source": [
        "Carに給油をするGasStationクラスを作成してください    \n",
        "\n",
        "・ クラス名はGasStation、コンストラクタ無し\n",
        "\n",
        "・ refuel()メソッドを持つ  \n",
        "\n",
        "・ refuel()ではCarのfuelを20増やす  \n",
        "\n",
        "・ refuel()では給油したことが分かる文言を表示する"
      ]
    },
    {
      "attachments": {},
      "cell_type": "markdown",
      "metadata": {
        "id": "mtvFz04Dc4bl"
      },
      "source": [
        "CarとGasStationをインスタンス化し、  \n",
        "GasStationで給油をする前と後でCarのrun()を呼び出してください"
      ]
    },
    {
      "attachments": {},
      "cell_type": "markdown",
      "metadata": {
        "id": "Hk4WYMCXMtf1"
      },
      "source": [
        "＜メイン部分のコード（固定）＞"
      ]
    },
    {
      "cell_type": "code",
      "execution_count": null,
      "metadata": {
        "id": "1j_9Ub9ZMuNE"
      },
      "outputs": [],
      "source": [
        "car = Car()\n",
        "gasstation = GasStation()\n",
        "\n",
        "car.run()\n",
        "gasstation.refuel(car)\n",
        "car.run()"
      ]
    },
    {
      "attachments": {},
      "cell_type": "markdown",
      "metadata": {
        "id": "RNXwj-VBeFPQ"
      },
      "source": [
        "＜実行結果例＞\n",
        "\n",
        "```\n",
        "燃料が足りないため走れませんでした。\n",
        "給油したことによりfuelが20増えました。\n",
        "燃料を1消費して走りました。\n",
        "```"
      ]
    },
    {
      "cell_type": "code",
      "execution_count": 15,
      "metadata": {
        "id": "jpQTz1Kxra7P"
      },
      "outputs": [
        {
          "name": "stdout",
          "output_type": "stream",
          "text": [
            "燃料が足りないため走れませんでした。\n",
            "給油したことによりfuelが20増えました。\n",
            "燃料を1消費して走りました。\n"
          ]
        }
      ],
      "source": [
        "# 入力用\n",
        "class Car:\n",
        "    def __init__(self):\n",
        "        self.fuel = 0\n",
        "\n",
        "    def run(self):\n",
        "        if self.fuel <= 0:\n",
        "            print(\"燃料が足りないため走れませんでした。\")\n",
        "        else:\n",
        "            self.fuel -= 1\n",
        "            print(\"燃料を1消費して走りました。\")\n",
        "\n",
        "class GasStation:\n",
        "    def refuel(self,car):\n",
        "        car.fuel += 20\n",
        "        print(\"給油したことによりfuelが20増えました。\")\n",
        "\n",
        "car = Car()\n",
        "gasstation = GasStation()\n",
        "\n",
        "car.run()\n",
        "gasstation.refuel(car)\n",
        "car.run()"
      ]
    },
    {
      "attachments": {},
      "cell_type": "markdown",
      "metadata": {
        "id": "GCHVpQ4aV_UR"
      },
      "source": [
        "## 課題3"
      ]
    },
    {
      "attachments": {},
      "cell_type": "markdown",
      "metadata": {
        "id": "ECrnt9e5WJSc"
      },
      "source": [
        "以下の要件を満たすクラスを作成してください"
      ]
    },
    {
      "attachments": {},
      "cell_type": "markdown",
      "metadata": {
        "id": "SA6Tbw_lXehC"
      },
      "source": [
        "**指示**\n",
        "\n",
        "口座情報を管理するAccountクラスを作成してください  \n",
        "\n",
        "・ name（名前）, number（口座番号）, balance（残高）を属性にもつ  \n",
        "\n",
        "・ コンストラクタでは、balanceを0で初期化する\n",
        "\n"
      ]
    },
    {
      "attachments": {},
      "cell_type": "markdown",
      "metadata": {
        "id": "M2FE_MUndc4z"
      },
      "source": [
        "銀行でのお金のやり取りを行うATMクラスを作成してください  \n",
        "\n",
        "・ ATMのコンストラクタでAccountのインスタンスを管理するaccountsを初期化する \n",
        "\n",
        "・ register_account()メソッドではアカウントを登録する    \n",
        " 　 この中でAccountクラスをnameとnubmerを引数としてインスタンス化する  \n",
        "\n",
        "・ exists_account()メソッドは引数のnameとnumberから    \n",
        "   　 accountsに存在するかどうかをbooleanで返す  \n",
        "\n",
        "・ deposit()メソッドでは引数のmoneyを使って入金を行う  \n",
        "\n",
        "・ withdraw()メソッドでは引数のmoneyを使って引出を行う    \n",
        " 　 残高が足りないときには行えないようにする\n",
        "        \n"
      ]
    },
    {
      "attachments": {},
      "cell_type": "markdown",
      "metadata": {
        "id": "-tmD0hewdiS1"
      },
      "source": [
        "それぞれ何か行うたびに、何をしたか分かるように標準出力で表示するようにしてください"
      ]
    },
    {
      "attachments": {},
      "cell_type": "markdown",
      "metadata": {
        "id": "fr8xuuUHM7Jt"
      },
      "source": [
        "＜メイン部分のコード（固定）＞"
      ]
    },
    {
      "cell_type": "code",
      "execution_count": null,
      "metadata": {
        "id": "Y4lMggHOM4wU"
      },
      "outputs": [],
      "source": [
        "atm = ATM()\n",
        "\n",
        "atm.exists_account(\"千歳太郎\",\"12345\")\n",
        "atm.resister_account(\"千歳太郎\",\"12345\")\n",
        "\n",
        "if atm.exists_account(\"千歳太郎\",\"12345\"):\n",
        "  atm.deposit(\"12345\", 1000)\n",
        "  atm.withdraw(\"12345\", 2000)\n",
        "  atm.withdraw(\"12345\", 500)"
      ]
    },
    {
      "attachments": {},
      "cell_type": "markdown",
      "metadata": {
        "id": "0zUHE9eHe5-Z"
      },
      "source": [
        "＜実行結果例＞\n",
        "\n",
        "```\n",
        "名前:千歳太郎 口座番号:12345 は存在しません。\n",
        "千歳太郎 さんのアカウントを口座番号:12345 で登録しました。\n",
        "名前:千歳太郎 口座番号:12345 は存在します。\n",
        "口座番号:12345 に1000 円入金しました。\n",
        "口座番号:12345 から2000 円引き出せませんでした。残高:1000 円です。\n",
        "口座番号:12345 から500 円引き出しました。残高:500 円です。\n",
        "```"
      ]
    },
    {
      "cell_type": "code",
      "execution_count": 105,
      "metadata": {
        "id": "ckaSfHW4rbt-"
      },
      "outputs": [
        {
          "name": "stdout",
          "output_type": "stream",
          "text": [
            "名前: 千歳太郎  口座番号: 12345  は存在しません。\n",
            "千歳太郎 さんのアカウントを口座番号: 12345 で登録しました。\n",
            "名前: 千歳太郎  口座番号: 12345  は存在します。残高： 0 円です。\n",
            "口座番号: 12345 に 1000 円入金しました。\n",
            "口座番号: 12345 から 2000 円引き出せませんでした。残高： 1000 円です。\n",
            "口座番号: 12345 から 500 円引き出しました。残高： 500 円です。\n"
          ]
        }
      ],
      "source": [
        "# 入力用\n",
        "class Account:\n",
        "    def __init__(self, name, number):\n",
        "        self.name = name\n",
        "        self.number = number\n",
        "        self.balance = 0\n",
        "\n",
        "class ATM:\n",
        "  def __init__(self):\n",
        "    self.accounts = {}\n",
        "  \n",
        "  def register_account(self, name, number):\n",
        "    if number in self.accounts:\n",
        "        if self.accounts[number] == name:\n",
        "          print(\"名前:\",name,\" 口座番号:\",number,\" は存在します。\")\n",
        "    else:\n",
        "      self.account = Account(name, number)\n",
        "      self.accounts[number] = name\n",
        "      print(name,\"さんのアカウントを口座番号:\",number,\"で登録しました。\")\n",
        "    \n",
        "  def exists_account(self,name,number):\n",
        "    if number in self.accounts:\n",
        "        if self.accounts[number] == name:\n",
        "          print(\"名前:\",name,\" 口座番号:\",number,\" は存在します。残高：\",self.account.balance,\"円です。\")\n",
        "          return True\n",
        "    else:\n",
        "      print(\"名前:\",name,\" 口座番号:\",number,\" は存在しません。\")\n",
        "      return False\n",
        "  \n",
        "  def deposit(self,number,money):\n",
        "    self.account.balance += money\n",
        "    print(\"口座番号:\",number,\"に\",money,\"円入金しました。\")\n",
        "\n",
        "  def withdraw(self,number,money):\n",
        "    if self.account.balance < money:\n",
        "      print(\"口座番号:\",number,\"から\",money,\"円引き出せませんでした。残高：\",self.account.balance,\"円です。\")\n",
        "    else:\n",
        "      self.account.balance -= money\n",
        "      print(\"口座番号:\",number,\"から\",money,\"円引き出しました。残高：\",self.account.balance,\"円です。\")\n",
        "\n",
        "atm = ATM()\n",
        "\n",
        "atm.exists_account(\"千歳太郎\",\"12345\")\n",
        "atm.register_account(\"千歳太郎\",\"12345\")\n",
        "\n",
        "if atm.exists_account(\"千歳太郎\",\"12345\"):\n",
        "  atm.deposit(\"12345\", 1000)\n",
        "  atm.withdraw(\"12345\", 2000)\n",
        "  atm.withdraw(\"12345\", 500)"
      ]
    }
  ],
  "metadata": {
    "colab": {
      "provenance": []
    },
    "kernelspec": {
      "display_name": "Python 3",
      "name": "python3"
    },
    "language_info": {
      "codemirror_mode": {
        "name": "ipython",
        "version": 3
      },
      "file_extension": ".py",
      "mimetype": "text/x-python",
      "name": "python",
      "nbconvert_exporter": "python",
      "pygments_lexer": "ipython3",
      "version": "3.7.10"
    }
  },
  "nbformat": 4,
  "nbformat_minor": 0
}
