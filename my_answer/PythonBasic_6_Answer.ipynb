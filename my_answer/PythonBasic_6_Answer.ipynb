{
  "cells": [
    {
      "attachments": {},
      "cell_type": "markdown",
      "metadata": {
        "id": "TA5kKi-LY1xg"
      },
      "source": [
        "<a href=\"https://colab.research.google.com/github/kiryu-3/Prmn2023/blob/main/Python/Python_Basic/question/PythonBasic_6_Question.ipynb\" target=\"_parent\"><img src=\"https://colab.research.google.com/assets/colab-badge.svg\" alt=\"Open In Colab\"/></a>"
      ]
    },
    {
      "attachments": {},
      "cell_type": "markdown",
      "metadata": {
        "id": "r-kcfL2yEU8b"
      },
      "source": [
        "# 第6章 課題"
      ]
    },
    {
      "attachments": {},
      "cell_type": "markdown",
      "metadata": {
        "id": "UqgRlaNaaWsU"
      },
      "source": [
        "## 課題1"
      ]
    },
    {
      "attachments": {},
      "cell_type": "markdown",
      "metadata": {
        "id": "3iPqvgvTmxUd"
      },
      "source": [
        "こちらはピコ太郎さんの「PPAP」という歌の歌詞です"
      ]
    },
    {
      "cell_type": "code",
      "execution_count": 69,
      "metadata": {
        "id": "gr4NZhjKSoPt"
      },
      "outputs": [],
      "source": [
        "text = \"\"\"PPAP\n",
        "I have a pen.\n",
        "I have an apple.\n",
        "Apple pen！\n",
        "I have a pen.\n",
        "I have a pineapple.\n",
        "Pineapple pen！\n",
        "Apple pen.\n",
        "Pineapple pen.\n",
        "Pen-pineapple-Apple-pen！\"\"\""
      ]
    },
    {
      "attachments": {},
      "cell_type": "markdown",
      "metadata": {
        "id": "DuphFapxhvik"
      },
      "source": [
        "上の文字列の単語の登場回数を数え、  \n",
        "出現回数の多い順にソートしたディクショナリを関数で返してください\n",
        "\n",
        "その後、そのディクショナリを出力してください"
      ]
    },
    {
      "attachments": {},
      "cell_type": "markdown",
      "metadata": {
        "id": "MR5bMn1d0X_3"
      },
      "source": [
        "大文字小文字が混ざっていますが、全て小文字に変換してください"
      ]
    },
    {
      "attachments": {},
      "cell_type": "markdown",
      "metadata": {
        "id": "0Z2-_1dAQENU"
      },
      "source": [
        "＜実行結果＞  \n",
        "``` py\n",
        "{'pen': 8, 'i': 4, 'have': 4, 'apple': 4, 'pineapple': 4, 'a': 3, 'ppap': 1, 'an': 1}\n",
        "```"
      ]
    },
    {
      "cell_type": "code",
      "execution_count": 1,
      "metadata": {
        "colab": {
          "base_uri": "https://localhost:8080/"
        },
        "id": "ficNVfkgR5Kv",
        "outputId": "0bac6703-5687-4e5b-e1cc-a3d4978124a1"
      },
      "outputs": [
        {
          "name": "stdout",
          "output_type": "stream",
          "text": [
            "{'pen': 8, 'i': 4, 'have': 4, 'apple': 4, 'pineapple': 4, 'a': 3, 'ppap': 1, 'an': 1}\n"
          ]
        }
      ],
      "source": [
        "# 入力用\n",
        "import string\n",
        "\n",
        "def word_count(text):\n",
        "    dict={}\n",
        "    for i in text:\n",
        "        if i in dict:\n",
        "            dict[i] += 1\n",
        "        else:\n",
        "            dict[i] = 1\n",
        "    \n",
        "    list=sorted(dict.items(),key=lambda x: x[1],reverse=True)\n",
        "    dict.clear()\n",
        "    dict.update(list)\n",
        "\n",
        "    return dict\n",
        "\n",
        "text = \"\"\"PPAP\n",
        "I have a pen.\n",
        "I have an apple.\n",
        "Apple pen！\n",
        "I have a pen.\n",
        "I have a pineapple.\n",
        "Pineapple pen！\n",
        "Apple pen.\n",
        "Pineapple pen.\n",
        "Pen-pineapple-Apple-pen！\"\"\"\n",
        "\n",
        "# 特殊文字を除去する\n",
        "text = text.replace('！', '')\n",
        "text = text.replace('-', ' ')\n",
        "text = text.translate(str.maketrans('', '', string.punctuation))\n",
        "\n",
        "# 単語を小文字に変換し、「改行・空白」で文字列を分割する\n",
        "text = text.lower().split()\n",
        "\n",
        "# メイン部分の一例\n",
        "sorted_dic = word_count(text)\n",
        "print(sorted_dic)"
      ]
    },
    {
      "attachments": {},
      "cell_type": "markdown",
      "metadata": {
        "id": "DzogBUbNsrMN"
      },
      "source": [
        "### 課題1の補足"
      ]
    },
    {
      "attachments": {},
      "cell_type": "markdown",
      "metadata": {
        "id": "JfgciChzstnh"
      },
      "source": [
        "以下の文字列の分割方法について説明します。"
      ]
    },
    {
      "cell_type": "code",
      "execution_count": 56,
      "metadata": {
        "id": "bjoi1QqQs1fb"
      },
      "outputs": [],
      "source": [
        "test_text = \"Pen-pineapple-Apple-pen！\""
      ]
    },
    {
      "attachments": {},
      "cell_type": "markdown",
      "metadata": {
        "id": "MY4_tDdgtBRx"
      },
      "source": [
        "`string.punctuation`という定数は、英文の句読点や記号などを含む特殊な文字の集合を表す定数です。"
      ]
    },
    {
      "cell_type": "code",
      "execution_count": 55,
      "metadata": {
        "colab": {
          "base_uri": "https://localhost:8080/",
          "height": 35
        },
        "id": "YtLAWBb7uQYQ",
        "outputId": "556e71fc-f5c2-43f6-ae04-473ce877255b"
      },
      "outputs": [
        {
          "data": {
            "application/vnd.google.colaboratory.intrinsic+json": {
              "type": "string"
            },
            "text/plain": [
              "'!\"#$%&\\'()*+,-./:;<=>?@[\\\\]^_`{|}~'"
            ]
          },
          "execution_count": 55,
          "metadata": {},
          "output_type": "execute_result"
        }
      ],
      "source": [
        "import string\n",
        "string.punctuation"
      ]
    },
    {
      "attachments": {},
      "cell_type": "markdown",
      "metadata": {
        "id": "OqWV7BOYu8Dn"
      },
      "source": [
        "`translate(str.maketrans('', '', string.punctuation))`を文字列に適用することで、  \n",
        "\" 半角の特殊文字 \" を除去することができます。\n",
        "\n",
        "文字列を処理する際によく使われる表現です。"
      ]
    },
    {
      "cell_type": "code",
      "execution_count": 63,
      "metadata": {
        "colab": {
          "base_uri": "https://localhost:8080/"
        },
        "id": "_jUMSdbfvo98",
        "outputId": "d7d05a20-d7c9-4195-caa4-0662fd817bb2"
      },
      "outputs": [
        {
          "name": "stdout",
          "output_type": "stream",
          "text": [
            "特殊文字削除前：Pen-pineapple-Apple-pen！\n",
            "特殊文字削除後：PenpineappleApplepen！\n"
          ]
        }
      ],
      "source": [
        "import string\n",
        "\n",
        "test_text = \"Pen-pineapple-Apple-pen！\"\n",
        "print(f\"特殊文字削除前：{test_text}\")\n",
        "\n",
        "# 特殊文字を除去する\n",
        "test_text = test_text.translate(str.maketrans('', '', string.punctuation))\n",
        "\n",
        "print(f\"特殊文字削除後：{test_text}\")"
      ]
    },
    {
      "attachments": {},
      "cell_type": "markdown",
      "metadata": {
        "id": "66WUalFgwLmz"
      },
      "source": [
        "特殊文字 \"-\" を除去できました。\n",
        "\n",
        "\"！\"は全角文字なので、除去することができていません。  \n",
        "これは空文字で置き換えてしまいましょう。"
      ]
    },
    {
      "cell_type": "code",
      "execution_count": 72,
      "metadata": {
        "colab": {
          "base_uri": "https://localhost:8080/"
        },
        "id": "qU70uV_Owg4T",
        "outputId": "832911f8-70d1-45ca-e966-d7dade913314"
      },
      "outputs": [
        {
          "name": "stdout",
          "output_type": "stream",
          "text": [
            "特殊文字削除前：Pen-pineapple-Apple-pen！\n",
            "特殊文字削除後：PenpineappleApplepen\n"
          ]
        }
      ],
      "source": [
        "import string\n",
        "\n",
        "test_text = \"Pen-pineapple-Apple-pen！\"\n",
        "print(f\"特殊文字削除前：{test_text}\")\n",
        "\n",
        "# \"！\"を空文字に置き換える\n",
        "test_text = test_text.replace('！', '')\n",
        "# 特殊文字を除去する\n",
        "test_text = test_text.translate(str.maketrans('', '', string.punctuation))\n",
        "\n",
        "print(f\"特殊文字削除後：{test_text}\")"
      ]
    },
    {
      "attachments": {},
      "cell_type": "markdown",
      "metadata": {
        "id": "eHcSTGMAw3oR"
      },
      "source": [
        "このように除去すると`PenpineappleApplepen`が一つの単語になってしまいます。\n",
        "\n",
        "そのため特殊文字を除去する前に \" - \" を空白に置き換えましょう。"
      ]
    },
    {
      "cell_type": "code",
      "execution_count": 66,
      "metadata": {
        "colab": {
          "base_uri": "https://localhost:8080/"
        },
        "id": "JQZ4wUvMxXLi",
        "outputId": "251e59b1-df19-45d3-9bbc-5f9d07017845"
      },
      "outputs": [
        {
          "name": "stdout",
          "output_type": "stream",
          "text": [
            "特殊文字削除前：Pen-pineapple-Apple-pen！\n",
            "特殊文字削除後：Pen pineapple Apple pen\n"
          ]
        }
      ],
      "source": [
        "import string\n",
        "\n",
        "test_text = \"Pen-pineapple-Apple-pen！\"\n",
        "print(f\"特殊文字削除前：{test_text}\")\n",
        "\n",
        "# \"！\"を空文字に置き換える\n",
        "test_text = test_text.replace('！', '')\n",
        "# \"-\"を空白に置き換える\n",
        "test_text = test_text.replace('-', ' ')\n",
        "# 特殊文字を除去する\n",
        "test_text = test_text.translate(str.maketrans('', '', string.punctuation))\n",
        "\n",
        "print(f\"特殊文字削除後：{test_text}\")"
      ]
    },
    {
      "attachments": {},
      "cell_type": "markdown",
      "metadata": {
        "id": "t_K_D_kix1Ww"
      },
      "source": [
        "このようにして単語を分けていきます。\n",
        "\n",
        "後は単語を分けていくだけですが、今回は大文字と小文字が混在しているので、  \n",
        "全て小文字にしてからカウントしましょう。"
      ]
    },
    {
      "cell_type": "code",
      "execution_count": 73,
      "metadata": {
        "colab": {
          "base_uri": "https://localhost:8080/"
        },
        "id": "ynG38NTvyG4v",
        "outputId": "bfe86f99-d763-4749-e5d6-391ff4e79fbd"
      },
      "outputs": [
        {
          "name": "stdout",
          "output_type": "stream",
          "text": [
            "特殊文字削除前：Pen-pineapple-Apple-pen！\n",
            "特殊文字削除後：['pen', 'pineapple', 'apple', 'pen']\n"
          ]
        }
      ],
      "source": [
        "import string\n",
        "\n",
        "test_text = \"Pen-pineapple-Apple-pen！\"\n",
        "print(f\"特殊文字削除前：{test_text}\")\n",
        "\n",
        "# \"！\"を空文字に置き換える\n",
        "test_text = test_text.replace('！', '')\n",
        "# \"-\"を空白に置き換える\n",
        "test_text = test_text.replace('-', ' ')\n",
        "# 特殊文字を除去する\n",
        "test_text = test_text.translate(str.maketrans('', '', string.punctuation))\n",
        "\n",
        "# 単語を小文字に変換し、「改行・空白」で文字列を分割する\n",
        "test_text = test_text.lower().split()\n",
        "\n",
        "print(f\"特殊文字削除後：{test_text}\")"
      ]
    },
    {
      "attachments": {},
      "cell_type": "markdown",
      "metadata": {
        "id": "HZlVs9Vivt7d"
      },
      "source": [
        "## 課題2"
      ]
    },
    {
      "attachments": {},
      "cell_type": "markdown",
      "metadata": {
        "id": "bIsZE1q0vwyd"
      },
      "source": [
        "成績評価を0~5の6段階でつけたいものとします。  \n",
        "\n",
        "|成績|点数|\n",
        "|:---| :--- |\n",
        "|$A$|5|\n",
        "|$B^{+}$|4|\n",
        "|$B$|3|\n",
        "|$B^{-}$|2|\n",
        "|$C^{+}$|1|\n",
        "|$C$|0|\n"
      ]
    },
    {
      "attachments": {},
      "cell_type": "markdown",
      "metadata": {
        "id": "g8y7FrrIM0XM"
      },
      "source": [
        "上表のように成績を変換する関数を作成してください  "
      ]
    },
    {
      "attachments": {},
      "cell_type": "markdown",
      "metadata": {
        "id": "sGR63Lq9M3QE"
      },
      "source": [
        "この科目は、「5×全15回=最大点75点」に、  \n",
        "「全14回×50点=最大点700点を25点に圧縮したもの」の和によって成績判定を行います。"
      ]
    },
    {
      "attachments": {},
      "cell_type": "markdown",
      "metadata": {
        "id": "i9d5cECuwYJU"
      },
      "source": [
        "適切に関数を使い、以下のデータの成績評価を行えるようにしてください\n",
        "\n",
        "\n"
      ]
    },
    {
      "attachments": {},
      "cell_type": "markdown",
      "metadata": {
        "id": "KJB5H4Xsaj0g"
      },
      "source": [
        "＜例＞  \n",
        "小テストの合計点は600点だったので25点満点に圧縮すると21.42点  \n",
        "課題は全て$B^+$評価だったので4×15=60点  \n",
        "合計点81.42点なので評定は「優」"
      ]
    },
    {
      "cell_type": "code",
      "execution_count": null,
      "metadata": {
        "id": "5rhhPCjGxPxP"
      },
      "outputs": [],
      "source": [
        "seiseki_data = {\"課題\" : [\"B+\",\"A\",\"B+\",\"A\",\"A\",\"A\",\"A\",\"A\",\"B+\",\"A\",\n",
        "                       \"A\",\"B+\",\"A\",\"B+\",\"A\"] ,\n",
        "             \"小テスト\" : [50,50,50,15,40,50,50,50,50,\n",
        "                           15,45,40,50,50]\n",
        "             }"
      ]
    },
    {
      "cell_type": "code",
      "execution_count": 19,
      "metadata": {
        "id": "i_c6mOJq8P1_"
      },
      "outputs": [
        {
          "name": "stdout",
          "output_type": "stream",
          "text": [
            "91.60714285714286\n",
            "成績：秀\n"
          ]
        }
      ],
      "source": [
        "# 入力用\n",
        "def henkan(list):\n",
        "    gp = {\"A\":5,\"B+\":4,\"B\":3,\"B-\":2,\"C+\":1,\"C\":0}\n",
        "    sum = 0\n",
        "    for i in list:\n",
        "        sum = sum+gp[i]\n",
        "    return sum\n",
        "\n",
        "seiseki_data = {\"課題\" : [\"B+\",\"A\",\"B+\",\"A\",\"A\",\"A\",\"A\",\"A\",\"B+\",\"A\",\n",
        "                       \"A\",\"B+\",\"A\",\"B+\",\"A\"] ,\n",
        "             \"小テスト\" : [50,50,50,15,40,50,50,50,50,\n",
        "                           15,45,40,50,50]\n",
        "             }\n",
        "\n",
        "sum = 0\n",
        "for i in seiseki_data[\"小テスト\"]:\n",
        "    sum = sum+i\n",
        "sum = sum*25/700\n",
        "\n",
        "sum = sum+henkan(seiseki_data[\"課題\"])\n",
        "\n",
        "print(sum)\n",
        "\n",
        "if sum>=90:\n",
        "    print(\"成績：秀\")\n",
        "elif sum>=80:\n",
        "    print(\"成績：優\")\n",
        "elif sum>=70:\n",
        "    print(\"成績：良\")\n",
        "elif sum>=60:\n",
        "    print(\"成績：可\")\n",
        "else:\n",
        "    print(\"成績：不可\")"
      ]
    },
    {
      "attachments": {},
      "cell_type": "markdown",
      "metadata": {
        "id": "E8ZRqBlkGW2D"
      },
      "source": [
        "### 課題2 補足"
      ]
    },
    {
      "attachments": {},
      "cell_type": "markdown",
      "metadata": {
        "id": "s4IPiuNZGd96"
      },
      "source": [
        "文字列を置換したいときは**`replace`メソッド**を使います。  \n",
        "\n",
        "複数回行いたいときは`replace`メソッドを複数回続けます。"
      ]
    },
    {
      "cell_type": "code",
      "execution_count": null,
      "metadata": {
        "colab": {
          "base_uri": "https://localhost:8080/"
        },
        "id": "83OyhJkDGupg",
        "outputId": "f242a522-4daf-4bf7-a2ec-76a9b2b8c04a"
      },
      "outputs": [
        {
          "name": "stdout",
          "output_type": "stream",
          "text": [
            "['可', '良', '優', '秀']\n"
          ]
        }
      ],
      "source": [
        "hantei_list = [\"60\",\"70\",\"80\",\"90\"]\n",
        "kekka_list = []\n",
        "\n",
        "\"\"\"\n",
        "リストから要素を取り出して指定の値を置換する\n",
        "\"\"\"\n",
        "for hantei in hantei_list:\n",
        "  hantei = hantei.replace(\"60\",\"可\").replace(\"70\",\"良\").replace(\"80\",\"優\").replace(\"90\",\"秀\")\n",
        "  kekka_list.append(hantei)\n",
        "\n",
        "print(kekka_list)"
      ]
    },
    {
      "attachments": {},
      "cell_type": "markdown",
      "metadata": {
        "id": "b9E8y6dGMRgE"
      },
      "source": [
        "## 課題3"
      ]
    },
    {
      "attachments": {},
      "cell_type": "markdown",
      "metadata": {
        "id": "wimEVJZUMWoL"
      },
      "source": [
        "GPAを計算したいものとします。  \n",
        "成績に付与されるGPは以下の通りです。\n",
        "\n",
        "|成績|GP|\n",
        "|:---| :--- |\n",
        "|秀|4|\n",
        "|優|3|\n",
        "|良|2|\n",
        "|可|1|\n",
        "|不可|0|"
      ]
    },
    {
      "attachments": {},
      "cell_type": "markdown",
      "metadata": {
        "id": "vLfMefKLNZsq"
      },
      "source": [
        "上表のように成績を変換する関数を作成してください "
      ]
    },
    {
      "attachments": {},
      "cell_type": "markdown",
      "metadata": {
        "id": "pJ-Cltm9NbZ6"
      },
      "source": [
        "GPAの計算式は以下の通りです。  \n",
        "$$\n",
        "\\frac{(GP×そのGPの単位数) の合計}{履修単位数} \n",
        "$$"
      ]
    },
    {
      "attachments": {},
      "cell_type": "markdown",
      "metadata": {
        "id": "vColSqfIN8PI"
      },
      "source": [
        "以下のタプルは一単位の科目を集めたものです。  \n",
        "そのほかの科目は全て二単位です。"
      ]
    },
    {
      "cell_type": "code",
      "execution_count": null,
      "metadata": {
        "id": "xL2nPwOVGs4u"
      },
      "outputs": [],
      "source": [
        "one_unit_class = (\"キャリア形成Ａ１（Ａ）\",\"千歳学(Ａ)\",\"言語リテラシー１(Ａ)\",\n",
        "                  \"理工学基礎実験１（Ａ）\",\"スポーツ総合１(Ａ)\",\"健康科学(Ａ・Ｂ)\")"
      ]
    },
    {
      "attachments": {},
      "cell_type": "markdown",
      "metadata": {
        "id": "k_jm9pzkOFAw"
      },
      "source": [
        "適切に関数を使い、以下のデータのGPAを算出してください"
      ]
    },
    {
      "cell_type": "code",
      "execution_count": null,
      "metadata": {
        "id": "hzQ83qvxHubl"
      },
      "outputs": [],
      "source": [
        "seiseki_data = {\"授業\":[\"物理学入門(Ａ・Ｂ)\",\"化学入門(Ａ・Ｂ)\",\"エレクトロニクス入門(Ａ・Ｂ)\",\n",
        "                      \"情報学基礎演習(Ａ)\",\"キャリア形成Ａ１（Ａ）\",\"千歳学(Ａ)\",\n",
        "                      \"言語リテラシー１(Ａ)\",\"微分積分学Ⅰ（Ａ）\",\"理工学基礎実験１（Ａ）\",\n",
        "                      \"理系のための基礎英語Ⅰ(Ａ)\",\"日本国憲法(遠隔)\",\"スポーツ総合１(Ａ)\",\n",
        "                      \"健康科学(Ａ・Ｂ)\"],\n",
        "              \n",
        "              \"成績\":[\"良\",\"秀\",\"秀\",\"秀\",\"秀\",\"秀\",\"秀\",\"優\",\"優\",\"秀\",\"秀\",\"優\",\"優\"]\n",
        "              }"
      ]
    },
    {
      "cell_type": "code",
      "execution_count": 10,
      "metadata": {
        "id": "fABnfUJzPgLw"
      },
      "outputs": [
        {
          "name": "stdout",
          "output_type": "stream",
          "text": [
            "3.55\n"
          ]
        }
      ],
      "source": [
        "# 入力用\n",
        "def calc_seiseki(zyugyou,seiseki):\n",
        "        one_unit_class = (\"キャリア形成Ａ１（Ａ）\",\"千歳学(Ａ)\",\"言語リテラシー１(Ａ)\",\n",
        "                  \"理工学基礎実験１（Ａ）\",\"スポーツ総合１(Ａ)\",\"健康科学(Ａ・Ｂ)\")\n",
        "        gp = {\"秀\":4,\"優\":3,\"良\":2,\"可\":1,\"不可\":0}\n",
        "        \n",
        "        if zyugyou in one_unit_class:\n",
        "                return gp[seiseki],1\n",
        "        else:\n",
        "                return gp[seiseki]*2,2\n",
        "        \n",
        "\n",
        "seiseki_data = {\"授業\":[\"物理学入門(Ａ・Ｂ)\",\"化学入門(Ａ・Ｂ)\",\"エレクトロニクス入門(Ａ・Ｂ)\",\n",
        "                      \"情報学基礎演習(Ａ)\",\"キャリア形成Ａ１（Ａ）\",\"千歳学(Ａ)\",\n",
        "                      \"言語リテラシー１(Ａ)\",\"微分積分学Ⅰ（Ａ）\",\"理工学基礎実験１（Ａ）\",\n",
        "                      \"理系のための基礎英語Ⅰ(Ａ)\",\"日本国憲法(遠隔)\",\"スポーツ総合１(Ａ)\",\n",
        "                      \"健康科学(Ａ・Ｂ)\"],\n",
        "              \n",
        "              \"成績\":[\"良\",\"秀\",\"秀\",\"秀\",\"秀\",\"秀\",\"秀\",\"優\",\"優\",\"秀\",\"秀\",\"優\",\"優\"]\n",
        "              }\n",
        "\n",
        "sum = 0\n",
        "unit = 0\n",
        "for i in range(len(seiseki_data[\"授業\"])):\n",
        "        x,y = calc_seiseki(seiseki_data[\"授業\"][i],seiseki_data[\"成績\"][i])\n",
        "        sum = sum+x\n",
        "        unit = unit+y\n",
        "\n",
        "print(sum/unit)"
      ]
    }
  ],
  "metadata": {
    "colab": {
      "provenance": []
    },
    "kernelspec": {
      "display_name": "Python 3",
      "name": "python3"
    },
    "language_info": {
      "codemirror_mode": {
        "name": "ipython",
        "version": 3
      },
      "file_extension": ".py",
      "mimetype": "text/x-python",
      "name": "python",
      "nbconvert_exporter": "python",
      "pygments_lexer": "ipython3",
      "version": "3.10.9"
    }
  },
  "nbformat": 4,
  "nbformat_minor": 0
}
