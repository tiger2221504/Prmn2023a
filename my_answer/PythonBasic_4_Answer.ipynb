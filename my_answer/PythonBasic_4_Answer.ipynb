{
  "nbformat": 4,
  "nbformat_minor": 0,
  "metadata": {
    "colab": {
      "provenance": []
    },
    "kernelspec": {
      "name": "python3",
      "display_name": "Python 3"
    },
    "language_info": {
      "name": "python"
    }
  },
  "cells": [
    {
      "cell_type": "markdown",
      "source": [
        "<a href=\"https://colab.research.google.com/github/kiryu-3/Prmn2023/blob/main/Python/Python_Basic/question/PythonBasic_4_Question.ipynb\" target=\"_parent\"><img src=\"https://colab.research.google.com/assets/colab-badge.svg\" alt=\"Open In Colab\"/></a>"
      ],
      "metadata": {
        "id": "TA5kKi-LY1xg"
      }
    },
    {
      "cell_type": "markdown",
      "source": [
        "# 第4章 課題"
      ],
      "metadata": {
        "id": "r-kcfL2yEU8b"
      }
    },
    {
      "cell_type": "markdown",
      "source": [
        "## 課題1"
      ],
      "metadata": {
        "id": "UqgRlaNaaWsU"
      }
    },
    {
      "cell_type": "markdown",
      "source": [
        "10から2800まで、10飛ばしの数を乱数で生成し、2220000に足してください。  \n",
        "\n",
        "この数を5つ生成し、一つのリストに格納した後、最終的に頭に\"b\"をつけて5つ出力してください。"
      ],
      "metadata": {
        "id": "dMngS2Dtai7U"
      }
    },
    {
      "cell_type": "markdown",
      "source": [
        "＜実行結果例＞\n",
        "``` py  \n",
        "['b2220400', 'b2221750', 'b2222480', 'b2221720', 'b2220380']\n",
        "```"
      ],
      "metadata": {
        "id": "Ys4Y3shObw3w"
      }
    },
    {
      "cell_type": "code",
      "source": [
        "# 入力用\n",
        "import random\n",
        "\n",
        "list=[]\n",
        "list2=[]\n",
        "\n",
        "for i in range(5):\n",
        "  student_number=random.randint(1,280)*10\n",
        "  list.append(student_number+2220000)\n",
        "\n",
        "for i in range(5):\n",
        "  list2.append(\"b\"+str(list[i]))\n",
        "\n",
        "print(list2)"
      ],
      "metadata": {
        "id": "UaBFEY3Hdbsg",
        "outputId": "05d801c1-51d5-45ef-dd8a-af000da66d48",
        "colab": {
          "base_uri": "https://localhost:8080/"
        }
      },
      "execution_count": null,
      "outputs": [
        {
          "output_type": "stream",
          "name": "stdout",
          "text": [
            "['b2220120', 'b2221800', 'b2222600', 'b2221960', 'b2221270']\n"
          ]
        }
      ]
    },
    {
      "cell_type": "markdown",
      "source": [
        "## 課題2"
      ],
      "metadata": {
        "id": "yRsfay5_8FuJ"
      }
    },
    {
      "cell_type": "markdown",
      "source": [
        "1桁の自然数を乱数を使って5つ格納した2つのリストを作ってください。  \n",
        "この時、一つのリスト内で5つの値が重複しないようにしてください\n",
        "\n",
        "その後、対応する要素を足し合わせた新しいリストを出力してください"
      ],
      "metadata": {
        "id": "4WbYBFGr8Ht3"
      }
    },
    {
      "cell_type": "markdown",
      "source": [
        "＜実行結果例＞\n",
        "``` py  \n",
        "1つ目のリスト：[1, 2, 3, 4, 5]  \n",
        "2つ目のリスト：[1, 3, 5, 7, 9]  \n",
        "足し合わせたリスト：[2, 5, 8, 11, 14]\n",
        "```"
      ],
      "metadata": {
        "id": "A0ImPPha84Nb"
      }
    },
    {
      "cell_type": "code",
      "source": [
        "# 入力用\n",
        "import random\n",
        "\n",
        "number=[1,2,3,4,5,6,7,8,9]\n",
        "number2=[1,2,3,4,5,6,7,8,9]\n",
        "list=[]\n",
        "list2=[]\n",
        "list3=[]\n",
        "\n",
        "for i in range(5):\n",
        "  list.append(number.pop(random.randint(1,len(number)-1)))\n",
        "  list2.append(number2.pop(random.randint(1,len(number)-1)))\n",
        "  list3.append(list[i]+list2[i])\n",
        "\n",
        "print(\"1つ目のリスト:\",list)\n",
        "print(\"2つ目のリスト:\",list2)\n",
        "print(\"足し合わせたリスト:\",list3)"
      ],
      "metadata": {
        "id": "TaJm8jn2MHmk",
        "outputId": "71bb3ff1-3495-48d6-8b2e-c76515e1b550",
        "colab": {
          "base_uri": "https://localhost:8080/"
        }
      },
      "execution_count": null,
      "outputs": [
        {
          "output_type": "stream",
          "name": "stdout",
          "text": [
            "1つ目のリスト: [7, 5, 6, 8, 9]\n",
            "2つ目のリスト: [8, 6, 2, 4, 3]\n",
            "足し合わせたリスト: [15, 11, 8, 12, 12]\n"
          ]
        }
      ]
    },
    {
      "cell_type": "markdown",
      "source": [
        "## 課題3"
      ],
      "metadata": {
        "id": "-qZw_n3X8xrW"
      }
    },
    {
      "cell_type": "markdown",
      "source": [
        "リストの中身を指定した数で分割してみます。\n",
        "\n",
        "以下のリストには都道府県47つが格納されています。"
      ],
      "metadata": {
        "id": "vxwATeobQf_U"
      }
    },
    {
      "cell_type": "code",
      "source": [
        "todohuken_list = [\n",
        "    '北海道', '青森県', '岩手県', '宮城県', '秋田県', '山形県', '福島県', '茨城県', '栃木県', '群馬県', \n",
        "    '埼玉県', '千葉県', '東京都', '神奈川県', '新潟県', '富山県', '石川県', '福井県', '山梨県', '長野県', \n",
        "    '岐阜県', '静岡県', '愛知県', '三重県', '滋賀県', '京都府', '大阪府', '兵庫県', '奈良県', '和歌山県', \n",
        "    '鳥取県', '島根県', '岡山県', '広島県', '山口県', '徳島県', '香川県', '愛媛県', '高知県',  '福岡県', \n",
        "    '佐賀県', '長崎県', '熊本県', '大分県', '宮崎県', '鹿児島県', '沖縄県',\n",
        "]"
      ],
      "metadata": {
        "id": "8ZdyRWbERGAY"
      },
      "execution_count": null,
      "outputs": []
    },
    {
      "cell_type": "markdown",
      "source": [
        "  \n",
        "これをランダムに1つのリストのサイズを4として分割してください"
      ],
      "metadata": {
        "id": "tGPa1uU6Qs2c"
      }
    },
    {
      "cell_type": "markdown",
      "source": [
        "＜実行結果例＞  \n",
        "``` py \n",
        "[['宮崎県', '茨城県', '栃木県', '千葉県'], … , ['岩手県', '滋賀県', '宮城県']]\n",
        "```"
      ],
      "metadata": {
        "id": "PWLTwz0TXzm_"
      }
    },
    {
      "cell_type": "code",
      "source": [
        "# 入力用\n",
        "import random\n",
        "\n",
        "todohuken_list = [\n",
        "    '北海道', '青森県', '岩手県', '宮城県', '秋田県', '山形県', '福島県', '茨城県', '栃木県', '群馬県', \n",
        "    '埼玉県', '千葉県', '東京都', '神奈川県', '新潟県', '富山県', '石川県', '福井県', '山梨県', '長野県', \n",
        "    '岐阜県', '静岡県', '愛知県', '三重県', '滋賀県', '京都府', '大阪府', '兵庫県', '奈良県', '和歌山県', \n",
        "    '鳥取県', '島根県', '岡山県', '広島県', '山口県', '徳島県', '香川県', '愛媛県', '高知県',  '福岡県', \n",
        "    '佐賀県', '長崎県', '熊本県', '大分県', '宮崎県', '鹿児島県', '沖縄県',\n",
        "]\n",
        "\n",
        "list=[]\n",
        "\n",
        "while len(todohuken_list)>0:\n",
        "  x=[]\n",
        "  for i in range(4):\n",
        "    if(len(todohuken_list)==0):\n",
        "      break \n",
        "    x.append(todohuken_list.pop(random.randint(0,len(todohuken_list)-1)))\n",
        "  list.append(x)\n",
        "\n",
        "print(list)"
      ],
      "metadata": {
        "id": "rgPlOseCTC_h",
        "outputId": "45c2786e-c189-4a4e-e9a8-81babf1eb944",
        "colab": {
          "base_uri": "https://localhost:8080/"
        }
      },
      "execution_count": null,
      "outputs": [
        {
          "output_type": "stream",
          "name": "stdout",
          "text": [
            "[['長崎県', '静岡県', '滋賀県', '北海道'], ['富山県', '千葉県', '東京都', '青森県'], ['福島県', '秋田県', '奈良県', '和歌山県'], ['埼玉県', '愛媛県', '群馬県', '三重県'], ['高知県', '長野県', '兵庫県', '大分県'], ['岡山県', '岩手県', '宮崎県', '島根県'], ['広島県', '沖縄県', '新潟県', '山口県'], ['山梨県', '鹿児島県', '岐阜県', '宮城県'], ['神奈川県', '鳥取県', '福岡県', '愛知県'], ['山形県', '熊本県', '京都府', '佐賀県'], ['香川県', '徳島県', '福井県', '石川県'], ['茨城県', '栃木県', '大阪府']]\n"
          ]
        }
      ]
    },
    {
      "cell_type": "markdown",
      "source": [
        "## 課題4"
      ],
      "metadata": {
        "id": "W573lh39MOlj"
      }
    },
    {
      "cell_type": "markdown",
      "source": [
        "ある大学の名前と年齢が、次のような形式で格納されたリスト `university_list` があります。"
      ],
      "metadata": {
        "id": "sSIMKY-aNcIx"
      }
    },
    {
      "cell_type": "code",
      "source": [
        "university_list = [\n",
        "    \"Chitose,25\",\n",
        "    \"Hokudai,105\",\n",
        "    \"Muroran,74\",\n",
        "    \"Hakodate,23\",\n",
        "]"
      ],
      "metadata": {
        "id": "v-wGyWuKK3wl"
      },
      "execution_count": null,
      "outputs": []
    },
    {
      "cell_type": "markdown",
      "source": [
        "このリストを、年齢順にソートして、新たなリストとして出力してください"
      ],
      "metadata": {
        "id": "XIxDf9QgO1iH"
      }
    },
    {
      "cell_type": "markdown",
      "source": [
        "＜実行結果＞  \n",
        "``` py\n",
        "['Chitose,25', 'Hokudai,105', 'Muroran,74', 'Hakodate,23']\n",
        "['Hakodate,23', 'Chitose,25', 'Muroran,74', 'Hokudai,105']\n",
        "```"
      ],
      "metadata": {
        "id": "0Z2-_1dAQENU"
      }
    },
    {
      "cell_type": "code",
      "source": [
        "# 入力用\n",
        "university_list = [\n",
        "    \"Chitose,25\",\n",
        "    \"Hokudai,105\",\n",
        "    \"Muroran,74\",\n",
        "    \"Hakodate,23\",\n",
        "]\n",
        "\n",
        "print(university_list)\n",
        "\n",
        "list=[]\n",
        "sorted_university_list=[]\n",
        "\n",
        "for i in range(4):\n",
        "  x=university_list[i]\n",
        "  y=x[x.find(\",\")+1:]\n",
        "  list.append([i,y])\n",
        "\n",
        "list=sorted(list,key=lambda x: int(x[1]))\n",
        "\n",
        "for i in range(4):\n",
        "  sorted_university_list.append(university_list[list[i][0]])\n",
        "\n",
        "print(sorted_university_list)"
      ],
      "metadata": {
        "id": "ficNVfkgR5Kv",
        "outputId": "4ef453b5-c2d3-45b9-eeda-a08958f13279",
        "colab": {
          "base_uri": "https://localhost:8080/"
        }
      },
      "execution_count": 27,
      "outputs": [
        {
          "output_type": "stream",
          "name": "stdout",
          "text": [
            "['Chitose,25', 'Hokudai,105', 'Muroran,74', 'Hakodate,23']\n",
            "['Hakodate,23', 'Chitose,25', 'Muroran,74', 'Hokudai,105']\n"
          ]
        }
      ]
    },
    {
      "cell_type": "markdown",
      "source": [
        "## 課題5"
      ],
      "metadata": {
        "id": "QijnXk7UWAVC"
      }
    },
    {
      "cell_type": "markdown",
      "source": [
        "**FizzBuzz（フィズ・バズ）問題**という問題について解いていきます。\n",
        "\n",
        "もともとは、英語圏で長距離ドライブ中や飲み会の時に行われる言葉遊びです。"
      ],
      "metadata": {
        "id": "m7F47Q1mWCA6"
      }
    },
    {
      "cell_type": "markdown",
      "source": [
        "以下のような問題になります。\n",
        "\n",
        "1～Nまでの整数を順に出力しなさい。ただし、例外として以下のルールを守ること。\n",
        "\n",
        "* 3で割り切れる数字の場合は\"Fizz\"を出力\n",
        "* 5で割り切れる数字の場合は\"Buzz\"を出力\n",
        "* どちらでも割り切れる数字の場合は\"FizzBuzz\"を出力"
      ],
      "metadata": {
        "id": "fArw0VcNWgwZ"
      }
    },
    {
      "cell_type": "markdown",
      "source": [
        "ここではN=100として、まずは一つのリストに\n",
        "\"Fizz\" か \"Buzz\" か \"FizzBuzz\" か \"others\" を格納してください。\n",
        "\n",
        "その後、それぞれの要素の数をカウントしてください。"
      ],
      "metadata": {
        "id": "SYqkpYstWm7Z"
      }
    },
    {
      "cell_type": "markdown",
      "source": [
        "＜実行結果＞  \n",
        "``` py\n",
        "FizzBuzzの数：6 \n",
        "Fizzの数：27 \n",
        "Buzzの数：14\n",
        "othersの数：53  \n",
        "```"
      ],
      "metadata": {
        "id": "OqLuJTcWYzFt"
      }
    },
    {
      "cell_type": "code",
      "source": [
        "# 入力用\n",
        "list=[]\n",
        "\n",
        "N=100\n",
        "\n",
        "for i in range(1,N+1):\n",
        "  if(i%15==0):\n",
        "    list.append(\"FizzBuzz\")\n",
        "  elif(i%3==0):\n",
        "    list.append(\"Fizz\")\n",
        "  elif(i%5==0):\n",
        "    list.append(\"Buzz\")\n",
        "  else:\n",
        "    list.append(\"others\")\n",
        " \n",
        "print(\"FizzBuzzの数:\",list.count(\"FizzBuzz\"))\n",
        "print(\"Fizzの数:\",list.count(\"Fizz\"))\n",
        "print(\"Buzzの数:\",list.count(\"Buzz\"))\n",
        "print(\"othersの数:\",list.count(\"others\"))"
      ],
      "metadata": {
        "id": "5kEDaVLmaEpb",
        "outputId": "8d718ec4-d379-4331-fd39-e36e07eb5742",
        "colab": {
          "base_uri": "https://localhost:8080/"
        }
      },
      "execution_count": null,
      "outputs": [
        {
          "output_type": "stream",
          "name": "stdout",
          "text": [
            "FizzBuzzの数: 6\n",
            "Fizzの数: 27\n",
            "Buzzの数: 14\n",
            "othersの数: 53\n"
          ]
        }
      ]
    }
  ]
}