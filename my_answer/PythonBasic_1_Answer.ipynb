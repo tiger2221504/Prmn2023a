{
  "nbformat": 4,
  "nbformat_minor": 0,
  "metadata": {
    "colab": {
      "provenance": [],
      "include_colab_link": true
    },
    "kernelspec": {
      "name": "python3",
      "display_name": "Python 3"
    },
    "language_info": {
      "name": "python"
    }
  },
  "cells": [
    {
      "cell_type": "markdown",
      "metadata": {
        "id": "view-in-github",
        "colab_type": "text"
      },
      "source": [
        "<a href=\"https://colab.research.google.com/github/tiger2221504/Prmn2023a/blob/main/my_answer/PythonBasic_1_Answer.ipynb\" target=\"_parent\"><img src=\"https://colab.research.google.com/assets/colab-badge.svg\" alt=\"Open In Colab\"/></a>"
      ]
    },
    {
      "cell_type": "markdown",
      "source": [
        "# 第1章 課題"
      ],
      "metadata": {
        "id": "kWc75ZFVvner"
      }
    },
    {
      "cell_type": "markdown",
      "source": [
        "## 課題1"
      ],
      "metadata": {
        "id": "bruivG-4v2Cc"
      }
    },
    {
      "cell_type": "markdown",
      "source": [
        "print関数を使って自分の情報を表示させる\n",
        "\n",
        "＜実行例＞ `b1998040 Chitose Taro`\n",
        "\n"
      ],
      "metadata": {
        "id": "OJ1NflXMv3mo"
      }
    },
    {
      "cell_type": "code",
      "execution_count": 2,
      "metadata": {
        "id": "e-ns59REvalm",
        "outputId": "74f5b75d-8706-4357-f16c-3dc39abfd96a",
        "colab": {
          "base_uri": "https://localhost:8080/"
        }
      },
      "outputs": [
        {
          "output_type": "stream",
          "name": "stdout",
          "text": [
            "b2222440 Yamazumi Kotarou\n"
          ]
        }
      ],
      "source": [
        "# 入力用\n",
        "print(\"b2222440\",end=\" \")\n",
        "print(\"Yamazumi\",end=\" \")\n",
        "print(\"Kotarou\")"
      ]
    },
    {
      "cell_type": "markdown",
      "source": [
        "## 課題2"
      ],
      "metadata": {
        "id": "Y-1UjAcTwPkf"
      }
    },
    {
      "cell_type": "markdown",
      "source": [
        "int型変数`student_number`に学籍番号の数値の部分を代入し、  \n",
        "自分の情報を表示させる\n",
        "\n",
        "＜実行例＞ `b1998040 Chitose Taro`\n",
        "\n",
        "＜hint＞ 3通りあるはずです。"
      ],
      "metadata": {
        "id": "HvO1SGM4wRPg"
      }
    },
    {
      "cell_type": "code",
      "source": [
        "# 入力用\n",
        "student_number=2222440\n",
        "\n",
        "print(\"b\"+str(student_number),\"Yamazumi Kotarou\")"
      ],
      "metadata": {
        "id": "kXTNAYHLw1Mh",
        "outputId": "0037393d-423c-4949-be17-e7d68a39e632",
        "colab": {
          "base_uri": "https://localhost:8080/"
        }
      },
      "execution_count": 3,
      "outputs": [
        {
          "output_type": "stream",
          "name": "stdout",
          "text": [
            "b2222440 Yamazumi Kotarou\n"
          ]
        }
      ]
    },
    {
      "cell_type": "markdown",
      "source": [
        "## 課題3"
      ],
      "metadata": {
        "id": "9Tl25UnMw-Fd"
      }
    },
    {
      "cell_type": "markdown",
      "source": [
        "10から2800まで、10飛ばしの数を乱数で生成し、  \n",
        "2220000に足して、名前とともに表示させる\n",
        "\n",
        "＜実行例＞ `b2220010 Chitose Taro`"
      ],
      "metadata": {
        "id": "2WPpYUOLw_5H"
      }
    },
    {
      "cell_type": "code",
      "source": [
        "# 入力用\n",
        "import random\n",
        "\n",
        "student_number=random.randint(1,280)*10\n",
        "\n",
        "print(\"b\"+str(2220000+student_number),\"Yamazumi Kotarou\")"
      ],
      "metadata": {
        "id": "8hxJMAqQ7uQy",
        "outputId": "3ae9f8d1-620a-49be-fce0-a2c243998608",
        "colab": {
          "base_uri": "https://localhost:8080/"
        }
      },
      "execution_count": 6,
      "outputs": [
        {
          "output_type": "stream",
          "name": "stdout",
          "text": [
            "b2222690 Yamazumi Kotarou\n"
          ]
        }
      ]
    }
  ]
}