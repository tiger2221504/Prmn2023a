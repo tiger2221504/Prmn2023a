{
  "nbformat": 4,
  "nbformat_minor": 0,
  "metadata": {
    "colab": {
      "provenance": [],
      "toc_visible": true,
      "authorship_tag": "ABX9TyPUiNhZwqyjdbEMeTadLz5f",
      "include_colab_link": true
    },
    "kernelspec": {
      "name": "python3",
      "display_name": "Python 3"
    },
    "language_info": {
      "name": "python"
    }
  },
  "cells": [
    {
      "cell_type": "markdown",
      "metadata": {
        "id": "view-in-github",
        "colab_type": "text"
      },
      "source": [
        "<a href=\"https://colab.research.google.com/github/kiryu-3/Prmn2023/blob/main/Python/Python_Basic/text/PythonBasic_6.ipynb\" target=\"_parent\"><img src=\"https://colab.research.google.com/assets/colab-badge.svg\" alt=\"Open In Colab\"/></a>"
      ]
    },
    {
      "cell_type": "markdown",
      "source": [
        "# 第6章"
      ],
      "metadata": {
        "id": "KbL1GCRmP0g1"
      }
    },
    {
      "cell_type": "markdown",
      "source": [
        "## 関数\n",
        "様々な処理が機能として１つにまとまっているものを**関数**といいます。"
      ],
      "metadata": {
        "id": "CwrmDlZFP5Az"
      }
    },
    {
      "cell_type": "markdown",
      "source": [
        "### 組み込み関数\n",
        "Pythonで最初から準備されている関数のことを、**組み込み関数**といいます。\n",
        "\n",
        "組み込み関数には、以下のようなものがあります。"
      ],
      "metadata": {
        "id": "8t_jsanGSory"
      }
    },
    {
      "cell_type": "code",
      "source": [
        "print()\n",
        "type()\n",
        "len()\n",
        "id()\n",
        "range()\n",
        "enumerate()"
      ],
      "metadata": {
        "id": "bF3UcKkrT3Sv"
      },
      "execution_count": null,
      "outputs": []
    },
    {
      "cell_type": "markdown",
      "source": [
        "今までもよく使ってきた、おなじみの関数です。"
      ],
      "metadata": {
        "id": "o15V1c37THl5"
      }
    },
    {
      "cell_type": "markdown",
      "source": [
        "組み込み関数は、他にも以下のようなものがあります。"
      ],
      "metadata": {
        "id": "p-8zazixTRsA"
      }
    },
    {
      "cell_type": "code",
      "source": [
        "min()\n",
        "max()"
      ],
      "metadata": {
        "id": "yBO0Di0dT4x_"
      },
      "execution_count": null,
      "outputs": []
    },
    {
      "cell_type": "markdown",
      "source": [
        "想像つくかもしれないですが、最大値と最小値を求めるための関数です。\n",
        "\n",
        "試しに、リストを作成して実行してみましょう。"
      ],
      "metadata": {
        "id": "_44BF9wbTTkw"
      }
    },
    {
      "cell_type": "code",
      "source": [
        "# 1, 2, 3が入っているリストを作成\n",
        "l = [1, 2, 3]\n",
        "\n",
        "# 最大値を表示\n",
        "print(max(l))\n",
        "\n",
        "# 最小値を表示\n",
        "print(min(l))"
      ],
      "metadata": {
        "id": "_g4isibdTxfO",
        "colab": {
          "base_uri": "https://localhost:8080/"
        },
        "outputId": "07c5d199-3d0a-441d-b4fe-b64c3b25b31d"
      },
      "execution_count": 2,
      "outputs": [
        {
          "output_type": "stream",
          "name": "stdout",
          "text": [
            "3\n",
            "1\n"
          ]
        }
      ]
    },
    {
      "cell_type": "markdown",
      "source": [
        "このように、リスト内の最大値と最小値を取得できます。  \n",
        "※一応、公式ドキュメントが以下です。\n",
        "\n",
        "https://docs.python.org/ja/3/library/functions.html"
      ],
      "metadata": {
        "id": "-rkJN9WOTw7n"
      }
    },
    {
      "cell_type": "markdown",
      "source": [
        "### 関数の定義\n",
        "組み込み関数とは別に、関数は自分で作ることもできます。  "
      ],
      "metadata": {
        "id": "OYFYkVx9UKoO"
      }
    },
    {
      "cell_type": "markdown",
      "source": [
        "関数を自分で作れるようになると、プログラムを複数の部品に分けることができるようになります。  \n",
        "1つのプログラムを複数の部品に分けることを**部品化**といいます。メリットは以下の通りです。  \n",
        "\n",
        "- プログラム全体の見通しがよくなり、処理を把握しやすくなる\n",
        "- 機能ごとに関数を記述するため、修正範囲を限定できる\n",
        "- 何度も使う機能を関数にまとめることで、プログラミングの作業効率が上がる"
      ],
      "metadata": {
        "id": "X4qXmTOYWP2Q"
      }
    },
    {
      "cell_type": "markdown",
      "source": [
        "関数を利用するには、**定義**と**呼び出し**の2ステップが必要です。  \n",
        "\n",
        "![pp_05_1.png](data:image/png;base64,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)  \n",
        "※処理はインデントして記述する\n",
        "\n",
        "関数名の右にある()の部分は、より複雑な関数を定義するときに使います。  \n",
        "構文の2行目以降は、この関数が呼び出されたときに実行する処理を記述します。  \n",
        "この部分を**関数ブロック**といいます。"
      ],
      "metadata": {
        "id": "Wb8pab33W85k"
      }
    },
    {
      "cell_type": "markdown",
      "source": [
        "シンプルな関数の場合は、次のような構文で呼び出すことができます。  \n",
        "\n",
        "![pp_05_22.png](data:image/png;base64,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)"
      ],
      "metadata": {
        "id": "-J2lF_myYODC"
      }
    },
    {
      "cell_type": "markdown",
      "source": [
        "では、呼び出されると`\"Hello\"`と表示する  \n",
        "hello関数を作成してみましょう。"
      ],
      "metadata": {
        "id": "XLGt0tWXZwtl"
      }
    },
    {
      "cell_type": "code",
      "source": [
        "def hello():  # 関数の定義\n",
        "  print(\"Hello\")\n",
        "\n",
        "hello()  # 関数の呼び出し"
      ],
      "metadata": {
        "id": "_OC9B5TEaDRF",
        "colab": {
          "base_uri": "https://localhost:8080/"
        },
        "outputId": "95e05d52-45e1-4ed2-b75e-d23e221c7c1c"
      },
      "execution_count": 3,
      "outputs": [
        {
          "output_type": "stream",
          "name": "stdout",
          "text": [
            "Hello\n"
          ]
        }
      ]
    },
    {
      "cell_type": "markdown",
      "source": [
        "関数内で準備された変数（**ローカル変数**）は、その関数の中でしか読み書きできません。  \n",
        "このようなローカル変数の性質を**独立性**といいます。"
      ],
      "metadata": {
        "id": "hZQ0NrM7apSC"
      }
    },
    {
      "cell_type": "code",
      "source": [
        "def hello():  # 関数の定義\n",
        "  greet = \"Hello\"\n",
        "  print(greet)\n",
        "\n",
        "hello()\n",
        "print(greet)  # 変数greetは利用できない"
      ],
      "metadata": {
        "id": "NIUSaEM2bIQ5",
        "colab": {
          "base_uri": "https://localhost:8080/",
          "height": 222
        },
        "outputId": "ebe1eab9-0ecf-4feb-d6c8-1b6503e4a6fd"
      },
      "execution_count": 4,
      "outputs": [
        {
          "output_type": "stream",
          "name": "stdout",
          "text": [
            "Hello\n"
          ]
        },
        {
          "output_type": "error",
          "ename": "NameError",
          "evalue": "ignored",
          "traceback": [
            "\u001b[0;31m---------------------------------------------------------------------------\u001b[0m",
            "\u001b[0;31mNameError\u001b[0m                                 Traceback (most recent call last)",
            "\u001b[0;32m<ipython-input-4-02aefad39a68>\u001b[0m in \u001b[0;36m<module>\u001b[0;34m\u001b[0m\n\u001b[1;32m      4\u001b[0m \u001b[0;34m\u001b[0m\u001b[0m\n\u001b[1;32m      5\u001b[0m \u001b[0mhello\u001b[0m\u001b[0;34m(\u001b[0m\u001b[0;34m)\u001b[0m\u001b[0;34m\u001b[0m\u001b[0;34m\u001b[0m\u001b[0m\n\u001b[0;32m----> 6\u001b[0;31m \u001b[0mprint\u001b[0m\u001b[0;34m(\u001b[0m\u001b[0mgreet\u001b[0m\u001b[0;34m)\u001b[0m  \u001b[0;31m# 変数greetは利用できない\u001b[0m\u001b[0;34m\u001b[0m\u001b[0;34m\u001b[0m\u001b[0m\n\u001b[0m",
            "\u001b[0;31mNameError\u001b[0m: name 'greet' is not defined"
          ]
        }
      ]
    },
    {
      "cell_type": "markdown",
      "source": [
        "#### 関数と引数\n",
        "呼び出し元から関数へデータを渡す仕組みを**引数**といいます。   \n",
        "呼び出し側で渡すデータを**実引数**、そのデータを受け取る変数を**仮引数**といいます。  \n",
        "引数には、数値や文字列のほか、コレクションも引き渡すことができます。    \n",
        "\n",
        "![pp_05_3.png](data:image/png;base64,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)  \n",
        "関数名に続くカッコの中に書いた変数名は、関数が呼び出された際に  \n",
        "データを引数で受け取り、関数内で扱っていくものです。\n",
        "\n"
      ],
      "metadata": {
        "id": "5uL0o3J4bSB4"
      }
    },
    {
      "cell_type": "markdown",
      "source": [
        "![pp_05_4.png](data:image/png;base64,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)  \n",
        "関数名の後ろのカッコ内でデータを渡しています。"
      ],
      "metadata": {
        "id": "rHuh_t-UdD0K"
      }
    },
    {
      "cell_type": "markdown",
      "source": [
        "偶数奇数判定をするhantei関数を作成してみましょう。"
      ],
      "metadata": {
        "id": "pJxq5bjmi2QI"
      }
    },
    {
      "cell_type": "code",
      "source": [
        "\"\"\"\n",
        "実引数と仮引数の変数名は同じでも可。\n",
        "ここでは分かりやすくするためにnumberとnumに分けている。\n",
        "\"\"\"\n",
        "\n",
        "def hantei(num):  # 仮引数numで実引数numberの値を受け取る\n",
        "  if num%2 == 0:\n",
        "    print(f\"{num}は偶数です\")\n",
        "  else:\n",
        "    print(f\"{num}は奇数です\")\n",
        "\n",
        "number = 2\n",
        "hantei(number)  # 実引数numberをhantei関数に渡す\n",
        "\n",
        "number = 3\n",
        "hantei(number)  # 実引数numberをhantei関数に渡す"
      ],
      "metadata": {
        "id": "mOi4sfGhhqWj",
        "colab": {
          "base_uri": "https://localhost:8080/"
        },
        "outputId": "98db9b41-28b4-44d1-936f-8bcd3de0f2e3"
      },
      "execution_count": 16,
      "outputs": [
        {
          "output_type": "stream",
          "name": "stdout",
          "text": [
            "2は偶数です\n",
            "3は奇数です\n"
          ]
        }
      ]
    },
    {
      "cell_type": "markdown",
      "source": [
        "複数の引数を渡すことも可能です。  \n",
        "\n",
        "税込み価格を表示するtax_price関数を作成してみましょう。"
      ],
      "metadata": {
        "id": "VkdijSjrjfDm"
      }
    },
    {
      "cell_type": "code",
      "source": [
        "\"\"\"\n",
        "1つ目の引数を商品名、2つ目の引数をその税抜き価格、3つ目の引数を税率として、\n",
        "税込み価格を表示する\n",
        "\"\"\"\n",
        "\n",
        "def tax_price(name,price,tax):  # 仮引数name,price,taxで実引数の値を受け取る\n",
        "  print(f\"{name}の税抜き価格は{price}円です\")\n",
        "  print(f\"{name}の税込み価格は{price * (1+(tax*0.01))}円です\\n\")\n",
        "\n",
        "tax_price(\"牛丼並盛\",408,10)  # 店の中で食べるときは消費税率10%\n",
        "tax_price(\"牛丼並盛\",408,8)   # 持ち帰って食べるときは消費税率8%"
      ],
      "metadata": {
        "id": "U4o8jfhyoVNX",
        "colab": {
          "base_uri": "https://localhost:8080/"
        },
        "outputId": "2121cda0-cfff-4eb1-8940-7745658371fc"
      },
      "execution_count": 17,
      "outputs": [
        {
          "output_type": "stream",
          "name": "stdout",
          "text": [
            "牛丼並盛の税抜き価格は408円です\n",
            "牛丼並盛の税込み価格は448.8円です\n",
            "\n",
            "牛丼並盛の税抜き価格は408円です\n",
            "牛丼並盛の税込み価格は440.64000000000004円です\n",
            "\n"
          ]
        }
      ]
    },
    {
      "cell_type": "markdown",
      "source": [
        "#### 関数と戻り値\n",
        "関数から呼び出し元へデータを渡す仕組みを**戻り値**といいます。  \n",
        "関数で何らかの処理を行った結果を他の関数でも利用することができるようになります。  \n",
        "戻り値には、数値や文字列のほか、コレクションも引き渡すことができます。\n",
        "\n"
      ],
      "metadata": {
        "id": "QxvQXAIFQveR"
      }
    },
    {
      "cell_type": "markdown",
      "source": [
        "![pp_05_5.png](data:image/png;base64,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)  \n",
        "\n",
        "関数定義の最終行には**return文**を書きます。  \n",
        "関数内の処理を終了し、呼び出し元にデータを渡すことが出来ます。  "
      ],
      "metadata": {
        "id": "nOZcR_7GYmeo"
      }
    },
    {
      "cell_type": "markdown",
      "source": [
        "![pp_05_6.png](data:image/png;base64,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)  \n",
        "\n",
        "「関数名(引数1,引数2,…)」の部分は、関数の実行後に戻り値に置き換わります。  \n",
        "結果として、変数に戻り値が代入されることになります。"
      ],
      "metadata": {
        "id": "E8_h8zc2ajeq"
      }
    },
    {
      "cell_type": "markdown",
      "source": [
        "hantei関数内で偶数か奇数を判断し、その戻り値を出力しましょう。"
      ],
      "metadata": {
        "id": "LrNAuo_UbEb4"
      }
    },
    {
      "cell_type": "code",
      "source": [
        "def hantei(num):  # 仮引数numで実引数numberの値を受け取る\n",
        "  if num%2 == 0:\n",
        "    return \"偶数\"\n",
        "  else:\n",
        "    return \"奇数\"\n",
        "\n",
        "number = 2\n",
        "judge = hantei(number)  # 実引数numberをhantei関数に渡す\n",
        "print(f\"{number}は{judge}です\")\n",
        "\n",
        "number = 3\n",
        "judge = hantei(number)  # 実引数numberをhantei関数に渡す\n",
        "print(f\"{number}は{judge}です\")"
      ],
      "metadata": {
        "colab": {
          "base_uri": "https://localhost:8080/"
        },
        "id": "eXKAE1fNBZoV",
        "outputId": "f79eca2e-5012-4bc0-f0f7-86b58e1e9ff4"
      },
      "execution_count": 18,
      "outputs": [
        {
          "output_type": "stream",
          "name": "stdout",
          "text": [
            "2は偶数です\n",
            "3は奇数です\n"
          ]
        }
      ]
    },
    {
      "cell_type": "markdown",
      "source": [
        "乱数を戻り値に指定するとサイコロ関数が出来上がります。"
      ],
      "metadata": {
        "id": "bqGFkOF_H_hw"
      }
    },
    {
      "cell_type": "code",
      "source": [
        "# サイコロを関数で表現する\n",
        " \n",
        "import random\n",
        " \n",
        "def saikoro():\n",
        "    return random.randint(1, 6)  # 1～6の乱数\n",
        " \n",
        "for i in range(3):\n",
        "    print(saikoro())"
      ],
      "metadata": {
        "colab": {
          "base_uri": "https://localhost:8080/"
        },
        "id": "3UAfN9RdIFtn",
        "outputId": "bf396502-4d7e-471e-cb6a-64098986efc4"
      },
      "execution_count": 19,
      "outputs": [
        {
          "output_type": "stream",
          "name": "stdout",
          "text": [
            "3\n",
            "2\n",
            "6\n"
          ]
        }
      ]
    },
    {
      "cell_type": "markdown",
      "source": [
        "戻り値は複数指定することができません。  \n",
        "しかし、カンマ区切りで戻り値を指定すると、**1つのタプル**として結果的に複数の値を返すことができます。"
      ],
      "metadata": {
        "id": "g17pow8KdReT"
      }
    },
    {
      "cell_type": "markdown",
      "source": [
        "税込み価格を表示するtax_price関数を作成してみましょう。"
      ],
      "metadata": {
        "id": "P_5187xyd2ZQ"
      }
    },
    {
      "cell_type": "code",
      "source": [
        "\"\"\"\n",
        "引数を税抜き価格として、\n",
        "持ち帰って食べるか店の中で食べるかによって表示する価格を変化させる\n",
        "\"\"\"\n",
        "\n",
        "def tax_price(price):  # 仮引数priceで実引数の値を受け取る\n",
        "  keigen = price * (1+(8*0.01))  # 持ち帰って食べるときは消費税率8%\n",
        "  not_keigen =  price * (1+(10*0.01))  # 店の中で食べるときは消費税率10%\n",
        "\n",
        "  return keigen , not_keigen \n",
        "  \n",
        "  \"\"\"\n",
        "  (keigen , not_keigen)と同じ意味\n",
        "  戻り値は一つのタプル\n",
        "  \"\"\"\n",
        "\n",
        "name = \"牛丼\"\n",
        "price = 408\n",
        "keigen , not_keigen = tax_price(price)\n",
        "\"\"\"\n",
        "「tax_price(price)」の部分が戻り値のタプルに置き換わる\n",
        "その後アンパック代入\n",
        "\"\"\"\n",
        "print(f\"{name}の税抜き価格は{price}円です\")\n",
        "print(f\"持ち帰って食べるときの価格は{keigen}円です\")\n",
        "print(f\"店の中で食べるときの価格は{not_keigen}円です\")"
      ],
      "metadata": {
        "colab": {
          "base_uri": "https://localhost:8080/"
        },
        "id": "7uIGjfZQEcRn",
        "outputId": "5ef11a3d-b51c-4be5-e507-2bb7b3552251"
      },
      "execution_count": 20,
      "outputs": [
        {
          "output_type": "stream",
          "name": "stdout",
          "text": [
            "牛丼の税抜き価格は408円です\n",
            "持ち帰って食べるときの価格は440.64000000000004円です\n",
            "店の中で食べるときの価格は448.8円です\n"
          ]
        }
      ]
    },
    {
      "cell_type": "markdown",
      "source": [
        "### グローバル変数\n",
        "どの関数にも属さない場所で定義された変数を、ローカル変数に対し**グローバル変数**といいます。  \n",
        "**すべての関数から参照してデータを利用することができます。**  \n",
        "※同名のローカル変数がある場合は、ローカル変数が優先して利用されます。"
      ],
      "metadata": {
        "id": "bouTo1PvqhDL"
      }
    },
    {
      "cell_type": "code",
      "source": [
        "greet = \"Hello\"\n",
        "\n",
        "def hello():  # 関数の定義\n",
        "  print(greet)\n",
        "\n",
        "hello()"
      ],
      "metadata": {
        "colab": {
          "base_uri": "https://localhost:8080/"
        },
        "id": "iH-zoaj7K8Qa",
        "outputId": "a5a50e96-88df-4fe3-c14d-8dc62782eaec"
      },
      "execution_count": 21,
      "outputs": [
        {
          "output_type": "stream",
          "name": "stdout",
          "text": [
            "Hello\n"
          ]
        }
      ]
    },
    {
      "cell_type": "markdown",
      "source": [
        "関数の**独立性**を考えると、hello関数の中身では変数が何も定義されていないので、  \n",
        "変数`greet`は使えないように思えます。 \n",
        "\n",
        "しかしエラーは出ません。それは変数`greet`がグローバル変数であるからです。"
      ],
      "metadata": {
        "id": "CU3EO0Zzrr0P"
      }
    },
    {
      "cell_type": "markdown",
      "source": [
        "全部グローバル変数を使えば、引数や戻り値は確かに必要ではなくなります。  \n",
        "しかし、チームでの開発や中規模以上の開発では、開発者の混乱やミスを招きやすいという副作用があります。  \n",
        "**原則使わないようにしましょう。**"
      ],
      "metadata": {
        "id": "vY-yVnVis8Zo"
      }
    },
    {
      "cell_type": "markdown",
      "source": [
        "# 第6章補足"
      ],
      "metadata": {
        "id": "Z2xIQ1-UU0jS"
      }
    },
    {
      "cell_type": "markdown",
      "source": [
        "### デフォルト引数とキーワード引数\n",
        "\n"
      ],
      "metadata": {
        "id": "aame_CJgMcUQ"
      }
    },
    {
      "cell_type": "markdown",
      "source": [
        "以下のような`tax_price関数`を元にして解説します。"
      ],
      "metadata": {
        "id": "tGZv1Iv2L7o4"
      }
    },
    {
      "cell_type": "code",
      "source": [
        "\"\"\"\n",
        "1つ目の引数を商品名、2つ目の引数をその税抜き価格、3つ目の引数を税率として、\n",
        "税込み価格を表示する\n",
        "\"\"\"\n",
        "\n",
        "def tax_price(name,price,tax):  # 仮引数name,price,taxで実引数の値を受け取る\n",
        "  print(f\"{name}の税抜き価格は{price}円です\")\n",
        "  print(f\"{name}の税込み価格は{price * (1+(tax*0.01))}円です\\n\")\n",
        "\n",
        "tax_price(\"牛丼並盛\",408,10)  # 店の中で食べるときは消費税率10%\n",
        "tax_price(\"牛丼並盛\",408,8)   # 持ち帰って食べるときは消費税率8%"
      ],
      "metadata": {
        "id": "IRBGiCUELyXC",
        "colab": {
          "base_uri": "https://localhost:8080/"
        },
        "outputId": "83d7ffb6-5036-45be-84bc-b79aeda2ba4c"
      },
      "execution_count": 22,
      "outputs": [
        {
          "output_type": "stream",
          "name": "stdout",
          "text": [
            "牛丼並盛の税抜き価格は408円です\n",
            "牛丼並盛の税込み価格は448.8円です\n",
            "\n",
            "牛丼並盛の税抜き価格は408円です\n",
            "牛丼並盛の税込み価格は440.64000000000004円です\n",
            "\n"
          ]
        }
      ]
    },
    {
      "cell_type": "markdown",
      "source": [
        "ここでは、税率はほとんどのケースで「10%」が指定されるものとします。  \n",
        "\n",
        "このように、ある仮引数に指定される値がおおむね想定される場合、**デフォルト関数**という仕組みを使います。  \n",
        "\n",
        "![pp_05_8.png](data:image/png;base64,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)  \n",
        "\n",
        "**関数呼び出しで実引数が指定されない場合は、デフォルト値が指定されたものとみなします**。  \n",
        "先ほどのtax_price関数を呼び出す手間を低減してみましょう。\n",
        "\n",
        "\n",
        "\n"
      ],
      "metadata": {
        "id": "c6yE-2VKODuC"
      }
    },
    {
      "cell_type": "code",
      "source": [
        "def tax_price(name,price,tax=10):  # デフォルト引数を設定\n",
        "  print(f\"{name}の税抜き価格は{price}円です\")\n",
        "  print(f\"{name}の税込み価格は{price * (1+(tax*0.01))}円です\\n\")\n",
        "\n",
        "tax_price(\"牛丼並盛\",408)  # 引数taxの実引数を省略\n",
        "tax_price(\"牛丼並盛\",408,8)"
      ],
      "metadata": {
        "id": "ZlVzoB-KMd-B",
        "colab": {
          "base_uri": "https://localhost:8080/"
        },
        "outputId": "b028ef85-6f18-4085-a1b0-63a907508fb2"
      },
      "execution_count": 23,
      "outputs": [
        {
          "output_type": "stream",
          "name": "stdout",
          "text": [
            "牛丼並盛の税抜き価格は408円です\n",
            "牛丼並盛の税込み価格は448.8円です\n",
            "\n",
            "牛丼並盛の税抜き価格は408円です\n",
            "牛丼並盛の税込み価格は440.64000000000004円です\n",
            "\n"
          ]
        }
      ]
    },
    {
      "cell_type": "markdown",
      "source": [
        "価格と税率の呼び出す順番を入れ替えたとします。  \n",
        "しかし、以下のプログラムを実行した場合はエラーが出ます。"
      ],
      "metadata": {
        "id": "5rkjXV2EVhjO"
      }
    },
    {
      "cell_type": "code",
      "source": [
        "def tax_price(name,tax=10,price):  # priceとtaxの順番を入れ替え\n",
        "  print(f\"{name}の税抜き価格は{price}円です\")\n",
        "  print(f\"{name}の税込み価格は{price * (1+(tax*0.01))}円です\\n\")\n",
        "\n",
        "tax_price(\"牛丼並盛\",408)  # 引数taxの実引数を省略\n",
        "tax_price(\"牛丼並盛\",408,8)"
      ],
      "metadata": {
        "id": "C6nJbcf6M1uJ",
        "colab": {
          "base_uri": "https://localhost:8080/",
          "height": 135
        },
        "outputId": "64013c9d-866e-40d8-ba2e-886175ab8b7c"
      },
      "execution_count": 24,
      "outputs": [
        {
          "output_type": "error",
          "ename": "SyntaxError",
          "evalue": "ignored",
          "traceback": [
            "\u001b[0;36m  File \u001b[0;32m\"<ipython-input-24-0d42be2af7e1>\"\u001b[0;36m, line \u001b[0;32m1\u001b[0m\n\u001b[0;31m    def tax_price(name,tax=10,price):  # priceとtaxの順番を入れ替え\u001b[0m\n\u001b[0m                  ^\u001b[0m\n\u001b[0;31mSyntaxError\u001b[0m\u001b[0;31m:\u001b[0m non-default argument follows default argument\n"
          ]
        }
      ]
    },
    {
      "cell_type": "markdown",
      "source": [
        "残念ながらPythonのデフォルト引数には、  \n",
        "**「デフォルト引数が指定された仮引数より後ろに、デフォルト引数がない仮引数を定義してはならない」**  \n",
        "という制約があります。  \n",
        "\n",
        "デフォルト引数を利用する場合は、必ず1番後ろの引数から順にデフォルト値を指定するようにしましょう。"
      ],
      "metadata": {
        "id": "K0072hboV_08"
      }
    },
    {
      "cell_type": "markdown",
      "source": [
        "制約に引っかからないよう、修正したプログラムが以下の通りです。"
      ],
      "metadata": {
        "id": "PhkBTCSEXxVh"
      }
    },
    {
      "cell_type": "code",
      "source": [
        "\"\"\"\n",
        "基本的に「牛丼並盛」のデータが引数になると仮定\n",
        "\"\"\"\n",
        "\n",
        "def tax_price(name=\"牛丼並盛\",tax=10,price=408):  # デフォルト引数を追加\n",
        "  print(f\"{name}の税抜き価格は{price}円です\")\n",
        "  print(f\"{name}の税込み価格は{price * (1+(tax*0.01))}円です\\n\")\n",
        "\n",
        "tax_price(\"牛丼並盛\",408)\n",
        "tax_price(\"牛丼並盛\",408,8)"
      ],
      "metadata": {
        "colab": {
          "base_uri": "https://localhost:8080/"
        },
        "id": "0vlFoxJgND03",
        "outputId": "f6b77c53-2053-497b-f5a7-10c9a3877986"
      },
      "execution_count": 25,
      "outputs": [
        {
          "output_type": "stream",
          "name": "stdout",
          "text": [
            "牛丼並盛の税抜き価格は408円です\n",
            "牛丼並盛の税込み価格は2072.64円です\n",
            "\n",
            "牛丼並盛の税抜き価格は8円です\n",
            "牛丼並盛の税込み価格は40.64円です\n",
            "\n"
          ]
        }
      ]
    },
    {
      "cell_type": "markdown",
      "source": [
        "エラーは発生しませんが、税率が408%となったり、  \n",
        "価格が8円となったりしてしまっています。"
      ],
      "metadata": {
        "id": "Azgyl3EJX5m-"
      }
    },
    {
      "cell_type": "markdown",
      "source": [
        "このようなケースでは、**キーワード引数**という構文を用いると便利です。  \n",
        "\n",
        "![pp_05_9.png](data:image/png;base64,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)  \n",
        "\n",
        "**実引数として列挙した順番に関わらず、値が指定された仮引数に引き渡されます。**  \n",
        "\n",
        "先ほどのプログラムを修正してみましょう。"
      ],
      "metadata": {
        "id": "2vfGS4PFYD5-"
      }
    },
    {
      "cell_type": "code",
      "source": [
        "def tax_price(name=\"牛丼並盛\",tax=10,price=408):  # デフォルト引数を追加\n",
        "  print(f\"{name}の税抜き価格は{price}円です\")\n",
        "  print(f\"{name}の税込み価格は{price * (1+(tax*0.01))}円です\\n\")\n",
        "\n",
        "tax_price(name=\"牛丼並盛\" , price=408)          # キーワード引数を利用して呼び出し①\n",
        "tax_price(name=\"牛丼並盛\" , price=408 , tax=8)  # キーワード引数を利用して呼び出し②\n",
        "tax_price(\"牛丼並盛\" , 8 , 408)                 # キーワード引数を利用して呼び出し③  "
      ],
      "metadata": {
        "colab": {
          "base_uri": "https://localhost:8080/"
        },
        "id": "OR6xhIDiOJKW",
        "outputId": "0e734ead-fd69-4990-80ba-bf350e65dd32"
      },
      "execution_count": 26,
      "outputs": [
        {
          "output_type": "stream",
          "name": "stdout",
          "text": [
            "牛丼並盛の税抜き価格は408円です\n",
            "牛丼並盛の税込み価格は448.8円です\n",
            "\n",
            "牛丼並盛の税抜き価格は408円です\n",
            "牛丼並盛の税込み価格は440.64000000000004円です\n",
            "\n",
            "牛丼並盛の税抜き価格は408円です\n",
            "牛丼並盛の税込み価格は440.64000000000004円です\n",
            "\n"
          ]
        }
      ]
    },
    {
      "cell_type": "markdown",
      "source": [
        "キーワード引数は、記述した順序に関わらず指定した仮引数に渡されます（呼び出し①・②）。  \n",
        "キーワード引数として指定しない場合は、これまで通り前から順に仮引数に渡されます（コード③）。  \n",
        "\n",
        "上のコードでは3通りの呼び出しを行っていますが、どれも同じ意味になります。\n"
      ],
      "metadata": {
        "id": "A-MhAYG1Z2zi"
      }
    },
    {
      "cell_type": "markdown",
      "source": [
        "### lambda関数\n",
        "**ラムダ関数**と読みます。名前を持たない無名関数を作成することができます。"
      ],
      "metadata": {
        "id": "jEkTw_ZAsmBZ"
      }
    },
    {
      "cell_type": "markdown",
      "source": [
        "def文による関数定義とそれに相当するラムダ式での無名関数の対応関係は以下の通りです。  \n",
        "\n",
        "![pp_05_2022-08-30-17-12-43.png](data:image/png;base64,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)\n",
        "\n",
        "**def、関数名、return、改行、カッコ**の5つを取ればlambda関数の完成です。"
      ],
      "metadata": {
        "id": "zgxBisKL8mqG"
      }
    },
    {
      "cell_type": "markdown",
      "source": [
        "実際に`lambda`を使って関数を書き換えてみましょう。"
      ],
      "metadata": {
        "id": "NZD1R0z99lNa"
      }
    },
    {
      "cell_type": "code",
      "source": [
        "# defによる関数の宣言\n",
        " \n",
        "import random\n",
        " \n",
        "def saikoro_def():\n",
        "    return random.randint(1, 6)  # 1～6の乱数\n",
        " \n",
        "for i in range(3):\n",
        "    print(saikoro_def())"
      ],
      "metadata": {
        "id": "pas62IkFPhNx",
        "colab": {
          "base_uri": "https://localhost:8080/"
        },
        "outputId": "10706768-eb31-4285-dbd2-8f21f85681ce"
      },
      "execution_count": 27,
      "outputs": [
        {
          "output_type": "stream",
          "name": "stdout",
          "text": [
            "1\n",
            "6\n",
            "1\n"
          ]
        }
      ]
    },
    {
      "cell_type": "code",
      "source": [
        "# lambda による関数の宣言\n",
        " \n",
        "import random\n",
        "\n",
        "# この例では引数はなし\n",
        "saikoro_lambda = lambda : random.randint(1, 6)\n",
        " \n",
        "for i in range(3):\n",
        "    print(saikoro_lambda())"
      ],
      "metadata": {
        "colab": {
          "base_uri": "https://localhost:8080/"
        },
        "id": "Vc8hczcoPl55",
        "outputId": "7ebd92f9-14c9-4b21-92ba-8fa8430878f0"
      },
      "execution_count": 28,
      "outputs": [
        {
          "output_type": "stream",
          "name": "stdout",
          "text": [
            "1\n",
            "5\n",
            "5\n"
          ]
        }
      ]
    },
    {
      "cell_type": "markdown",
      "source": [
        "lambda関数は、以下に述べる関数・メソッドと共に用いることが多いです。"
      ],
      "metadata": {
        "id": "4phmhUai-rUm"
      }
    },
    {
      "cell_type": "markdown",
      "source": [
        "#### sorted関数\n"
      ],
      "metadata": {
        "id": "4q_C23f1-yLt"
      }
    },
    {
      "cell_type": "markdown",
      "source": [
        "以前も出てきたsorted関数です。"
      ],
      "metadata": {
        "id": "GVWtcvCbRHbw"
      }
    },
    {
      "cell_type": "code",
      "source": [
        "university = ['Chitose', 'Hokudai', 'Hakodate', 'Muroran']\n",
        "print(university)\n",
        "new_list = sorted(university)  # 昇順\n",
        "print(new_list)\n",
        "new_list_reverse = sorted(university, reverse=True)  # 降順\n",
        "print(new_list_reverse)"
      ],
      "metadata": {
        "id": "q2clFiOQBlQ2",
        "colab": {
          "base_uri": "https://localhost:8080/"
        },
        "outputId": "6957eb4d-8ca5-4ba1-cd02-c2cd7a0eafb3"
      },
      "execution_count": 29,
      "outputs": [
        {
          "output_type": "stream",
          "name": "stdout",
          "text": [
            "['Chitose', 'Hokudai', 'Hakodate', 'Muroran']\n",
            "['Chitose', 'Hakodate', 'Hokudai', 'Muroran']\n",
            "['Muroran', 'Hokudai', 'Hakodate', 'Chitose']\n"
          ]
        }
      ]
    },
    {
      "cell_type": "markdown",
      "source": [
        "1文字目のアルファベット順ではなく、2文字目のアルファベット順に並び替えたいといった特殊な処理のときに`lambda`が活きてきます。"
      ],
      "metadata": {
        "id": "PDNMCgtwAz-I"
      }
    },
    {
      "cell_type": "code",
      "source": [
        "university = ['Chitose', 'Hokudai', 'Hakodate', 'Muroran']\n",
        "\n",
        "new_list = sorted(university, key=lambda x:x[1])\n",
        "print(new_list)"
      ],
      "metadata": {
        "id": "y8gzdXj1CqcK",
        "colab": {
          "base_uri": "https://localhost:8080/"
        },
        "outputId": "5bde9c12-3e75-4355-b347-f2302ae8af98"
      },
      "execution_count": 30,
      "outputs": [
        {
          "output_type": "stream",
          "name": "stdout",
          "text": [
            "['Hakodate', 'Chitose', 'Hokudai', 'Muroran']\n"
          ]
        }
      ]
    },
    {
      "cell_type": "markdown",
      "source": [
        "ある単語の 2 文字目だけを取り出すための関数が`lambda x:x[1]`です。  \n",
        "この関数を`key`という引数に取ることで、この関数の返り値に応じた値で並び替えを行うことができます。"
      ],
      "metadata": {
        "id": "fP-m_ACEILTC"
      }
    },
    {
      "cell_type": "markdown",
      "source": [
        "#### split()メソッド\n",
        "\n"
      ],
      "metadata": {
        "id": "I2_vMgig39Sh"
      }
    },
    {
      "cell_type": "markdown",
      "source": [
        "文字列の区切り文字を指定できる`split`メソッドです。"
      ],
      "metadata": {
        "id": "bZ_hmmTHRyWN"
      }
    },
    {
      "cell_type": "code",
      "source": [
        "def get(path):\n",
        "  return path.split('/')\n",
        "  \n",
        "print(get('/home/user/Desktop/image.jpg'))  # ファイルのpathを表示"
      ],
      "metadata": {
        "id": "uhWsQyOb3T11",
        "colab": {
          "base_uri": "https://localhost:8080/"
        },
        "outputId": "df75f1d8-a177-44e3-b1c9-295162ae182a"
      },
      "execution_count": 31,
      "outputs": [
        {
          "output_type": "stream",
          "name": "stdout",
          "text": [
            "['', 'home', 'user', 'Desktop', 'image.jpg']\n"
          ]
        }
      ]
    },
    {
      "cell_type": "markdown",
      "source": [
        "上のファイルのpathから、ファイル名だけ取得したい場合はインデックスを指定しましょう。"
      ],
      "metadata": {
        "id": "LaMn9NY45VhS"
      }
    },
    {
      "cell_type": "code",
      "source": [
        "def get(path):\n",
        "  return path.split('/')[-1]\n",
        "  \n",
        "print(get('/home/user/Desktop/image.jpg'))  # ファイル名を表示"
      ],
      "metadata": {
        "id": "z1ZJpPTr5kLM",
        "colab": {
          "base_uri": "https://localhost:8080/"
        },
        "outputId": "20efe7c0-a702-4b90-821d-1385d1cbd76f"
      },
      "execution_count": 32,
      "outputs": [
        {
          "output_type": "stream",
          "name": "stdout",
          "text": [
            "image.jpg\n"
          ]
        }
      ]
    },
    {
      "cell_type": "markdown",
      "source": [
        "このような1行で書けてしまう関数には、lambda関数が使えると便利です。  \n",
        "書き換えてみましょう。"
      ],
      "metadata": {
        "id": "ZLvIx4in6MQK"
      }
    },
    {
      "cell_type": "code",
      "source": [
        "x = lambda path : path.split('/')[-1]  #「x」や「f」など簡素な名前を付ける\n",
        "\n",
        "print(x('/home/user/Desktop/image.jpg'))  # ファイル名を表示"
      ],
      "metadata": {
        "id": "ujyEUoz-6S-t",
        "colab": {
          "base_uri": "https://localhost:8080/"
        },
        "outputId": "d7cecd1f-cf19-4405-8e6f-c1cbdbb0a234"
      },
      "execution_count": 33,
      "outputs": [
        {
          "output_type": "stream",
          "name": "stdout",
          "text": [
            "image.jpg\n"
          ]
        }
      ]
    },
    {
      "cell_type": "markdown",
      "source": [
        "#### map関数"
      ],
      "metadata": {
        "id": "o2xcucGQU7Xn"
      }
    },
    {
      "cell_type": "markdown",
      "source": [
        "\n",
        "**map関数**を用いると、イテラブル（リストやタプルなど）のすべての要素に、  \n",
        "関数の処理を適用することができます。\n",
        "\n",
        "forループを使うよりも簡素な記述が実現できます。\n",
        "\n",
        "![pp_05_2022-08-30-17-52-53.png](data:image/png;base64,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)\n",
        "\n",
        "第一引数に関数（結構なんでもOK）、第二引数にイテラブルを指定します。  \n",
        "map関数の戻り値はmap型になってしまうので、list関数などでの変換が必要です。"
      ],
      "metadata": {
        "id": "cTLO9PoK7N4R"
      }
    },
    {
      "cell_type": "code",
      "source": [
        "def squarere(n):\n",
        "  return n+1\n",
        "\n",
        "before_list = [1,2,3,4,5]\n",
        "after_list = map(squarere , before_list)  # for文を使わなくても1行で書ける\n",
        "print(list(after_list))  #リスト型に変換して出力"
      ],
      "metadata": {
        "colab": {
          "base_uri": "https://localhost:8080/"
        },
        "id": "yvZ3Ru9fDnnK",
        "outputId": "dbe8d9a1-9484-468c-9c15-543e99ecd521"
      },
      "execution_count": 34,
      "outputs": [
        {
          "output_type": "stream",
          "name": "stdout",
          "text": [
            "[2, 3, 4, 5, 6]\n"
          ]
        }
      ]
    },
    {
      "cell_type": "code",
      "source": [
        "def square(n):\n",
        "  return n*n\n",
        "\n",
        "before_list = [1,2,3,4,5]\n",
        "after_list = map(square , before_list)  # for文を使わなくても1行で書ける\n",
        "print(list(after_list))  #リスト型に変換して出力"
      ],
      "metadata": {
        "id": "zt4gk5Xb8eXl",
        "colab": {
          "base_uri": "https://localhost:8080/"
        },
        "outputId": "090d822e-b5dc-4b6a-846e-71277a927f16"
      },
      "execution_count": 35,
      "outputs": [
        {
          "output_type": "stream",
          "name": "stdout",
          "text": [
            "[1, 4, 9, 16, 25]\n"
          ]
        }
      ]
    },
    {
      "cell_type": "markdown",
      "source": [
        "lambda関数を使って書き直してみましょう。"
      ],
      "metadata": {
        "id": "4h_wdInc-dlj"
      }
    },
    {
      "cell_type": "code",
      "source": [
        "before_list = [1,2,3,4,5]\n",
        "after_list = map(lambda n:n+1 , before_list)  # 引数の中でlambda\n",
        "print(list(after_list))  # リスト型に変換して出力"
      ],
      "metadata": {
        "id": "MZEnQGo8TBuk",
        "colab": {
          "base_uri": "https://localhost:8080/"
        },
        "outputId": "da50b1ad-d8e6-4186-d55d-32c09b407e25"
      },
      "execution_count": 36,
      "outputs": [
        {
          "output_type": "stream",
          "name": "stdout",
          "text": [
            "[2, 3, 4, 5, 6]\n"
          ]
        }
      ]
    },
    {
      "cell_type": "code",
      "source": [
        "before_list = [1,2,3,4,5]\n",
        "after_list = map(lambda n:n*n , before_list)    #引数の中でlambda\n",
        "print(list(after_list))    #リスト型に変換して出力"
      ],
      "metadata": {
        "id": "9vsZSRL6-h_z",
        "colab": {
          "base_uri": "https://localhost:8080/"
        },
        "outputId": "cc53d7cd-cba2-455c-9f7b-61c3ac27186a"
      },
      "execution_count": 37,
      "outputs": [
        {
          "output_type": "stream",
          "name": "stdout",
          "text": [
            "[1, 4, 9, 16, 25]\n"
          ]
        }
      ]
    },
    {
      "cell_type": "markdown",
      "source": [
        "関数をその場に記述するので、可読性が向上します。"
      ],
      "metadata": {
        "id": "9_Sl0GdG-4GC"
      }
    },
    {
      "cell_type": "markdown",
      "source": [
        "#### filter関数"
      ],
      "metadata": {
        "id": "lIIaaK-wU90I"
      }
    },
    {
      "cell_type": "markdown",
      "source": [
        "**filter関数**は、イテラブルから、条件に当てはまる要素を抽出できます。\n",
        "\n",
        "![pp_05_2022-08-30-18-03-15.png](data:image/png;base64,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)\n",
        "\n",
        "第一引数には**抽出条件を設定した**関数、第二引数にイテラブルを指定します。  \n",
        "filter関数の戻り値はfilterオブジェクトになってしまうので、list関数などでの変換が必要です。"
      ],
      "metadata": {
        "id": "QzBWIZqf--Zz"
      }
    },
    {
      "cell_type": "code",
      "source": [
        "def gouhi(n):\n",
        "  return n>=60\n",
        "\n",
        "scores = [58,89,62,50,78]\n",
        "goukaku = filter(gouhi , scores)\n",
        "print(list(goukaku))  # リスト型に変換して出力"
      ],
      "metadata": {
        "id": "SkljLXPd_xlh",
        "colab": {
          "base_uri": "https://localhost:8080/"
        },
        "outputId": "0e65e3e2-862e-402a-eca5-d56433621bc6"
      },
      "execution_count": 38,
      "outputs": [
        {
          "output_type": "stream",
          "name": "stdout",
          "text": [
            "[89, 62, 78]\n"
          ]
        }
      ]
    },
    {
      "cell_type": "markdown",
      "source": [
        "lambda関数を使って書き直してみましょう。"
      ],
      "metadata": {
        "id": "rF67DUiBAh9Z"
      }
    },
    {
      "cell_type": "code",
      "execution_count": 39,
      "metadata": {
        "id": "GXeap0bnOKDP",
        "colab": {
          "base_uri": "https://localhost:8080/"
        },
        "outputId": "89aa5cf7-e5a4-4539-e503-914279ca27f5"
      },
      "outputs": [
        {
          "output_type": "stream",
          "name": "stdout",
          "text": [
            "[89, 62, 78]\n"
          ]
        }
      ],
      "source": [
        "scores = [58,89,62,50,78]\n",
        "goukaku = filter(lambda n:n>=60 , scores)  # 引数の中でlambda\n",
        "print(list(goukaku))  # リスト型に変換して出力"
      ]
    },
    {
      "cell_type": "markdown",
      "source": [
        "### 可変長引数\n",
        "\n"
      ],
      "metadata": {
        "id": "ZarQuT0QdmfP"
      }
    },
    {
      "cell_type": "markdown",
      "source": [
        "**可変長引数**とは、関数の引数の個数を指定せずに引数を渡す方法です。  \n"
      ],
      "metadata": {
        "id": "Id-8IQMcTsx-"
      }
    },
    {
      "cell_type": "markdown",
      "source": [
        "仮引数に可変長引数`*args`を使うと、任意の個数の位置引数を**タプル**にまとめて  \n",
        "その仮引数にセットします。  \n",
        "\n",
        "「.jpg」のファイル名だけをリストで返すプログラム例を通じて、イメージを掴んでいきましょう。"
      ],
      "metadata": {
        "id": "CHD1kSAoTuPJ"
      }
    },
    {
      "cell_type": "code",
      "source": [
        "# 可変長引数を用いない場合\n",
        "\n",
        "def return_jpg(filename1,filename2):\n",
        "    \n",
        "    jpg_list = []\n",
        "    if filename1[-4:] == \".jpg\":\n",
        "        jpg_list.append(filename1)\n",
        "\n",
        "    if filename2[-4:] == \".jpg\":\n",
        "        jpg_list.append(filename2)\n",
        "\n",
        "    return jpg_list\n",
        "\n",
        "print(return_jpg(\"image1.png\",\"image2.jpg\"))"
      ],
      "metadata": {
        "id": "WE8GV7l9hwsy",
        "colab": {
          "base_uri": "https://localhost:8080/"
        },
        "outputId": "1ee7d189-d589-4237-9675-d5bf7aafcbca"
      },
      "execution_count": 40,
      "outputs": [
        {
          "output_type": "stream",
          "name": "stdout",
          "text": [
            "['image2.jpg']\n"
          ]
        }
      ]
    },
    {
      "cell_type": "markdown",
      "source": [
        "上のコードは実行できると思いますが、引数の数が膨大になった際に仮引数の数が大変なことになります。  \n",
        "またリストをうまく利用することで対応することもできますが、呼び出す際にいちいちリストにするのは面倒です。  \n",
        "\n",
        "では、可変長引数`*args`を用いて、応用が利かせられるプログラムに書き直していきましょう。"
      ],
      "metadata": {
        "id": "mgqiXHS6jWcN"
      }
    },
    {
      "cell_type": "code",
      "source": [
        "#可変長引数を用いた場合\n",
        "\n",
        "def return_jpg(*args):\n",
        "\n",
        "  \"\"\"\n",
        "  args = [\"image1.png\",\"image2.jpg\"]\n",
        "  \"\"\"\n",
        "    \n",
        "  jpg_list = []\n",
        "\n",
        "  for filename in args:  \n",
        "      if filename[-4:] == \".jpg\":\n",
        "          jpg_list.append(filename)\n",
        "\n",
        "  return jpg_list\n",
        "\n",
        "print(return_jpg(\"image1.png\",\"image2.jpg\"))"
      ],
      "metadata": {
        "id": "mhFV8jBYkg4j",
        "colab": {
          "base_uri": "https://localhost:8080/"
        },
        "outputId": "adeea6d5-779e-4093-8673-502983947f5b"
      },
      "execution_count": 41,
      "outputs": [
        {
          "output_type": "stream",
          "name": "stdout",
          "text": [
            "['image2.jpg']\n"
          ]
        }
      ]
    },
    {
      "cell_type": "markdown",
      "source": [
        "仮引数に可変長引数 `**kwargs`を使うと、キーワード引数を1個の辞書にまとめることができます。  \n",
        "引数の名前は辞書のキー、引数の値は辞書の値になります。  \n"
      ],
      "metadata": {
        "id": "InbxnDjpl8uR"
      }
    },
    {
      "cell_type": "code",
      "source": [
        "def gakka(**kwargs):\n",
        "\n",
        "  \"\"\"\n",
        "  kwargs = {'Ouka': 75, 'Denshi': 99, 'Josisu': 94}\n",
        "  \"\"\"\n",
        "\n",
        "  for key in kwargs:  # for文に辞書を指定すると、キーが順番に取り出される\n",
        "    print(f\"{key}の人数は{kwargs[key]}人です\")\n",
        "\n",
        "gakka(Ouka=75 , Denshi=99 , Josisu=94)"
      ],
      "metadata": {
        "id": "2YsQ9fKX8qRE",
        "colab": {
          "base_uri": "https://localhost:8080/"
        },
        "outputId": "77944fa1-3ef3-473f-a0a4-65292a8def0f"
      },
      "execution_count": 42,
      "outputs": [
        {
          "output_type": "stream",
          "name": "stdout",
          "text": [
            "Oukaの人数は75人です\n",
            "Denshiの人数は99人です\n",
            "Josisuの人数は94人です\n"
          ]
        }
      ]
    },
    {
      "cell_type": "markdown",
      "source": [
        "呼び出す際に辞書を使わなくても、`gakka関数`内で辞書を扱えるようになりました。"
      ],
      "metadata": {
        "id": "h0MDZhxu-b65"
      }
    },
    {
      "cell_type": "markdown",
      "source": [
        "これからデータ解析を扱う際に、特に`args*`は使います。"
      ],
      "metadata": {
        "id": "zWqIYjtL--Qg"
      }
    }
  ]
}
