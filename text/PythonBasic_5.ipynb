{
  "nbformat": 4,
  "nbformat_minor": 0,
  "metadata": {
    "colab": {
      "provenance": [],
      "toc_visible": true,
      "authorship_tag": "ABX9TyPeqlFvhet86HFHkkB9bm9K",
      "include_colab_link": true
    },
    "kernelspec": {
      "name": "python3",
      "display_name": "Python 3"
    },
    "language_info": {
      "name": "python"
    }
  },
  "cells": [
    {
      "cell_type": "markdown",
      "metadata": {
        "id": "view-in-github",
        "colab_type": "text"
      },
      "source": [
        "<a href=\"https://colab.research.google.com/github/kiryu-3/Prmn2023/blob/main/Python/Python_Basic/text/PythonBasic_5.ipynb\" target=\"_parent\"><img src=\"https://colab.research.google.com/assets/colab-badge.svg\" alt=\"Open In Colab\"/></a>"
      ]
    },
    {
      "cell_type": "markdown",
      "source": [
        "# 第5章"
      ],
      "metadata": {
        "id": "8oxx8MslzXq3"
      }
    },
    {
      "cell_type": "markdown",
      "source": [
        "## ディクショナリ\n"
      ],
      "metadata": {
        "id": "O330ZQK5zbpW"
      }
    },
    {
      "cell_type": "markdown",
      "source": [
        "リストやタプルなどの要素には添え字が割り振られていますが、  \n",
        "それぞれのデータが何の意味を表すか分からなくなることがあります。  \n",
        "\n",
        "**ディクショナリ**は、それぞれの要素に**キー**という見出し情報を付けて  \n",
        "データを管理するコレクションです。"
      ],
      "metadata": {
        "id": "YP5cy_BJKQED"
      }
    },
    {
      "cell_type": "markdown",
      "source": [
        "### ディクショナリの作成\n",
        "**{}**（**波カッコ**）によってディクショナリを生み出し、各要素を**「キー : 値」**の形式で指定します。  \n",
        "\n",
        "![pp_04_1.png](data:image/png;base64,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)  \n",
        "※キーと値の対応を、:（コロン）を使って指定する"
      ],
      "metadata": {
        "id": "ua8L9d9gzgGu"
      }
    },
    {
      "cell_type": "markdown",
      "source": [
        "各要素に付けるキーは、次のようなルールに従って開発者が自由に決定することができます。  \n",
        "- キーには、さまざまな型のデータを指定できる。\n",
        "- キーのデータ型は要素ごとに異なってもよい\n",
        "- キーの重複も許される（最後に指定したもの以外は無視される）"
      ],
      "metadata": {
        "id": "zYUZEYP8zo8F"
      }
    },
    {
      "cell_type": "markdown",
      "source": [
        "以下のコードは、ディクショナリを用いて学科とその人数をまとめたプログラムです。"
      ],
      "metadata": {
        "id": "UDEcBpLrzssN"
      }
    },
    {
      "cell_type": "code",
      "execution_count": 1,
      "metadata": {
        "id": "t_yJl5stzSaj",
        "colab": {
          "base_uri": "https://localhost:8080/"
        },
        "outputId": "5389fc5f-9bdc-40d4-aec4-6c12a4c520f0"
      },
      "outputs": [
        {
          "output_type": "stream",
          "name": "stdout",
          "text": [
            "{'Ouka': 75, 'Denshi': 99, 'Josisu': 94}\n"
          ]
        }
      ],
      "source": [
        "gakka = {\"Ouka\":75 , \"Denshi\":99 , \"Josisu\":94}\n",
        "print(gakka)"
      ]
    },
    {
      "cell_type": "markdown",
      "source": [
        "### ディクショナリ要素の参照\n",
        "ディクショナリの要素を指定するには、要素に設定したキーを使用します。  \n",
        "\n",
        "![pp_04_2.png](data:image/png;base64,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)\n",
        "\n",
        "キーには文字列が使われることが多いです。"
      ],
      "metadata": {
        "id": "mV_oo_wWzxqd"
      }
    },
    {
      "cell_type": "markdown",
      "source": [
        "以下のコードは、情報システム工学科の人数を出力するプログラムです。"
      ],
      "metadata": {
        "id": "ba553n9e2Va9"
      }
    },
    {
      "cell_type": "code",
      "source": [
        "gakka = {\"Ouka\":75 , \"Denshi\":99 , \"Josisu\":94}\n",
        "print(gakka[\"Josisu\"])"
      ],
      "metadata": {
        "id": "ugpLSuFP2WUt",
        "colab": {
          "base_uri": "https://localhost:8080/"
        },
        "outputId": "341b13e1-d9dd-4a04-8f6f-addd47dc8b13"
      },
      "execution_count": 2,
      "outputs": [
        {
          "output_type": "stream",
          "name": "stdout",
          "text": [
            "94\n"
          ]
        }
      ]
    },
    {
      "cell_type": "markdown",
      "source": [
        "### ディクショナリ要素の追加と変更\n",
        "ディクショナリの追加と変更は全く同じ構文を使います。  \n",
        "\n",
        "![pp_04_3.png](data:image/png;base64,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)  \n",
        "![pp_04_4.png](data:image/png;base64,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)"
      ],
      "metadata": {
        "id": "53PWmQl6z2XU"
      }
    },
    {
      "cell_type": "markdown",
      "source": [
        "以下のコードは、一年生の人数を追加し、電子光工学科の人数を変更するプログラムです。"
      ],
      "metadata": {
        "id": "GjmHF3AE0BLj"
      }
    },
    {
      "cell_type": "code",
      "source": [
        "gakka = {\"Ouka\":75 , \"Denshi\":99 , \"Josisu\":94}\n",
        "gakka[\"Kyotuu\"] = 258    #ディクショナリの要素を追加\n",
        "gakka[\"Denshi\"] = 90    #ディクショナリの要素を変更\n",
        "print(gakka)"
      ],
      "metadata": {
        "id": "gjN5_N260Cw1",
        "colab": {
          "base_uri": "https://localhost:8080/"
        },
        "outputId": "8a6edd6f-50ac-480b-ec90-59b08340b635"
      },
      "execution_count": 3,
      "outputs": [
        {
          "output_type": "stream",
          "name": "stdout",
          "text": [
            "{'Ouka': 75, 'Denshi': 90, 'Josisu': 94, 'Kyotuu': 258}\n"
          ]
        }
      ]
    },
    {
      "cell_type": "markdown",
      "source": [
        "### ディクショナリ要素の削除\n",
        "ディクショナリの要素を削除するには、**del文**という特殊な構文を用います。  \n",
        "\n",
        "![pp_04_5.png](data:image/png;base64,iVBORw0KGgoAAAANSUhEUgAAAVEAAAA2CAIAAADxkj1DAAAAAXNSR0IArs4c6QAAAARnQU1BAACxjwv8YQUAAAAJcEhZcwAADsMAAA7DAcdvqGQAABNBSURBVHhe7V1dbJvVGf6aG3rVcTE0abA6mdN4pfzUnhSYNrCquIGlk5hQ5H5X1FHSdWpQI21rZRZHFOKsWaPRJVsjCs5ioTE+rFCBRCqROqrMJgG5iNtqXZZgN/EFEhM3ozcrV937nnO+n/P9+fNnJ03S8+hA7ZPv5/y97/u87/nxjjt37kgCAgL3DDiZv337tqIo165eLRaLhY8/ZrkCAgJbENGnn967d+/j+/fLsnz//fezXKPMf/rpp7889otHQ6FH2kKPPrz3qSeeoPkCAgJbEX//7LOV8s1/Li//Y2HhjxMTzz77LM1nMn/u3Dnl7b9O/u5MW/D79A8CAgLbA//56qvjL/32R0899cqrr8LXJvgPLDwIfP7dd4XACwhsP3zngQfey7y5dO2a8s478LUJfPjEkSN/+cNr9M8+URiKxbPlSmEgPjTHsupAJRtr3ROLxwcKLENgQ0Haf1fr0FyFZQhsA7x2+uXTL7/85ZdfNr3++uuxn/x490MPsr/4QzS2b3FkYq05JClns/WOlPKVSwuStLAohZpZjgMqk3FQDUOThUqZ5awf8F27QBJSznqoMIQXgKiw7xo83OsOJoReUnzStvkdy2YD2v5SJBgM0AwLKtmBeDyG1aFVIy/FQmKm2heFAXgjWALts57UYoCp0HKEfllnfGvXrp54/Pejo01Xi8VHQj9g2Y5QR61jykty+MaqdLxflkpr9UlgYSJdJB+KyQ7TWzixKRcyyUVQDUqyNxZGXoDCz/62hVCpzGWBJel1RIKT1STHH0wytmdXr0LylW5TPhM/rn/DtP0XR6BVtUxOXwRapMXignLeqF/m3hxZkIr7DjZ/hI+yUy6RweL8YDt8kGOdEtQ6DqUC5dIeCWPBOuqvtUAVPPrw3mKx2HT16lX4xPLqwKF0Lp8ISNHhfDoaZHkOAIOAvN1ePudSfdPsYxUEo8O3Svni1GAPDhom/Kph2Roog7R3xLrTCpAaDQuLxel0X7jV0ESBRL70+S2W8qMRyAqPzn9+i4lQRv0TpNxxNM7RcT2HpCkZnyPJM6b80nAn+UONiJ5IhaVISFpbYxlSYXYFpfpElH23x1oZhVzKx1qh1kUpIo9O5fO5XDElt0u01ntiWeHRrRce27v32rVrTdeuX4dPLM8RgeM501gxJc9DBwS+YwSGNZACGxSGuqlB4sYxpEwPyW5vNdH9QDCaGM/l4JrilAwWo6c/4aBxqlGVDVcWcymwqNTQyTNQeMxDmSzOZ3pQqovTvbGY5igxcg4pBuyGkSBoSfio9Gm10CIgZbCiaiYmBzuvXq/37wxTDqb2h8R1cTCRu5UbPh7VuiM6Dk/IOTU+Q3l1GR596ihcFW6HOlI1jcwC2iHcI0MjhJ8/4K42BPwD6P1/v/4a4/YbhnKBCDx8kjNICniUYVjToQkkMM13fCFPjf++FnYXjmnkwFnNDwSzDxZjvCEDRhcwLVFJ4wSMJn+BRig/1W7tKTB0KE7YLATBAMhPnsreQjrDkWQURXs7z2RVBcqkUWId7LypubRSqdXUowMkQBtXdZCmQA0KiL/eDuXZS2Dbg0GkLbk80TK02NAIwFDG08OQT3iKwDrCi8xXdeb1pNslMypzqXi4lwm8WaTJaAszgZdnLOZi7jIdiWE1qlf5CEYPcuCRbhxtJHRkfnNlMmV0EZ2pCpWcDQWLWaDAG3UfyAP7FOhMU2rjKyZq1VmO/rxBZxWGjrFIigYQ5qFJcEDAFHf0TYMPz+ugnimtGakm8oDFsnDa7y42wM6TGBX4bwob5besDn9hiMWNwMITo8ejMEtHbKTrGSYgIMD5GdWTh6G5oPSFOziTW86eTCqgFM5/VLvISBgp0EYzP6YtpNcPs2C0RT6lCjxTam0thpZpDpE3LpQ0n5maX3tuz+wzBS0/+gjy6LxacmhbtKvgh6MXbSo/kKwYiaiBYu1JZeBKvB2/KknigCAblwdn5rneme7VdIfKg9wQPNEPZl2ZLehWhBZ7IY0MH9OWCsdsUXiReRsLWUxRYTNzRYPVqgCTBzYIowFjVCxTJ+ccosMwFnGo2TmEWlSP99UDnZonP58ZhaEsZ3Txq2SZyZL7Na4I/jMbWKZEJWcDwSQcw9cUldIK/tNz0Fl/aGqIsRLC7Q0tTxOvgFZvgMPcgdLYDtwql5CQugM/Wl5evRKLG3g46Fwq8BGQ6tx4opkEF9VgKjAvfFcun0508r1Xs52PxkCPTF9eM4UPCLcnOdUiAgL1w6edL5eoWda4qAmgyGPA5IEN4jc0LBn3MdGZhqFmF/DXonrOMWFwgI+nc0Af2HcaJoQP1riAf6wtEztmCSJ6QOXKRbt79a/sAs1z4YCXGbk601B2E5kk6WQH3GZmq6WFlfwE+FaoB0FZjB0qYRg12aGKPdG5KHg5kGrw26maDjMa1RYziXq9WFktS/CWPbFUtsSy1sARE0Z+Y+BP5lWyzXFRIwLPdBEOSVkiF+CtAXpUDwjFmBcLQGZ9mcCb4wKdaWZbzMmDP1/OnidGL/z8Aefhz0yx2TchE9cA/d5gK5lcVEk7u8BASRBk9UGVNzpB0xGarV5UpolvRZQF+FnkI35mYg86l3A0UNbgtxNeUMqd6CJXOaNGbq8D23NRWpBaWlkGKAIgICMTvgKiAjWhdpnH+C0dSeHRo45WlM3l2JpuL6gUQPGzqB6apuFqpgZciaEYGijKLGzjAj4BT2aegh5Q8AiMXDIBM4h0sCWE/yj5OfJwcgHXmDjBwSKa5I0qsWcuFeFNM/N50Kc4Q4lZYY1mc/Q+QqbEgCywwAc6UDNT+SK9NwUuepcudQCqaCKDF6ousiDQXmrg9tQTtGt8XORDR86ls5Rx6FVuxtVcoETOC1O/7qhF5is4gtHNIxq9Z2o9plXUKEBHX5LG/ORBMDgOL6qUcREbixqgR0oMY88UclSfuoYHLQzzdYFreHsslApuRLKqRi7NUxXRPiIhGEWneq09NQZ1JNXBNXlsgsPmjSHg2+2Skuzt6+7A1YeqHx4KSYZFbNFhkGqMcbbhEmaU4bEuymVCLdLs+Vj4ZGYiWyi3jF04yrnoZP4cQ+s08Mkm/BrlH2HJ8f+4hk+tsg7aJosjx+peuy3gjh3wH/Qr/eIGzUkGgJ3p7zserUni0cMHGwKWwTnQza5hcH+LsTwMYMT6Tzgyi8IAMzIOQGrACRhOH1LzTlTPhbQXgbe+BXTQ2LhNLbTK0gskru7mN/It4wKqXAwlB8CjTh2UzqIeCY9OjbVePsk0EQHfI9VaSc4QFcD15lxKmzUARgYK2vAQ1qokR23hcnboWCl24WBe5XHqnCX06cnyqbGqnE7AP8AR82znAweej+CKMZzmQf98PbqFRgFIAH+eRgGc30LKQ7griRqQwLJ9FNAvgon+HjZB9Xnek8ADoodoIBpqgTeSpSb2tdBmQ+gFpO64Ok2m1effGGhtY59IlXHJGtB7UmtIuAAZZy4i8gzh5KTkIOpsTg7j7Vo4pTkArju9pQc61DjZgYiOl/IzKVzRaBfjsM3UAZ4C7/uEe7oOWNstmOAXaEfUOctAApcnOfe5QEPg2c4LCAhsfdRi5wUEBLYFhMwLCNxb2IIyX8nGbLdnCwgIeMCWkvnCEC7VCiROyQ04jUdAgAPaEvd9gdsEjZL5Cu6a8HD2Ey56931EVLRvVMKlWp1HB6VLV+pfvEFW4G82ylAYqLI/1+WCavca1/BaFrqS7cm2S2Kwc9XHko62eQjNb6TMQO84b9OsF1hZm3EYam34rEGDVQnX/q7jxBGby85jT2jjySZlWvvl6csFMqnjcfLMBbiCuD3VV225HgpSY0fzXYW6LYo1INTOWjWaaRR1Dj1k+d2MLLWrU3FzqVhSGixOhZId9jq0Ll3feOBe7PbWVe4EMVzuwe01bozGCbTsk4rLhr2R9UGb4mU7KXxgc8m8+aQHcxrujA43alkY3a6n7+I0Js7c0XOmxqST1j9tA0RPpKTkSa5SuBjetPjfBqAx2V4A0NTdClkyGB0uppa7HaiTx+1JhHxh6lasvWOned3iO7YaDW65cnERCp/gThDDbRfcPlHrsS4cUSLJo14wbEyg6W6akC0Yw/MMHD1OIkpWuVN7ZUqmA2dUqPp1TDrml1NtTuACHm5zS2EiLbnspGAo5KfJXgBo5PClrqK6wB619pQE1pJvIrZZ2AvUrVC4gN/SQXarsMkZew4gGs1CPXBTE7d1glA53s6buxg1y55dvRIeXpbCjdu0SKdKqJUMF/O+DyY0LfpmYZeKbBTqkHnaCixZVoa6uo4bAGJ8wqP2u/EKA70Kt99eBxmdjvsFyVox93MyLKaAS0Z+a38lDhGLWVhXLYNExlAj+Fp9RM5dVoDYl1N7zrYOgsrgTsjFtpWlXnOZ7Y9OcMTa8qL95mIbOO7pBh00NhrhI76V7FlQ93gWg9F5MVp4y1kA0FMdI/tQAaFqK5fAL2AlQw01P3hDr6z1sAl8Gnfwyd2GX5nXW0GvmAZ0y3uXtUMdZtpGwl7E3l1auFQl8IbGB4wVrv1mOQaAUidrv219BLKVXTu7gsYXavPrtMMtLEk9aESF/ZXop1kJiJuWqQ9aDAWX6GvSW833xjBqOiOlgQCrDNnIjdPDvB6pHZXVG2pETSuhMWmdgvuCXHQ0CGG/bDzSi+5cxqgQB6MnzxswsG29CvSIWh0LZwEzMCVP9zqNScO66c0BfzJfmTyvAF1x6FQ87M246w7GR7uXrdG2MoCHN5pP47HfqsmAPA3dS3tjRQQeiJlDCJD8nIN8SKvXgTEQwn3Mq3TywfCN62mH1x/8gV9m3WSL2mZM2YkjNQAYu3qOkG2Ux8bZdgIezqPM0g4iRl7dWWyEo51HHcFRQqyLmbPgK5ZLLo2Bx4RsFviSeRYCcWh0POyNZ2VkP8yN1VqspS+Q8A9wY+g/W6WAAi+BCXWMAqK2MkbygwGoI43hQepf7rDxUzAWWPVcd+9A+7bh4A/zNe7Jc0GwNbxQuqK7r6a4d00OHVA8/nr0HbzF/DwANz4Rw16ZPInk9EK1s0AMwFAlF93ADrI6Hc2hiGNwHo9IMf9ACCZKVWxZjDU10Kj4knm3qAmF6eQmb/tA7YDMzdlbU4GWFl7UvaL+Uoo9TI6rGSSSr59LaQERfp4ggJYxRw2cPRRPsoRt69mPNcGqbT3Ch51naNHdV1Pcu4bJVEIbuR14+qRAVbADSDRY1AcApQ4tLTrbDgPAgdsbXAwKZII2R6cwImMrwKTfrVyVUZVqc1UsuYzbWuFL5puD7nsqXWpYI8iZ1i7eGhOwvhs0LlrDODMDeotE8l28BhMwAoQCb4oaePfn7YDHY1Y5jcdRc3m41wG+7LwaysJ2MIQ8bGf12Rm+9ihkkou8qlUnBeiXKq4TjEYFTxyioMFF0zBAvVDljG1Hbs+DTOxbNwirxt9egNmPC2wW+JJ592UGRvepTuBocDuBSxMwXwpFBwg8DHRDnKYacM4CrAEMlOoh7hpAZxAdf4rHFfXca2/nna3iZVS13QoKKp4pLg1e0NsfY2aWgBbGsSxhMwISIeNXRqHZ1yuC8u/qOqHnaHTXXZha7cChbnDUreqJgPj87isaXL39jYW/GB7+XJmxX7HjdfZO/8pFvIAD1+yQgA3H0cCfoNRwkBlHEuT3JvB0hrJjREJm4Z0UeAAZ/Q4ziFWAlBLbyimq2mgcpKp2uBN/mCBkPsALT9FVuvnIP8ZxlT7TDAgWm7Qkp7JBriReyKuYaE3LUHfdrlPQNrh3llPcPnpILibfJHUhHWRlgsS/w9NK2HcrqvPiDYU/mUcOQ1ZcsWY6JvUb6RAynPmuiwaXHjztGqJcVK7IBEmdBtwFzPVi0lvNXNMi6dc7Fow91i45c2YSj6BPrm2VIQtkUJ21fm3lgMIAzsjayBL+CA//q7VkXYM2A6I2CC7mMRWbN/IAtrZPv0tNBirBrokl2/xoTLhfDdPqSXtOZzo/ukJ8HzI5bXw+iRnTSaKq2r+By2/rxaY7J6dmmm0CCGdH+ZR7HxAGQVy4ql0F3inT+v6L5A5aGGDXtUg7sS3kU0034rskU62xwUv99CG08eEDO6AOdQquEVIPuoMP2CDL/XxTsPbUTr/b7FCr3Ox+yqDaCFaoo8JrfbEZpQaPH5/PBCW1I7B79+xbb+1+6EGWJ7CNYSfzAlsTfmT+9jff7I78sGn//v3Xl/7F8gS2P1THtab5c4HNApwWIa4N5V+1YeXmzVAotOPMmTNfVSqnf/Nrli0gILBNMfW3d5a/+KJJluXZ+Xkw+ixbQEBgm+KdD94/kkg0NTc3J1966VenX2HZAgIC2xFn/vTnnx762ZNPPrnjzp078P3nzz0XfPC7yRdf3HnfffQKAQGBbYNzb7yxuPRvJZfbuXMnm59//4MPvv293bHD8tvvXby+tEQzBQQEtjRWyjdnPvwwdvjw/3Y0UYHHXLDzGpaWlo688MLjjz1GrhcQENjaCLW1HY7HP/nkEybhBIzbCwgI3CPwufZWQEBgi0LIvIDAvQUh8wIC9xaEzAsI3FsQMi8gcG9ByLyAwL0ESfo/KiSEhUYjwfEAAAAASUVORK5CYII=)"
      ],
      "metadata": {
        "id": "ofJiT0bC0EuD"
      }
    },
    {
      "cell_type": "markdown",
      "source": [
        "以下のコードは、応用化学生物学科の人数を削除するプログラムです。"
      ],
      "metadata": {
        "id": "avYBaWD50RtL"
      }
    },
    {
      "cell_type": "code",
      "source": [
        "gakka = {\"Ouka\":75 , \"Denshi\":99 , \"Josisu\":94}\n",
        "del gakka[\"Ouka\"]\n",
        "print(gakka)"
      ],
      "metadata": {
        "id": "fYTVxQSe0TrL",
        "colab": {
          "base_uri": "https://localhost:8080/"
        },
        "outputId": "5f0be583-6319-46ee-dfc1-5e4d7824fd71"
      },
      "execution_count": 4,
      "outputs": [
        {
          "output_type": "stream",
          "name": "stdout",
          "text": [
            "{'Denshi': 99, 'Josisu': 94}\n"
          ]
        }
      ]
    },
    {
      "cell_type": "markdown",
      "source": [
        "### ディクショナリとメソッド"
      ],
      "metadata": {
        "id": "YL9GkKt4QFNj"
      }
    },
    {
      "cell_type": "markdown",
      "source": [
        "\n",
        "ディクショナリ型にも、リスト同様にメソッドが準備されています。  \n",
        "リストと同じメソッドを使えることが多いです。  \n",
        "\n",
        "[こちら](https://www.javadrive.jp/python/dictionary/)のページには紹介していないメソッドもあります。"
      ],
      "metadata": {
        "id": "D6B0JQZK0V7z"
      }
    },
    {
      "cell_type": "markdown",
      "source": [
        "以下のディクショナリを元にメソッドを適用させましょう。  "
      ],
      "metadata": {
        "id": "zir5sUIuUzSx"
      }
    },
    {
      "cell_type": "code",
      "source": [
        "gakka = {\"Ouka\":75 , \"Denshi\":99 , \"Josisu\":94}"
      ],
      "metadata": {
        "id": "3XuKrAWt0YhD"
      },
      "execution_count": 5,
      "outputs": []
    },
    {
      "cell_type": "markdown",
      "source": [
        "#### キーをすべて取得\n",
        "ディクショナリに入っているキーをすべて取得するには、**`keysメソッド`**を使います。  "
      ],
      "metadata": {
        "id": "PVOZMTgBQNoH"
      }
    },
    {
      "cell_type": "code",
      "source": [
        "print(gakka.keys())"
      ],
      "metadata": {
        "id": "oIxDy4-s0ePi",
        "colab": {
          "base_uri": "https://localhost:8080/"
        },
        "outputId": "dde32888-55cb-44d6-b3f6-3a57073cff1c"
      },
      "execution_count": 6,
      "outputs": [
        {
          "output_type": "stream",
          "name": "stdout",
          "text": [
            "dict_keys(['Ouka', 'Denshi', 'Josisu'])\n"
          ]
        }
      ]
    },
    {
      "cell_type": "markdown",
      "source": [
        "for文を用いることで、キーを取り出すことができます。"
      ],
      "metadata": {
        "id": "tp5dYXaI0fwa"
      }
    },
    {
      "cell_type": "code",
      "source": [
        "# 辞書に入っているkeyをfor文で取り出す\n",
        "for key in gakka.keys():\n",
        "    print(key)"
      ],
      "metadata": {
        "id": "xIcTtDyz0hny",
        "colab": {
          "base_uri": "https://localhost:8080/"
        },
        "outputId": "e9d66b17-0a0b-4801-d107-5393b1ddc3db"
      },
      "execution_count": 7,
      "outputs": [
        {
          "output_type": "stream",
          "name": "stdout",
          "text": [
            "Ouka\n",
            "Denshi\n",
            "Josisu\n"
          ]
        }
      ]
    },
    {
      "cell_type": "markdown",
      "source": [
        "#### 値をすべて取得\n",
        "反対に、値をすべて取得したいときには、**`values`メソッド**を使います。"
      ],
      "metadata": {
        "id": "zko3I9EBRMAt"
      }
    },
    {
      "cell_type": "code",
      "source": [
        "# 辞書に入っているvalueをすべて取得\n",
        "print(gakka.values())"
      ],
      "metadata": {
        "id": "WJhi8VPl0p3J",
        "colab": {
          "base_uri": "https://localhost:8080/"
        },
        "outputId": "a05a5f8d-7cb5-409f-be5a-72b66e099f30"
      },
      "execution_count": 8,
      "outputs": [
        {
          "output_type": "stream",
          "name": "stdout",
          "text": [
            "dict_values([75, 99, 94])\n"
          ]
        }
      ]
    },
    {
      "cell_type": "markdown",
      "source": [
        "for文を用いることで、値を取り出すことができます。"
      ],
      "metadata": {
        "id": "Friz_St60uDx"
      }
    },
    {
      "cell_type": "code",
      "source": [
        "# 辞書に入っているvalueをfor文で取り出す\n",
        "for value in gakka.values():\n",
        "    print(value)"
      ],
      "metadata": {
        "id": "K4Vb-yRT0v-h",
        "colab": {
          "base_uri": "https://localhost:8080/"
        },
        "outputId": "84cedb9e-2dbc-4033-cb18-23a66c7ffd34"
      },
      "execution_count": 9,
      "outputs": [
        {
          "output_type": "stream",
          "name": "stdout",
          "text": [
            "75\n",
            "99\n",
            "94\n"
          ]
        }
      ]
    },
    {
      "cell_type": "markdown",
      "source": [
        "#### キーと値をすべて取得\n",
        "キーも値も取得したいときには、**`items`メソッド**を使います。  "
      ],
      "metadata": {
        "id": "inCJjg1iRe6N"
      }
    },
    {
      "cell_type": "code",
      "source": [
        "# 辞書に入っているkeyとvalueをすべて取得\n",
        "print(gakka.items())"
      ],
      "metadata": {
        "id": "KuEUCtzh0165",
        "colab": {
          "base_uri": "https://localhost:8080/"
        },
        "outputId": "a74d16a3-a6b2-4742-c39e-138247ac541d"
      },
      "execution_count": 10,
      "outputs": [
        {
          "output_type": "stream",
          "name": "stdout",
          "text": [
            "dict_items([('Ouka', 75), ('Denshi', 99), ('Josisu', 94)])\n"
          ]
        }
      ]
    },
    {
      "cell_type": "markdown",
      "source": [
        "for文を用いることで、値を取り出すことができます。"
      ],
      "metadata": {
        "id": "XdAsgK0T04j4"
      }
    },
    {
      "cell_type": "code",
      "source": [
        "# 辞書に入っているkeyとvalueをfor文で取り出す\n",
        "for key, value in gakka.items():\n",
        "    print(key, value)"
      ],
      "metadata": {
        "id": "H-4oK84y07LQ",
        "colab": {
          "base_uri": "https://localhost:8080/"
        },
        "outputId": "c7db1f36-f18d-416c-dc45-75fab604f699"
      },
      "execution_count": 11,
      "outputs": [
        {
          "output_type": "stream",
          "name": "stdout",
          "text": [
            "Ouka 75\n",
            "Denshi 99\n",
            "Josisu 94\n"
          ]
        }
      ]
    },
    {
      "cell_type": "markdown",
      "source": [
        "#### メソッドを使った値の取得\n",
        "キーを指定した値の取り出し方法は、以下のように書きました。"
      ],
      "metadata": {
        "id": "bbV49i-a09SQ"
      }
    },
    {
      "cell_type": "code",
      "source": [
        "gakka = {\"Ouka\":75 , \"Denshi\":99 , \"Josisu\":94}\n",
        "print(gakka[\"Josisu\"])"
      ],
      "metadata": {
        "id": "B6hl6pD_3PHL",
        "colab": {
          "base_uri": "https://localhost:8080/"
        },
        "outputId": "3fe8f30f-eaac-4b28-d1ec-2c4d7adddb95"
      },
      "execution_count": 12,
      "outputs": [
        {
          "output_type": "stream",
          "name": "stdout",
          "text": [
            "94\n"
          ]
        }
      ]
    },
    {
      "cell_type": "markdown",
      "source": [
        "これをメソッドを使って書くことも可能です。"
      ],
      "metadata": {
        "id": "7xSAS0qx3WpR"
      }
    },
    {
      "cell_type": "markdown",
      "source": [
        "**`get`メソッド**を使うと、以下のように辞書内の要素を取得できます。"
      ],
      "metadata": {
        "id": "5bUVnMVq3YLp"
      }
    },
    {
      "cell_type": "code",
      "source": [
        "# 元の辞書\n",
        "print(gakka)\n",
        "\n",
        "# \"Josisu\"に該当するvalueを、get()を使って取得\n",
        "print(gakka.get('Josisu'))"
      ],
      "metadata": {
        "id": "YVzVAcGD3jGi",
        "colab": {
          "base_uri": "https://localhost:8080/"
        },
        "outputId": "88c816bf-c57f-461b-d5f9-8dce2ab18086"
      },
      "execution_count": 13,
      "outputs": [
        {
          "output_type": "stream",
          "name": "stdout",
          "text": [
            "{'Ouka': 75, 'Denshi': 99, 'Josisu': 94}\n",
            "94\n"
          ]
        }
      ]
    },
    {
      "cell_type": "markdown",
      "source": [
        "**`get`メソッドと`d['key']`の違いは、該当するkeyがなかったときの処理方法です。**   \n",
        "\n",
        "たとえば、今回辞書に入っていない`\"Kyotuu\"`を指定してみましょう。\n",
        "\n"
      ],
      "metadata": {
        "id": "-o_s7bys4JFW"
      }
    },
    {
      "cell_type": "code",
      "source": [
        "# \"Kyotuu\"に該当する値を、get()を使って取得する\n",
        "print(gakka.get('Kyotuu'))"
      ],
      "metadata": {
        "id": "lwapX_B64V9u",
        "colab": {
          "base_uri": "https://localhost:8080/"
        },
        "outputId": "8a426b37-c2f4-4621-cd71-b698841458bf"
      },
      "execution_count": 14,
      "outputs": [
        {
          "output_type": "stream",
          "name": "stdout",
          "text": [
            "None\n"
          ]
        }
      ]
    },
    {
      "cell_type": "markdown",
      "source": [
        "取得結果は、`None`になっています。\n",
        "\n",
        "では、`gakka['キー']`の形で取得してみましょう。"
      ],
      "metadata": {
        "id": "nmpuT2cv4SCn"
      }
    },
    {
      "cell_type": "code",
      "source": [
        "# \"Kyotuu\"に該当する値を取得する\n",
        "print(gakka['Kyotuu'])"
      ],
      "metadata": {
        "id": "0uNkCuIQ4kRF",
        "colab": {
          "base_uri": "https://localhost:8080/",
          "height": 188
        },
        "outputId": "8b2bb4ce-a0e9-474c-88ab-000dd48748fc"
      },
      "execution_count": 15,
      "outputs": [
        {
          "output_type": "error",
          "ename": "KeyError",
          "evalue": "ignored",
          "traceback": [
            "\u001b[0;31m---------------------------------------------------------------------------\u001b[0m",
            "\u001b[0;31mKeyError\u001b[0m                                  Traceback (most recent call last)",
            "\u001b[0;32m<ipython-input-15-dfeefb44e343>\u001b[0m in \u001b[0;36m<module>\u001b[0;34m\u001b[0m\n\u001b[1;32m      1\u001b[0m \u001b[0;31m# \"Kyotuu\"に該当する値を取得する\u001b[0m\u001b[0;34m\u001b[0m\u001b[0;34m\u001b[0m\u001b[0;34m\u001b[0m\u001b[0m\n\u001b[0;32m----> 2\u001b[0;31m \u001b[0mprint\u001b[0m\u001b[0;34m(\u001b[0m\u001b[0mgakka\u001b[0m\u001b[0;34m[\u001b[0m\u001b[0;34m'Kyotuu'\u001b[0m\u001b[0;34m]\u001b[0m\u001b[0;34m)\u001b[0m\u001b[0;34m\u001b[0m\u001b[0;34m\u001b[0m\u001b[0m\n\u001b[0m",
            "\u001b[0;31mKeyError\u001b[0m: 'Kyotuu'"
          ]
        }
      ]
    },
    {
      "cell_type": "markdown",
      "source": [
        "このように、KeyErrorになってしまいました。\n",
        "\n",
        "それもそのはずで、ディクショナリに`\"Kyotuu\"`は登録されていないからです。"
      ],
      "metadata": {
        "id": "gjT3G_S_5Pbj"
      }
    },
    {
      "cell_type": "markdown",
      "source": [
        "**`get`メソッド**と**`d[key]`**の違いは、ここにあります。  \n",
        "- **`get`メソッド**：指定したキーがないと、Noneを返す\n",
        "- **`d[key]`**：指定したキーがないと、エラーになる"
      ],
      "metadata": {
        "id": "xEAol30K5adC"
      }
    },
    {
      "cell_type": "markdown",
      "source": [
        "「もし存在するのであれば取得する。なければ、ない(=`None`)という事実を取得する。」  \n",
        "といった場合には、**`get`メソッド**を使いましょう。"
      ],
      "metadata": {
        "id": "KT9RVfFQ5vxS"
      }
    },
    {
      "cell_type": "markdown",
      "source": [
        "## セット\n"
      ],
      "metadata": {
        "id": "rp1NmBtSBvLB"
      }
    },
    {
      "cell_type": "markdown",
      "source": [
        "セットは、数学の集合と同じ意味です。  \n",
        "使用頻度はそこまで高くないです。  "
      ],
      "metadata": {
        "id": "ClJOjMvDXmhc"
      }
    },
    {
      "cell_type": "markdown",
      "source": [
        "### セットの作成\n",
        "\n",
        "![pp_04_9.png](data:image/png;base64,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)  \n",
        "\n",
        "リストと異なるのは以下の4点です。"
      ],
      "metadata": {
        "id": "OUODdN2j8qKx"
      }
    },
    {
      "cell_type": "markdown",
      "source": [
        "①重複した値を格納することができない  \n",
        "②添え字やキーという概念がなく、特定の要素に対して代入・参照する方法が存在しない  \n",
        "③添え字がないため、要素が順序を持たない  \n",
        "④`append`メソッドの代わりに**`add`メソッド**で要素を追加する"
      ],
      "metadata": {
        "id": "0T1XGc2A9nd2"
      }
    },
    {
      "cell_type": "markdown",
      "source": [
        "セットを作成してみましょう。"
      ],
      "metadata": {
        "id": "SoOX41pA-xhG"
      }
    },
    {
      "cell_type": "code",
      "source": [
        "# 1, 2, 3, 4, 5を格納した集合をaに入れる\n",
        "a = {1, 2, 3, 4, 5}\n",
        "\n",
        "# aを表示\n",
        "print(a)\n",
        "\n",
        "# aの型を確認する\n",
        "print(type(a))"
      ],
      "metadata": {
        "id": "XPkDg-um-7W6",
        "colab": {
          "base_uri": "https://localhost:8080/"
        },
        "outputId": "ec30dcd9-dcd8-4c09-a778-9d561d3dee14"
      },
      "execution_count": 16,
      "outputs": [
        {
          "output_type": "stream",
          "name": "stdout",
          "text": [
            "{1, 2, 3, 4, 5}\n",
            "<class 'set'>\n"
          ]
        }
      ]
    },
    {
      "cell_type": "markdown",
      "source": [
        "他のセットも作成してみましょう。"
      ],
      "metadata": {
        "id": "IOcenPfi-EaM"
      }
    },
    {
      "cell_type": "code",
      "source": [
        "# 2, 3, 4, 5, 7, 9を格納した集合を、bに格納する\n",
        "b = {2, 3, 3, 4, 5, 7, 9}\n",
        "\n",
        "# bを表示する\n",
        "print(b)\n",
        "\n",
        "# bの型を確認する\n",
        "print(type(b))"
      ],
      "metadata": {
        "id": "tlZfWaM__Amx",
        "colab": {
          "base_uri": "https://localhost:8080/"
        },
        "outputId": "9cb7ef8b-9812-40bd-80bf-91784e037897"
      },
      "execution_count": 17,
      "outputs": [
        {
          "output_type": "stream",
          "name": "stdout",
          "text": [
            "{2, 3, 4, 5, 7, 9}\n",
            "<class 'set'>\n"
          ]
        }
      ]
    },
    {
      "cell_type": "markdown",
      "source": [
        "重複が削除されたことが確認できました。"
      ],
      "metadata": {
        "id": "tWOswgMN_FRi"
      }
    },
    {
      "cell_type": "markdown",
      "source": [
        "### セットとメソッド"
      ],
      "metadata": {
        "id": "x5u4izOnaYdd"
      }
    },
    {
      "cell_type": "markdown",
      "source": [
        "セット型にも、リスト同様にメソッドが準備されています。  \n",
        "リストと同じメソッドを使えることが多いです。  \n",
        "\n",
        "[こちら](https://www.javadrive.jp/python/set/)のページには紹介していないメソッドもあります。"
      ],
      "metadata": {
        "id": "tOJDwaY0ad3O"
      }
    },
    {
      "cell_type": "markdown",
      "source": [
        "#### 要素の追加"
      ],
      "metadata": {
        "id": "pegZF7O3amkX"
      }
    },
    {
      "cell_type": "markdown",
      "source": [
        "作成したセットに要素を追加するには、**`add`メソッド**を使います。  \n",
        "セットの末尾に値が追加されます。"
      ],
      "metadata": {
        "id": "gfaCY4qFaqx8"
      }
    },
    {
      "cell_type": "code",
      "source": [
        "gakka = {\"Ouka\", \"Denshi\", \"Josisu\"}\n",
        "print(gakka)\n",
        "\n",
        "gakka.add(\"Kyotuu\")\n",
        "print(gakka)  # 要素の追加\n",
        "\n",
        "gakka.add(\"Denshi\")\n",
        "print(gakka)  # 同じオブジェクトを追加しても、特に変化しない"
      ],
      "metadata": {
        "colab": {
          "base_uri": "https://localhost:8080/"
        },
        "id": "L30xVkgsa3M0",
        "outputId": "36c95704-dcc5-4aff-9536-30be8a08c598"
      },
      "execution_count": 18,
      "outputs": [
        {
          "output_type": "stream",
          "name": "stdout",
          "text": [
            "{'Denshi', 'Ouka', 'Josisu'}\n",
            "{'Denshi', 'Ouka', 'Josisu', 'Kyotuu'}\n",
            "{'Denshi', 'Ouka', 'Josisu', 'Kyotuu'}\n"
          ]
        }
      ]
    },
    {
      "cell_type": "markdown",
      "source": [
        "#### 要素の削除"
      ],
      "metadata": {
        "id": "TFFUExz7bbgV"
      }
    },
    {
      "cell_type": "markdown",
      "source": [
        "**`remove`メソッド**を使うと、オブジェクトを指定して要素を削除できます。"
      ],
      "metadata": {
        "id": "X2a8tmmgbkT0"
      }
    },
    {
      "cell_type": "code",
      "source": [
        "gakka = {\"Ouka\", \"Denshi\", \"Josisu\"}\n",
        "print(gakka)\n",
        "\n",
        "gakka.remove(\"Ouka\")\n",
        "print(gakka)  # 要素の追加"
      ],
      "metadata": {
        "colab": {
          "base_uri": "https://localhost:8080/"
        },
        "id": "SWxjfSBubk9c",
        "outputId": "64c516a0-73e0-415c-d91a-d315e75647f3"
      },
      "execution_count": 19,
      "outputs": [
        {
          "output_type": "stream",
          "name": "stdout",
          "text": [
            "{'Denshi', 'Ouka', 'Josisu'}\n",
            "{'Denshi', 'Josisu'}\n"
          ]
        }
      ]
    },
    {
      "cell_type": "markdown",
      "source": [
        "### 集合演算\n",
        "セットは確かに不便ですが、その特徴ゆえに**集合演算**という特別な機能が与えられています。"
      ],
      "metadata": {
        "id": "YbhFb5Rs_hjx"
      }
    },
    {
      "cell_type": "markdown",
      "source": [
        "#### 和集合\n",
        "`|`演算を行うことで、セットの**和集合**を求めることができます。  \n",
        "（和集合：複数の集合に含まれる全ての要素で構成される集合）  \n",
        "\n",
        "![pp_04_11.png](data:image/png;base64,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)"
      ],
      "metadata": {
        "id": "7OWKKEslBTNS"
      }
    },
    {
      "cell_type": "markdown",
      "source": [
        "先ほど作成した集合aとbの和集合を求めましょう。"
      ],
      "metadata": {
        "id": "Vy-84zGqCCNg"
      }
    },
    {
      "cell_type": "code",
      "source": [
        "# aとbの和集合\n",
        "print(a | b)"
      ],
      "metadata": {
        "id": "SJFYV4rKCFyw",
        "colab": {
          "base_uri": "https://localhost:8080/"
        },
        "outputId": "33c42492-9aaf-4fb8-bd3b-2bddee83ef24"
      },
      "execution_count": 20,
      "outputs": [
        {
          "output_type": "stream",
          "name": "stdout",
          "text": [
            "{1, 2, 3, 4, 5, 7, 9}\n"
          ]
        }
      ]
    },
    {
      "cell_type": "markdown",
      "source": [
        "#### 差集合\n",
        "`-`演算を行うことで、セットの**差集合**を求めることができます。\n",
        "（差集合：ある集合に含まれるが、他の集合には含まれないものを要素とする集合）  \n",
        "![pp_04_12.png](data:image/png;base64,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)"
      ],
      "metadata": {
        "id": "z8OEfwvDCUD_"
      }
    },
    {
      "cell_type": "markdown",
      "source": [
        "先ほど作成した集合aとbの差集合を求めましょう。"
      ],
      "metadata": {
        "id": "0IeYeLHNC1l9"
      }
    },
    {
      "cell_type": "code",
      "source": [
        "# bとaの差集合\n",
        "print(b - a)"
      ],
      "metadata": {
        "id": "sVY_EGflCTf_",
        "colab": {
          "base_uri": "https://localhost:8080/"
        },
        "outputId": "49bb4666-57ce-4a3b-c20b-aab0ba661753"
      },
      "execution_count": 21,
      "outputs": [
        {
          "output_type": "stream",
          "name": "stdout",
          "text": [
            "{9, 7}\n"
          ]
        }
      ]
    },
    {
      "cell_type": "markdown",
      "source": [
        "#### 積集合\n",
        "`&`演算を行うことで、セットの**積集合**を求めることができます。   \n",
        "（積集合：複数の集合に共通する要素で構成される集合） \n",
        "\n",
        "![pp_04_10.png](data:image/png;base64,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)"
      ],
      "metadata": {
        "id": "D-SKIDWAAYyt"
      }
    },
    {
      "cell_type": "markdown",
      "source": [
        "先ほど作成した集合`a`と`b`の積集合を求めましょう。"
      ],
      "metadata": {
        "id": "ZEvpSK_cBFir"
      }
    },
    {
      "cell_type": "code",
      "source": [
        "# aとbの積集合\n",
        "print(a & b)"
      ],
      "metadata": {
        "id": "RXOEkTF4BEwj",
        "colab": {
          "base_uri": "https://localhost:8080/"
        },
        "outputId": "d86c2575-b16a-4a19-a52e-e80ad41f1a7e"
      },
      "execution_count": 22,
      "outputs": [
        {
          "output_type": "stream",
          "name": "stdout",
          "text": [
            "{2, 3, 4, 5}\n"
          ]
        }
      ]
    },
    {
      "cell_type": "markdown",
      "source": [
        "#### 対象差\n",
        "`^`演算を行うことで、セットの**対象差**を求めることができます。   \n",
        "（対象差：それぞれの集合のみに存在する要素で \n",
        "構成される集合） \n",
        "\n",
        "![pp_04_13.png](data:image/png;base64,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)\n"
      ],
      "metadata": {
        "id": "EzTTAr1gDP2k"
      }
    },
    {
      "cell_type": "markdown",
      "source": [
        "先ほど作成した集合aとbの対象差を求めましょう。"
      ],
      "metadata": {
        "id": "vWWjSHd7Dpfi"
      }
    },
    {
      "cell_type": "code",
      "source": [
        "# aとbの対象差\n",
        "print(a ^ b)"
      ],
      "metadata": {
        "id": "ziq_5eNBDts1",
        "colab": {
          "base_uri": "https://localhost:8080/"
        },
        "outputId": "19b563d5-6da4-4eb0-ae61-6cd249dbd0e7"
      },
      "execution_count": 23,
      "outputs": [
        {
          "output_type": "stream",
          "name": "stdout",
          "text": [
            "{1, 7, 9}\n"
          ]
        }
      ]
    },
    {
      "cell_type": "markdown",
      "source": [
        "## コレクションの応用\n",
        "これまで4つのコレクションについて学んできました。  \n",
        "データの性質や使い方に合わせて、4つのコレクションを使い分けることが重要です。"
      ],
      "metadata": {
        "id": "Jlae35oSD3wC"
      }
    },
    {
      "cell_type": "markdown",
      "source": [
        "### コレクションの相互変換\n",
        "本格的なプログラムの開発では、プログラムの実行中に  \n",
        "違う種類のコレクションへと変換する必要に迫られることがあります。"
      ],
      "metadata": {
        "id": "fkSLrMZKEG2J"
      }
    },
    {
      "cell_type": "markdown",
      "source": [
        "Pythonでは、各コレクションの間での相互変換を可能にするため、  \n",
        "以下のような関数を準備しています。"
      ],
      "metadata": {
        "id": "is2SGEe4EmvY"
      }
    },
    {
      "cell_type": "markdown",
      "source": [
        "|関数|説明|注意|\n",
        "|:---:| :---: | :---: |\n",
        "|list関数|リストに変換|要素の順序は保障されない|\n",
        "|tuple関数|タプルに変換|要素の順序は保障されない|\n",
        "|set関数|セットに変換|重複が排除される|"
      ],
      "metadata": {
        "id": "H-y1TmHOE3N3"
      }
    },
    {
      "cell_type": "markdown",
      "source": [
        "ディクショナリへの変換は少し複雑です。  \n",
        "\n",
        "ディクショナリはキーと値の2種類の情報をペアで管理するコレクションであるため、  \n",
        "単一のリストやセットからは変換できません。  "
      ],
      "metadata": {
        "id": "E3RHHYgRGAL0"
      }
    },
    {
      "cell_type": "markdown",
      "source": [
        "**「キーを格納したリスト」**と**「値を格納したリスト」**の2つが存在する場合に限り、  \n",
        "1つのディクショナリに変換できます。\n",
        "\n",
        "![pp_04_14.png](data:image/png;base64,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)"
      ],
      "metadata": {
        "id": "r5l7HRfbHUSP"
      }
    },
    {
      "cell_type": "markdown",
      "source": [
        "上の3つの関数にディクショナリを渡すと、**キーだけが使われます**。 \n",
        "\n",
        "ディクショナリの値だけを使って変換したい場合は、  \n",
        "`ディクショナリ.values()`の結果を関数に渡しましょう。"
      ],
      "metadata": {
        "id": "eBs8bNS4HVtp"
      }
    },
    {
      "cell_type": "code",
      "source": [
        "gakka = {\"Ouka\":75 , \"Denshi\":99 , \"Josisu\":94}  #ディクショナリの作成\n",
        "\n",
        "list1 = list(gakka)  # ディクショナリgakkaのキーをリストに変換\n",
        "list2 = list(gakka.values())  # ディクショナリgakkaの値をリストに変換\n",
        "print(list1)\n",
        "print(list2)\n",
        "print(dict(zip(list1,list2)))  #「キーを格納したリスト」と「値を格納したリスト」を用いて1つのディクショナリに変換"
      ],
      "metadata": {
        "id": "uFvQN_fjHmdP",
        "colab": {
          "base_uri": "https://localhost:8080/"
        },
        "outputId": "424fcc4c-c94b-423c-faf3-246e8d7000e2"
      },
      "execution_count": 24,
      "outputs": [
        {
          "output_type": "stream",
          "name": "stdout",
          "text": [
            "['Ouka', 'Denshi', 'Josisu']\n",
            "[75, 99, 94]\n",
            "{'Ouka': 75, 'Denshi': 99, 'Josisu': 94}\n"
          ]
        }
      ]
    },
    {
      "cell_type": "markdown",
      "source": [
        "### コレクションのネスト\n",
        "コレクションの中に別のコレクションを格納することもできます。  \n",
        "多重構造のことを**ネスト**や**入れ子**といいます。"
      ],
      "metadata": {
        "id": "D-OtZuW3JOUp"
      }
    },
    {
      "cell_type": "markdown",
      "source": [
        "まずは、ディクショナリの中にディクショナリを入れた二重構造です。"
      ],
      "metadata": {
        "id": "TPKA6GwuJm0I"
      }
    },
    {
      "cell_type": "code",
      "source": [
        "gakka_2022 = {\"Ouka\":75 , \"Denshi\":99 , \"Josisu\":94}\n",
        "gakka_2021 = {\"Ouka\":80 , \"Denshi\":83 , \"Josisu\":90}\n",
        "gakka = {\n",
        "    \"2022年\": gakka_2022,\n",
        "    \"2021年\": gakka_2021,  # 要素を追加することも考え、「,」はつけた方がいい\n",
        "}\n",
        "print(gakka[\"2022年\"][\"Josisu\"])\n",
        "print(gakka[\"2021年\"][\"Josisu\"])"
      ],
      "metadata": {
        "id": "SUaTZtWbJ02v",
        "colab": {
          "base_uri": "https://localhost:8080/"
        },
        "outputId": "8f820cb0-ecab-4b8e-f8ec-ee482f79f835"
      },
      "execution_count": 25,
      "outputs": [
        {
          "output_type": "stream",
          "name": "stdout",
          "text": [
            "94\n",
            "90\n"
          ]
        }
      ]
    },
    {
      "cell_type": "markdown",
      "source": [
        "次に、ディクショナリの中にセットを入れた二重構造です。  "
      ],
      "metadata": {
        "id": "QsLHPeCtKauV"
      }
    },
    {
      "cell_type": "code",
      "source": [
        "Teacher_hobbies = {\n",
        "    \"石田\":{\"野球観戦\",\"お酒\",\"マンガ\"},\n",
        "    \"山下\":{\"台湾\",\"歌舞伎\",\"編み物\"}\n",
        "}\n",
        "print(Teacher_hobbies)\n",
        "print(Teacher_hobbies[\"石田\"])\n",
        "print(Teacher_hobbies[\"山下\"])"
      ],
      "metadata": {
        "id": "DktOPy0mLbhM",
        "colab": {
          "base_uri": "https://localhost:8080/"
        },
        "outputId": "1b8a3b1d-7935-4da6-c880-4fbc546cacd1"
      },
      "execution_count": 26,
      "outputs": [
        {
          "output_type": "stream",
          "name": "stdout",
          "text": [
            "{'石田': {'マンガ', 'お酒', '野球観戦'}, '山下': {'歌舞伎', '編み物', '台湾'}}\n",
            "{'マンガ', 'お酒', '野球観戦'}\n",
            "{'歌舞伎', '編み物', '台湾'}\n"
          ]
        }
      ]
    },
    {
      "cell_type": "markdown",
      "source": [
        "# 第5章補足"
      ],
      "metadata": {
        "id": "H0dYxGpfhHBB"
      }
    },
    {
      "cell_type": "markdown",
      "source": [
        "### イテラブルとイテレータ\n",
        "ループ処理ができるオブジェクトを**イテラブル**といいます。  \n",
        "以下にその例を挙げます。\n",
        "\n",
        "イテラブルであるもの：文字列・リスト・タプル・ディクショナリ・セット  \n",
        "イテラブルでないもの：数値・TrueとFalse\n",
        "\n",
        "\n"
      ],
      "metadata": {
        "id": "6AKZsF1VzF6S"
      }
    },
    {
      "cell_type": "code",
      "source": [
        "for x in '270':  # 270は文字列なのでfor文で回すことができる\n",
        "  print(x)"
      ],
      "metadata": {
        "id": "NnPuBe8i1dwP",
        "colab": {
          "base_uri": "https://localhost:8080/"
        },
        "outputId": "e81c8ba4-700d-4199-9679-52f566c4462f"
      },
      "execution_count": 27,
      "outputs": [
        {
          "output_type": "stream",
          "name": "stdout",
          "text": [
            "2\n",
            "7\n",
            "0\n"
          ]
        }
      ]
    },
    {
      "cell_type": "code",
      "source": [
        "for x in 270:  # 270は数値なのでfor文で回すことができない\n",
        "  print(x)"
      ],
      "metadata": {
        "id": "mbwkchX61v0_",
        "colab": {
          "base_uri": "https://localhost:8080/",
          "height": 188
        },
        "outputId": "9acdbfac-a98e-47fd-df1e-b74f060664d6"
      },
      "execution_count": 28,
      "outputs": [
        {
          "output_type": "error",
          "ename": "TypeError",
          "evalue": "ignored",
          "traceback": [
            "\u001b[0;31m---------------------------------------------------------------------------\u001b[0m",
            "\u001b[0;31mTypeError\u001b[0m                                 Traceback (most recent call last)",
            "\u001b[0;32m<ipython-input-28-624b264aa8ec>\u001b[0m in \u001b[0;36m<module>\u001b[0;34m\u001b[0m\n\u001b[0;32m----> 1\u001b[0;31m \u001b[0;32mfor\u001b[0m \u001b[0mx\u001b[0m \u001b[0;32min\u001b[0m \u001b[0;36m270\u001b[0m\u001b[0;34m:\u001b[0m  \u001b[0;31m# 270は数値なのでfor文で回すことができない\u001b[0m\u001b[0;34m\u001b[0m\u001b[0;34m\u001b[0m\u001b[0m\n\u001b[0m\u001b[1;32m      2\u001b[0m   \u001b[0mprint\u001b[0m\u001b[0;34m(\u001b[0m\u001b[0mx\u001b[0m\u001b[0;34m)\u001b[0m\u001b[0;34m\u001b[0m\u001b[0;34m\u001b[0m\u001b[0m\n",
            "\u001b[0;31mTypeError\u001b[0m: 'int' object is not iterable"
          ]
        }
      ]
    },
    {
      "cell_type": "markdown",
      "source": [
        "似たような言葉として**イテレータ**という言葉もあります。   \n",
        "以下のリンクを参考にしてください↓  \n",
        "\n",
        "[Python のイテラブル, iterable ってなに？](https://python.ms/iterable/)  \n",
        "[イテレータってなに？](https://python.ms/iterator/)"
      ],
      "metadata": {
        "id": "B-KS_V4v13oH"
      }
    }
  ]
}
