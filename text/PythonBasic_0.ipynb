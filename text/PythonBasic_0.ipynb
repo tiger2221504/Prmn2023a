{
  "nbformat": 4,
  "nbformat_minor": 0,
  "metadata": {
    "colab": {
      "provenance": [],
      "authorship_tag": "ABX9TyNqmY9MCNRrUjYQHKyy+XZa",
      "include_colab_link": true
    },
    "kernelspec": {
      "name": "python3",
      "display_name": "Python 3"
    },
    "language_info": {
      "name": "python"
    }
  },
  "cells": [
    {
      "cell_type": "markdown",
      "metadata": {
        "id": "view-in-github",
        "colab_type": "text"
      },
      "source": [
        "<a href=\"https://colab.research.google.com/github/kiryu-3/Prmn2023/blob/main/Python/Python_Basic/text/PythonBasic_0.ipynb\" target=\"_parent\"><img src=\"https://colab.research.google.com/assets/colab-badge.svg\" alt=\"Open In Colab\"/></a>"
      ]
    },
    {
      "cell_type": "markdown",
      "source": [
        "# 第0章"
      ],
      "metadata": {
        "id": "nYvSus_SfPPM"
      }
    },
    {
      "cell_type": "markdown",
      "source": [
        "## print関数"
      ],
      "metadata": {
        "id": "ioSHP54BaFHx"
      }
    },
    {
      "cell_type": "markdown",
      "source": [
        "**print関数**を使うことで画面に文字を表示することができます。"
      ],
      "metadata": {
        "id": "sqgU0-aLbdxE"
      }
    },
    {
      "cell_type": "code",
      "execution_count": 1,
      "metadata": {
        "id": "_idWtbFkZk28",
        "colab": {
          "base_uri": "https://localhost:8080/"
        },
        "outputId": "37f662c0-ea48-4058-f080-e468ef5452a5"
      },
      "outputs": [
        {
          "output_type": "stream",
          "name": "stdout",
          "text": [
            "Hello World!\n",
            "Welcome to Python!\n",
            "25\n"
          ]
        }
      ],
      "source": [
        "print(\"Hello World!\")\n",
        "print(\"Welcome to Python!\")\n",
        "print(25)"
      ]
    },
    {
      "cell_type": "markdown",
      "source": [
        "print関数の途中で改行したいときは、**\" \\n \"** を途中に挿入します。"
      ],
      "metadata": {
        "id": "hbDlQc6ndi8T"
      }
    },
    {
      "cell_type": "code",
      "source": [
        "print(\"Hello World!\\nWelcome to Python!\")"
      ],
      "metadata": {
        "colab": {
          "base_uri": "https://localhost:8080/"
        },
        "id": "sKdjZHmmds5g",
        "outputId": "b096d9e3-e471-4d6b-f4c6-1d98336925fc"
      },
      "execution_count": 2,
      "outputs": [
        {
          "output_type": "stream",
          "name": "stdout",
          "text": [
            "Hello World!\n",
            "Welcome to Python!\n"
          ]
        }
      ]
    },
    {
      "cell_type": "markdown",
      "source": [
        "endオプションを指定すると、改行を防止することができます。"
      ],
      "metadata": {
        "id": "27dkOBpQcQL2"
      }
    },
    {
      "cell_type": "code",
      "source": [
        "print(\"Hello World!\",end=\" \")  # 文の間に空白\" \"を空ける\n",
        "print(\"Welcome to Python!\",end=\",\")  # 文の間に\",\"をつける\n",
        "print(25)"
      ],
      "metadata": {
        "colab": {
          "base_uri": "https://localhost:8080/"
        },
        "id": "GRPgCvVJdr9X",
        "outputId": "740b9a24-9175-41e3-8a30-15916e5c70ab"
      },
      "execution_count": 3,
      "outputs": [
        {
          "output_type": "stream",
          "name": "stdout",
          "text": [
            "Hello World! Welcome to Python!,25\n"
          ]
        }
      ]
    },
    {
      "cell_type": "markdown",
      "source": [
        "## 数値型"
      ],
      "metadata": {
        "id": "4eR3rJY6es2M"
      }
    },
    {
      "cell_type": "markdown",
      "source": [
        "数値型(Numeric)には**整数**、**浮動小数点数**、複素数 などがあります。  \n",
        "詳しくは次回述べます。"
      ],
      "metadata": {
        "id": "-BcsnPJDe8Um"
      }
    },
    {
      "cell_type": "code",
      "source": [
        "print(25)\n",
        "print(25.25)"
      ],
      "metadata": {
        "id": "hVmCGqpqeud9",
        "colab": {
          "base_uri": "https://localhost:8080/"
        },
        "outputId": "a369f8ba-80f1-4423-a638-74af63c2732b"
      },
      "execution_count": 4,
      "outputs": [
        {
          "output_type": "stream",
          "name": "stdout",
          "text": [
            "25\n",
            "25.25\n"
          ]
        }
      ]
    },
    {
      "cell_type": "markdown",
      "source": [
        "### 数値型の算術演算子\n",
        "以下表のような四則演算をすることができます。 \n",
        "\n",
        "|演算子|  例  |  概要  |\n",
        "| ---- | ---- | ---- |\n",
        "|  +  |  x+y  |  足し算  |\n",
        "|  -  |  x-y  |  引き算  |\n",
        "|  *  |  x*y  |  掛け算  |\n",
        "|  **  |  x**y  | 階乗  |\n",
        "|  /  |  x/y  |  割り算<br>(商は実数)  |\n",
        "|  //  |  x//y  |  割り算<br>(商は整数)  |\n",
        "|  %  |  x%y  |  剰余算<br>(除算の余り)  |\n"
      ],
      "metadata": {
        "id": "3ZeqJ1cciNPQ"
      }
    },
    {
      "cell_type": "code",
      "source": [
        "print(25 + 1)  # 足し算\n",
        "print(25 - 1)  # 引き算\n",
        "\n",
        "print(2 * 4)  # 掛け算\n",
        "print(2 ** 4)  # 階乗\n",
        "\n",
        "print(25 / 4)  # 割り算（商は実数）\n",
        "print(25 // 4)  # 割り算（商は整数）\n",
        "print(25 % 4)  # 剰余算\n",
        "\n",
        "print( 25 - 2*5 )  # 演算子の優先順位\n",
        "print( (25-2) * 5 )  # 剰余算"
      ],
      "metadata": {
        "id": "_RvX5pdEkegC",
        "colab": {
          "base_uri": "https://localhost:8080/"
        },
        "outputId": "83777025-aae2-4cb3-bca4-71ea3ad9f7a6"
      },
      "execution_count": 5,
      "outputs": [
        {
          "output_type": "stream",
          "name": "stdout",
          "text": [
            "26\n",
            "24\n",
            "8\n",
            "16\n",
            "6.25\n",
            "6\n",
            "1\n",
            "15\n",
            "115\n"
          ]
        }
      ]
    },
    {
      "cell_type": "markdown",
      "source": [
        "## 文字列型"
      ],
      "metadata": {
        "id": "izSWWDRFlxSA"
      }
    },
    {
      "cell_type": "markdown",
      "source": [
        "Pythonの文字列は『**シングルクォーテーション**』か『**ダブルクォーテーション**』で囲みます。  \n",
        "単数文字か複数文字かの区別はなく、どちらを使ってもよいです。  \n",
        "\n",
        "囲むときは同じものをセットで使う必要があることに注意しましょう。  \n",
        "『**ダブルクォーテーション**』を使うことが多いようです。"
      ],
      "metadata": {
        "id": "b_f6oMUBlzdS"
      }
    },
    {
      "cell_type": "code",
      "source": [
        "print('Hello World!')\n",
        "print(\"Hello World!\")"
      ],
      "metadata": {
        "id": "Gi40prKkmlTv",
        "colab": {
          "base_uri": "https://localhost:8080/"
        },
        "outputId": "a321aeeb-4329-4541-8ea1-aec8460db403"
      },
      "execution_count": 6,
      "outputs": [
        {
          "output_type": "stream",
          "name": "stdout",
          "text": [
            "Hello World!\n",
            "Hello World!\n"
          ]
        }
      ]
    },
    {
      "cell_type": "markdown",
      "source": [
        "### 文字列型の算術演算子\n",
        "以下表のような四則演算をすることができます。 \n",
        "\n",
        "|演算子|  説明  |  例  |  結果  |  \n",
        "| ---- | ---- | ---- | ---- |  \n",
        "|  +  |  連結（文字列+文字列）  |  'w' + 'w'  | ww |  \n",
        "|  -  |  反復（文字列*数値）  |  'w' * 3  | www |  "
      ],
      "metadata": {
        "id": "Np-Sz1BLptD7"
      }
    },
    {
      "cell_type": "code",
      "source": [
        "print(\"Hello\" + \"World!\")\n",
        "print(\"Hello\" * 3)"
      ],
      "metadata": {
        "colab": {
          "base_uri": "https://localhost:8080/"
        },
        "id": "ij4kvcIJqDev",
        "outputId": "76a16002-3209-4728-b959-b3feaaed1df3"
      },
      "execution_count": 7,
      "outputs": [
        {
          "output_type": "stream",
          "name": "stdout",
          "text": [
            "HelloWorld!\n",
            "HelloHelloHello\n"
          ]
        }
      ]
    },
    {
      "cell_type": "markdown",
      "source": [
        "### 数値型と文字列型の注意"
      ],
      "metadata": {
        "id": "4rRfoWXZqzp5"
      }
    },
    {
      "cell_type": "markdown",
      "source": [
        "数値型と文字型を結合することは不可能なので注意が必要です。"
      ],
      "metadata": {
        "id": "EgGyjklGrKdU"
      }
    },
    {
      "cell_type": "code",
      "source": [
        "print(25 + 4)\n",
        "print(\"25\" + \"4\")"
      ],
      "metadata": {
        "colab": {
          "base_uri": "https://localhost:8080/"
        },
        "id": "H3yCTRC8rHOI",
        "outputId": "b4012a7c-8ed8-4203-c300-94952dde2b4f"
      },
      "execution_count": 8,
      "outputs": [
        {
          "output_type": "stream",
          "name": "stdout",
          "text": [
            "29\n",
            "254\n"
          ]
        }
      ]
    },
    {
      "cell_type": "code",
      "source": [
        "print(\"25\" + 4)    # エラー"
      ],
      "metadata": {
        "id": "46Tbd9vkrgJC",
        "colab": {
          "base_uri": "https://localhost:8080/",
          "height": 170
        },
        "outputId": "acef4d3d-8b7d-48a2-f581-5caa5e15fe73"
      },
      "execution_count": 9,
      "outputs": [
        {
          "output_type": "error",
          "ename": "TypeError",
          "evalue": "ignored",
          "traceback": [
            "\u001b[0;31m---------------------------------------------------------------------------\u001b[0m",
            "\u001b[0;31mTypeError\u001b[0m                                 Traceback (most recent call last)",
            "\u001b[0;32m<ipython-input-9-4a06539cfe1a>\u001b[0m in \u001b[0;36m<module>\u001b[0;34m\u001b[0m\n\u001b[0;32m----> 1\u001b[0;31m \u001b[0mprint\u001b[0m\u001b[0;34m(\u001b[0m\u001b[0;34m\"25\"\u001b[0m \u001b[0;34m+\u001b[0m \u001b[0;36m4\u001b[0m\u001b[0;34m)\u001b[0m    \u001b[0;31m# エラー\u001b[0m\u001b[0;34m\u001b[0m\u001b[0;34m\u001b[0m\u001b[0m\n\u001b[0m",
            "\u001b[0;31mTypeError\u001b[0m: can only concatenate str (not \"int\") to str"
          ]
        }
      ]
    },
    {
      "cell_type": "markdown",
      "source": [
        "# 第0章補足"
      ],
      "metadata": {
        "id": "vjSOriRvk86P"
      }
    },
    {
      "cell_type": "markdown",
      "source": [
        "## コメント"
      ],
      "metadata": {
        "id": "bKrDk4Xvk_ie"
      }
    },
    {
      "cell_type": "markdown",
      "source": [
        "「**#**」 記号を利用すると、コメントを入力することができます。"
      ],
      "metadata": {
        "id": "pglHsv_dldTH"
      }
    },
    {
      "cell_type": "code",
      "source": [
        "# \"#\"の後には半角スペースを入れます\n",
        "print(\"コメント\")  # コードの後に半角スペース×2を入れます"
      ],
      "metadata": {
        "id": "YexmCbrjmeUl",
        "colab": {
          "base_uri": "https://localhost:8080/"
        },
        "outputId": "c2177b62-aae7-4398-e681-c5ca9950ff56"
      },
      "execution_count": 10,
      "outputs": [
        {
          "output_type": "stream",
          "name": "stdout",
          "text": [
            "コメント\n"
          ]
        }
      ]
    },
    {
      "cell_type": "markdown",
      "source": [
        "複数コメントを入力したいときは、範囲を選択して  \n",
        "\"Ctrlキー+「/」キー\" を押すと一気にコメント化できます。"
      ],
      "metadata": {
        "id": "RhUoIRWAni5i"
      }
    },
    {
      "cell_type": "markdown",
      "source": [
        "## 全角スペース\n",
        "全角スペースは空白とはみなされません。"
      ],
      "metadata": {
        "id": "p8ojXS6On9NJ"
      }
    },
    {
      "cell_type": "markdown",
      "source": [
        "## エスケープシーケンス"
      ],
      "metadata": {
        "id": "q2604-uOoi4w"
      }
    },
    {
      "cell_type": "markdown",
      "source": [
        "「\"」や「'」などの特殊な文字列を入力するためには、  \n",
        "**エスケープシーケンス**と呼ばれる特殊な文字列を使う必要があります。"
      ],
      "metadata": {
        "id": "bp-HJUJDqaC9"
      }
    },
    {
      "cell_type": "markdown",
      "source": [
        "以下表のような特殊文字を扱うことができます。\n",
        "\n",
        "|表記|  意味  |\n",
        "| ---- | ---- |\n",
        "|  \\n  |  改行  |\n",
        "|  \\t  |  Tabキー  |\n",
        "|  \\\\\"  |  ダブルクォーテーション  | \n",
        "|  \\\\'  |  シングルクォーテーション  |\n",
        "|  \\\\  |  \\マーク  | \n"
      ],
      "metadata": {
        "id": "9GHKunsLryZZ"
      }
    },
    {
      "cell_type": "code",
      "source": [
        "print(\"\\\"はダブルクォーテーションと読みます\")\n",
        "print(\"\\'はシングルクォーテーションと読みます\")\n",
        "print(\"\\\\は日本語では円記号ですが、海外ではバックスラッシュと呼びます\")"
      ],
      "metadata": {
        "id": "dsXy45hqrv8R",
        "colab": {
          "base_uri": "https://localhost:8080/"
        },
        "outputId": "d1eca9f4-8ab9-4865-e45f-f81902e9dc4c"
      },
      "execution_count": 11,
      "outputs": [
        {
          "output_type": "stream",
          "name": "stdout",
          "text": [
            "\"はダブルクォーテーションと読みます\n",
            "'はシングルクォーテーションと読みます\n",
            "\\は日本語では円記号ですが、海外ではバックスラッシュと呼びます\n"
          ]
        }
      ]
    }
  ]
}
