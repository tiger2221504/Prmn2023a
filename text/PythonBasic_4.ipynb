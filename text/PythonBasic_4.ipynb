{
  "nbformat": 4,
  "nbformat_minor": 0,
  "metadata": {
    "colab": {
      "provenance": [],
      "toc_visible": true,
      "authorship_tag": "ABX9TyP1sG5VLQQl+dTql3bl9r6X",
      "include_colab_link": true
    },
    "kernelspec": {
      "name": "python3",
      "display_name": "Python 3"
    },
    "language_info": {
      "name": "python"
    }
  },
  "cells": [
    {
      "cell_type": "markdown",
      "metadata": {
        "id": "view-in-github",
        "colab_type": "text"
      },
      "source": [
        "<a href=\"https://colab.research.google.com/github/kiryu-3/Prmn2023/blob/main/Python/Python_Basic/text/PythonBasic_4.ipynb\" target=\"_parent\"><img src=\"https://colab.research.google.com/assets/colab-badge.svg\" alt=\"Open In Colab\"/></a>"
      ]
    },
    {
      "cell_type": "markdown",
      "source": [
        "# 第4章"
      ],
      "metadata": {
        "id": "nLJGmXSSuYaf"
      }
    },
    {
      "cell_type": "markdown",
      "source": [
        "## コレクション\n",
        "関連するデータをグループにして、まとめて1つの変数として扱う仕組みを**データ構造**といいます。  \n",
        "Pythonでは、**コレクション**または**コンテナ**と呼ばれます。  \n",
        "\n",
        "Pythonには**リスト**、**タプル**、**ディクショナリ**、**セット**の4つがあります。"
      ],
      "metadata": {
        "id": "vXChfO5mueP9"
      }
    },
    {
      "cell_type": "markdown",
      "source": [
        "## リスト\n",
        "**リスト**とは、複数の値を1列に並べて管理するためのコレクションです。  \n",
        "-  リストに含まれているそれぞれの値を**要素**といい、データを格納できる。\n",
        "-  リストの各要素には番号がついている。  \n",
        "この要素の番号を**添え字**（**index**）といい、**0から始まる**決まりになっている。  \n",
        "`例：要素が5つあるリストでは、5番という添え字の要素はない`"
      ],
      "metadata": {
        "id": "7FfkWQebujj1"
      }
    },
    {
      "cell_type": "code",
      "source": [
        "test = []  # 空のリストです\n",
        "print(type(test))"
      ],
      "metadata": {
        "colab": {
          "base_uri": "https://localhost:8080/"
        },
        "id": "HYMLJ25vNB6h",
        "outputId": "1a9129b7-bbe7-462c-cde2-9cee8971dd3d"
      },
      "execution_count": 1,
      "outputs": [
        {
          "output_type": "stream",
          "name": "stdout",
          "text": [
            "<class 'list'>\n"
          ]
        }
      ]
    },
    {
      "cell_type": "markdown",
      "source": [
        "### リストの作成\n",
        "Pythonでは、変数が型を持たないように、リストにも型の定めはありません。  \n",
        "1つのリストに対して、文字列や数字など、異なるデータ型の値を格納できます。  \n",
        "\n",
        "![pp_03_1.png](data:image/png;base64,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)  "
      ],
      "metadata": {
        "id": "ifgYfSbkupBs"
      }
    },
    {
      "cell_type": "markdown",
      "source": [
        "3つの学科のリストを作ってまとめて表示してみましょう。"
      ],
      "metadata": {
        "id": "d87nN-knuv5d"
      }
    },
    {
      "cell_type": "code",
      "source": [
        "gakka = [\"Ouka\",\"Denshi\",\"Josisu\"]\n",
        "print(gakka)"
      ],
      "metadata": {
        "id": "X3gF1u4Auz4U",
        "colab": {
          "base_uri": "https://localhost:8080/"
        },
        "outputId": "82ed8a20-6225-4020-f2c1-5d213500dabc"
      },
      "execution_count": 2,
      "outputs": [
        {
          "output_type": "stream",
          "name": "stdout",
          "text": [
            "['Ouka', 'Denshi', 'Josisu']\n"
          ]
        }
      ]
    },
    {
      "cell_type": "markdown",
      "source": [
        "### リストの要素の参照  \n",
        "リスト内の特定の要素を参照することもできます。  \n",
        "\n",
        "![pp_03_2.png](data:image/png;base64,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)  "
      ],
      "metadata": {
        "id": "yBG9Swr-umn1"
      }
    },
    {
      "cell_type": "markdown",
      "source": [
        "以下のコードは、リストの1番目の要素を表示するプログラムです。"
      ],
      "metadata": {
        "id": "w_9bxUiSu9Bj"
      }
    },
    {
      "cell_type": "code",
      "source": [
        "gakka = [\"Ouka\",\"Denshi\",\"Josisu\"]\n",
        "print(gakka[1])"
      ],
      "metadata": {
        "id": "zYcF5yMCvFkr",
        "colab": {
          "base_uri": "https://localhost:8080/"
        },
        "outputId": "1ffedd82-8501-4b96-ae88-b6997c7006bf"
      },
      "execution_count": 3,
      "outputs": [
        {
          "output_type": "stream",
          "name": "stdout",
          "text": [
            "Denshi\n"
          ]
        }
      ]
    },
    {
      "cell_type": "markdown",
      "source": [
        "負の数を指定すると、末尾からの順番で指定することもできます。"
      ],
      "metadata": {
        "id": "ILwuxrwxyq0I"
      }
    },
    {
      "cell_type": "code",
      "source": [
        "print(gakka[-1])"
      ],
      "metadata": {
        "id": "Sx4UGyO4yrZI",
        "colab": {
          "base_uri": "https://localhost:8080/"
        },
        "outputId": "c712a41d-3fcd-425c-a334-6b13cb0de4d5"
      },
      "execution_count": 4,
      "outputs": [
        {
          "output_type": "stream",
          "name": "stdout",
          "text": [
            "Josisu\n"
          ]
        }
      ]
    },
    {
      "cell_type": "markdown",
      "source": [
        "for文を組み合わせることで、簡単にすべての中身を表示するプログラムを書けます。 "
      ],
      "metadata": {
        "id": "e-MI-KyYu_3b"
      }
    },
    {
      "cell_type": "code",
      "execution_count": 5,
      "metadata": {
        "id": "AT7Kl9XvuUot",
        "colab": {
          "base_uri": "https://localhost:8080/"
        },
        "outputId": "8142aae8-d85e-4d6b-8238-879cc971508a"
      },
      "outputs": [
        {
          "output_type": "stream",
          "name": "stdout",
          "text": [
            "Ouka\n",
            "Denshi\n",
            "Josisu\n"
          ]
        }
      ],
      "source": [
        "for p in gakka:\n",
        "    print(p)"
      ]
    },
    {
      "cell_type": "markdown",
      "source": [
        "### リスト内の合計と要素数の取得\n",
        "\n",
        "Pythonには、リストなどのデータの集まりに対して、いくつかの命令が準備されています。  \n",
        "合計を求めるためには**sum関数**を使います。  \n",
        "\n",
        "  \n",
        "※リストのすべての要素を合計した値に置き換わる  \n",
        "※文字列を格納しているリストには使えない"
      ],
      "metadata": {
        "id": "5cy_CBjbvTCb"
      }
    },
    {
      "cell_type": "markdown",
      "source": [
        "各学科の人数の合計を求めてみましょう。"
      ],
      "metadata": {
        "id": "pAxDcBJsJZAg"
      }
    },
    {
      "cell_type": "code",
      "source": [
        "ninzuu = [75,99,94]\n",
        "total = sum(ninzuu)\n",
        "print(f\"合計人数は{total}人です\")"
      ],
      "metadata": {
        "id": "gDeTu4_cvb5i",
        "colab": {
          "base_uri": "https://localhost:8080/"
        },
        "outputId": "7aecf572-63ac-42a9-8980-fa53168b32f3"
      },
      "execution_count": 6,
      "outputs": [
        {
          "output_type": "stream",
          "name": "stdout",
          "text": [
            "合計人数は268人です\n"
          ]
        }
      ]
    },
    {
      "cell_type": "markdown",
      "source": [
        "平均を求める関数はありません。  \n",
        "しかし、リストの要素数で合計を割ることで平均値を求めることができます。   \n",
        "**len関数**を使います。"
      ],
      "metadata": {
        "id": "VUeMQU32HQx8"
      }
    },
    {
      "cell_type": "code",
      "source": [
        "total = sum(ninzuu)\n",
        "ave = total / len(ninzuu)\n",
        "print(f\"平均人数は{ave}人です\")"
      ],
      "metadata": {
        "id": "cfY9i0EgvjnC",
        "colab": {
          "base_uri": "https://localhost:8080/"
        },
        "outputId": "30a36adc-54c2-4474-8f39-5447dee7ae18"
      },
      "execution_count": 7,
      "outputs": [
        {
          "output_type": "stream",
          "name": "stdout",
          "text": [
            "平均人数は89.33333333333333人です\n"
          ]
        }
      ]
    },
    {
      "cell_type": "markdown",
      "source": [
        "### enumerate関数\n",
        "**enumerate関数**を使うことで、リストの中身と要素番号を同時に取得できます。  "
      ],
      "metadata": {
        "id": "8PAcAbs8KCTW"
      }
    },
    {
      "cell_type": "markdown",
      "source": [
        "以下のコードは、リストの中身と要素番号を同時に取得するプログラムです。  "
      ],
      "metadata": {
        "id": "xW0ljQULvw5R"
      }
    },
    {
      "cell_type": "code",
      "source": [
        "gakka = [\"Ouka\",\"Denshi\",\"Josisu\"]\n",
        "for i,p in enumerate(gakka):\n",
        "    print(i,p)"
      ],
      "metadata": {
        "id": "v-oiRCnAvzXq",
        "colab": {
          "base_uri": "https://localhost:8080/"
        },
        "outputId": "6d1295fb-98ac-4e27-955f-477cd0ee45f7"
      },
      "execution_count": 8,
      "outputs": [
        {
          "output_type": "stream",
          "name": "stdout",
          "text": [
            "0 Ouka\n",
            "1 Denshi\n",
            "2 Josisu\n"
          ]
        }
      ]
    },
    {
      "cell_type": "markdown",
      "source": [
        "### リスト型のメソッド  \n",
        "作成したリストの要素を追加したり削除したりできます。  \n",
        "[こちら](https://www.javadrive.jp/python/list/)のページには紹介していないメソッドもあります。"
      ],
      "metadata": {
        "id": "DaqNX4PSv65C"
      }
    },
    {
      "cell_type": "markdown",
      "source": [
        "#### 要素のカウント"
      ],
      "metadata": {
        "id": "PQvLzXTK0yK5"
      }
    },
    {
      "cell_type": "markdown",
      "source": [
        "**`count`メソッド**を使うと、リストの中の指定の要素数を数えることができます。"
      ],
      "metadata": {
        "id": "DlX90Oox00jy"
      }
    },
    {
      "cell_type": "code",
      "source": [
        "university = [\"Hokudai\",\"Hokudai\",\"Hokudai\",\"Hokudai\",\"Hokudai\",\n",
        "              \"Hokudai\",\"Chitose\",\"Chitose\",\"Chitose\",\"Muroran\"]\n",
        "print(university.count(\"Hokudai\"))"
      ],
      "metadata": {
        "colab": {
          "base_uri": "https://localhost:8080/"
        },
        "id": "xnrTK0Tg1CBR",
        "outputId": "15901500-6d74-4cbd-93a2-d45e014e8bcc"
      },
      "execution_count": 9,
      "outputs": [
        {
          "output_type": "stream",
          "name": "stdout",
          "text": [
            "6\n"
          ]
        }
      ]
    },
    {
      "cell_type": "markdown",
      "source": [
        "#### 要素の追加"
      ],
      "metadata": {
        "id": "P7yyMKPxRLI0"
      }
    },
    {
      "cell_type": "markdown",
      "source": [
        "作成したリストに要素を追加するには、**`append`メソッド**を使います。  \n",
        "リストの末尾に値が追加されます。"
      ],
      "metadata": {
        "id": "0wpqyZHav9B4"
      }
    },
    {
      "cell_type": "markdown",
      "source": [
        "以下のコードは、リスト`university` に要素`Hakodate`を追加しているプログラムの例です。"
      ],
      "metadata": {
        "id": "O6867Bu4wL7p"
      }
    },
    {
      "cell_type": "code",
      "source": [
        "university = [\"Chitose\",\"Hokudai\",\"Muroran\"]\n",
        "print(university)\n",
        "university.append(\"Hakodate\")\n",
        "print(university)"
      ],
      "metadata": {
        "id": "WHeSEsL8wNQP",
        "colab": {
          "base_uri": "https://localhost:8080/"
        },
        "outputId": "994833da-3e04-470c-99d0-7e185bf46afe"
      },
      "execution_count": 10,
      "outputs": [
        {
          "output_type": "stream",
          "name": "stdout",
          "text": [
            "['Chitose', 'Hokudai', 'Muroran']\n",
            "['Chitose', 'Hokudai', 'Muroran', 'Hakodate']\n"
          ]
        }
      ]
    },
    {
      "cell_type": "markdown",
      "source": [
        "この`append`メソッドとfor文を応用すると、以下のようなリストの作成ができます。"
      ],
      "metadata": {
        "id": "er8twV0dwQAf"
      }
    },
    {
      "cell_type": "code",
      "source": [
        "# 空のリストを作成する\n",
        "s = []\n",
        "\n",
        "# for文とappend()でリストの中身を追加する\n",
        "for i in range(5):\n",
        "    s.append(i)\n",
        "\n",
        "# 結果の確認\n",
        "print(s)"
      ],
      "metadata": {
        "id": "wktVQL-PwTSo",
        "colab": {
          "base_uri": "https://localhost:8080/"
        },
        "outputId": "4b40698b-afeb-4db4-9c7c-dff6197e0a72"
      },
      "execution_count": 11,
      "outputs": [
        {
          "output_type": "stream",
          "name": "stdout",
          "text": [
            "[0, 1, 2, 3, 4]\n"
          ]
        }
      ]
    },
    {
      "cell_type": "markdown",
      "source": [
        "**`insert`メソッド**を使えば、場所を指定して要素を追加できます。    "
      ],
      "metadata": {
        "id": "j6fzwMtUNdm6"
      }
    },
    {
      "cell_type": "markdown",
      "source": [
        "以下のコードは、リスト`university` の2番目に要素`Hakodate`を追加しているプログラムの例です。"
      ],
      "metadata": {
        "id": "GKXVYdOVwbHn"
      }
    },
    {
      "cell_type": "code",
      "source": [
        "university = [\"Chitose\",\"Hokudai\",\"Muroran\"]\n",
        "print(university)\n",
        "university.insert(2,\"Hakodate\")\n",
        "print(university)"
      ],
      "metadata": {
        "id": "loBcFBz7wdEH",
        "colab": {
          "base_uri": "https://localhost:8080/"
        },
        "outputId": "82e3e056-2c73-410b-ec3e-d58d982719de"
      },
      "execution_count": 12,
      "outputs": [
        {
          "output_type": "stream",
          "name": "stdout",
          "text": [
            "['Chitose', 'Hokudai', 'Muroran']\n",
            "['Chitose', 'Hokudai', 'Hakodate', 'Muroran']\n"
          ]
        }
      ]
    },
    {
      "cell_type": "markdown",
      "source": [
        "#### 要素の削除"
      ],
      "metadata": {
        "id": "JW36Zuq1RHNw"
      }
    },
    {
      "cell_type": "markdown",
      "source": [
        "\n",
        "**`pop`メソッド**を使うと、インデックスを指定して要素を削除できます。"
      ],
      "metadata": {
        "id": "d8_ovUwRQ7H0"
      }
    },
    {
      "cell_type": "markdown",
      "source": [
        "以下のコードは、リストsから要素10を削除するプログラムです。"
      ],
      "metadata": {
        "id": "KYDACzkTw0ge"
      }
    },
    {
      "cell_type": "code",
      "source": [
        "university = ['Chitose', 'Hokudai', 'Hakodate', 'Muroran']\n",
        "print(university)\n",
        "\n",
        "university = ['Chitose', 'Hokudai', 'Hakodate', 'Muroran']\n",
        "university.pop(2)\n",
        "print(university)  # 2番目の要素を削除\n",
        "\n",
        "university = ['Chitose', 'Hokudai', 'Hakodate', 'Muroran']\n",
        "university.pop()\n",
        "print(university)   # 最後の要素を削除 "
      ],
      "metadata": {
        "id": "J6LgJW-Iw6m9",
        "colab": {
          "base_uri": "https://localhost:8080/"
        },
        "outputId": "f91507a5-1a33-47df-f2d9-ca5380c85c69"
      },
      "execution_count": 13,
      "outputs": [
        {
          "output_type": "stream",
          "name": "stdout",
          "text": [
            "['Chitose', 'Hokudai', 'Hakodate', 'Muroran']\n",
            "['Chitose', 'Hokudai', 'Muroran']\n",
            "['Chitose', 'Hokudai', 'Hakodate']\n"
          ]
        }
      ]
    },
    {
      "cell_type": "markdown",
      "source": [
        "**`remove`メソッド**を使うと、オブジェクトを指定して要素を削除できます。"
      ],
      "metadata": {
        "id": "dM6ooyhnSTpS"
      }
    },
    {
      "cell_type": "code",
      "source": [
        "university = ['Chitose', 'Hokudai', 'Hakodate', 'Muroran']\n",
        "print(university)\n",
        "university.remove('Hakodate')  # \"Hakodate\"を削除\n",
        "print(university)"
      ],
      "metadata": {
        "colab": {
          "base_uri": "https://localhost:8080/"
        },
        "id": "RF9E6lwkS8n5",
        "outputId": "f22abdd8-1ccf-4b89-f4d1-12484abb2480"
      },
      "execution_count": 14,
      "outputs": [
        {
          "output_type": "stream",
          "name": "stdout",
          "text": [
            "['Chitose', 'Hokudai', 'Hakodate', 'Muroran']\n",
            "['Chitose', 'Hokudai', 'Muroran']\n"
          ]
        }
      ]
    },
    {
      "cell_type": "markdown",
      "source": [
        "同じオブジェクトが2回出てくると、最初にヒットする方だけ削除されます。"
      ],
      "metadata": {
        "id": "mTPg9lFow8kl"
      }
    },
    {
      "cell_type": "markdown",
      "source": [
        "**`clearメソッド`**を使うと、リスト内の要素をすべて削除できます。"
      ],
      "metadata": {
        "id": "vH3Ez_ZLy93F"
      }
    },
    {
      "cell_type": "code",
      "source": [
        "university = ['Chitose', 'Hokudai', 'Hakodate', 'Muroran']\n",
        "print(university)\n",
        "university.clear()  # リスト内の要素を全削除\n",
        "print(university)"
      ],
      "metadata": {
        "colab": {
          "base_uri": "https://localhost:8080/"
        },
        "id": "wbqS2jCez7-J",
        "outputId": "e9851ae7-85f3-4405-a8a1-4a1f322f7dc5"
      },
      "execution_count": 15,
      "outputs": [
        {
          "output_type": "stream",
          "name": "stdout",
          "text": [
            "['Chitose', 'Hokudai', 'Hakodate', 'Muroran']\n",
            "[]\n"
          ]
        }
      ]
    },
    {
      "cell_type": "markdown",
      "source": [
        "#### リストの複製"
      ],
      "metadata": {
        "id": "U4nbgkG-U3Xt"
      }
    },
    {
      "cell_type": "markdown",
      "source": [
        "リスト変数を代入しても、リストを複製することができません。"
      ],
      "metadata": {
        "id": "hHmJr6vPVEHj"
      }
    },
    {
      "cell_type": "code",
      "source": [
        "university = ['Chitose', 'Hokudai', 'Hakodate', 'Muroran']\n",
        "university2 = university\n",
        "print(f\"1:{university}\\n2:{university2}\")  # 複製できているように見えるが…\n",
        "\n",
        "university2.remove('Hakodate')  # university2の要素\"Hakodate\"を削除\n",
        "print(f\"\\n1:{university}\\n2:{university2}\")  # universityの要素も変更されている…"
      ],
      "metadata": {
        "colab": {
          "base_uri": "https://localhost:8080/"
        },
        "id": "wwVXK0oGVVGw",
        "outputId": "d4eb92d1-74d9-44bf-b2cb-d34e8ad0adec"
      },
      "execution_count": 16,
      "outputs": [
        {
          "output_type": "stream",
          "name": "stdout",
          "text": [
            "1:['Chitose', 'Hokudai', 'Hakodate', 'Muroran']\n",
            "2:['Chitose', 'Hokudai', 'Hakodate', 'Muroran']\n",
            "\n",
            "1:['Chitose', 'Hokudai', 'Muroran']\n",
            "2:['Chitose', 'Hokudai', 'Muroran']\n"
          ]
        }
      ]
    },
    {
      "cell_type": "markdown",
      "source": [
        "原因としては、2つの変数に同じオブジェクトIDが代入されているからです。"
      ],
      "metadata": {
        "id": "sNhN2eg8WIAZ"
      }
    },
    {
      "cell_type": "code",
      "source": [
        "print(f\"1:{id(university)}\\n2:{id(university2)}\")"
      ],
      "metadata": {
        "colab": {
          "base_uri": "https://localhost:8080/"
        },
        "id": "JKfGypSRWPDS",
        "outputId": "a0a7e23a-607f-480c-fbef-2354c25450ec"
      },
      "execution_count": 17,
      "outputs": [
        {
          "output_type": "stream",
          "name": "stdout",
          "text": [
            "1:140580211565888\n",
            "2:140580211565888\n"
          ]
        }
      ]
    },
    {
      "cell_type": "markdown",
      "source": [
        "**`copy`メソッド**か**list関数**を使うと、別のリストを生成することができます。"
      ],
      "metadata": {
        "id": "TEwh91g_WqJi"
      }
    },
    {
      "cell_type": "code",
      "source": [
        "university = ['Chitose', 'Hokudai', 'Hakodate', 'Muroran']\n",
        "print(university)\n",
        "\n",
        "university2 = university.copy()\n",
        "university2.remove('Hakodate')  # university2の要素\"Hakodate\"を削除\n",
        "print(university2)\n",
        "\n",
        "university3 = list(university)\n",
        "university3.remove('Hakodate')  # university2の要素\"Hakodate\"を削除\n",
        "print(university3)"
      ],
      "metadata": {
        "id": "2lWw7NFwW0lo",
        "colab": {
          "base_uri": "https://localhost:8080/"
        },
        "outputId": "b40b5e0a-3b17-4325-9369-3a594ac39c0c"
      },
      "execution_count": 18,
      "outputs": [
        {
          "output_type": "stream",
          "name": "stdout",
          "text": [
            "['Chitose', 'Hokudai', 'Hakodate', 'Muroran']\n",
            "['Chitose', 'Hokudai', 'Muroran']\n",
            "['Chitose', 'Hokudai', 'Muroran']\n"
          ]
        }
      ]
    },
    {
      "cell_type": "markdown",
      "source": [
        "#### リストのソート（昇順・降順）\n",
        "**`sort`メソッド**を使うと、リストの要素を並び替えることができます。    \n",
        "\n",
        "※引数を省略した場合は**昇順**での並び替え  \n",
        "※引数に**`reverse=True`**を指定した場合は**降順**での並び替え"
      ],
      "metadata": {
        "id": "iq2PX5cBw-Il"
      }
    },
    {
      "cell_type": "code",
      "source": [
        "university = ['Chitose', 'Hokudai', 'Hakodate', 'Muroran']\n",
        "print(university)\n",
        "\n",
        "university2 = university.copy()\n",
        "university2.sort()  # 昇順（アルファベット順）に並び替え\n",
        "print(university2)\n",
        "\n",
        "university3 = list(university)\n",
        "university3.sort(reverse=True)  # 降順（アルファベット順）に並び替え\n",
        "print(university3)"
      ],
      "metadata": {
        "id": "NfqyE2YExDyV",
        "colab": {
          "base_uri": "https://localhost:8080/"
        },
        "outputId": "e86dc8aa-2b1a-4e1f-ddcc-5daa124b3ffe"
      },
      "execution_count": 19,
      "outputs": [
        {
          "output_type": "stream",
          "name": "stdout",
          "text": [
            "['Chitose', 'Hokudai', 'Hakodate', 'Muroran']\n",
            "['Chitose', 'Hakodate', 'Hokudai', 'Muroran']\n",
            "['Muroran', 'Hokudai', 'Hakodate', 'Chitose']\n"
          ]
        }
      ]
    },
    {
      "cell_type": "markdown",
      "source": [
        "**sorted関数**を使うことでも並び替えは可能です。    \n",
        "`sort`メソッドとは違い、新しいリストオブジェクトが生成されます。"
      ],
      "metadata": {
        "id": "erpqyV2ZtDcz"
      }
    },
    {
      "cell_type": "code",
      "source": [
        "university = ['Chitose', 'Hokudai', 'Hakodate', 'Muroran']\n",
        "print(university)\n",
        "print(sorted(university))  # 昇順（アルファベット順）に並び替え\n",
        "print(sorted(university,reverse=True))  # 降順（アルファベット順）に並び替え"
      ],
      "metadata": {
        "colab": {
          "base_uri": "https://localhost:8080/"
        },
        "id": "oQg0C1T8tcaX",
        "outputId": "c396628b-abd7-4cd8-fe5b-3af24cc2159d"
      },
      "execution_count": 20,
      "outputs": [
        {
          "output_type": "stream",
          "name": "stdout",
          "text": [
            "['Chitose', 'Hokudai', 'Hakodate', 'Muroran']\n",
            "['Chitose', 'Hakodate', 'Hokudai', 'Muroran']\n",
            "['Muroran', 'Hokudai', 'Hakodate', 'Chitose']\n"
          ]
        }
      ]
    },
    {
      "cell_type": "markdown",
      "source": [
        "リストの中に数値や文字列が混在していた場合は、並び替えはできません。"
      ],
      "metadata": {
        "id": "OHRdLOcqt5ze"
      }
    },
    {
      "cell_type": "markdown",
      "source": [
        " #### リストの結合\n",
        "  \n",
        "\n"
      ],
      "metadata": {
        "id": "g2j0e-0Dwfo3"
      }
    },
    {
      "cell_type": "markdown",
      "source": [
        "**\" + \"** 演算子を使うと、リストを結合することができます。"
      ],
      "metadata": {
        "id": "mUT7f0_Rwlfp"
      }
    },
    {
      "cell_type": "markdown",
      "source": [
        " 以下のコードは、リストs2をリストs1に結合するプログラムです。"
      ],
      "metadata": {
        "id": "AQQQuD7MwkMG"
      }
    },
    {
      "cell_type": "code",
      "source": [
        "gakka_2022 = [75,99,94]\n",
        "gakka_2021 = [80,83,90]\n",
        "gakka = gakka_2022 + gakka_2021\n",
        "print(gakka) "
      ],
      "metadata": {
        "id": "8kjuUvrzwqWu",
        "colab": {
          "base_uri": "https://localhost:8080/"
        },
        "outputId": "6978ee22-acb4-46df-a651-cdace23fb3bb"
      },
      "execution_count": 21,
      "outputs": [
        {
          "output_type": "stream",
          "name": "stdout",
          "text": [
            "[75, 99, 94, 80, 83, 90]\n"
          ]
        }
      ]
    },
    {
      "cell_type": "markdown",
      "source": [
        "**`extend`メソッド**を使っても同様のことができます。  \n",
        "結合したいリストを引数にとります。"
      ],
      "metadata": {
        "id": "m_Ep5w8fxLFn"
      }
    },
    {
      "cell_type": "code",
      "source": [
        "gakka_2022 = [75,99,94]\n",
        "gakka_2021 = [80,83,90]\n",
        "gakka_2022.extend(gakka_2021)\n",
        "print(gakka_2022)"
      ],
      "metadata": {
        "id": "1b31mESJwmJX",
        "colab": {
          "base_uri": "https://localhost:8080/"
        },
        "outputId": "65d3d834-416e-4d2c-c7af-91a3343a14a9"
      },
      "execution_count": 22,
      "outputs": [
        {
          "output_type": "stream",
          "name": "stdout",
          "text": [
            "[75, 99, 94, 80, 83, 90]\n"
          ]
        }
      ]
    },
    {
      "cell_type": "markdown",
      "source": [
        "#### joinとsplit"
      ],
      "metadata": {
        "id": "F89fbf3W1y8g"
      }
    },
    {
      "cell_type": "markdown",
      "source": [
        "文字列の**`join`メソッド**を使うと、文字列のリストを一つの文字列に連結できます。  \n",
        "このとき、結合する際の区切り文字を指定できます。"
      ],
      "metadata": {
        "id": "sKL3niuR2MKv"
      }
    },
    {
      "cell_type": "code",
      "source": [
        "university = ['Chitose', 'Hokudai', 'Hakodate', 'Muroran']\n",
        "\n",
        "text = \" \".join(university)  # 空白で文字列を区切る\n",
        "print(text)\n",
        "\n",
        "text = \"\\\\\".join(university)  # \"\\\"で文字列を区切る\n",
        "print(text)"
      ],
      "metadata": {
        "colab": {
          "base_uri": "https://localhost:8080/"
        },
        "id": "7THWQIDI4b8q",
        "outputId": "11fae8a5-e7cc-4023-853b-1fd01607e251"
      },
      "execution_count": 23,
      "outputs": [
        {
          "output_type": "stream",
          "name": "stdout",
          "text": [
            "Chitose Hokudai Hakodate Muroran\n",
            "Chitose\\Hokudai\\Hakodate\\Muroran\n"
          ]
        }
      ]
    },
    {
      "cell_type": "markdown",
      "source": [
        "文字列の**`split`メソッド**を使うと、文字列の区切り文字を指定できます。\n",
        "\n",
        "引数に文字列を分割する際の区切り文字を指定します。  \n",
        "省略した場合は**空白**で文字列を分割します。"
      ],
      "metadata": {
        "id": "JYkSj0sS5N2i"
      }
    },
    {
      "cell_type": "code",
      "source": [
        "filename = \"sample.py\"\n",
        "print(filename.split(\".\")[0])  # \".\"の左側の文字列を出力\n",
        "print(filename.split(\".\")[1])  # \".\"の右側の文字列を出力"
      ],
      "metadata": {
        "colab": {
          "base_uri": "https://localhost:8080/"
        },
        "id": "VTwN2Yix6ZvP",
        "outputId": "98992106-6259-485a-cd41-4889e28a3f29"
      },
      "execution_count": 24,
      "outputs": [
        {
          "output_type": "stream",
          "name": "stdout",
          "text": [
            "sample\n",
            "py\n"
          ]
        }
      ]
    },
    {
      "cell_type": "markdown",
      "source": [
        "**`re.split()`**を用いることで、複数条件で文字列を分割することが出来ます"
      ],
      "metadata": {
        "id": "XHsu6N9y7wLt"
      }
    },
    {
      "cell_type": "code",
      "source": [
        "import re\n",
        "\n",
        "filename = \"PythonBasic_4.ipynb\"\n",
        "print(re.split('[_.]', filename)[0])  # \"_\"の左側の文字列を出力\n",
        "print(re.split('[_.]', filename)[1])  # \"_\"の右側の文字列を出力\n",
        "print(re.split('[_.]', filename)[2])  # \".\"の右側の文字列を出力"
      ],
      "metadata": {
        "colab": {
          "base_uri": "https://localhost:8080/"
        },
        "id": "Bb2vkEM_74zs",
        "outputId": "a526cd9d-9df6-4588-ade4-d8eb9a38b77c"
      },
      "execution_count": 25,
      "outputs": [
        {
          "output_type": "stream",
          "name": "stdout",
          "text": [
            "PythonBasic\n",
            "4\n",
            "ipynb\n"
          ]
        }
      ]
    },
    {
      "cell_type": "markdown",
      "source": [
        "### 要素の変更\n",
        "\n",
        "\n"
      ],
      "metadata": {
        "id": "8rFlr-4hxGb9"
      }
    },
    {
      "cell_type": "markdown",
      "source": [
        "リスト内の特定の要素の内容は変更できます。    \n",
        "\n",
        "![pp_03_11.png](data:image/png;base64,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)"
      ],
      "metadata": {
        "id": "cng9bqGtxo9Z"
      }
    },
    {
      "cell_type": "markdown",
      "source": [
        "以下のコードは、リストの2番目の要素を変更するプログラムです。"
      ],
      "metadata": {
        "id": "BI0RcVlpxKbk"
      }
    },
    {
      "cell_type": "code",
      "source": [
        "university = ['Chitose', 'Hokudai', 'Hakodate', 'Muroran']\n",
        "university[2] = \"Kitami\"\n",
        "print(university)"
      ],
      "metadata": {
        "id": "_KSSZ-eJxMKN",
        "colab": {
          "base_uri": "https://localhost:8080/"
        },
        "outputId": "fa073b66-38a2-425d-9cd9-40e3ac52af5f"
      },
      "execution_count": 26,
      "outputs": [
        {
          "output_type": "stream",
          "name": "stdout",
          "text": [
            "['Chitose', 'Hokudai', 'Kitami', 'Muroran']\n"
          ]
        }
      ]
    },
    {
      "cell_type": "markdown",
      "source": [
        "### リストの要素のスライス"
      ],
      "metadata": {
        "id": "XObCF7Tj9yHa"
      }
    },
    {
      "cell_type": "markdown",
      "source": [
        "リストで要素を指定する際、**スライス**という構文を用いることで、連続した範囲にある要素を参照することができます。   \n",
        "\n",
        "![pp_01_3.png](data:image/png;base64,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)  \n",
        "※Aは**開始値**。`A:`と指定すると添え字がA以上のすべての要素を参照する  \n",
        "※Bは**終了値**。`:B`と指定すると添え字がB未満のすべての要素を参照する  \n",
        "※Cは**増減値**。`A:B`と指定すると増減値は「+1」となる  \n",
        "※`:`とだけ指定すると、すべての要素を参照する"
      ],
      "metadata": {
        "id": "2sAP2rKYxOI8"
      }
    },
    {
      "cell_type": "code",
      "source": [
        "a = [10,20,30,40,50,60,70,80,90,100]\n",
        "\n",
        "print(a[1:3])  # 添え字が1以上3未満の要素\n",
        "print(a[2:])  # 添え字が2以上の全ての要素\n",
        "print(a[:3])  # 添え字が未満の全ての要素\n",
        "print(a[:])  # 全ての要素\n",
        "print(a[::2])  # 2つ飛ばし"
      ],
      "metadata": {
        "id": "OHzAmcVsxUoU",
        "colab": {
          "base_uri": "https://localhost:8080/"
        },
        "outputId": "40e0c24e-c268-4580-ed7a-82fecb6c0ea8"
      },
      "execution_count": 27,
      "outputs": [
        {
          "output_type": "stream",
          "name": "stdout",
          "text": [
            "[20, 30]\n",
            "[30, 40, 50, 60, 70, 80, 90, 100]\n",
            "[10, 20, 30]\n",
            "[10, 20, 30, 40, 50, 60, 70, 80, 90, 100]\n",
            "[10, 30, 50, 70, 90]\n"
          ]
        }
      ]
    },
    {
      "cell_type": "markdown",
      "source": [
        "増減値を負の数にすると、逆順にして取り出すことができます。"
      ],
      "metadata": {
        "id": "ZluQ-S3ey_kg"
      }
    },
    {
      "cell_type": "code",
      "source": [
        "# 逆順にして取り出す\n",
        "print(a[::-1])"
      ],
      "metadata": {
        "id": "iUM0HbplzAU4",
        "colab": {
          "base_uri": "https://localhost:8080/"
        },
        "outputId": "d8b3611f-c7ea-4e83-8cbe-dd1d283b9e4e"
      },
      "execution_count": 28,
      "outputs": [
        {
          "output_type": "stream",
          "name": "stdout",
          "text": [
            "[100, 90, 80, 70, 60, 50, 40, 30, 20, 10]\n"
          ]
        }
      ]
    },
    {
      "cell_type": "markdown",
      "source": [
        "### in演算子\n",
        "listオブジェクトに対して使うこともできます。"
      ],
      "metadata": {
        "id": "bmyUfkLT-IkB"
      }
    },
    {
      "cell_type": "markdown",
      "source": [
        "|比較演算子|使い方|説明|\n",
        "|:---:| :---: | :---: |\n",
        "|in|a  in b|aはbに含まれる|\n",
        "|not in|a not in b|aがbに含まれていない|"
      ],
      "metadata": {
        "id": "ry3ALKm9_lMe"
      }
    },
    {
      "cell_type": "code",
      "source": [
        "university = ['Chitose', 'Hokudai', 'Hakodate', 'Muroran']\n",
        "\n",
        "# 文字列\"Hokudai\"がリスト内に入っているかどうか\n",
        "print(\"Hokudai\" in university)\n",
        "# 文字列\"Hokudai\"がリスト内に入っていないかどうか\n",
        "print(\"Hokudai\" not in university)\n",
        "\n",
        "# 文字列\"Kitami\"がリスト内に入っているかどうか\n",
        "print(\"Kitami\" in university)\n",
        "# 文字列\"Kitami\"がリスト内に入っていないかどうか\n",
        "print(\"Kitami\" not in university)"
      ],
      "metadata": {
        "colab": {
          "base_uri": "https://localhost:8080/"
        },
        "id": "mRKgXbW8ABN0",
        "outputId": "60634d82-2206-4a41-f93c-68e903649d9e"
      },
      "execution_count": 29,
      "outputs": [
        {
          "output_type": "stream",
          "name": "stdout",
          "text": [
            "True\n",
            "False\n",
            "False\n",
            "True\n"
          ]
        }
      ]
    },
    {
      "cell_type": "markdown",
      "source": [
        "### リストの内包表記\n",
        "反復処理をシンプルに記述する方法を**内包表記**といいます。   "
      ],
      "metadata": {
        "id": "xGCC3urAxXWU"
      }
    },
    {
      "cell_type": "code",
      "source": [
        "# 内包表記を使ったプログラム\n",
        "s = [i for i in range(10)]\n",
        "print(s)"
      ],
      "metadata": {
        "id": "k9I7leKSxaU8",
        "colab": {
          "base_uri": "https://localhost:8080/"
        },
        "outputId": "87c6e818-09c0-4d6c-f5a9-7cdb4b2c0601"
      },
      "execution_count": 30,
      "outputs": [
        {
          "output_type": "stream",
          "name": "stdout",
          "text": [
            "[0, 1, 2, 3, 4, 5, 6, 7, 8, 9]\n"
          ]
        }
      ]
    },
    {
      "cell_type": "code",
      "source": [
        "# append()を使ったプログラム\n",
        "s = []\n",
        "for i in range(10) :\n",
        "    s.append(i)\n",
        "print(s)"
      ],
      "metadata": {
        "id": "rAJ5x7aCCLoB",
        "colab": {
          "base_uri": "https://localhost:8080/"
        },
        "outputId": "e97bf856-c786-4f76-8850-6eb7e00b668a"
      },
      "execution_count": 31,
      "outputs": [
        {
          "output_type": "stream",
          "name": "stdout",
          "text": [
            "[0, 1, 2, 3, 4, 5, 6, 7, 8, 9]\n"
          ]
        }
      ]
    },
    {
      "cell_type": "markdown",
      "source": [
        "反復処理を`append()`を用いた時よりシンプルに表記できました。  "
      ],
      "metadata": {
        "id": "6AVps0HUxcoM"
      }
    },
    {
      "cell_type": "markdown",
      "source": [
        "`range`を用いずにリストを使って反復処理を行うこともできます。  "
      ],
      "metadata": {
        "id": "t5sYTXuqxe0M"
      }
    },
    {
      "cell_type": "code",
      "source": [
        "s = [i for i in range(10)] # [0, 1, 2, 3, 4, 5, 6, 7, 8, 9]\n",
        "\n",
        "s1 = [i*i for i in s]\n",
        "\n",
        "# iの2乗の値を格納\n",
        "print(s1)\n",
        "\n",
        "s2 = [i*i for i in s if i%2==0]  # 条件追加  \n",
        "\n",
        "# iを2で割った時の余りが0のとき、iの2乗の値を格納\n",
        "print(s2)"
      ],
      "metadata": {
        "id": "bpTy00tVxgv0",
        "colab": {
          "base_uri": "https://localhost:8080/"
        },
        "outputId": "30e5ab4f-2283-43d8-c97d-0497eeae97b1"
      },
      "execution_count": 32,
      "outputs": [
        {
          "output_type": "stream",
          "name": "stdout",
          "text": [
            "[0, 1, 4, 9, 16, 25, 36, 49, 64, 81]\n",
            "[0, 4, 16, 36, 64]\n"
          ]
        }
      ]
    },
    {
      "cell_type": "markdown",
      "source": [
        "### 二次元リスト"
      ],
      "metadata": {
        "id": "m_9JOv98B33I"
      }
    },
    {
      "cell_type": "markdown",
      "source": [
        "リストの中にリストを入れた構造は、**2次元リスト**と呼ばれます。  \n",
        "表の構造を持つデータ管理などに使われます。  "
      ],
      "metadata": {
        "id": "KO04sY5hB6qv"
      }
    },
    {
      "cell_type": "code",
      "source": [
        "number = [\n",
        "    [\"Ouka\",80,75],   # 0行目\n",
        "    [\"Denshi\",83,99],   # 1行目\n",
        "    [\"Josisu\",90,94],   # 2行目\n",
        "]\n",
        "\n",
        "\"\"\"\n",
        "最後の要素の後に追加したい時もあるので、  \n",
        "リストの最後の要素の後に「,」はつけることが多いようです\n",
        "\"\"\"\n",
        "\n",
        "print(number)  # リストnumber全体を参照\n",
        "print(number[0])  # リストnumberの0番目だけを参照\n",
        "print(f\"{number[1][0]}の2022年の人数は{number[1][2]}人です\")  # リストnumberの1番目だけを参照"
      ],
      "metadata": {
        "colab": {
          "base_uri": "https://localhost:8080/"
        },
        "id": "1lQXZPUcD1oz",
        "outputId": "d4e823ae-55cd-4e49-acb8-7f67cc01f574"
      },
      "execution_count": 33,
      "outputs": [
        {
          "output_type": "stream",
          "name": "stdout",
          "text": [
            "[['Ouka', 80, 75], ['Denshi', 83, 99], ['Josisu', 90, 94]]\n",
            "['Ouka', 80, 75]\n",
            "Denshiの2022年の人数は99人です\n"
          ]
        }
      ]
    },
    {
      "cell_type": "markdown",
      "source": [
        "## タプル\n"
      ],
      "metadata": {
        "id": "jY6eAR6sxluz"
      }
    },
    {
      "cell_type": "markdown",
      "source": [
        "**タプル** (tuple)とは、リストとほぼ同じ特徴を持つコレクションです。  \n",
        "唯一、「要素の追加・変更・削除」ができないという点だけが異なります。    \n",
        "\n",
        "非常によく似ているリストとタプルは、**シーケンス**と総称されることもあります。  \n",
        "書き換える可能性を考えてリストとタプルの使いどころを考えましょう。"
      ],
      "metadata": {
        "id": "XHyXJMnvDKiX"
      }
    },
    {
      "cell_type": "markdown",
      "source": [
        "**「タプルで宣言したデータは処理速度がリストより速い」**という点が、  \n",
        "タプルを使う大きなメリットです。"
      ],
      "metadata": {
        "id": "BHaagC85JcEE"
      }
    },
    {
      "cell_type": "markdown",
      "source": [
        "### タプルの作成\n",
        "タプルは、複数の要素を**,**（**カンマ**）で区切って**()**で囲んで定義します。   \n",
        "\n",
        "![pp_03_13.png](data:image/png;base64,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)"
      ],
      "metadata": {
        "id": "dmF6u0BUyN15"
      }
    },
    {
      "cell_type": "markdown",
      "source": [
        "実際にタプルを利用してみましょう。  "
      ],
      "metadata": {
        "id": "-7I7nQQMyYlJ"
      }
    },
    {
      "cell_type": "code",
      "source": [
        "ninzuu = (75,99,94)  # タプルの作成\n",
        "print(ninzuu[0])  # タプルの要素を添え字で指定\n",
        "print(f\"合計人数は{sum(ninzuu)}人です\")  # タプルの合計\n",
        "print(f\"平均人数は{sum(ninzuu)/len(ninzuu)}人です\")  # タプルの要素数"
      ],
      "metadata": {
        "id": "-_mU_YfLyZ6p",
        "colab": {
          "base_uri": "https://localhost:8080/"
        },
        "outputId": "75c974c7-51a9-4d8f-efc4-b77dc054ec33"
      },
      "execution_count": 34,
      "outputs": [
        {
          "output_type": "stream",
          "name": "stdout",
          "text": [
            "75\n",
            "合計人数は268人です\n",
            "平均人数は89.33333333333333人です\n"
          ]
        }
      ]
    },
    {
      "cell_type": "code",
      "source": [
        "# 要素を変更しようとするとエラーが出ます\n",
        "ninzuu[0] = 80\n",
        "ninzuu[1] = 83\n",
        "ninzuu[2] = 90"
      ],
      "metadata": {
        "id": "vipK2SaOD__Y",
        "colab": {
          "base_uri": "https://localhost:8080/",
          "height": 222
        },
        "outputId": "6edd6247-aaff-498a-9796-7142febec615"
      },
      "execution_count": 35,
      "outputs": [
        {
          "output_type": "error",
          "ename": "TypeError",
          "evalue": "ignored",
          "traceback": [
            "\u001b[0;31m---------------------------------------------------------------------------\u001b[0m",
            "\u001b[0;31mTypeError\u001b[0m                                 Traceback (most recent call last)",
            "\u001b[0;32m<ipython-input-35-d3358d314936>\u001b[0m in \u001b[0;36m<module>\u001b[0;34m\u001b[0m\n\u001b[1;32m      1\u001b[0m \u001b[0;31m# 要素を変更しようとするとエラーが出ます\u001b[0m\u001b[0;34m\u001b[0m\u001b[0;34m\u001b[0m\u001b[0;34m\u001b[0m\u001b[0m\n\u001b[0;32m----> 2\u001b[0;31m \u001b[0mninzuu\u001b[0m\u001b[0;34m[\u001b[0m\u001b[0;36m0\u001b[0m\u001b[0;34m]\u001b[0m \u001b[0;34m=\u001b[0m \u001b[0;36m80\u001b[0m\u001b[0;34m\u001b[0m\u001b[0;34m\u001b[0m\u001b[0m\n\u001b[0m\u001b[1;32m      3\u001b[0m \u001b[0mninzuu\u001b[0m\u001b[0;34m[\u001b[0m\u001b[0;36m1\u001b[0m\u001b[0;34m]\u001b[0m \u001b[0;34m=\u001b[0m \u001b[0;36m83\u001b[0m\u001b[0;34m\u001b[0m\u001b[0;34m\u001b[0m\u001b[0m\n\u001b[1;32m      4\u001b[0m \u001b[0mninzuu\u001b[0m\u001b[0;34m[\u001b[0m\u001b[0;36m2\u001b[0m\u001b[0;34m]\u001b[0m \u001b[0;34m=\u001b[0m \u001b[0;36m90\u001b[0m\u001b[0;34m\u001b[0m\u001b[0;34m\u001b[0m\u001b[0m\n",
            "\u001b[0;31mTypeError\u001b[0m: 'tuple' object does not support item assignment"
          ]
        }
      ]
    },
    {
      "cell_type": "markdown",
      "source": [
        "タプルで要素数が1となるデータを扱う際は注意が必要です。   \n",
        "要素数1のタプルを生成するには、タプル定義に記述する値の後ろに**カンマ**をつけます。  \n",
        "\n",
        "![pp_03_14.png](data:image/png;base64,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)"
      ],
      "metadata": {
        "id": "HJK_elPpyb5A"
      }
    },
    {
      "cell_type": "code",
      "source": [
        "universe1 = [\"Chitose\"]\n",
        "universe2 = (\"Chitose\")\n",
        "universe3 = (\"Chitose\",)\n",
        "print(type(universe1))  # リスト型になる\n",
        "print(type(universe2))  # 文字型になる\n",
        "print(type(universe3))  # タプル型になる"
      ],
      "metadata": {
        "id": "WBlp79qYyhrQ",
        "colab": {
          "base_uri": "https://localhost:8080/"
        },
        "outputId": "90815460-a7cc-4290-d582-9701a517de81"
      },
      "execution_count": 36,
      "outputs": [
        {
          "output_type": "stream",
          "name": "stdout",
          "text": [
            "<class 'list'>\n",
            "<class 'str'>\n",
            "<class 'tuple'>\n"
          ]
        }
      ]
    },
    {
      "cell_type": "markdown",
      "source": [
        "### タプル型のメソッド"
      ],
      "metadata": {
        "id": "PEfbyaizUFmZ"
      }
    },
    {
      "cell_type": "markdown",
      "source": [
        "リストと同じメソッドを使えることが多いです。  \n",
        "（要素が変更できないので、要素の追加や削除などはできませんが）\n",
        "\n",
        "[こちら](https://www.javadrive.jp/python/tuple/)のページには紹介していないメソッドもあります。"
      ],
      "metadata": {
        "id": "eexPd2PvUQ_6"
      }
    },
    {
      "cell_type": "markdown",
      "source": [
        "### パックとアンパック"
      ],
      "metadata": {
        "id": "LtDqprhXIvJV"
      }
    },
    {
      "cell_type": "markdown",
      "source": [
        "タプルの複数の要素を1つにまとめることを**パック**といいます。  \n",
        "また、タプルを展開して複数の変数に1要素ずつ渡すことを**アンパック**といいます。"
      ],
      "metadata": {
        "id": "mIEaQ9NmykzQ"
      }
    },
    {
      "cell_type": "markdown",
      "source": [
        "以下のコードは、実際にパックとアンパックを行うプログラムです。"
      ],
      "metadata": {
        "id": "J_zQ-fCpyoGI"
      }
    },
    {
      "cell_type": "code",
      "source": [
        "# ①\n",
        "t = (\"Chitose\",75,99,94)\n",
        "\n",
        "# ②\n",
        "name,Ouka,Denshi,Josisu = t\n",
        "\n",
        "# ③\n",
        "print(f\"名前は{name}です\")\n",
        "print(f\"応用化学生物学科は{Ouka}人です\")\n",
        "print(f\"電子光工学科は{Denshi}人です\")\n",
        "print(f\"情報システム工学科は{Josisu}人です\")"
      ],
      "metadata": {
        "id": "mBwIEFupypo4",
        "colab": {
          "base_uri": "https://localhost:8080/"
        },
        "outputId": "af86a860-e3fd-4cea-9901-c832f6f06d46"
      },
      "execution_count": 37,
      "outputs": [
        {
          "output_type": "stream",
          "name": "stdout",
          "text": [
            "名前はChitoseです\n",
            "応用化学生物学科は75人です\n",
            "電子光工学科は99人です\n",
            "情報システム工学科は94人です\n"
          ]
        }
      ]
    },
    {
      "cell_type": "markdown",
      "source": [
        "①タプルのパックを行っている。4つの要素を1つにまとめて、タプル`t`に格納している。  \n",
        "②タプルのアンパックを行っている。4つの変数に4つの要素を1つずつ渡している。  \n",
        "③変数を出力している。"
      ],
      "metadata": {
        "id": "cNmMU9Ilyr7_"
      }
    },
    {
      "cell_type": "markdown",
      "source": [
        "タプルのアンパックを行うときには、**変数と代入する値の数が一致している**必要があります。"
      ],
      "metadata": {
        "id": "zRVjBqYCyxCQ"
      }
    }
  ]
}
