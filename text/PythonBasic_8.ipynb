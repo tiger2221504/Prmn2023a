{
  "nbformat": 4,
  "nbformat_minor": 0,
  "metadata": {
    "colab": {
      "provenance": []
    },
    "kernelspec": {
      "name": "python3",
      "display_name": "Python 3"
    },
    "language_info": {
      "name": "python"
    }
  },
  "cells": [
    {
      "cell_type": "markdown",
      "source": [
        "<a href=\"https://colab.research.google.com/github/kiryu-3/Prmn2023/blob/main/Python/Python_Basic/text/PythonBasic_8.ipynb\" target=\"_parent\"><img src=\"https://colab.research.google.com/assets/colab-badge.svg\" alt=\"Open In Colab\"/></a>"
      ],
      "metadata": {
        "id": "5wFfa5yJuSOe"
      }
    },
    {
      "cell_type": "markdown",
      "source": [
        "# オブジェクト指向1"
      ],
      "metadata": {
        "id": "j8N_kf74eH1y"
      }
    },
    {
      "cell_type": "markdown",
      "source": [
        "機能や状態を1つにまとめて**クラス**とし、  \n",
        "プログラムの内部構造をモノの集まりとしてとらえる考え方を**オブジェクト指向**といいます。"
      ],
      "metadata": {
        "id": "0bNRWsgX_ri8"
      }
    },
    {
      "cell_type": "markdown",
      "source": [
        "## クラス"
      ],
      "metadata": {
        "id": "_fk_2rhBZV6b"
      }
    },
    {
      "cell_type": "markdown",
      "source": [
        "クラスは機能や状態を定義するいわゆる「設計図」です。  \n",
        "まずは何かしらクラスを作成してみましょう。"
      ],
      "metadata": {
        "id": "AFLghe0rZXja"
      }
    },
    {
      "cell_type": "markdown",
      "source": [
        "![リンクテキスト](https://imgur.com/i7yQxMc.png)"
      ],
      "metadata": {
        "id": "Jeu2anLXZwAh"
      }
    },
    {
      "cell_type": "code",
      "execution_count": null,
      "metadata": {
        "id": "S4Bg6UUWOoQ7"
      },
      "outputs": [],
      "source": [
        "class SampleClass:\n",
        "  pass "
      ]
    },
    {
      "cell_type": "markdown",
      "source": [
        "上のコードでは**空クラス**を作成しています。  \n",
        "\n",
        "クラス名は決めたが処理は後で書きたいときなどに利用されます。"
      ],
      "metadata": {
        "id": "mybH7uDXc2QG"
      }
    },
    {
      "cell_type": "markdown",
      "source": [
        "## インスタンス"
      ],
      "metadata": {
        "id": "l39XzG3mfNfo"
      }
    },
    {
      "cell_type": "markdown",
      "source": [
        "クラスは単なる設計図であり、オブジェクトにはまだなっていません。  \n",
        "\n",
        "クラスからオブジェクトを作る（実体化）ことを**インスタンス化**といいます。\n",
        "\n",
        "![リンクテキスト](https://imgur.com/qUIERZv.png)"
      ],
      "metadata": {
        "id": "qg-VdqdvdlGM"
      }
    },
    {
      "cell_type": "code",
      "source": [
        "class SampleClass:\n",
        "  pass \n",
        "\n",
        "sample = SampleClass()  # 実行しても変化はない"
      ],
      "metadata": {
        "id": "zaLIPCWgeHlT"
      },
      "execution_count": null,
      "outputs": []
    },
    {
      "cell_type": "markdown",
      "source": [
        "上のコードの`sample`のように、クラスから生成されたオブジェクトを特に**インスタンス**といいます。"
      ],
      "metadata": {
        "id": "v2CnYLKAeZyJ"
      }
    },
    {
      "cell_type": "markdown",
      "source": [
        "## 属性とメソッド"
      ],
      "metadata": {
        "id": "M8cX8F8lfYxg"
      }
    },
    {
      "cell_type": "markdown",
      "source": [
        "クラス内で定義される変数を**属性**、  \n",
        "クラス内で定義される関数を**メソッド**といいます。\n",
        "\n",
        "実際にクラス内で定義してみましょう。"
      ],
      "metadata": {
        "id": "UD_yZDIKfdW_"
      }
    },
    {
      "cell_type": "code",
      "source": [
        "class Gakka:\n",
        "  def set_data(self, name, number, year):\n",
        "    self.name = name\n",
        "    self.number = number\n",
        "    self.year = year\n",
        "\n",
        "ouka = Gakka()  # インスタンス化\n",
        "\n",
        "ouka.set_data(\"応化\", 75, 2022)  # メソッドの呼び出し\n",
        "print(\"{}の人数は{}人です\".format(ouka.name, ouka.number))  # 属性の呼び出し"
      ],
      "metadata": {
        "colab": {
          "base_uri": "https://localhost:8080/"
        },
        "id": "2QG24fuVgpHF",
        "outputId": "d2b4457f-588f-49cb-bf32-92cde32127b3"
      },
      "execution_count": null,
      "outputs": [
        {
          "output_type": "stream",
          "name": "stdout",
          "text": [
            "応化の人数は75人です\n"
          ]
        }
      ]
    },
    {
      "cell_type": "markdown",
      "source": [
        "`set_data`メソッドを引数ありで実行することで、クラス内の属性を定義しています。  \n",
        "\n",
        "その後、定義された属性を呼び出しています。"
      ],
      "metadata": {
        "id": "9Dltuj5ZiE4D"
      }
    },
    {
      "cell_type": "markdown",
      "source": [
        "メソッドには**`self`**という見慣れない記述があります。  \n",
        "\n",
        "これはクラス自身、すなわち**インスタンス**を指します。  \n",
        "メソッドを定義する場合、引数には最低限`self`が必要になります。\n",
        "\n",
        "`self`と書かなくてもいいのですが、Pythonでは慣習として`self`と記述します。"
      ],
      "metadata": {
        "id": "PYqz7cwjiVHL"
      }
    },
    {
      "cell_type": "markdown",
      "source": [
        "もちろんインスタンスは複数生成することができます。"
      ],
      "metadata": {
        "id": "zlexGk3pmjZC"
      }
    },
    {
      "cell_type": "code",
      "source": [
        "denshi = Gakka()  # インスタンス化\n",
        "\n",
        "denshi.set_data(\"電子光\", 99, 2022)  # メソッドの呼び出し\n",
        "print(\"{}の人数は{}人です\".format(denshi.name, denshi.number))  # 属性の呼び出し\n",
        "\n",
        "josisu = Gakka()  # インスタンス化\n",
        "\n",
        "josisu.set_data(\"情シス\", 95, 2022)  # メソッドの呼び出し\n",
        "print(\"{}の人数は{}人です\".format(joho.name, joho.number))  # 属性の呼び出し"
      ],
      "metadata": {
        "colab": {
          "base_uri": "https://localhost:8080/"
        },
        "id": "DEhGiaYnmqik",
        "outputId": "61020112-96d1-47c8-8a94-f8c1cf937abc"
      },
      "execution_count": null,
      "outputs": [
        {
          "output_type": "stream",
          "name": "stdout",
          "text": [
            "電子光の人数は99人です\n",
            "情シスの人数は95人です\n"
          ]
        }
      ]
    },
    {
      "cell_type": "markdown",
      "source": [
        "学科とその人数を出力する`output`メソッドを作成してみましょう。"
      ],
      "metadata": {
        "id": "bjqHw1wHnGWL"
      }
    },
    {
      "cell_type": "code",
      "source": [
        "class Gakka:\n",
        "  def set_data(self, name, number, year):\n",
        "    self.name = name\n",
        "    self.number = number\n",
        "    self.year = year\n",
        "\n",
        "  def output(self):\n",
        "    print(\"{}の人数は{}人です\".format(self.name, self.number))\n",
        "\n",
        "ouka = Gakka()  # インスタンス化\n",
        "\n",
        "ouka.set_data(\"応化\", 75, 2022)  # メソッドの呼び出し\n",
        "ouka.output()  # メソッドの呼び出し"
      ],
      "metadata": {
        "colab": {
          "base_uri": "https://localhost:8080/"
        },
        "id": "dDtd1HUAKczY",
        "outputId": "c5d1ae52-a021-46df-be5e-bd540bd15124"
      },
      "execution_count": null,
      "outputs": [
        {
          "output_type": "stream",
          "name": "stdout",
          "text": [
            "応化の人数は75人です\n"
          ]
        }
      ]
    },
    {
      "cell_type": "markdown",
      "source": [
        "## コンストラクタ"
      ],
      "metadata": {
        "id": "Mh12N47ejSd4"
      }
    },
    {
      "cell_type": "markdown",
      "source": [
        "クラスをインスタンス化したときに自動的に実行される特殊なメソッドを**コンストラクタ**と呼びます。\n",
        "\n",
        "![リンクテキスト](https://imgur.com/snTf8jP.png)\n",
        "\n",
        "インスタンスの作成と属性の設定を同時に行うことができます。  "
      ],
      "metadata": {
        "id": "xmikCLlxjUF3"
      }
    },
    {
      "cell_type": "markdown",
      "source": [
        "先ほどのコードを書き換えてみましょう。"
      ],
      "metadata": {
        "id": "H13Lg3eckAMf"
      }
    },
    {
      "cell_type": "code",
      "source": [
        "class Gakka:\n",
        "  def __init__(self, name, number, year):\n",
        "    self.name = name\n",
        "    self.number = number\n",
        "    self.year = year\n",
        "\n",
        "  def output(self):\n",
        "    print(\"{}の人数は{}人です\".format(self.name, self.number))\n",
        "\n",
        "ouka = Gakka(\"応化\", 75, 2022)  # インスタンス化\n",
        "\n",
        "ouka.output()"
      ],
      "metadata": {
        "colab": {
          "base_uri": "https://localhost:8080/"
        },
        "id": "iZAr1r1zLl2z",
        "outputId": "e9af6ad9-6b1b-4092-98f0-3f8965173bc1"
      },
      "execution_count": null,
      "outputs": [
        {
          "output_type": "stream",
          "name": "stdout",
          "text": [
            "応化の人数は75人です\n"
          ]
        }
      ]
    },
    {
      "cell_type": "markdown",
      "source": [
        "コンストラクタは呼び出さなくても、インスタンス化時に自動で実行されます。"
      ],
      "metadata": {
        "id": "J_bcChphkQse"
      }
    },
    {
      "cell_type": "markdown",
      "source": [
        "## インスタンス変数"
      ],
      "metadata": {
        "id": "TlWSU4dUkVB3"
      }
    },
    {
      "cell_type": "markdown",
      "source": [
        "インスタンスに紐づいている変数を**インスタンス変数**といいます。\n",
        "\n",
        "インスタンス変数は他のインスタンスからアクセスすることが出ません。"
      ],
      "metadata": {
        "id": "NuvGo_mDlMtN"
      }
    },
    {
      "cell_type": "code",
      "source": [
        "class Gakka:\n",
        "  def __init__(self, name, number, year):\n",
        "    self.name = name      # インスタンス変数\n",
        "    self.number = number  # インスタンス変数\n",
        "    self.year = year      # インスタンス変数\n",
        "\n",
        "ouka = Gakka(\"応化\", 75, 2022)  "
      ],
      "metadata": {
        "id": "Ywdnm3tflMU1"
      },
      "execution_count": null,
      "outputs": []
    },
    {
      "cell_type": "markdown",
      "source": [
        "インスタンス変数はこれまでと同じ要領で更新することができます。"
      ],
      "metadata": {
        "id": "Pr9oRLFKli9k"
      }
    },
    {
      "cell_type": "code",
      "source": [
        "print(\"{}の人数は{}年は{}人です\".format(ouka.name, ouka.year, ouka.number))  # 更新前\n",
        "\n",
        "ouka.number = 80  # インスタンス変数の更新\n",
        "ouka.year = 2021  # インスタンス変数の更新 \n",
        "\n",
        "print(\"{}の人数は{}年は{}人です\".format(ouka.name, ouka.year, ouka.number))  # 更新前"
      ],
      "metadata": {
        "colab": {
          "base_uri": "https://localhost:8080/"
        },
        "id": "NYFz23BGlxpY",
        "outputId": "2092b691-1e39-4404-a9e3-dce07f21955b"
      },
      "execution_count": null,
      "outputs": [
        {
          "output_type": "stream",
          "name": "stdout",
          "text": [
            "応化の人数は2022年は75人です\n",
            "応化の人数は2021年は80人です\n"
          ]
        }
      ]
    },
    {
      "cell_type": "markdown",
      "source": [
        "## クラス変数"
      ],
      "metadata": {
        "id": "aWfofx_wpRNy"
      }
    },
    {
      "cell_type": "markdown",
      "source": [
        "インスタンスに紐づいていない変数を**クラス変数**といいます。\n",
        "\n",
        "お互いに同じクラスからインスタンス化されたインスタンスであれば、  \n",
        "他のインスタンスからクラス変数にアクセスすることができます。"
      ],
      "metadata": {
        "id": "b2lYJPhipTDu"
      }
    },
    {
      "cell_type": "markdown",
      "source": [
        "実際にクラス変数を定義してみましょう。"
      ],
      "metadata": {
        "id": "LcNNp4YeqPNS"
      }
    },
    {
      "cell_type": "code",
      "source": [
        "class Gakka:\n",
        "\n",
        "  university = \"千歳科学技術大学\"\n",
        "\n",
        "  def __init__(self, name, number, year):\n",
        "    self.name = name      # インスタンス変数\n",
        "    self.number = number  # インスタンス変数\n",
        "    self.year = year      # インスタンス変数"
      ],
      "metadata": {
        "id": "akIE4mgVqNuv"
      },
      "execution_count": null,
      "outputs": []
    },
    {
      "cell_type": "code",
      "source": [
        "ouka = Gakka(\"応化\", 75, 2022)\n",
        "denshi = Gakka(\"電子光\", 99, 2022)\n",
        "\n",
        "print(\"{}の{}所属です\".format(ouka.university, ouka.name))  # インスタンスで属性呼び出し\n",
        "print(\"{}の{}所属です\".format(denshi.university, denshi.name))  # インスタンスで属性呼び出し"
      ],
      "metadata": {
        "colab": {
          "base_uri": "https://localhost:8080/"
        },
        "id": "UnnaBoOdqoiF",
        "outputId": "cd898d00-9945-4818-d81a-219ca9b1a3c8"
      },
      "execution_count": null,
      "outputs": [
        {
          "output_type": "stream",
          "name": "stdout",
          "text": [
            "千歳科学技術大学の応化所属です\n",
            "千歳科学技術大学の電子光所属です\n"
          ]
        }
      ]
    },
    {
      "cell_type": "markdown",
      "source": [
        "`ouka`インスタンスと`denshi`インスタンスはどちらも`Gakka`クラスから生成されたものであるので、  \n",
        "クラス変数`university`にアクセスすることができます。"
      ],
      "metadata": {
        "id": "xYRIREdOq_fd"
      }
    },
    {
      "cell_type": "markdown",
      "source": [
        "クラス変数に限り、クラス名を指定してアクセスすることもできます。"
      ],
      "metadata": {
        "id": "g7pZk5uXrRJK"
      }
    },
    {
      "cell_type": "code",
      "source": [
        "print(\"{}の理工学部所属です\".format(Gakka.university))  # クラス名で属性呼び出し"
      ],
      "metadata": {
        "colab": {
          "base_uri": "https://localhost:8080/"
        },
        "id": "k8WlQkyfrXUj",
        "outputId": "98ffcbcb-ce64-42a9-8163-02abf7da9bd9"
      },
      "execution_count": null,
      "outputs": [
        {
          "output_type": "stream",
          "name": "stdout",
          "text": [
            "千歳科学技術大学の理工学部所属です\n"
          ]
        }
      ]
    },
    {
      "cell_type": "markdown",
      "source": [
        "クラス変数の値を変更したいときは、基本的にクラス名を指定します。"
      ],
      "metadata": {
        "id": "9j88j34Rr7u7"
      }
    },
    {
      "cell_type": "code",
      "source": [
        "Gakka.university = \"公立千歳科学技術大学\"\n",
        "\n",
        "print(\"{}の理工学部所属です\".format(Gakka.university))  # クラス名で属性呼び出し"
      ],
      "metadata": {
        "colab": {
          "base_uri": "https://localhost:8080/"
        },
        "id": "xTkdr9VrsBBR",
        "outputId": "ca7d08a8-05a6-48ee-c737-5f73f3ac8e08"
      },
      "execution_count": null,
      "outputs": [
        {
          "output_type": "stream",
          "name": "stdout",
          "text": [
            "公立千歳科学技術大学の理工学部所属です\n"
          ]
        }
      ]
    },
    {
      "cell_type": "markdown",
      "source": [
        "何回インスタンス化を行われたかを管理するクラス変数`count`を定義してみます。"
      ],
      "metadata": {
        "id": "LV5Uu8rwspSZ"
      }
    },
    {
      "cell_type": "code",
      "source": [
        "class Gakka:\n",
        "\n",
        "  university = \"千歳科学技術大学\"\n",
        "  count = 0   # クラス変数\n",
        "\n",
        "  def __init__(self, name, number, year):\n",
        "    self.name = name\n",
        "    self.number = number\n",
        "    self.year = year\n",
        "    Gakka.count += 1  # インスタンス化時にカウントをプラスする"
      ],
      "metadata": {
        "id": "H9S5Nv6Gsy9w"
      },
      "execution_count": null,
      "outputs": []
    },
    {
      "cell_type": "code",
      "source": [
        "ouka = Gakka(\"応化\", 75, 2022)\n",
        "print(\"{}回目の呼び出し\".format(Gakka.count))\n",
        "\n",
        "denshi = Gakka(\"電子光\", 99, 2022)\n",
        "print(\"{}回目の呼び出し\".format(Gakka.count))\n",
        "\n",
        "josisu = Gakka(\"情シス\", 95, 2022) \n",
        "print(\"{}回目の呼び出し\".format(Gakka.count))"
      ],
      "metadata": {
        "colab": {
          "base_uri": "https://localhost:8080/"
        },
        "id": "RW3Dc80Us23I",
        "outputId": "25e15a88-100f-4bc4-9f9d-9fdb5ba684d0"
      },
      "execution_count": null,
      "outputs": [
        {
          "output_type": "stream",
          "name": "stdout",
          "text": [
            "1回目の呼び出し\n",
            "2回目の呼び出し\n",
            "3回目の呼び出し\n"
          ]
        }
      ]
    },
    {
      "cell_type": "markdown",
      "source": [
        "## 命名規則"
      ],
      "metadata": {
        "id": "88kYpFbsuUfz"
      }
    },
    {
      "cell_type": "markdown",
      "source": [
        "### キャメルケース(camelCase)"
      ],
      "metadata": {
        "id": "H8DUdLQXuXJb"
      }
    },
    {
      "cell_type": "markdown",
      "source": [
        "複数の単語を一つの綴りにして、（先頭を除く）各単語の最初を大文字で書くスタイルを  \n",
        "**キャメルケース**(**camelCase**)といいます。  \n",
        "\n",
        "綴りの先頭は**小文字**で表します。"
      ],
      "metadata": {
        "id": "22aqPecmupwA"
      }
    },
    {
      "cell_type": "markdown",
      "source": [
        "* C言語：なし\n",
        "* Python：なし\n",
        "* Java：メソッド名・フィールド名 など"
      ],
      "metadata": {
        "id": "qVQxrAcNu_1S"
      }
    },
    {
      "cell_type": "markdown",
      "source": [
        "### パスカルケース(PascalCase)"
      ],
      "metadata": {
        "id": "e-QZjhslvUB8"
      }
    },
    {
      "cell_type": "markdown",
      "source": [
        "複数の単語を一つの綴りにして、（先頭も含め）各単語の最初を大文字で書くスタイルを  \n",
        "**キャメルケース**(**camelCase**)といいます。  \n",
        "\n",
        "綴りの先頭は**大文字**で表します。"
      ],
      "metadata": {
        "id": "uz-9rtuZvxvg"
      }
    },
    {
      "cell_type": "markdown",
      "source": [
        "* C言語：なし\n",
        "* Python：クラス名\n",
        "* Java：クラス名"
      ],
      "metadata": {
        "id": "9ndPk1UPv2-n"
      }
    },
    {
      "cell_type": "markdown",
      "source": [
        "### スネークケース(snake_case)"
      ],
      "metadata": {
        "id": "Jo8cZta3v50P"
      }
    },
    {
      "cell_type": "markdown",
      "source": [
        "複合語の各単語をアンダースコアで区切って、全て小文字で書くスタイルを  \n",
        "**スネークケース**(**snake_case**)といいます。\n",
        "\n",
        "**全て小文字**で表します。"
      ],
      "metadata": {
        "id": "NykagMyDwLXu"
      }
    },
    {
      "cell_type": "markdown",
      "source": [
        "* C言語：関数名、変数名 など\n",
        "* Python：モジュール名、関数名、変数名、メソッド名、インスタンス変数\n",
        "* Java：なし"
      ],
      "metadata": {
        "id": "UPW3nHe_wsdi"
      }
    },
    {
      "cell_type": "markdown",
      "source": [
        "### コンスタントケース(CONSTANT_CASE)"
      ],
      "metadata": {
        "id": "FwU-_h4mw1Dt"
      }
    },
    {
      "cell_type": "markdown",
      "source": [
        "複合語の各単語をアンダースコアで区切って、全て大文字で書くスタイルを  \n",
        "**コンスタントケース**(**CONSTANT_CASE**)といいます。\n",
        "\n",
        "**すべて大文字**で表します。"
      ],
      "metadata": {
        "id": "tzwR9UG5w56-"
      }
    },
    {
      "cell_type": "markdown",
      "source": [
        "* C言語：定数名\n",
        "* Python：定数名\n",
        "* Java：定数名"
      ],
      "metadata": {
        "id": "VVGe7C-ixGRt"
      }
    }
  ]
}
