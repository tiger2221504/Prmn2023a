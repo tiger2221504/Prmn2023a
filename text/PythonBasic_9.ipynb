{
  "nbformat": 4,
  "nbformat_minor": 0,
  "metadata": {
    "colab": {
      "provenance": []
    },
    "kernelspec": {
      "name": "python3",
      "display_name": "Python 3"
    },
    "language_info": {
      "name": "python"
    }
  },
  "cells": [
    {
      "cell_type": "markdown",
      "source": [
        "<a href=\"https://colab.research.google.com/github/kiryu-3/Prmn2023/blob/main/Python/Python_Basic/text/PythonBasic_9.ipynb\" target=\"_parent\"><img src=\"https://colab.research.google.com/assets/colab-badge.svg\" alt=\"Open In Colab\"/></a>"
      ],
      "metadata": {
        "id": "5wFfa5yJuSOe"
      }
    },
    {
      "cell_type": "markdown",
      "source": [
        "# オブジェクト指向2"
      ],
      "metadata": {
        "id": "j8N_kf74eH1y"
      }
    },
    {
      "cell_type": "markdown",
      "source": [
        "機能や状態を1つにまとめて**クラス**とし、  \n",
        "プログラムの内部構造をモノの集まりとしてとらえる考え方を**オブジェクト指向**といいます。"
      ],
      "metadata": {
        "id": "0bNRWsgX_ri8"
      }
    },
    {
      "cell_type": "markdown",
      "source": [
        "## 継承"
      ],
      "metadata": {
        "id": "5AXwUmTYzFoh"
      }
    },
    {
      "cell_type": "markdown",
      "source": [
        "「作成したクラスの機能を、別のクラスでも使いたい」といったときに、クラスの**継承**を使います。  \n",
        "他で作成したクラスのメソッドや値を受け継ぎつつ、メソッド等の編集・追加が行えるようになります。  "
      ],
      "metadata": {
        "id": "k2eXKLkTzzdn"
      }
    },
    {
      "cell_type": "markdown",
      "source": [
        "![リンクテキスト](https://imgur.com/i7DeqEb.png)"
      ],
      "metadata": {
        "id": "VpwsOQ6jz0G3"
      }
    },
    {
      "cell_type": "markdown",
      "source": [
        "継承されるクラスを**スーパークラス**（**親クラス**、**基底クラス**）、  \n",
        "継承するクラスを**サブクラス**（**子クラス**、**派生クラス**）といいます。\n",
        "\n",
        "スーパークラスの機能を引き継ぎ、サブクラスとして拡張することができます。"
      ],
      "metadata": {
        "id": "9lnY9VW70B2f"
      }
    },
    {
      "cell_type": "code",
      "source": [
        "class Animal():\n",
        "  def __init__(self, name):\n",
        "    self.name = name\n",
        "    print(\"動物です\")"
      ],
      "metadata": {
        "id": "8aIiIb__0s5m"
      },
      "execution_count": 1,
      "outputs": []
    },
    {
      "cell_type": "markdown",
      "source": [
        "今回は上で定義した **`Animal`クラス** を親クラスとします。  \n",
        "\n",
        "`Animal`クラスを継承し、`Dog`クラスと`Cat`クラスを作成しましょう。"
      ],
      "metadata": {
        "id": "CSK84W8l0ra1"
      }
    },
    {
      "cell_type": "code",
      "source": [
        "class Dog(Animal):\n",
        "  pass\n",
        "\n",
        "class Cat(Animal):\n",
        "  pass"
      ],
      "metadata": {
        "id": "1gLiNaGf1Jyc"
      },
      "execution_count": 2,
      "outputs": []
    },
    {
      "cell_type": "markdown",
      "source": [
        "では空クラス`Dog`クラスと`Cat`クラスを呼び出してみましょう。"
      ],
      "metadata": {
        "id": "hA74VrOs1Sws"
      }
    },
    {
      "cell_type": "code",
      "source": [
        "taro = Dog(\"Taro\")  # コンストラクタが実行された\n",
        "jiro = Cat(\"Jiro\")  # コンストラクタが実行された\n",
        "\n",
        "print(taro.name)  # 属性の呼び出し \n",
        "print(jiro.name)  # 属性の呼び出し "
      ],
      "metadata": {
        "colab": {
          "base_uri": "https://localhost:8080/"
        },
        "id": "ksQb0VbI1Tz8",
        "outputId": "9cea1c7e-a297-4f8f-d4f7-be67fac5efe2"
      },
      "execution_count": 3,
      "outputs": [
        {
          "output_type": "stream",
          "name": "stdout",
          "text": [
            "動物です\n",
            "動物です\n",
            "Taro\n",
            "Jiro\n"
          ]
        }
      ]
    },
    {
      "cell_type": "markdown",
      "source": [
        "### super()関数"
      ],
      "metadata": {
        "id": "24P3YMoI5a4W"
      }
    },
    {
      "cell_type": "markdown",
      "source": [
        "今度はサブクラス内でもコンストラクタを定義してみましょう。"
      ],
      "metadata": {
        "id": "BJoHbPCs5gJ1"
      }
    },
    {
      "cell_type": "code",
      "source": [
        "class Animal():\n",
        "  def __init__(self, name):\n",
        "    self.name = name\n",
        "    print(\"動物です\")"
      ],
      "metadata": {
        "id": "C1E9yXSP5nLc"
      },
      "execution_count": 4,
      "outputs": []
    },
    {
      "cell_type": "code",
      "source": [
        "class Dog(Animal):\n",
        "  def __init__(self, name):\n",
        "    self.name = name\n",
        "    print(\"犬です\")\n",
        "\n",
        "class Cat(Animal):\n",
        "  def __init__(self, name):\n",
        "    self.name = name\n",
        "    print(\"猫です\")"
      ],
      "metadata": {
        "id": "YW7UhASe5q6E"
      },
      "execution_count": 5,
      "outputs": []
    },
    {
      "cell_type": "code",
      "source": [
        "taro = Dog(\"Taro\")  # サブクラスのコンストラクタが実行された\n",
        "jiro = Cat(\"Jiro\")  # サブクラスのコンストラクタが実行された\n",
        "\n",
        "print(taro.name)  # 属性の呼び出し \n",
        "print(jiro.name)  # 属性の呼び出し "
      ],
      "metadata": {
        "colab": {
          "base_uri": "https://localhost:8080/"
        },
        "id": "IQuF9iBv5xis",
        "outputId": "aaf573ea-b531-4800-8672-cc1af54d4a08"
      },
      "execution_count": 6,
      "outputs": [
        {
          "output_type": "stream",
          "name": "stdout",
          "text": [
            "犬です\n",
            "猫です\n",
            "Taro\n",
            "Jiro\n"
          ]
        }
      ]
    },
    {
      "cell_type": "markdown",
      "source": [
        "今回はサブクラスのコンストラクタが優先されたため、  \n",
        "スーパークラスのコンストラクタは実行されませんでした。"
      ],
      "metadata": {
        "id": "_L1YMUfU53WE"
      }
    },
    {
      "cell_type": "markdown",
      "source": [
        "この問題は、**super()関数**を使うことで解消できます。\n",
        "\n",
        "![リンクテキスト](https://imgur.com/o8NC1en.png)"
      ],
      "metadata": {
        "id": "v2C8StXl5-_s"
      }
    },
    {
      "cell_type": "markdown",
      "source": [
        "では実際に組み込んでみましょう。"
      ],
      "metadata": {
        "id": "ydqZH1it61_C"
      }
    },
    {
      "cell_type": "code",
      "source": [
        "class Dog(Animal):\n",
        "  def __init__(self, name):\n",
        "    super().__init__(name=name)  # super()関数\n",
        "    print(\"犬です\")\n",
        "\n",
        "class Cat(Animal):\n",
        "  def __init__(self, name):\n",
        "    super().__init__(name=name)  # super()関数\n",
        "    print(\"猫です\")"
      ],
      "metadata": {
        "id": "VgV6h0A-64dK"
      },
      "execution_count": 7,
      "outputs": []
    },
    {
      "cell_type": "code",
      "source": [
        "taro = Dog(\"Taro\")  # 両方のコンストラクタが実行された\n",
        "jiro = Cat(\"Jiro\")  # 両方のコンストラクタが実行された\n",
        "\n",
        "print(taro.name)  # 属性の呼び出し \n",
        "print(jiro.name)  # 属性の呼び出し "
      ],
      "metadata": {
        "colab": {
          "base_uri": "https://localhost:8080/"
        },
        "id": "2cCzmhib7D_i",
        "outputId": "b1bccc72-fe2a-435d-ed5d-10cae86a46b4"
      },
      "execution_count": 8,
      "outputs": [
        {
          "output_type": "stream",
          "name": "stdout",
          "text": [
            "動物です\n",
            "犬です\n",
            "動物です\n",
            "猫です\n",
            "Taro\n",
            "Jiro\n"
          ]
        }
      ]
    },
    {
      "cell_type": "markdown",
      "source": [
        "スーパークラスとサブクラス、どちらのコンストラクタも呼び出すことができました。\n",
        "\n",
        "サブクラスでは、スーパークラスで定義したメソッドの後に  \n",
        "何か追加した処理を書くことができると分かります。"
      ],
      "metadata": {
        "id": "oi3mvDuE7Lay"
      }
    },
    {
      "cell_type": "markdown",
      "source": [
        "### オーバーライド"
      ],
      "metadata": {
        "id": "X8mYXCz2K_cn"
      }
    },
    {
      "cell_type": "markdown",
      "source": [
        "スーパークラスのメソッドを、サブクラス用に書き換える/追加することができます。  \n",
        "これを**オーバーライド**といいます。 \n",
        "\n",
        "同名のメソッドを定義することで実現できます。"
      ],
      "metadata": {
        "id": "PD-Z7-5lJbT5"
      }
    },
    {
      "cell_type": "markdown",
      "source": [
        "ここではこれまでの3つのクラスを以下のように変更します。"
      ],
      "metadata": {
        "id": "sOWLO4seavzj"
      }
    },
    {
      "cell_type": "code",
      "source": [
        "class Animal():\n",
        "  def __init__(self, name):\n",
        "    self.name = name\n",
        "\n",
        "  def output(self):\n",
        "    print(f\"名前は{self.name}です\")"
      ],
      "metadata": {
        "id": "RUD8-PVXaUqO"
      },
      "execution_count": 15,
      "outputs": []
    },
    {
      "cell_type": "code",
      "source": [
        "class Dog(Animal):\n",
        "  def __init__(self, name):\n",
        "    self.name = name"
      ],
      "metadata": {
        "id": "w06RvMDRaaZU"
      },
      "execution_count": 16,
      "outputs": []
    },
    {
      "cell_type": "code",
      "source": [
        "class Cat(Animal):\n",
        "  def __init__(self, name):\n",
        "    self.name = name"
      ],
      "metadata": {
        "id": "rXf_91lBapkE"
      },
      "execution_count": 17,
      "outputs": []
    },
    {
      "cell_type": "markdown",
      "source": [
        "この状態で`output`メソッドを実行すると、スーパークラスのメソッドが呼び出されます。"
      ],
      "metadata": {
        "id": "fUM4nX_KcbEJ"
      }
    },
    {
      "cell_type": "code",
      "source": [
        "taro = Dog(\"Taro\")\n",
        "jiro = Cat(\"Jiro\")\n",
        "\n",
        "taro.output()\n",
        "jiro.output()"
      ],
      "metadata": {
        "colab": {
          "base_uri": "https://localhost:8080/"
        },
        "id": "UTSmjpaibvQF",
        "outputId": "5ec05f8f-e12b-4a80-edc2-52d8e938d10f"
      },
      "execution_count": 18,
      "outputs": [
        {
          "output_type": "stream",
          "name": "stdout",
          "text": [
            "名前はTaroです\n",
            "名前はJiroです\n"
          ]
        }
      ]
    },
    {
      "cell_type": "markdown",
      "source": [
        "この`output`メソッドをサブクラス用に書き換えてみましょう。"
      ],
      "metadata": {
        "id": "xd3tt_OZc1zw"
      }
    },
    {
      "cell_type": "code",
      "source": [
        "class Dog(Animal):\n",
        "  def __init__(self, name):\n",
        "    self.name = name\n",
        "\n",
        "  def output(self):\n",
        "    print(f\"名前は{self.name}です\")\n",
        "    print(\"犬です\")"
      ],
      "metadata": {
        "id": "UczvuSi6dGQ5"
      },
      "execution_count": 19,
      "outputs": []
    },
    {
      "cell_type": "code",
      "source": [
        "class Cat(Animal):\n",
        "  def __init__(self, name):\n",
        "    self.name = name\n",
        "\n",
        "  def output(self):\n",
        "    print(f\"名前は{self.name}です\")\n",
        "    print(\"猫です\")    "
      ],
      "metadata": {
        "id": "MSimwQRUdGQ5"
      },
      "execution_count": 20,
      "outputs": []
    },
    {
      "cell_type": "markdown",
      "source": [
        "スーパークラスと同名の`output`メソッドをサブクラス内で定義しました。  \n",
        "\n",
        "では呼び出してみましょう。"
      ],
      "metadata": {
        "id": "DX1B0dT8dXzf"
      }
    },
    {
      "cell_type": "code",
      "source": [
        "taro = Dog(\"Taro\")\n",
        "jiro = Cat(\"Jiro\")\n",
        "\n",
        "taro.output()\n",
        "jiro.output()"
      ],
      "metadata": {
        "colab": {
          "base_uri": "https://localhost:8080/"
        },
        "id": "-tZ31xA_dgb2",
        "outputId": "41245003-ebe0-4ca8-9a3a-7380c02c0d77"
      },
      "execution_count": 21,
      "outputs": [
        {
          "output_type": "stream",
          "name": "stdout",
          "text": [
            "名前はTaroです\n",
            "犬です\n",
            "名前はJiroです\n",
            "猫です\n"
          ]
        }
      ]
    },
    {
      "cell_type": "markdown",
      "source": [
        "上書きされたことが確認できました。"
      ],
      "metadata": {
        "id": "pTvOgPfsdlMw"
      }
    },
    {
      "cell_type": "markdown",
      "source": [
        "オーバーライドのメリットは以下の通りです。  \n",
        "\n",
        "* 変更したいメソッドを記述し直すだけで済む  （属性や他のメソッドを書き直す必要がない）  \n",
        "* 複数のメソッド名を定義する必要がなくなる  \n",
        "\n",
        "大規模な開発になったときに、オーバーライドの恩恵が大きくなってきます。  "
      ],
      "metadata": {
        "id": "OZm6pKeyL0ml"
      }
    }
  ]
}
