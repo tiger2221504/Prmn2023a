{
  "nbformat": 4,
  "nbformat_minor": 0,
  "metadata": {
    "colab": {
      "provenance": [],
      "authorship_tag": "ABX9TyOpiwRSFCGVntP4c5oBwWue",
      "include_colab_link": true
    },
    "kernelspec": {
      "name": "python3",
      "display_name": "Python 3"
    },
    "language_info": {
      "name": "python"
    }
  },
  "cells": [
    {
      "cell_type": "markdown",
      "metadata": {
        "id": "view-in-github",
        "colab_type": "text"
      },
      "source": [
        "<a href=\"https://colab.research.google.com/github/kiryu-3/Prmn2023/blob/main/Python/Python_Basic/text/PythonBasic_7.ipynb\" target=\"_parent\"><img src=\"https://colab.research.google.com/assets/colab-badge.svg\" alt=\"Open In Colab\"/></a>"
      ]
    },
    {
      "cell_type": "markdown",
      "source": [
        "# 第7章"
      ],
      "metadata": {
        "id": "SvW7Yb7uITB-"
      }
    },
    {
      "cell_type": "markdown",
      "source": [
        "## ファイルの入出力"
      ],
      "metadata": {
        "id": "xtyonBYLIWJE"
      }
    },
    {
      "cell_type": "markdown",
      "source": [
        "プログラムからファイルの読み書きをするには、次の手順で行います。  \n",
        "\n",
        "①ファイルを開く  \n",
        "②ファイルに書き込む or 読み込む  \n",
        "③ファイルを閉じる  "
      ],
      "metadata": {
        "id": "6HHSjTQ0IfUa"
      }
    },
    {
      "cell_type": "markdown",
      "source": [
        "### with文を用いない場合"
      ],
      "metadata": {
        "id": "PbOKtZOoIpff"
      }
    },
    {
      "cell_type": "markdown",
      "source": [
        "以下のコードを実行して、テキストファイルの作成・書き込みを行っていきましょう。"
      ],
      "metadata": {
        "id": "1WXQ0q1ZIv2B"
      }
    },
    {
      "cell_type": "code",
      "source": [
        "# 書き込む内容\n",
        "text = \"Ouka 75\\nDenshi 99\\nJosisu 95\"\n",
        "\n",
        "file = open(\"gakka.text\",'w+')\n",
        "\n",
        "file.write(text + \"\\n\")\n",
        "\n",
        "file.close()"
      ],
      "metadata": {
        "id": "kWWJtxBAJWsu"
      },
      "execution_count": 1,
      "outputs": []
    },
    {
      "cell_type": "markdown",
      "source": [
        "このプログラムを実行すると、GoogleColabの同じフォルダに  \n",
        "テキストファイルが作成されます。  \n"
      ],
      "metadata": {
        "id": "Qpjg1p-S3gRM"
      }
    },
    {
      "cell_type": "markdown",
      "source": [
        "手順①では、組み込み関数である**`open関数`**を使用しています。  \n",
        "\n",
        "![pp_06_8.png](data:image/png;base64,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)  \n",
        "\n",
        "第1引数として開くファイルの名前、第2引数として**モード**を指定します。  \n"
      ],
      "metadata": {
        "id": "FkoMlJfz3rns"
      }
    },
    {
      "cell_type": "markdown",
      "source": [
        "**モード**は、開いたファイルをどのように操作するかを示す文字です。  \n",
        "違いについては後程述べます。\n",
        "\n"
      ],
      "metadata": {
        "id": "q5UyB3lVK35w"
      }
    },
    {
      "cell_type": "markdown",
      "source": [
        "`open関数`は、戻り値として開いたファイルを表すファイルオブジェクトを返します。  \n",
        "ファイルオブジェクトは、開いたファイルに関する様々な属性や、操作を行うためのメソッドを持っています。"
      ],
      "metadata": {
        "id": "c6ltQiPRK69K"
      }
    },
    {
      "cell_type": "markdown",
      "source": [
        "手順②では、ファイルオブジェクトが持つ**`writeメソッド`**を使って、  \n",
        "開いたファイルにデータを書き込んでいます。\n",
        "\n",
        "![pp_06_9.png](data:image/png;base64,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)  \n",
        "\n",
        "入力された内容に改行を表すエスケープシーケンス`\\n`を付けているため、  \n",
        "書き込むたびに改行が行われます。"
      ],
      "metadata": {
        "id": "0nurpdTu3gKk"
      }
    },
    {
      "cell_type": "markdown",
      "source": [
        "手順③では、ファイルオブジェクトの**`closeメソッド`**を使用して、  \n",
        "開いたファイルを閉じます。  \n",
        "\n",
        "![pp_06_10.png](data:image/png;base64,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)\n",
        "\n",
        "必要なファイル操作が終わったら、すぐに閉じる処理が行われるようにした方が安全です。  "
      ],
      "metadata": {
        "id": "dSvTYztx8FvT"
      }
    },
    {
      "cell_type": "markdown",
      "source": [
        "### with文を用いる場合"
      ],
      "metadata": {
        "id": "Nfz_t00uPLgz"
      }
    },
    {
      "cell_type": "markdown",
      "source": [
        "開いたファイルを確実に閉じたい場合は、**with文**を使います。  \n",
        "with文でファイルを開き、withブロックの中で開いたファイルに関する操作を行います。  \n",
        "そして、withブロックが終了すると、自動的にファイルを閉じてくれます。\n",
        "\n",
        "![pp_06_11.png](data:image/png;base64,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)  \n",
        "\n",
        "※開く処理で返されるファイルオブジェクトが変数に代入される  \n",
        "※withブロックの終了時にファイルを自動的に閉じる処理が行われる  \n",
        "※処理はインデントして記述する"
      ],
      "metadata": {
        "id": "sPPDJAvx8zIj"
      }
    },
    {
      "cell_type": "markdown",
      "source": [
        "with文を使って、先ほどのプログラムを書き換えてみましょう。"
      ],
      "metadata": {
        "id": "VkphFyQP9sQo"
      }
    },
    {
      "cell_type": "code",
      "source": [
        "# 書き込む内容\n",
        "text = \"Ouka 75\\nDenshi 99\\nJosisu 95\"\n",
        "\n",
        "with open(\"gakka.text\",mode=\"w+\") as f:\n",
        "  f.write(text + \"\\n\")"
      ],
      "metadata": {
        "id": "nGKb5H7lPkCm"
      },
      "execution_count": 2,
      "outputs": []
    },
    {
      "cell_type": "markdown",
      "source": [
        "### モード"
      ],
      "metadata": {
        "id": "pvKhgfg9QFHJ"
      }
    },
    {
      "cell_type": "markdown",
      "source": [
        "モードの指定方法を変更することで、微妙な変化があります。"
      ],
      "metadata": {
        "id": "Zs3vZJFqQJ1E"
      }
    },
    {
      "cell_type": "markdown",
      "source": [
        "#### r+"
      ],
      "metadata": {
        "id": "LfSoYz4cTaVx"
      }
    },
    {
      "cell_type": "markdown",
      "source": [
        "**\"r+\"**を指定すると、既存のデータを読み込んだ後、  \n",
        "データの先頭から書き込み・読み込みが行えるようになります。"
      ],
      "metadata": {
        "id": "-IOLSCNZQW13"
      }
    },
    {
      "cell_type": "code",
      "source": [
        "# 元の書き込み内容\n",
        "text = \"Ouka 75\\nDenshi 99\\nJosisu 95\"\n",
        "\n",
        "with open(\"gakka.text\",mode=\"w+\") as f:\n",
        "  f.write(text + \"\\n\")"
      ],
      "metadata": {
        "id": "5wDcHiyVRpn1"
      },
      "execution_count": 3,
      "outputs": []
    },
    {
      "cell_type": "code",
      "source": [
        "# 新しく書き込む内容\n",
        "new_text = \"Ouka 80\\nDenshi 83\"\n",
        "\n",
        "with open(\"gakka.text\",mode=\"r+\") as f:\n",
        "  f.write(new_text + \"\\n\")"
      ],
      "metadata": {
        "id": "P_7q0joHRRSO"
      },
      "execution_count": 4,
      "outputs": []
    },
    {
      "cell_type": "markdown",
      "source": [
        "応用化学生物学科と電子光工学科の人数が上書きされたような感じで  \n",
        "書き込みが行われます。"
      ],
      "metadata": {
        "id": "-BOL1bX1TNLK"
      }
    },
    {
      "cell_type": "markdown",
      "source": [
        "#### w+"
      ],
      "metadata": {
        "id": "GuHQfyjUTeCo"
      }
    },
    {
      "cell_type": "markdown",
      "source": [
        "**\"w+\"**を指定すると、既存のデータを読み込んだ後、  \n",
        "データの内容がすべて更新されたうえで、書き込み・読み込みが行えるようになります。"
      ],
      "metadata": {
        "id": "q3icaUnPTiXj"
      }
    },
    {
      "cell_type": "code",
      "source": [
        "# 元の書き込み内容\n",
        "text = \"Ouka 75\\nDenshi 99\\nJosisu 95\"\n",
        "\n",
        "with open(\"gakka.text\",mode=\"w+\") as f:\n",
        "  f.write(text + \"\\n\")"
      ],
      "metadata": {
        "id": "QFaIR7yhUHTu"
      },
      "execution_count": 5,
      "outputs": []
    },
    {
      "cell_type": "code",
      "source": [
        "# 新しく書き込む内容\n",
        "new_text = \"Ouka 80\\nDenshi 83\"\n",
        "\n",
        "with open(\"gakka.text\",mode=\"w+\") as f:\n",
        "  f.write(new_text + \"\\n\")"
      ],
      "metadata": {
        "id": "WPKxHrDQUJzQ"
      },
      "execution_count": 6,
      "outputs": []
    },
    {
      "cell_type": "markdown",
      "source": [
        "応用化学生物学科と電子光工学科の人数のみ書き込みが行われます。"
      ],
      "metadata": {
        "id": "eKlqDlzOUyG8"
      }
    },
    {
      "cell_type": "markdown",
      "source": [
        "#### a+"
      ],
      "metadata": {
        "id": "lGMmjq6zU4ZO"
      }
    },
    {
      "cell_type": "markdown",
      "source": [
        "**\"a+\"**を指定すると、既存のデータを読み込んだ後、  \n",
        "データの末尾から書き込み・読み込みが行えるようになります。"
      ],
      "metadata": {
        "id": "e1K_e7YkU7Hu"
      }
    },
    {
      "cell_type": "code",
      "source": [
        "# 元の書き込み内容\n",
        "text = \"Ouka 75\\nDenshi 99\\nJosisu 95\"\n",
        "\n",
        "with open(\"gakka.text\",mode=\"w+\") as f:\n",
        "  f.write(text + \"\\n\")"
      ],
      "metadata": {
        "id": "4K0kGrIRVFI4"
      },
      "execution_count": 7,
      "outputs": []
    },
    {
      "cell_type": "code",
      "source": [
        "# 新しく書き込む内容\n",
        "new_text = \"Ouka 80\\nDenshi 83\"\n",
        "\n",
        "with open(\"gakka.text\",mode=\"a+\") as f:\n",
        "  f.write(new_text + \"\\n\")"
      ],
      "metadata": {
        "id": "hg6LyWrxVFjq"
      },
      "execution_count": 8,
      "outputs": []
    },
    {
      "cell_type": "markdown",
      "source": [
        "新しく応用化学生物学科と電子光工学科の人数が末尾に書き込まれます。"
      ],
      "metadata": {
        "id": "8L-97TglWPni"
      }
    },
    {
      "cell_type": "markdown",
      "source": [
        "### ファイルの読み込み"
      ],
      "metadata": {
        "id": "5zndOBZEWX5v"
      }
    },
    {
      "cell_type": "markdown",
      "source": [
        "今までは書き込んでばっかりだったので、読み込みを行っていきます。"
      ],
      "metadata": {
        "id": "8YmCldYiWcri"
      }
    },
    {
      "cell_type": "markdown",
      "source": [
        "#### readlineメソッド"
      ],
      "metadata": {
        "id": "dLe6KzrTWngB"
      }
    },
    {
      "cell_type": "markdown",
      "source": [
        "**`readline`メソッド**を使うと、テキストファイルを一行ずつ読み込み、  \n",
        "Stringとして取得することができます。"
      ],
      "metadata": {
        "id": "PT9LCNs9WqJ4"
      }
    },
    {
      "cell_type": "code",
      "source": [
        "# 書き込み内容\n",
        "text = \"Ouka 75\\nDenshi 99\\nJosisu 95\"\n",
        "\n",
        "with open(\"gakka.text\",mode=\"w+\") as f:\n",
        "  f.write(text + \"\\n\")"
      ],
      "metadata": {
        "id": "0k_JWe5fWiTF"
      },
      "execution_count": 9,
      "outputs": []
    },
    {
      "cell_type": "code",
      "source": [
        "# 読み込み\n",
        "with open(\"gakka.text\",mode=\"r+\") as f:\n",
        "  line = f.readline()\n",
        "  # ファイルの中のテキストがなくなるまで読み込み\n",
        "  while line: \n",
        "    print(line,end=\"\")\n",
        "    line = f.readline()"
      ],
      "metadata": {
        "colab": {
          "base_uri": "https://localhost:8080/"
        },
        "id": "ZeCAEMjvXDvD",
        "outputId": "67d3cc73-6fc6-4c9f-a67f-bbce74be1502"
      },
      "execution_count": 10,
      "outputs": [
        {
          "output_type": "stream",
          "name": "stdout",
          "text": [
            "Ouka 75\n",
            "Denshi 99\n",
            "Josisu 95\n"
          ]
        }
      ]
    },
    {
      "cell_type": "markdown",
      "source": [
        "ここで以前学習した**`split`メソッド**が活きてきます。  \n",
        "学科とその人数を別々に読み込み、ディクショナリに格納します。"
      ],
      "metadata": {
        "id": "XqvEEhDEYLNh"
      }
    },
    {
      "cell_type": "code",
      "source": [
        "gakka_dic = {\"Ouka\":80 , \"Denshi\":83 , \"Josisu\":90}  # 2021年のデータ\n",
        "print(gakka_dic)\n",
        "\n",
        "# 2022年のデータを読み込み\n",
        "with open(\"gakka.text\",mode=\"r+\") as f:\n",
        "  line = f.readline()\n",
        "  # ファイルの中のテキストがなくなるまで読み込み\n",
        "  while line: \n",
        "\n",
        "    \"\"\"\n",
        "    line.split():取得した文字列を空白を区切り文字にして分ける\n",
        "    line.split()[0]:学科\n",
        "    line.split()[1]:人数 int型に変換している\n",
        "    \"\"\"\n",
        "    gakka_dic[line.split()[0]] = int(line.split()[1])\n",
        "    line = f.readline()\n",
        "\n",
        "print(gakka_dic)"
      ],
      "metadata": {
        "colab": {
          "base_uri": "https://localhost:8080/"
        },
        "id": "5Pi1tSQRYgBq",
        "outputId": "7701c3d5-eeae-4176-8307-bb21c06900ac"
      },
      "execution_count": 11,
      "outputs": [
        {
          "output_type": "stream",
          "name": "stdout",
          "text": [
            "{'Ouka': 80, 'Denshi': 83, 'Josisu': 90}\n",
            "{'Ouka': 75, 'Denshi': 99, 'Josisu': 95}\n"
          ]
        }
      ]
    },
    {
      "cell_type": "markdown",
      "source": [
        "テキストファイル内のデータが多いときはこちらを用います。"
      ],
      "metadata": {
        "id": "jxlD4Yv9as0K"
      }
    },
    {
      "cell_type": "markdown",
      "source": [
        "#### readlinesメソッド"
      ],
      "metadata": {
        "id": "eQIqqEFBaxoR"
      }
    },
    {
      "cell_type": "markdown",
      "source": [
        "**`readlines`メソッド**を使うと、テキストファイルを全行読み込み、  \n",
        "listとして取得することができます。"
      ],
      "metadata": {
        "id": "yw6tiJIFa6HS"
      }
    },
    {
      "cell_type": "code",
      "source": [
        "# 書き込み内容\n",
        "text = \"Ouka 75\\nDenshi 99\\nJosisu 95\"\n",
        "\n",
        "with open(\"gakka.text\",mode=\"w+\") as f:\n",
        "  f.write(text)"
      ],
      "metadata": {
        "id": "Yv0Gf_SFbNq-"
      },
      "execution_count": 12,
      "outputs": []
    },
    {
      "cell_type": "code",
      "source": [
        "with open(\"gakka.text\",mode=\"r+\") as f:\n",
        "  lines = f.readlines()\n",
        "  print(lines)"
      ],
      "metadata": {
        "colab": {
          "base_uri": "https://localhost:8080/"
        },
        "id": "wZUrOx7AbVvx",
        "outputId": "1ccec5cd-ad4b-42ed-d3ae-661b992848e2"
      },
      "execution_count": 13,
      "outputs": [
        {
          "output_type": "stream",
          "name": "stdout",
          "text": [
            "['Ouka 75\\n', 'Denshi 99\\n', 'Josisu 95']\n"
          ]
        }
      ]
    },
    {
      "cell_type": "markdown",
      "source": [
        "改行`\\n`があって気になります。  \n",
        "**`f.read().splitlines()`**とすると解消されるようです。"
      ],
      "metadata": {
        "id": "fQ2CY1WKorYW"
      }
    },
    {
      "cell_type": "code",
      "source": [
        "with open(\"gakka.text\",mode=\"r+\") as f:\n",
        "  lines = f.read().splitlines()\n",
        "  print(lines)"
      ],
      "metadata": {
        "colab": {
          "base_uri": "https://localhost:8080/"
        },
        "id": "geV0uaJ6o4dS",
        "outputId": "125ef9a8-591c-4631-d30b-d54d49f65725"
      },
      "execution_count": 14,
      "outputs": [
        {
          "output_type": "stream",
          "name": "stdout",
          "text": [
            "['Ouka 75', 'Denshi 99', 'Josisu 95']\n"
          ]
        }
      ]
    }
  ]
}
