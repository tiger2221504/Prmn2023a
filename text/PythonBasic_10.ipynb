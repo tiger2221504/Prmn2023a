{
  "nbformat": 4,
  "nbformat_minor": 0,
  "metadata": {
    "colab": {
      "provenance": [],
      "toc_visible": true
    },
    "kernelspec": {
      "name": "python3",
      "display_name": "Python 3"
    },
    "language_info": {
      "name": "python"
    }
  },
  "cells": [
    {
      "cell_type": "markdown",
      "source": [
        "<a href=\"https://colab.research.google.com/github/kiryu-3/Prmn2023/blob/main/Python/Python_Basic/text/PythonBasic_10.ipynb\" target=\"_parent\"><img src=\"https://colab.research.google.com/assets/colab-badge.svg\" alt=\"Open In Colab\"/></a>"
      ],
      "metadata": {
        "id": "he4f80qgKeAt"
      }
    },
    {
      "cell_type": "markdown",
      "source": [
        "# Error"
      ],
      "metadata": {
        "id": "2RSLtYaY12UH"
      }
    },
    {
      "cell_type": "markdown",
      "source": [
        "Pythonには、以下の2つのエラーが存在します。\n",
        "\n",
        "* Syntax error（構文エラー）：書き方が正しくないケース\n",
        "* Exception（例外）：書き方は合っていてもプログラムが動かないケース"
      ],
      "metadata": {
        "id": "LXVFMsb6149t"
      }
    },
    {
      "cell_type": "markdown",
      "source": [
        "## 例外処理"
      ],
      "metadata": {
        "id": "938Kb-D46Az4"
      }
    },
    {
      "cell_type": "markdown",
      "source": [
        "構文エラーはもう正しいコードを書くしかありません。\n",
        "\n",
        "例外のうち、前もって想定できる原因に対しては、その処理法を書くことができます。  \n",
        "これを**例外処理**といいます。"
      ],
      "metadata": {
        "id": "j-Y-UR7G4nda"
      }
    },
    {
      "cell_type": "markdown",
      "source": [
        "例えば、何かを0で割ろうとするとExceptionが発生します。"
      ],
      "metadata": {
        "id": "I31a9Rks7cRU"
      }
    },
    {
      "cell_type": "code",
      "execution_count": null,
      "metadata": {
        "colab": {
          "base_uri": "https://localhost:8080/",
          "height": 170
        },
        "id": "s1_458fl0cp_",
        "outputId": "b44488e6-c7e0-42d6-e932-261b6ed4b792"
      },
      "outputs": [
        {
          "output_type": "error",
          "ename": "ZeroDivisionError",
          "evalue": "ignored",
          "traceback": [
            "\u001b[0;31m---------------------------------------------------------------------------\u001b[0m",
            "\u001b[0;31mZeroDivisionError\u001b[0m                         Traceback (most recent call last)",
            "\u001b[0;32m<ipython-input-2-44ad9b9598a6>\u001b[0m in \u001b[0;36m<module>\u001b[0;34m\u001b[0m\n\u001b[0;32m----> 1\u001b[0;31m \u001b[0;36m2023\u001b[0m \u001b[0;34m/\u001b[0m \u001b[0;36m0\u001b[0m\u001b[0;34m\u001b[0m\u001b[0;34m\u001b[0m\u001b[0m\n\u001b[0m",
            "\u001b[0;31mZeroDivisionError\u001b[0m: division by zero"
          ]
        }
      ],
      "source": [
        "2023 / 0"
      ]
    },
    {
      "cell_type": "markdown",
      "source": [
        "このように予想されるエラーについて、例外処理を書くことができます。  \n",
        "詳しくは[公式ドキュメント](https://docs.python.org/ja/3/tutorial/errors.html)を参照してください。"
      ],
      "metadata": {
        "id": "W0yq7vWm7nBU"
      }
    },
    {
      "cell_type": "markdown",
      "source": [
        "### try–except"
      ],
      "metadata": {
        "id": "nRe7fnQQ93iY"
      }
    },
    {
      "cell_type": "markdown",
      "source": [
        "最も基本の構文が「**try–except**」です。\n",
        "\n",
        "![リンクテキスト](https://imgur.com/mVEumQu.png)"
      ],
      "metadata": {
        "id": "98D-6HR797GM"
      }
    },
    {
      "cell_type": "markdown",
      "source": [
        "2つの変数の割り算を行うdivide()関数を例にします。"
      ],
      "metadata": {
        "id": "6DASLE1u-3rX"
      }
    },
    {
      "cell_type": "code",
      "source": [
        "def divide(a, b):\n",
        "  print(f\"計算結果：{a/b}\")\n",
        "\n",
        "divide(1, 3)"
      ],
      "metadata": {
        "colab": {
          "base_uri": "https://localhost:8080/"
        },
        "id": "KpK0fmQT-9wV",
        "outputId": "c16f986b-a49d-42dd-8753-32569031c0f4"
      },
      "execution_count": null,
      "outputs": [
        {
          "output_type": "stream",
          "name": "stdout",
          "text": [
            "計算結果：0.3333333333333333\n"
          ]
        }
      ]
    },
    {
      "cell_type": "markdown",
      "source": [
        "引数の2つ目で\"0\"を指定すると、   \n",
        "先ほどのように「ZeroDivisionError」が発生すると考えられます。"
      ],
      "metadata": {
        "id": "MH-4rCee_vZc"
      }
    },
    {
      "cell_type": "code",
      "source": [
        "def divide(a, b):\n",
        "  print(f\"計算結果：{a/b}\")\n",
        "\n",
        "divide(1, 0)"
      ],
      "metadata": {
        "colab": {
          "base_uri": "https://localhost:8080/",
          "height": 309
        },
        "id": "SLos9q4Q_87k",
        "outputId": "70128efb-0e91-461b-c7d5-c29b89a480ec"
      },
      "execution_count": null,
      "outputs": [
        {
          "output_type": "error",
          "ename": "ZeroDivisionError",
          "evalue": "ignored",
          "traceback": [
            "\u001b[0;31m---------------------------------------------------------------------------\u001b[0m",
            "\u001b[0;31mZeroDivisionError\u001b[0m                         Traceback (most recent call last)",
            "\u001b[0;32m<ipython-input-6-6a1aec01323a>\u001b[0m in \u001b[0;36m<module>\u001b[0;34m\u001b[0m\n\u001b[1;32m      2\u001b[0m   \u001b[0mprint\u001b[0m\u001b[0;34m(\u001b[0m\u001b[0;34mf\"計算結果：{a/b}\"\u001b[0m\u001b[0;34m)\u001b[0m\u001b[0;34m\u001b[0m\u001b[0;34m\u001b[0m\u001b[0m\n\u001b[1;32m      3\u001b[0m \u001b[0;34m\u001b[0m\u001b[0m\n\u001b[0;32m----> 4\u001b[0;31m \u001b[0mdivide\u001b[0m\u001b[0;34m(\u001b[0m\u001b[0;36m1\u001b[0m\u001b[0;34m,\u001b[0m \u001b[0;36m0\u001b[0m\u001b[0;34m)\u001b[0m\u001b[0;34m\u001b[0m\u001b[0;34m\u001b[0m\u001b[0m\n\u001b[0m",
            "\u001b[0;32m<ipython-input-6-6a1aec01323a>\u001b[0m in \u001b[0;36mdivide\u001b[0;34m(a, b)\u001b[0m\n\u001b[1;32m      1\u001b[0m \u001b[0;32mdef\u001b[0m \u001b[0mdivide\u001b[0m\u001b[0;34m(\u001b[0m\u001b[0ma\u001b[0m\u001b[0;34m,\u001b[0m \u001b[0mb\u001b[0m\u001b[0;34m)\u001b[0m\u001b[0;34m:\u001b[0m\u001b[0;34m\u001b[0m\u001b[0;34m\u001b[0m\u001b[0m\n\u001b[0;32m----> 2\u001b[0;31m   \u001b[0mprint\u001b[0m\u001b[0;34m(\u001b[0m\u001b[0;34mf\"計算結果：{a/b}\"\u001b[0m\u001b[0;34m)\u001b[0m\u001b[0;34m\u001b[0m\u001b[0;34m\u001b[0m\u001b[0m\n\u001b[0m\u001b[1;32m      3\u001b[0m \u001b[0;34m\u001b[0m\u001b[0m\n\u001b[1;32m      4\u001b[0m \u001b[0mdivide\u001b[0m\u001b[0;34m(\u001b[0m\u001b[0;36m1\u001b[0m\u001b[0;34m,\u001b[0m \u001b[0;36m0\u001b[0m\u001b[0;34m)\u001b[0m\u001b[0;34m\u001b[0m\u001b[0;34m\u001b[0m\u001b[0m\n",
            "\u001b[0;31mZeroDivisionError\u001b[0m: division by zero"
          ]
        }
      ]
    },
    {
      "cell_type": "markdown",
      "source": [
        "divide()関数の中に例外処理を書いてみましょう。"
      ],
      "metadata": {
        "id": "k64nGb3SAC3V"
      }
    },
    {
      "cell_type": "code",
      "source": [
        "def divide(a, b):\n",
        "  try:\n",
        "    print(f\"計算結果：{a/b}\")\n",
        "  except ZeroDivisionError:\n",
        "    print(\"0では割り算できません\")\n",
        "    \n",
        "divide(1, 0)"
      ],
      "metadata": {
        "colab": {
          "base_uri": "https://localhost:8080/"
        },
        "id": "Nl8WHUegAGyL",
        "outputId": "9e8c311e-7c27-4ad4-f3fb-dfe8683ad6e1"
      },
      "execution_count": null,
      "outputs": [
        {
          "output_type": "stream",
          "name": "stdout",
          "text": [
            "0では割り算できません\n"
          ]
        }
      ]
    },
    {
      "cell_type": "markdown",
      "source": [
        "例外は引数に格納することができます。"
      ],
      "metadata": {
        "id": "yN_8g9yGAYRj"
      }
    },
    {
      "cell_type": "code",
      "source": [
        "def divide(a, b):\n",
        "  try:\n",
        "    print(f\"計算結果：{a/b}\")\n",
        "  except ZeroDivisionError as e:  # 変数名を「e」とすることが多い\n",
        "    print(e)\n",
        "    print(\"0では割り算できません\")\n",
        "    \n",
        "divide(1, 0)"
      ],
      "metadata": {
        "colab": {
          "base_uri": "https://localhost:8080/"
        },
        "id": "t0qOB8EWAblS",
        "outputId": "634f13b2-c00e-4121-8f45-f85d7c893e55"
      },
      "execution_count": null,
      "outputs": [
        {
          "output_type": "stream",
          "name": "stdout",
          "text": [
            "division by zero\n",
            "0では割り算できません\n"
          ]
        }
      ]
    },
    {
      "cell_type": "markdown",
      "source": [
        "今度は数値を文字列で割ろうとした場合について考えてみます。"
      ],
      "metadata": {
        "id": "0sTbMySDAsod"
      }
    },
    {
      "cell_type": "code",
      "source": [
        "def divide(a, b):\n",
        "  try:\n",
        "    print(f\"計算結果：{a/b}\")\n",
        "  except ZeroDivisionError as e:\n",
        "    print(e)\n",
        "    print(\"0では割り算できません\")\n",
        "    \n",
        "divide(1, \"0\")  # 文字列では割り算できない"
      ],
      "metadata": {
        "colab": {
          "base_uri": "https://localhost:8080/",
          "height": 326
        },
        "id": "PaW8UPaHBTZB",
        "outputId": "17df1806-0e5b-40ec-88ca-192a70da7261"
      },
      "execution_count": null,
      "outputs": [
        {
          "output_type": "error",
          "ename": "TypeError",
          "evalue": "ignored",
          "traceback": [
            "\u001b[0;31m---------------------------------------------------------------------------\u001b[0m",
            "\u001b[0;31mTypeError\u001b[0m                                 Traceback (most recent call last)",
            "\u001b[0;32m<ipython-input-18-507f73b880e8>\u001b[0m in \u001b[0;36m<module>\u001b[0;34m\u001b[0m\n\u001b[1;32m      6\u001b[0m     \u001b[0mprint\u001b[0m\u001b[0;34m(\u001b[0m\u001b[0;34m\"0では割り算できません\"\u001b[0m\u001b[0;34m)\u001b[0m\u001b[0;34m\u001b[0m\u001b[0;34m\u001b[0m\u001b[0m\n\u001b[1;32m      7\u001b[0m \u001b[0;34m\u001b[0m\u001b[0m\n\u001b[0;32m----> 8\u001b[0;31m \u001b[0mdivide\u001b[0m\u001b[0;34m(\u001b[0m\u001b[0;36m1\u001b[0m\u001b[0;34m,\u001b[0m \u001b[0;34m\"0\"\u001b[0m\u001b[0;34m)\u001b[0m  \u001b[0;31m# 文字列では割り算できない\u001b[0m\u001b[0;34m\u001b[0m\u001b[0;34m\u001b[0m\u001b[0m\n\u001b[0m",
            "\u001b[0;32m<ipython-input-18-507f73b880e8>\u001b[0m in \u001b[0;36mdivide\u001b[0;34m(a, b)\u001b[0m\n\u001b[1;32m      1\u001b[0m \u001b[0;32mdef\u001b[0m \u001b[0mdivide\u001b[0m\u001b[0;34m(\u001b[0m\u001b[0ma\u001b[0m\u001b[0;34m,\u001b[0m \u001b[0mb\u001b[0m\u001b[0;34m)\u001b[0m\u001b[0;34m:\u001b[0m\u001b[0;34m\u001b[0m\u001b[0;34m\u001b[0m\u001b[0m\n\u001b[1;32m      2\u001b[0m   \u001b[0;32mtry\u001b[0m\u001b[0;34m:\u001b[0m\u001b[0;34m\u001b[0m\u001b[0;34m\u001b[0m\u001b[0m\n\u001b[0;32m----> 3\u001b[0;31m     \u001b[0mprint\u001b[0m\u001b[0;34m(\u001b[0m\u001b[0;34mf\"計算結果：{a/b}\"\u001b[0m\u001b[0;34m)\u001b[0m\u001b[0;34m\u001b[0m\u001b[0;34m\u001b[0m\u001b[0m\n\u001b[0m\u001b[1;32m      4\u001b[0m   \u001b[0;32mexcept\u001b[0m \u001b[0mZeroDivisionError\u001b[0m \u001b[0;32mas\u001b[0m \u001b[0me\u001b[0m\u001b[0;34m:\u001b[0m\u001b[0;34m\u001b[0m\u001b[0;34m\u001b[0m\u001b[0m\n\u001b[1;32m      5\u001b[0m     \u001b[0mprint\u001b[0m\u001b[0;34m(\u001b[0m\u001b[0me\u001b[0m\u001b[0;34m)\u001b[0m\u001b[0;34m\u001b[0m\u001b[0;34m\u001b[0m\u001b[0m\n",
            "\u001b[0;31mTypeError\u001b[0m: unsupported operand type(s) for /: 'int' and 'str'"
          ]
        }
      ]
    },
    {
      "cell_type": "markdown",
      "source": [
        "このエラーについても例外処理を書いていきましょう。  \n",
        "exceptを続けて書いていくだけです。"
      ],
      "metadata": {
        "id": "jdJzSVBgBdEq"
      }
    },
    {
      "cell_type": "code",
      "source": [
        "def divide(a, b):\n",
        "  try:\n",
        "    print(f\"計算結果：{a/b}\")\n",
        "  except ZeroDivisionError as e:\n",
        "    print(e)\n",
        "    print(\"0では割り算できません\")\n",
        "  except TypeError as e:\n",
        "    print(e)\n",
        "    print(\"文字列の割り算はできません\")\n",
        "    \n",
        "divide(1, \"0\")  # 文字列では割り算できない"
      ],
      "metadata": {
        "colab": {
          "base_uri": "https://localhost:8080/"
        },
        "id": "duvRh_RKBf1r",
        "outputId": "4b9a3540-536c-4258-9225-830f840363e2"
      },
      "execution_count": null,
      "outputs": [
        {
          "output_type": "stream",
          "name": "stdout",
          "text": [
            "unsupported operand type(s) for /: 'int' and 'str'\n",
            "文字列の割り算はできません\n"
          ]
        }
      ]
    },
    {
      "cell_type": "markdown",
      "source": [
        "### try–except–else"
      ],
      "metadata": {
        "id": "zTHaPfIHB7sS"
      }
    },
    {
      "cell_type": "markdown",
      "source": [
        "例外が起きなかったときに実行したいコードがある場合は、  \n",
        "「**try–except–else**」を使います。 \n",
        "\n",
        "![リンクテキスト](https://imgur.com/YUvCdFV.png)\n"
      ],
      "metadata": {
        "id": "ELvyL1RnCF_4"
      }
    },
    {
      "cell_type": "markdown",
      "source": [
        "先ほどのdivide()関数で例外処理が発生しなかった場合に、  \n",
        "「正常に終了しました」と出力するようにしていきます。"
      ],
      "metadata": {
        "id": "YgsABlAOCiRH"
      }
    },
    {
      "cell_type": "code",
      "source": [
        "def divide(a, b):\n",
        "  try:\n",
        "    print(f\"計算結果：{a/b}\")\n",
        "  except ZeroDivisionError as e:\n",
        "    print(e)\n",
        "    print(\"0では割り算できません\")\n",
        "  except TypeError as e:\n",
        "    print(e)\n",
        "    print(\"文字列の割り算はできません\")\n",
        "  else :\n",
        "    print(\"正常に終了しました\")\n",
        "    \n",
        "divide(1, 2)"
      ],
      "metadata": {
        "colab": {
          "base_uri": "https://localhost:8080/"
        },
        "id": "zr8xKoupCs2H",
        "outputId": "795f6955-dde2-437f-925f-4e5bded8bb35"
      },
      "execution_count": null,
      "outputs": [
        {
          "output_type": "stream",
          "name": "stdout",
          "text": [
            "計算結果：0.5\n",
            "正常に終了しました\n"
          ]
        }
      ]
    },
    {
      "cell_type": "markdown",
      "source": [
        "例外が発生した場合は出力されません。"
      ],
      "metadata": {
        "id": "wyrko1xLDDcW"
      }
    },
    {
      "cell_type": "code",
      "source": [
        "def divide(a, b):\n",
        "  try:\n",
        "    print(f\"計算結果：{a/b}\")\n",
        "  except ZeroDivisionError as e:\n",
        "    print(e)\n",
        "    print(\"0では割り算できません\")\n",
        "  except TypeError as e:\n",
        "    print(e)\n",
        "    print(\"文字列の割り算はできません\")\n",
        "  else :\n",
        "    print(\"正常に終了しました\")\n",
        "    \n",
        "divide(1, \"0\")  # 例外が発生するのでelse部分は出力されない"
      ],
      "metadata": {
        "colab": {
          "base_uri": "https://localhost:8080/"
        },
        "id": "-uWffCZyDGo2",
        "outputId": "8d870c3b-8c53-4da3-ad6e-f67cfe34f139"
      },
      "execution_count": null,
      "outputs": [
        {
          "output_type": "stream",
          "name": "stdout",
          "text": [
            "unsupported operand type(s) for /: 'int' and 'str'\n",
            "文字列の割り算はできません\n"
          ]
        }
      ]
    },
    {
      "cell_type": "markdown",
      "source": [
        "例外が起きたら実行したくないコードをこの中に書くようにしましょう。"
      ],
      "metadata": {
        "id": "_Ur6vnlsDSsW"
      }
    },
    {
      "cell_type": "markdown",
      "source": [
        "### try–except–finally"
      ],
      "metadata": {
        "id": "ettTNNCNDhUP"
      }
    },
    {
      "cell_type": "markdown",
      "source": [
        "例外の発生有無にかかわらず実行したいコードがある場合は、  \n",
        "「**try–except–finally**」を使います。 \n",
        "\n",
        "![リンクテキスト](https://imgur.com/JbDfd9d.png)\n"
      ],
      "metadata": {
        "id": "eYYP2bz9DhUQ"
      }
    },
    {
      "cell_type": "markdown",
      "source": [
        "先ほどのdivide()関数で例外処理の発生有無にかかわらず、  \n",
        "「全ての処理が終了しました」と出力するようにしていきます。"
      ],
      "metadata": {
        "id": "9DbIhfqFEdok"
      }
    },
    {
      "cell_type": "code",
      "source": [
        "def divide(a, b):\n",
        "  try:\n",
        "    print(f\"計算結果：{a/b}\")\n",
        "  except ZeroDivisionError as e:\n",
        "    print(e)\n",
        "    print(\"0では割り算できません\")\n",
        "  except TypeError as e:\n",
        "    print(e)\n",
        "    print(\"文字列の割り算はできません\")\n",
        "  finally :\n",
        "    print(\"全ての処理が終了しました\")\n",
        "    \n",
        "divide(1, \"0\")\n",
        "divide(1, 2)"
      ],
      "metadata": {
        "colab": {
          "base_uri": "https://localhost:8080/"
        },
        "id": "SYu5wVG3EozN",
        "outputId": "4ffedda1-4e1d-410a-be4a-4cf3458d0241"
      },
      "execution_count": null,
      "outputs": [
        {
          "output_type": "stream",
          "name": "stdout",
          "text": [
            "unsupported operand type(s) for /: 'int' and 'str'\n",
            "文字列の割り算はできません\n",
            "全ての処理が終了しました\n",
            "計算結果：0.5\n",
            "全ての処理が終了しました\n"
          ]
        }
      ]
    },
    {
      "cell_type": "markdown",
      "source": [
        "「すべての処理が終了しました」と例外の有無にかかわらず出力されていることが確認できます。"
      ],
      "metadata": {
        "id": "TODUcwHlFMwx"
      }
    },
    {
      "cell_type": "markdown",
      "source": [
        "### pass"
      ],
      "metadata": {
        "id": "27W59CGiFqjz"
      }
    },
    {
      "cell_type": "markdown",
      "source": [
        "例外をキャッチするが、特に何もしない場合は  \n",
        "  **pass**を使います。"
      ],
      "metadata": {
        "id": "SNEgj-pnFu4U"
      }
    },
    {
      "cell_type": "markdown",
      "source": [
        "先ほどのdivide()関数で文字列での除算が行われようとしたときは、  \n",
        "「全ての処理が終了しました」とだけ出力するようにしていきます。"
      ],
      "metadata": {
        "id": "PSjQaTJOF6-C"
      }
    },
    {
      "cell_type": "code",
      "source": [
        "def divide(a, b):\n",
        "  try:\n",
        "    print(f\"計算結果：{a/b}\")\n",
        "  except ZeroDivisionError as e:\n",
        "    print(e)\n",
        "    print(\"0では割り算できません\")\n",
        "  except TypeError as e:\n",
        "    pass\n",
        "  finally :\n",
        "    print(\"全ての処理が終了しました\")\n",
        "    \n",
        "divide(1, \"0\")\n",
        "# divide(1, 2)"
      ],
      "metadata": {
        "colab": {
          "base_uri": "https://localhost:8080/"
        },
        "id": "pVzpysyPGFlJ",
        "outputId": "d0a2a805-9711-4f93-9cb8-45e4a0fd4e24"
      },
      "execution_count": null,
      "outputs": [
        {
          "output_type": "stream",
          "name": "stdout",
          "text": [
            "全ての処理が終了しました\n"
          ]
        }
      ]
    },
    {
      "cell_type": "markdown",
      "source": [
        "### raise"
      ],
      "metadata": {
        "id": "zJI5X_MpHRiX"
      }
    },
    {
      "cell_type": "markdown",
      "source": [
        "特定の例外を発生させたいときは、 \n",
        "**raise**を使います。\n",
        "\n",
        "try-exceptをテストしたいときによく使われます。"
      ],
      "metadata": {
        "id": "-nVEWElmHTB5"
      }
    },
    {
      "cell_type": "code",
      "source": [
        "\"\"\"\n",
        "    いちいち「print(f\"計算結果：{a/b}\")」と(a,b)を指定してテストするのは面倒\n",
        "    raiseすることでテストが簡単になる\n",
        "\"\"\"\n",
        "\n",
        "try:\n",
        "    raise ZeroDivisionError\n",
        "except ZeroDivisionError as e:\n",
        "    print(\"0では割り算できません\")"
      ],
      "metadata": {
        "colab": {
          "base_uri": "https://localhost:8080/"
        },
        "id": "AGF2NL4XHoGM",
        "outputId": "8b144d64-3ee6-4b9d-9adf-f4e8448146d4"
      },
      "execution_count": null,
      "outputs": [
        {
          "output_type": "stream",
          "name": "stdout",
          "text": [
            "0では割り算できません\n"
          ]
        }
      ]
    },
    {
      "cell_type": "markdown",
      "source": [
        "tryの中でわざと例外を発生させる場合は、  \n",
        "後で削除するために「**TODO**」とコメントをつけることが多いです。"
      ],
      "metadata": {
        "id": "0GmDAHrLIWYl"
      }
    },
    {
      "cell_type": "code",
      "source": [
        "try:\n",
        "    # TODO あとで削除する\n",
        "    raise ZeroDivisionError\n",
        "except ZeroDivisionError as e:\n",
        "    print(\"0では割り算できません\")"
      ],
      "metadata": {
        "colab": {
          "base_uri": "https://localhost:8080/"
        },
        "id": "gVKk907PIe_H",
        "outputId": "9f3f07f6-ca0c-4049-8687-02f3e5e4a7d2"
      },
      "execution_count": null,
      "outputs": [
        {
          "output_type": "stream",
          "name": "stdout",
          "text": [
            "0では割り算できません\n"
          ]
        }
      ]
    },
    {
      "cell_type": "markdown",
      "source": [
        "exceptの中でraiseを記述すると、  \n",
        "その例外を発生させることができます。"
      ],
      "metadata": {
        "id": "9QB3mrFtIxlG"
      }
    },
    {
      "cell_type": "code",
      "source": [
        "try:\n",
        "    # TODO あとで削除する\n",
        "    raise ZeroDivisionError\n",
        "except ZeroDivisionError as e:\n",
        "    print(\"0では割り算できません\")\n",
        "    raise"
      ],
      "metadata": {
        "colab": {
          "base_uri": "https://localhost:8080/",
          "height": 257
        },
        "id": "54I87ow9I-zU",
        "outputId": "37576705-ab5b-4c50-f0ce-b60779178d1e"
      },
      "execution_count": null,
      "outputs": [
        {
          "output_type": "stream",
          "name": "stdout",
          "text": [
            "0では割り算できません\n"
          ]
        },
        {
          "output_type": "error",
          "ename": "ZeroDivisionError",
          "evalue": "ignored",
          "traceback": [
            "\u001b[0;31m---------------------------------------------------------------------------\u001b[0m",
            "\u001b[0;31mZeroDivisionError\u001b[0m                         Traceback (most recent call last)",
            "\u001b[0;32m<ipython-input-27-ddb9b971dcf1>\u001b[0m in \u001b[0;36m<module>\u001b[0;34m\u001b[0m\n\u001b[1;32m      1\u001b[0m \u001b[0;32mtry\u001b[0m\u001b[0;34m:\u001b[0m\u001b[0;34m\u001b[0m\u001b[0;34m\u001b[0m\u001b[0m\n\u001b[1;32m      2\u001b[0m     \u001b[0;31m# TODO あとで削除する\u001b[0m\u001b[0;34m\u001b[0m\u001b[0;34m\u001b[0m\u001b[0;34m\u001b[0m\u001b[0m\n\u001b[0;32m----> 3\u001b[0;31m     \u001b[0;32mraise\u001b[0m \u001b[0mZeroDivisionError\u001b[0m\u001b[0;34m(\u001b[0m\u001b[0;34m)\u001b[0m\u001b[0;34m\u001b[0m\u001b[0;34m\u001b[0m\u001b[0m\n\u001b[0m\u001b[1;32m      4\u001b[0m \u001b[0;32mexcept\u001b[0m \u001b[0mZeroDivisionError\u001b[0m \u001b[0;32mas\u001b[0m \u001b[0me\u001b[0m\u001b[0;34m:\u001b[0m\u001b[0;34m\u001b[0m\u001b[0;34m\u001b[0m\u001b[0m\n\u001b[1;32m      5\u001b[0m     \u001b[0mprint\u001b[0m\u001b[0;34m(\u001b[0m\u001b[0;34m\"0では割り算できません\"\u001b[0m\u001b[0;34m)\u001b[0m\u001b[0;34m\u001b[0m\u001b[0;34m\u001b[0m\u001b[0m\n",
            "\u001b[0;31mZeroDivisionError\u001b[0m: "
          ]
        }
      ]
    },
    {
      "cell_type": "markdown",
      "source": [
        "プログラムをテストするときに使うことができます。"
      ],
      "metadata": {
        "id": "MDuJXczuJK41"
      }
    }
  ]
}
