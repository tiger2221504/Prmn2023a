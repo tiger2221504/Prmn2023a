{
  "nbformat": 4,
  "nbformat_minor": 0,
  "metadata": {
    "colab": {
      "provenance": [],
      "authorship_tag": "ABX9TyMrEVEKe9CHW8yCT78B4XJQ",
      "include_colab_link": true
    },
    "kernelspec": {
      "name": "python3",
      "display_name": "Python 3"
    },
    "language_info": {
      "name": "python"
    }
  },
  "cells": [
    {
      "cell_type": "markdown",
      "metadata": {
        "id": "view-in-github",
        "colab_type": "text"
      },
      "source": [
        "<a href=\"https://colab.research.google.com/github/kiryu-3/Prmn2023/blob/main/Python/Python_Basic/text/PythonBasic_2.ipynb\" target=\"_parent\"><img src=\"https://colab.research.google.com/assets/colab-badge.svg\" alt=\"Open In Colab\"/></a>"
      ]
    },
    {
      "cell_type": "markdown",
      "source": [
        "# 第2章\n"
      ],
      "metadata": {
        "id": "PCbl1accBH4A"
      }
    },
    {
      "cell_type": "markdown",
      "source": [
        "## 制御構文\n",
        "文の実行順をコントロールするプログラムの構成を**制御構造**といいます。 \n",
        " \n",
        "  代表的な構造が**順次**（これまで学習してきたもの）・分岐・繰り返し（今回学習）です。  \n",
        "この3つの制御構造を組み合わせることで、どんなに複雑なプログラムでも作成できることが理論上可能です。  \n",
        "これを**構造化定理**といいます。"
      ],
      "metadata": {
        "id": "v1Qkk_SUCDV6"
      }
    },
    {
      "cell_type": "markdown",
      "source": [
        "## 条件式\n",
        "分岐する条件・繰り返しを続ける条件のことを**条件式**といいます。  \n",
        "分岐や繰り返しを行いたいときに利用されます。  \n",
        "\n"
      ],
      "metadata": {
        "id": "KLyM1lKfCuCx"
      }
    },
    {
      "cell_type": "markdown",
      "source": [
        "### 比較演算子\n",
        "条件式を立てるときは**比較演算子**と呼ばれる演算子を用います。  "
      ],
      "metadata": {
        "id": "JE4TPYLLEvdW"
      }
    },
    {
      "cell_type": "markdown",
      "source": [
        "|比較演算子|使い方|説明|\n",
        "|:---:| :---: | :---: |\n",
        "|==|a == b|aとbが同じである(a=b)|\n",
        "|!=|a != b|aがbではない(a≠b)|\n",
        "|<|a < b|aがbよりも小さい|\n",
        "|>|a > b|aがbよりも大きい|\n",
        "|<=|a <= b|aがb以下である(a≦b)|\n",
        "|>=|a >= b|aがb以上である(a≧b)|"
      ],
      "metadata": {
        "id": "75V6i6p7DbOX"
      }
    },
    {
      "cell_type": "markdown",
      "source": [
        "### Boolean型\n",
        "比較演算子を用いた条件式は、  \n",
        "条件が成立したら **\"True\"** 、しなければ **\"False**\" に置き換わります。\n",
        "\n",
        "\"True\"と\"False\"は**真偽値**といい、データ型は**Boolean型**です。"
      ],
      "metadata": {
        "id": "DNPr7JK_FAjF"
      }
    },
    {
      "cell_type": "markdown",
      "source": [
        "プログラムで確認してみましょう。"
      ],
      "metadata": {
        "id": "rdIJstvYG_LD"
      }
    },
    {
      "cell_type": "code",
      "execution_count": 3,
      "metadata": {
        "id": "dXo8dv0e8xnk",
        "colab": {
          "base_uri": "https://localhost:8080/"
        },
        "outputId": "2e3ccd3b-f902-49c1-fa55-9b785110feca"
      },
      "outputs": [
        {
          "output_type": "stream",
          "name": "stdout",
          "text": [
            "True\n",
            "False\n",
            "False\n",
            "False\n",
            "True\n",
            "True\n",
            "True\n",
            "False\n"
          ]
        }
      ],
      "source": [
        "print(4 == 4)  # True\n",
        "print(4 != 4)  # False\n",
        "\n",
        "print(4 < 4)  # False\n",
        "print(4 > 4)  # False\n",
        "print(4 <= 4)  # True\n",
        "print(4 >= 4)  # True\n",
        "\n",
        "print(4 == 4.0)  # Pythonが勝手に型を調整するのでTrue\n",
        "print(4 == \"4.0\")  # Pythonが勝手に型を調整できないのでFalse"
      ]
    },
    {
      "cell_type": "markdown",
      "source": [
        "### 論理演算子"
      ],
      "metadata": {
        "id": "4fiA2lrXLMI5"
      }
    },
    {
      "cell_type": "markdown",
      "source": [
        "2つ以上の条件を組み合わせて、より複雑な条件式を使いたい場合は、  **論理演算子**を用います。"
      ],
      "metadata": {
        "id": "7JKL6jGHLYqD"
      }
    },
    {
      "cell_type": "markdown",
      "source": [
        "|論理演算子|説明|意味|\n",
        "|:---:| :---: | :---: |\n",
        "|and|かつ|両方の条件が満たされたらTrue|\n",
        "|or|または|どちらかの条件が満たされたらTrue|\n",
        "|not|否定|条件が満たされなかったらTrue|"
      ],
      "metadata": {
        "id": "nsSxnV06LZi8"
      }
    },
    {
      "cell_type": "markdown",
      "source": [
        "プログラムで確認してみましょう。"
      ],
      "metadata": {
        "id": "COnXASlZLg4r"
      }
    },
    {
      "cell_type": "code",
      "source": [
        "import random\n",
        "number = random.randint(0,15)  # 0～15までの整数をランダムに取得\n",
        "print(number)\n",
        "\n",
        "print(number >= 0 and number <= 10)  # 0以上10以下の値ならTrue\n",
        "print(number <= 0 or number >= 10)  # 0以下の値か10以上の値ならTrue\n",
        "print(not number == 10)  # numberが10ではなかったらTrue"
      ],
      "metadata": {
        "colab": {
          "base_uri": "https://localhost:8080/"
        },
        "id": "ltNg5M5LLm9I",
        "outputId": "c9156829-9de6-441d-dcea-601c8c3cfb4a"
      },
      "execution_count": 4,
      "outputs": [
        {
          "output_type": "stream",
          "name": "stdout",
          "text": [
            "0\n",
            "True\n",
            "True\n",
            "True\n"
          ]
        }
      ]
    },
    {
      "cell_type": "markdown",
      "source": [
        "## if文  \n",
        "**if文**を使えば、処理を分岐させることができます。\n",
        "\n",
        "複数の文章のまとまりを**ブロック**と呼びます。  \n",
        "if文にはifブロック、elifブロック、elseブロックが存在します。"
      ],
      "metadata": {
        "id": "3GlsZ3brrDgg"
      }
    },
    {
      "cell_type": "markdown",
      "source": [
        "Pythonでは、ブロックの範囲を**インデント**で示す必要があります。  \n",
        "1つのブロックの中では個数を必ず揃えなければなりません。  \n",
        "\n",
        "一般的にインデントは、半角スペースを4個にすることが多いです。"
      ],
      "metadata": {
        "id": "BosRKwD7rGbx"
      }
    },
    {
      "cell_type": "markdown",
      "source": [
        "基本形は**if-else構文**です。  \n",
        "条件式が成立したときとしなかったときで、処理を分けることができます。  \n"
      ],
      "metadata": {
        "id": "5xRVimmTK-Hz"
      }
    },
    {
      "cell_type": "markdown",
      "source": [
        "\n",
        "![pp_02_1.png](data:image/png;base64,iVBORw0KGgoAAAANSUhEUgAAATAAAABuCAIAAAAvatiXAAAAAXNSR0IArs4c6QAAAARnQU1BAACxjwv8YQUAAAAJcEhZcwAADsMAAA7DAcdvqGQAABwFSURBVHhe7Z1vbFRXdsBf/AX6YSFfVmG1VWwyDg5FTRjamuy2wRAPRjL5wLKONWml1K4HaDCJN12Zmni8sMLeOKEJMYm9a2HLXrZRpsglXin2KmYQzCpRWZN6UCUKdjzBbr+QP1II+VDoh9Jzzr3vvfv+zoxnxh7D+elJHr957819791zz5/75zxw9+5djWGY4qBE/mUYpghggWSYIiIjk/Xy5cujo6OXk8mbN2/evn37D5OT8guGYbx54vHHH3zwwZUrVz75gx9sJeQX3vgJJIjfW8ePDw8Pr/7Od3ZWP/2n69evXrVq5YoVf7Fxozyi+JiIPloX0xoHP+2pwn9Tw/XBzmRlNB5vKBVfic90rIP54VB116QWHpk9WiN3MczC+Y+rV7+5devOnTuXLl/++NIn05999qNduw4fObJmzRp5hAN3kxXU4KuvvrrxiSf+95ubY6dOffTb0UMvvfTM9u1PbV5z6RfPrip/dFX9cEoeq6USHSHYQ1toeF7uzQYQFds180CiA64J0ggfJztD8BmkUf9c37eQYjJMdjy+fv1TmzeHtmwB8fngN6c+Gn2/4vvff3Jz5aG2NtB28iArLgI5Nze3dcuWr/77v+D8Qy+++PAff19+4UqiI9gUK0YTturordlPk9EgfAStCJ9HwribPp/eDzqSJNayoXoEYnW2/SzATD546Lvfbfrr5y797nd/dPf/QMTAE5RfKNgFEg4KP/vsGz/rOPLTn4KBKvealO4//SlU7lunGwL0f+r6NP0Nj5zD/Z7W4CIABqeuBoeaQFcPt3hpyGgCPzHMUgBO38t797779tv7IpHR99+Xe3UsAnnx4kU46J/fPgGqVu5KR2oWa7wWDtUsnSRKShviuhoEHzLe0NDjpSE7yb8kFXrrXHsl/hPspgbF2MSJ2qb2JP5LGpVh8gcYnh+c+nXfiROx996TuwhTIMFS/cmLL777ztugWOUuNxR/LwEqSKgdLRbRd3qSSgy31NcbRmAomvA+eH4iWm/4pbaDfa+TGBPl0cvp4UM+2mLoyNJtuzfBn2TbSVVtJk7QiY3N0hBgmLwDqvLd3nd++c47oAjlLkMgb9++Ha6vf+Pwz/ylceGgq9k1NEXqFElOxiJBdwGe76sP1cWSil8KB/d+KLw4/+sk4kP0d6h3ONBpV3egNo09IgZLlO5vJtUZ6zUcxdRwL10nvNM8jGHyD8jk4Bv/9Pd79964cUPskQJ5/Pjxv/zzP8vcUiWqwCYUdqA07XTH0kGipYnUU3iALEDdIJzqOuH05ubPn5mCP0FTfs4NdIcr6Ls015k4q+vHqa59w4m+eqFFpZ4Ex1L8a/chqyLdQkm2kmDPD++j4yujEe78YAoNqMCG+mePHD4s/kWBBOns/9Uv2w4cELtyA+1YWe+N2i8VV7B7T5WQ2EBDcyN9uHLdK3yZHGqqb4kOTyTmU6VV+zuPUlzU/zqmvdoYDm+QH1ExmhpyULQfNkr3HyNPcqorGB3ua6VY66b2/iUMUDH3E03PPfdvH38sgq4okK91d7/w/POgPenb/KNHYpNt1YagRoRt6UJpw8Ew6T2QyVhXXVMoWP5oKIq6y/86ZGeGG4XEbT/a01BGn1AxmhpSKFgnpQ1xIauxrjbUz+ERT23PMPmn7UCzUJIokO/FYj/euZP25w7asdLUFFtnVWCtMDjtkUzYXLtJajpP35qNjwy2d4fDFALVJmNggs6nvQ4Ymc7byEBDIiktIH6LmJ7ljkdmEQlt2XLx4sWbN2+WXLhwoeKRRwoVyxFUhciwBCetY8Ko6PMYSjWjnQaJDtCHcFhNVQNYqvHZAWGUIr7XCTScVsV7IhoiXeemIWMRy4ii+URftD7YJCzVIIklKuHQsE8cmGHyCdin26u2jI6Olvx2dLT26afl7kJR9ZKMvsTqDGuzGkOp9K0d0Id11dg5oRilwd3bQNiyuE5NZ5xCNZbgqtSQ4QEhutSDAleItNEVKsMDydOn4+cGxImTnZFgeX0LiyWzKIAYjr7/fsnVq1fXBR6R+woGqK/kuYFGqX+ITcHG6MBLzn6FslB3WDlMC1aG20fOya75LK5jh6JNqg8pe1DwI/3Ep3GwruGf0qr9pz9NDrY3Uuh1SIilU5MzTF5Z90jg2rVrD2yurPzFwdZinsCRFcpsD+zPBKuVPsM38l9yQYV4J1rqe6+sa+7fUxUwTV0LoEJP9I7DMSCrchfDFIbPv/zyr3b96IHShx8eO3UqzQhyhmEKD7hgD8AfcK7E/wzDLCEgkHKkDsMwxQALJMMUEUslkPM40JTnJTKMlTwLZGrYmBjVMSH3uSB77cWkLXVzF1GUXkvHA85FznwWf6KFDsaycRPAFDc5CiQpOnP2U0ewU9PHtXmuE2UsNmX218su+/CIa+8Czv8QM6GkaC2QbbWNtjE6DFNk5CiQtKKHPg4bZz+Fm30n19OcZm3g1uzAhs6QqfRA4zXFGgfdZXjiZNdkOIRfJeJDm2p3+F3fj0BpQ8+5dq1zwEd1M8zSks9uD1R9IGxefei4yOL4bn3MDQln5Eo0Hl87sAqlUZ00rIKHaUpHvxvY17/jPK74KHekw/vnGGbJAK8tV4E0hFAYogaZ1XgUtiFa58ZrdSxcWHW8NglKGOU5dVBYwnbZ9gd+pbci04Ph8A5oIHyKxDAFAgQyb0Gdmk5aPSAM5ij6hH7SaK6/CHKCBx+c1YeS24MutLbNVCoFzmprl7bwKfzJ6Tn5iWGKmUXs9jDksDcgFuAwVnMDYRZiPKKJuKuM3ExEjfnH6KymVVmgpeVPKFtLoqyCZm9kCq1Gx+qRWRIWUSDFsouwKZPxQYTUsKcumSSoiY66WHjEe0qxE1Oww2YUt6eqtHydz1ohDFNELKJAUojVpr7A7RTrMlo37MOcOKvGXa3n4hLj6kIeacYYBMqDk7NsszLLgMUUSNvqHnICMWDvk6TIDag7xRG1nourG1sX8vCdHhXYVlsZi3NvB1P8LKZAqoDGC52pjQvbsl9rLewYGlwNOfa6tI3n++o5VwdTpCyBQNLwuoiGq/3LwEmg4fSt7XH/0Xa5gQs9ZjokgIJPPKCHWRIWVyCprmO/orNfBEM+oTHwBn3zEWSO4pqSPixt6I9O16EenpueqijnGCpTlOQqkBjY1P039bMT7JMQHR6eS56So3hM25cuSOMOjjiXMR4anWd4mLJzBdfjKe/FVbM2BfzWXOVuD2bpWOIVA0BKXy/nMTEMg4Au4SU8GKZYAIFcqigrwzAusEAyTBGxmAK5HJbtSHRgCTE+5NcHgz03GA12LGXgwnK460UGg+2F6+Ja3iyeQBbZsh0eslQVaoz19mkNB8PGQAIfMNnrUNPSDDOwDQPOkIWcla55yhbMYiZmnOtgBN6oD2q/lzEhATd8zpYj1e1eafIWSSDhOS6DZTuw5sUrolrbyUTNnnZt/Hz6HtGqo8moduZ8rhKJ9axoq1Tp2g1abCx/pUvNJs12Wb9rWTdscwmoC0qfKiC7r+SRyvBJmbf3nmARBBLHhS+PZTswNWWsbbw2CW1EaUNc9JeilFobY5GSeaorqH+mQQhCh5CBajnYwy5wjH+oLJcJLf0xVITbuPz0LVcG4+yt4/hxw0lwZv5p3DwUpkWh4ebWFM7PztyDgpQvCtztAbW5qJbtKIPyUNo5J5vacV0C86flbroFfaUCHXMdA7kjR/A2z9Rm1R+Lp0w3ez1AT7Dks836+A28WZxxKu/dG5C03oDfMfiU4MGGR2aPBpSfEJaR5UXDka1aP13KKAwcJruj3X7I/Fa/oAth77Vjlg/QhBVYQ4Ke0S0NoqqH9KRYI8OrMmEu5E3tmNCKDNcRYd/aZ3jgZXEQrPzXtg00Wg7GDX8Oy0P/2q8W79YwJyyU8KVocKg3zfA9PXWsB95BC/RpPb7asDYrM2BueipYkZFOdTDTq+v8CDQ9ePtpWxZwrafGP4TH4wrcb3XXBrwUNltgkRraHgdvnWu/0mS666nz41rtNvFz6pGZwyZrPjCNmeJYtmMuNampI1pLd9RKWy7Q0Nw41XXCUqhYnSw8bmiGlQUqsYQCtPEs8SFMLOvudKH7ZI1nLJD561f08pOQm8UTm7vbjOt0wrPVdustkUubaL4pdQNF6jEBFTSexdgBi1R80KF08UNN0qT/cDyp28yWI93bIyqMbpx72Mn3FgUWSOPtFtmyHc5An0LVzrA2dFaVJ11LU4ABwTiHnvYcvVzS5ybOKwgSY2C/bXcKAag7+SlToEHRy+9qJjieGzm3TRrdiGqzODAWdrBvVqNDtw/J2x9QBBvvxS5d2ELR40oMoAMyc53aMlTylIfXIcMGlqCOe7jhHqPAAmm8XcUoAhFS229dMqmWLNKyHdhO+xhLNdvDWsx/QjMIfJKCq/N9vbHGZrvJFygP6tVOAURXE6HjLIF2zRoEmjgby8bYI1d83UBudRqMea2t1WbMQxMT7N6j3BKqbqctjY9reo6e1SB6B2iAGOE6M6JuAAX2DFDJUJayakTmcYTip9AmK5pzhuISm1t4EDY0SBZp2Q6sAaJtNrH4M9iO6MUAXeQyO0SauKnh1jbNph4RXKPA4XT5qmUfsB5X6n4XgWJgK78PopAYOs4ClxcXHK9olJ62jmI5C8BFnHSJigsTAE0eaCvh0YH5gG0K3RSd4jv/RsFof+1RgOUf0REUWiCLcdkOsrJsK6yj1eQZVlm3Vq8upnFF149g6oRjbhERtGltTiyqZTd7FfA1sNHMCx9UTVBLV5DDg3WAbY1FntOBjkZExnvU7VjgypQ26dc9S6aH87esahO99FgETCG6KXosDhPDwdx9ss7DYgV1EKg6RbBsx/zw6zYrC/EMWjqNQym3KHLgXQrBdppYKGMWN9LFMDNAA9vN58TShjAirUa2rEayiwdrJ8s1voRh6RbvETFqNSSr+tKAs+0gHC2gaIB0r1I1MTBa1hUsD7VpeouDXgyYVJHpZnBqFL1tt5jukZDPIgkkRQIjxbBsh1I5MM4hdAt1tLgOPwCVqBiHZOuS3MK5kSvRdhxnZ5FDAzTMVDcSDTNve7VmTzvoW1toFB9adZdmW0PdVoMBM97rjtBI+VqKwUrVznCy7SQ9RBlutbup1HNoGY+FgyjBoR2saKuu7ys7apVwvV+KdmLETg8HUgOhGE12iykX97iIKLxAUqC1WJbtEEEjWTnApRnQaACKp+WJtR8FVXYtoHgco3Za9OM39ECtwjiHfn0FbHHMqoZ9OR72KoEVkXpoZfmpVPTQrPFSRwwJx+5Nq70y+qa2dFiPR9bJoUWum9IWkI+n9Bz6U9MZ756hODl1RaqvWATA8YGb0oKNoEwAA2//XO0ZVHGejTJ6jKq43gcUdqQOto4z9lEgsNO+SoAY52EMtgAZxgC9tc3DYxz5PMSJ4rPHWA2QJYzCpR2M4sZEtH52j72TAMo/tl2peVjamLi+Jn4rM9zNwmIBGh2j/8lK+icJUkfjqxxHwrvYpx1zdMm4/xb4NdYjvYskWP6DdaD9WoIVA1wEkmEYXsKDYYoKEMjFjLIyDJMGFkiGKSJYIBmmiCigQGLUu6Bd/wxzz8EakmGKCBZIhikiWCAZpojIh0DS4Di5eQ6CU4YF46aMlsrodB062H06PMMsf3IVSBzk2TRtjPHFAZMuQoWDnq4o861GwnKKQGanM8z9Qo4CSWOmB83Rnjhrwb4gjSamw6kTams6xSmZna5CSxDwsDvmXiU3gcQ1KazTCHEWomPtDNyZbKt2DOrP8HSGuW/I3Ye0Lqsh1gW2g2s3qLOEFCcwk9MZ5n4ht8HlrvOkdHDulZj5ZoPmTOHcOc3vdIa53wCdlJuG9F6A1A/DLl3Y6Qxz75KjyUrrfFvTP4FitE82B0WqjqFLDLTJRd8yO12Fuz2Ye5pcfUhcqEIuxCC3uhnHmkugCdVsM9jPISOrGZ3OMPcNPEGZYYoFUEi5R1kZhskbLJAMU0SwQDJMEcECyTBFREEFElfFLfZFA0SXzPxwyHcNdRwEj6PezcXOvVkOd32fg51nfq97CSmgQOKK8VNu6fXdK6ujrqOQ2BJm+JBooYNRcjK8vgC7ZHr7tIaDYSMRiA+l+5vDto7TxQLnr6VrC1TwfgvaYTthTSuYIQs5K11zmS3ONGRQKrN+qvONqN9b3/C9W45Utzw1wYUSSCh3XcyR4goTP1rSPJiYuWikaC2QbbWNjiQZnuCbjldEtbaTiZo97ZpfXicdXLpfo8yQOYHvNetX6EgHBNUl29lqwiJYXmBKn3yO6MI81oae0J+GrKu23KQ0u0hPPSo7z+WRhcmpXgiBxLYcR7FSsgqzUYfa75aMRUA5cKjRsuRay5pAaUPPOZccO+6UomJsG6/F3ImlDXGx7j1KqbXxEylBMSuT/Kxk2CYD1XKwh13gkJwFpNe3U3WUMnZ4ag9ngr1UWSCLBssNQ0W45flM35JmkIoL64/1sphBYIiysOibxy1bFBpubneKCZTyLkj5It8DA6A2WzJwwMPFqcnxtQOrLJnobeBhGn4L9dtrwgc8xNM7zmeZPKMMyqMn/7AhM08YPy130y2kDlqHvIMljKlvss8O4gHeJqXrSdvweDwQJY8FGSNGQhu8nTQ5OaDW5mFMPxZsujnr9CT4JGeb9cLrpU2bLwTK3BvwOwbfGrxofA4B5SeEpWapeHBkq9ZPlzIKA4fJ9BZuP2R+q1/QhXxkFoEWpOShhx76/Msv5Y7cwSxO5oRjaMN7RFInTHIY93p5lA2ORsyR4SoT+tvzjeFlXfPp02bNgE8b/pyR3sx+NUysTcmAaTxtbxrDL7C2Qn5yBRtm9zYbfVqPrzzzw1rAmWtYYDCloNbKwluS1WL+qU2xOqmBjYRttgdi3C/pVVeH2aFefCMfnhk10zPTq9sgEZkW1l8aAXD1HRmpTaDkNH9IJKVTk2Fj/qxz7VeUZF6p8+OanlLWkjY7Ywprsj64evU3t76V/+UR8+32VlChD87q5o3dh8F1AyjJ4Xxfa5dmSU6aFbaMxVbmUpOW5NsyJzl8wvSJ9mUKYmqCNzR7MJGokYYR2nVrfMV72gq6KwtJY24H4xBmImcJSjvKIebVs9dXe7Jx836Bmu3hScOqN0z0syGsZ+o2qMFzcI8kKdenRsd8XGJzt4oTHWT8a7v1lsKljXZpF2ADReqR0B7KbzG+zCzXEmiUB8NDTaJxwYTN+nOwHOnePlJhdOPcp3nKA7fv3Fm5YkXJmjVrPv8qfxrSeJp6nk3DFTayw49owr+S/sZE1DCxUBukteLAZpA/oWwtCd+s4KJCewpG1c6wLYGxrqXJoUfUVMEuSYudVxAkxsBeckkLKXLuZ45POnQBKEbVMKEGyCdxv9qCGEaE0+LCCJaH+QDX15+nq9nieI/kbKOpDN9ai2qD4ihum1Xn66Wl6MOAItj4bO3ShferJ2yGJy8T6aKSp1lHDhk2sAR1cjTy0/DFl1+BuVqyfv36mdRncl/uGE9TMUJAhNT2UpdMeisig6ottOWLKdjyMeHnnirMCu699gflvvc2TkBjaLG4b/sHAp+k4KojZSoRKLfkS5bgGiVeacx9gXZNDQL5pUN3BzOxO3P9m3i1IHYC22or3WxFZ6Z3X8gTXjeQW50G50Kj9Lgq0ORZE9TTAk4OWxpf3/ScyNaO1jsaREb40OXxQoE9A1QylKXkVM88ruHDzGepxx57rKRq69aPP/lE7ssDaM4ZiktsbuE42NAAgPeqxF2t5yo3LDffeL1f+I5SkaurbAEW/wHbEb0Y7rpFmnyp4VZ7RnHCteL6qmUfsN6o4mSGoDMFq6ntfm1gu7bwIET666uIh4ah7CxwqUjB8YpGwxMW2C1zSh3vEqUXJgmaYNB2Y4roswmjzaJTvK0JK4Y+sEclFv4wJR9NXtq6dWvJrl274okE2K9yd64YQQWxxbt1S9LQZvqGAgC3pxgb1nPtYZg094wiEXPXclShm61mElopnmEV01szjRm6fsQz+TnatDYn1sfO9DWw0awKHzRMvvnh1xUloFrsXg0zBcnslXJhAQxqnhz129I15fCoHeBP+6lrB+j4RGS8R92OBa5MaZN+3cVkCjl/y6o2MWoQi4BpRg+ZXpPD5HEw56Mz88K/jo2Fn3uuZOXKlTt27Pjg7Fm5O5/Aq8LgvrAt+7XWwnZJ48ogRvBQMTmsFVrHM0joNMak3KLIgXcpBNtp0qCMWYxAPzsTDWx3i5FCFJVKZEttTTDmPmPGWjG4h72jtpLQ4pr2GpadTpOIeIn9Ulaj3cWjtpNB36OKMCzd4j3C3VVDsqpvD9jaMh1HiywaRN2rVE0ejN7BIw21aXqLg14VmHiR6WZwshS9bbfgcgr5XLp8ec33vldWVoYDA9oOHXrr5ID4Il9Q5C0CjZzh3KPrvz1eyFBV6f5jLkMClJeBcQXRlrvqEAJUolJxydYluYVzI1ei7TjOzlL7DdAQUt1INIS87UxcgdbRQY8PrbpLU3PrY2tijG2iEJFNPDa1J2nJBeNSGCTTgxwgwOnu1wMRnBNrkdkEw1aDATP+7I7QSFkPKsoIcIaTbSfpJmW41e6mYitmPkMEB3WCQztY0VZd31d21CrheoiLdqI9oocn6TkoRpzdgsvFPdZAAEEM4QMK5MaNG9dv2DAyNkZf5Qy9S+xGdwa10VULjcGbztO7UVxT0hKlDf3R6TrUw6AAybUQQSP5MrB7QKMBH56WJ9Y2rLgylI/icYzaRdGP39ADbxHjCvr1FbDFMV8tqSmfuCi+eOqhleWnUtFDs8Qn8TDjTduUMNpaaF3jMfHd4634BCwCPB/Yk+5+VYwIOWwyHOpUU46YFkZizQU+lU1tebEe06Ai2zHmprRN5OMpPYf+YDfsDMXtHc2HMO+VURMANspyMUSojXL5GE8lgR6jKq6FAdTjF19/Dc4jfH7g7t278OfGjRtbt2yJ/0ts9apVdMwCkTaV9R5gpzHQQQKNGWh8Y3ADVAXn2BE8Rh30Q4gTxWePsREgS+hcpR384cZEtH52jz0oD+Uf2668aSxtTFxfE7+VGe5mWJbgEzZGiizoHpcJ0AimG3LkCUgdDW9yHAl1Y592zNEl4/5b4GdZj/QukmBBg3Vu37nzzPN/2z8wAHoR/pUCCVy4cOHwK6988JtT4t884iKQDMMQ/3Dk55t++MMXXnhB/GsKJHD8+PH/nPr3N48ckf8zDFNI+oZ/ff2LL37V3y//t832ePnllx9Z/yd/c+DAN7duyV0MwxQAsFRBN9qkEbBPvzr0yit/t3ffj/fujf/+93IXwzB55dLly3V79oKlapNGwGKyGly7du0nLS3/8+23/3ig+anNm8VOhmFyZCb12c/ffPOLr79+q6fnySeflHsV3AVScOHChSOHD89dv/7M9lBtdfXj69fnGINlmPsQsE5BJX70h8kz4+NaSUn3a6+JHg53QCD9uX79+vHjx6u2bHlw9Wp5DsMwGbNyxQoQn8OHD1+9elUKlTd+GpJhmEWmEGvqMAyzQFggGaaIYIFkmCKCBZJhiggWSIYpIlggGaaIYIFkmKJB0/4fJAtRS/wvEhYAAAAASUVORK5CYII=)"
      ],
      "metadata": {
        "id": "rXSAf4WzrIFA"
      }
    },
    {
      "cell_type": "markdown",
      "source": [
        "条件式が成立しなかったときには何もしない場合、elseブロックを省略できます。  \n",
        "これは**ifのみの構文**となります。 "
      ],
      "metadata": {
        "id": "SCWyCh44K_uS"
      }
    },
    {
      "cell_type": "markdown",
      "source": [
        "   \n",
        "\n",
        "![pp_02_2.png](data:image/png;base64,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)"
      ],
      "metadata": {
        "id": "nt1GmP3nrKVH"
      }
    },
    {
      "cell_type": "markdown",
      "source": [
        "条件式が成立しなかった時には別の条件式で判定したい場合は、  \n",
        "ifブロックのあとにelifブロックを追加した**if-elif構文**を使用します。  "
      ],
      "metadata": {
        "id": "Pp5lJfjyLBtC"
      }
    },
    {
      "cell_type": "markdown",
      "source": [
        "\n",
        "\n",
        "![pp_02_3.png](data:image/png;base64,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)"
      ],
      "metadata": {
        "id": "FF7Lr_ttrS1n"
      }
    },
    {
      "cell_type": "markdown",
      "source": [
        "下のコードは、**if-else構文**を用いたプログラムの例です。  "
      ],
      "metadata": {
        "id": "N0BdYxf-q9mg"
      }
    },
    {
      "cell_type": "code",
      "execution_count": 5,
      "metadata": {
        "id": "l6OHzcpepsXh",
        "colab": {
          "base_uri": "https://localhost:8080/"
        },
        "outputId": "0afa80f3-4107-4a34-9bfb-8d94a343333d"
      },
      "outputs": [
        {
          "output_type": "stream",
          "name": "stdout",
          "text": [
            "この科目の合計点は32点です\n",
            "32 は偶数です\n"
          ]
        }
      ],
      "source": [
        "import random\n",
        "number = random.randint(0,101)  # 0～100までの整数をランダムに取得\n",
        "print(f\"この科目の合計点は{number}点です\")\n",
        "result = number % 2\n",
        "\n",
        "# 偶数奇数判定をするプログラム\n",
        "if result == 0 :\n",
        "    print(f\"{number} は偶数です\")\n",
        "else :\n",
        "    print(f\"{number} は奇数です\")"
      ]
    },
    {
      "cell_type": "markdown",
      "source": [
        "下のコードは、**if-elif構文**を用い、  なおかつ論理演算子も用いたプログラムの例です。"
      ],
      "metadata": {
        "id": "NgNx3gtKrd7P"
      }
    },
    {
      "cell_type": "code",
      "source": [
        "import random\n",
        "point = random.randint(0,101)  # 0～100までの整数をランダムに取得\n",
        "print(f\"この科目の合計点は{point}点です\")\n",
        "\t\n",
        "if point >= 0 and point < 60 :  # 0点以上60点未満\n",
        "    print(\"成績はEです\")\n",
        "elif point >= 60 and point < 70 :  # 60点以上70点未満\n",
        "    print(\"成績はDです\")\n",
        "elif point >= 70 and point < 80 :  # 70点以上80点未満\n",
        "    print(\"成績はBです\")\n",
        "elif point >= 80 and point < 90 :  # 80点以上90点未満\n",
        "    print(\"成績はAです\")\n",
        "elif point >= 90 and point <= 100 :  # 90点以上100点以下\n",
        "    print(\"成績はSです\")\n",
        "else :  # エラー処理\n",
        "    print(\"点数を正しく入力してください\")"
      ],
      "metadata": {
        "id": "vb2Dg-nBrfxW",
        "colab": {
          "base_uri": "https://localhost:8080/"
        },
        "outputId": "5999b18d-3cbe-47d2-d03f-03d03fd6a949"
      },
      "execution_count": 6,
      "outputs": [
        {
          "output_type": "stream",
          "name": "stdout",
          "text": [
            "この科目の合計点は72点です\n",
            "成績はBです\n"
          ]
        }
      ]
    },
    {
      "cell_type": "markdown",
      "source": [
        "## switch文\n",
        "\n",
        "Pythonにはありません。不便ですよね…"
      ],
      "metadata": {
        "id": "tJwH_bn4rfHu"
      }
    },
    {
      "cell_type": "markdown",
      "source": [
        "## whileループ  \n",
        "回数の決まっていない繰り返しには、**whileループ**を使用することが多いです。  "
      ],
      "metadata": {
        "id": "uPh83N0quKp7"
      }
    },
    {
      "cell_type": "markdown",
      "source": [
        "\n",
        "\n",
        "![pp_02_4.png](data:image/png;base64,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)  \n",
        "\n"
      ],
      "metadata": {
        "id": "FYDKkLU-s4Ua"
      }
    },
    {
      "cell_type": "markdown",
      "source": [
        "処理を実行する前に条件式を評価します。  \n",
        "評価結果が**True**である間は、処理が繰り返し実行されます。"
      ],
      "metadata": {
        "id": "HLGxSYzeuNIB"
      }
    },
    {
      "cell_type": "markdown",
      "source": [
        " 下のコードは、第1回目～第3回目まで出力するプログラムの例です。  "
      ],
      "metadata": {
        "id": "0_3_jBcxtCCy"
      }
    },
    {
      "cell_type": "code",
      "source": [
        "i = 0\n",
        "while i<3 :\n",
        "    print(f\"{i+1}回目です\")\n",
        "    i += 1\n",
        "print(\"終了しました\")"
      ],
      "metadata": {
        "id": "uoPgyPOqtDop",
        "colab": {
          "base_uri": "https://localhost:8080/"
        },
        "outputId": "23c775de-4462-4904-a4cc-8b810fb1f4ef"
      },
      "execution_count": 7,
      "outputs": [
        {
          "output_type": "stream",
          "name": "stdout",
          "text": [
            "1回目です\n",
            "2回目です\n",
            "3回目です\n",
            "終了しました\n"
          ]
        }
      ]
    },
    {
      "cell_type": "markdown",
      "source": [
        "変数`i`のように、繰り返すたびにその値が変化し、繰り返しの条件となる変数のことを  \n",
        "**カウンタ変数**または**ループ変数**（**ループカウンタ**）といいます。  "
      ],
      "metadata": {
        "id": "5zqVCu34tGYB"
      }
    },
    {
      "cell_type": "markdown",
      "source": [
        "変数`i`の値をwhileブロックの中で更新し忘れると、繰り返しが終了しません。  \n",
        "このようないつまでも続く繰り返しのことを**無限ループ**と呼びます。\n",
        "\n",
        "あえて無限ループを作るときは以下のようにしましょう。  \n"
      ],
      "metadata": {
        "id": "T8FU7bdcy_GH"
      }
    },
    {
      "cell_type": "markdown",
      "source": [
        "\n",
        "![pp_02_5.png](data:image/png;base64,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)"
      ],
      "metadata": {
        "id": "8YFC0z_6tJbC"
      }
    },
    {
      "cell_type": "markdown",
      "source": [
        "## forループ   \n",
        "コンピュータは、同じことを何回も繰り返すことができます。    \n",
        "回数の決まっている繰り返しには、**forループ **を使用することが多いです。  "
      ],
      "metadata": {
        "id": "R_pjBj0G3-wO"
      }
    },
    {
      "cell_type": "markdown",
      "source": [
        "\n",
        "\n",
        "![pp_02_6.png](data:image/png;base64,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)  \n"
      ],
      "metadata": {
        "id": "DN_7h0n6tOQR"
      }
    },
    {
      "cell_type": "markdown",
      "source": [
        "※**開始値が0**の場合、省略可能  \n",
        "※**増減値が1**の場合、省略可能"
      ],
      "metadata": {
        "id": "hdkxNtta4AVm"
      }
    },
    {
      "cell_type": "markdown",
      "source": [
        "下のコードは、第0回目～第3回目まで出力するプログラムの例です。"
      ],
      "metadata": {
        "id": "A3oV8GDXtWgp"
      }
    },
    {
      "cell_type": "code",
      "source": [
        "for i in range(4):\n",
        "    print(f\"{i}回目です\" ) \n",
        "print(\"終了しました\") "
      ],
      "metadata": {
        "id": "U0zf4wdetYBR",
        "colab": {
          "base_uri": "https://localhost:8080/"
        },
        "outputId": "ac4703f5-328e-4c46-b33a-4aff8dad7d80"
      },
      "execution_count": 8,
      "outputs": [
        {
          "output_type": "stream",
          "name": "stdout",
          "text": [
            "0回目です\n",
            "1回目です\n",
            "2回目です\n",
            "3回目です\n",
            "終了しました\n"
          ]
        }
      ]
    },
    {
      "cell_type": "markdown",
      "source": [
        "開始値と増減値は省略しています。\n",
        "**(終了値-1)**回までの反復処理が行われることが確認できました。  "
      ],
      "metadata": {
        "id": "Ql_aQzDbtZ-o"
      }
    },
    {
      "cell_type": "markdown",
      "source": [
        "下のコードは、第1回目～第3回目まで出力するプログラムの例です。"
      ],
      "metadata": {
        "id": "78uHmhD5tbbS"
      }
    },
    {
      "cell_type": "code",
      "source": [
        "for i in range(1,4):\n",
        "    print(f\"{i}回目です\" ) \n",
        "print(\"終了しました\") "
      ],
      "metadata": {
        "id": "pjmUQSe3tdZZ",
        "colab": {
          "base_uri": "https://localhost:8080/"
        },
        "outputId": "bc17e5f7-54b4-481c-c507-f043d1deafad"
      },
      "execution_count": 9,
      "outputs": [
        {
          "output_type": "stream",
          "name": "stdout",
          "text": [
            "1回目です\n",
            "2回目です\n",
            "3回目です\n",
            "終了しました\n"
          ]
        }
      ]
    },
    {
      "cell_type": "markdown",
      "source": [
        "増減値は省略しています。\n",
        "1からスタートすることができました。   "
      ],
      "metadata": {
        "id": "FfRIRfPetelx"
      }
    },
    {
      "cell_type": "markdown",
      "source": [
        "下のコードは、第1回目～第5回目までの内奇数回を出力するプログラムの例です。"
      ],
      "metadata": {
        "id": "4isDEshutgxQ"
      }
    },
    {
      "cell_type": "code",
      "source": [
        "for i in range(1,6,2):\n",
        "    print(f\"{i}回目です\" ) \n",
        "print(\"終了しました\") "
      ],
      "metadata": {
        "id": "6qLYuXpHtiZY",
        "colab": {
          "base_uri": "https://localhost:8080/"
        },
        "outputId": "c1a9a735-c214-434f-e576-41b50cfd8be1"
      },
      "execution_count": 10,
      "outputs": [
        {
          "output_type": "stream",
          "name": "stdout",
          "text": [
            "1回目です\n",
            "3回目です\n",
            "5回目です\n",
            "終了しました\n"
          ]
        }
      ]
    },
    {
      "cell_type": "markdown",
      "source": [
        "カウンタ変数の値は使わず、何かの処理を複数回実行したいときは、  \n",
        "**\"_\"**（**アンダースコア**）を使います。"
      ],
      "metadata": {
        "id": "fm237Zaa5oLz"
      }
    },
    {
      "cell_type": "code",
      "source": [
        "for _ in range(3):\n",
        "    print(\"Hello\") \n",
        "print(\"終了しました\") "
      ],
      "metadata": {
        "colab": {
          "base_uri": "https://localhost:8080/"
        },
        "id": "uRtJDIoo6PYr",
        "outputId": "9cce3d51-1fee-43f3-ee81-70aa14e1a496"
      },
      "execution_count": 11,
      "outputs": [
        {
          "output_type": "stream",
          "name": "stdout",
          "text": [
            "Hello\n",
            "Hello\n",
            "Hello\n",
            "終了しました\n"
          ]
        }
      ]
    },
    {
      "cell_type": "markdown",
      "source": [
        "for文を使って九九を表示してみましょう。"
      ],
      "metadata": {
        "id": "YeGX0-kk7XG9"
      }
    },
    {
      "cell_type": "code",
      "source": [
        "# 縦方向のループ用\n",
        "for num1 in range(1, 10):\n",
        "\n",
        "    # 横方向のループ用\n",
        "    for num2 in range(1, 10):\n",
        "\n",
        "        # 改行なしで2ケタ表示\n",
        "        print(f\"{num1 * num2:2d} \" , end=\"\")\n",
        "\n",
        "    # 1行分が終わったので改行を実施\n",
        "    print()"
      ],
      "metadata": {
        "colab": {
          "base_uri": "https://localhost:8080/"
        },
        "id": "-ZDDEPZI7lL1",
        "outputId": "0e1ea163-b06d-4edd-e811-e1abff2d7cce"
      },
      "execution_count": 12,
      "outputs": [
        {
          "output_type": "stream",
          "name": "stdout",
          "text": [
            " 1  2  3  4  5  6  7  8  9 \n",
            " 2  4  6  8 10 12 14 16 18 \n",
            " 3  6  9 12 15 18 21 24 27 \n",
            " 4  8 12 16 20 24 28 32 36 \n",
            " 5 10 15 20 25 30 35 40 45 \n",
            " 6 12 18 24 30 36 42 48 54 \n",
            " 7 14 21 28 35 42 49 56 63 \n",
            " 8 16 24 32 40 48 56 64 72 \n",
            " 9 18 27 36 45 54 63 72 81 \n"
          ]
        }
      ]
    },
    {
      "cell_type": "markdown",
      "source": [
        "## 繰り返しの中断\n",
        "処理によっては、繰り返しを最後まで行わずに途中で中断したいことがあります。  \n"
      ],
      "metadata": {
        "id": "Y9-kpM3Ytlc5"
      }
    },
    {
      "cell_type": "markdown",
      "source": [
        "**break文**はループそのものを中断し、ループの次に記述された処理へと進みます。 \n",
        "\n",
        "以下のコードで確認しましょう。"
      ],
      "metadata": {
        "id": "nweDhy7a8Smf"
      }
    },
    {
      "cell_type": "code",
      "source": [
        "i = 0\n",
        "\n",
        "while True :  # 無限ループ\n",
        "    print(f\"{i+1}回目です\" ) \n",
        "    i += 1\n",
        "\n",
        "    if i == 3 :  # i=3になったら無限ループを抜ける\n",
        "      break;\n",
        "\n",
        "print(\"終了しました\") "
      ],
      "metadata": {
        "colab": {
          "base_uri": "https://localhost:8080/"
        },
        "id": "yOLFYqaJ8rX3",
        "outputId": "b27f55a4-bd30-4f7b-cf5e-bb6e07071074"
      },
      "execution_count": 13,
      "outputs": [
        {
          "output_type": "stream",
          "name": "stdout",
          "text": [
            "1回目です\n",
            "2回目です\n",
            "3回目です\n",
            "終了しました\n"
          ]
        }
      ]
    },
    {
      "cell_type": "markdown",
      "source": [
        "  一方の**continue文**は、ループの現在の回だけを中断してループの先頭へ戻り、次の回のループを継続します。  \n",
        "\n",
        "**※多重ループの場合、break文、continue文は現在のループに対してのみ有効です。**"
      ],
      "metadata": {
        "id": "x8P4ezVNtoHI"
      }
    },
    {
      "cell_type": "markdown",
      "source": [
        "以下のコードで確認しましょう。"
      ],
      "metadata": {
        "id": "4a8kOLJZKQVm"
      }
    },
    {
      "cell_type": "code",
      "source": [
        "for i in range(1,6) :\n",
        "    if i%2==0 :  # 変数iが偶数のときループをスキップ\n",
        "        continue\n",
        "   \n",
        "    print(f\"第{i}回目\")\n",
        "\n",
        "print(\"終了しました\") "
      ],
      "metadata": {
        "id": "e8Fbef4FtsUA",
        "colab": {
          "base_uri": "https://localhost:8080/"
        },
        "outputId": "b2e4ccb0-e558-486e-c6fb-f0c430ec29c2"
      },
      "execution_count": 14,
      "outputs": [
        {
          "output_type": "stream",
          "name": "stdout",
          "text": [
            "第1回目\n",
            "第3回目\n",
            "第5回目\n",
            "終了しました\n"
          ]
        }
      ]
    },
    {
      "cell_type": "markdown",
      "source": [
        "下のコードは、break文とcontinue文と無限ループを用いて、  \n",
        "成績処理を3回だけ行うプログラムの例です。"
      ],
      "metadata": {
        "id": "mXfJg3Dstq64"
      }
    },
    {
      "cell_type": "code",
      "source": [
        "import random\n",
        "\n",
        "count = 1  # 成績処理回数\n",
        "\n",
        "while True :\n",
        "    point = random.randint(-10,111)  # -10～110までの整数をランダムに取得\n",
        "    print(f\"{count}回目\")\n",
        "    print(f\"この科目の合計点は{point}点です\")\n",
        "\t\n",
        "    if point >= 0 and point < 60 :    # 0点以上60点未満\n",
        "        print(\"成績はEです\\n\")\n",
        "    elif point >= 60 and point < 70 :    # 60点以上70点未満\n",
        "        print(\"成績はDです\\n\")\n",
        "    elif point >= 70 and point < 80 :    # 70点以上80点未満\n",
        "        print(\"成績はBです\\n\")\n",
        "    elif point >= 80 and point < 90 :    # 80点以上90点未満\n",
        "        print(\"成績はAです\\n\")\n",
        "    elif point >= 90 and point <= 100 :    # 90点以上100点以下\n",
        "        print(\"成績はSです\\n\")\n",
        "    else :   # エラー処理\n",
        "        print(\"点数を正しく入力してください\\n\")\n",
        "        continue  # 成績処理をしてないものとしてループの先頭へ\n",
        "\n",
        "    count += 1\n",
        "    if count == 4 :  # 3回の成績処理を終えたらループから抜ける\n",
        "        break\n",
        "      \n",
        "print(\"終了しました\") "
      ],
      "metadata": {
        "colab": {
          "base_uri": "https://localhost:8080/"
        },
        "id": "tIjVcYmkMHfg",
        "outputId": "a850ca66-7086-43ce-c5f3-1e725383dffc"
      },
      "execution_count": 15,
      "outputs": [
        {
          "output_type": "stream",
          "name": "stdout",
          "text": [
            "1回目\n",
            "この科目の合計点は74点です\n",
            "成績はBです\n",
            "\n",
            "2回目\n",
            "この科目の合計点は65点です\n",
            "成績はDです\n",
            "\n",
            "3回目\n",
            "この科目の合計点は67点です\n",
            "成績はDです\n",
            "\n",
            "終了しました\n"
          ]
        }
      ]
    },
    {
      "cell_type": "markdown",
      "source": [
        "## for文による参照\n",
        "文字列やリスト（次回学習）などのデータの集まりは、直接参照することでfor文を適用させることができます。    \n",
        "\n",
        "![pp_02+_2.png](data:image/png;base64,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)  "
      ],
      "metadata": {
        "id": "HWMwlzBZtwC3"
      }
    },
    {
      "cell_type": "markdown",
      "source": [
        "以下のコードは、文字列\"b2223456\" を順に1文字ずつ変数numberに格納し、  \n",
        "1文字ずつ出力するプログラムです。"
      ],
      "metadata": {
        "id": "c0aq8yGFtzkP"
      }
    },
    {
      "cell_type": "code",
      "source": [
        "# numberという変数に、\"b1990040\"という文字列を入れる\n",
        "number = \"b1990040\" \n",
        "\n",
        "# range()を使わずにfor文で出力する\n",
        "for s in number:\n",
        "    print(s)"
      ],
      "metadata": {
        "id": "QHZxEleQt1Fu",
        "colab": {
          "base_uri": "https://localhost:8080/"
        },
        "outputId": "0e279458-a8bb-43f9-a26c-57b5528a57f8"
      },
      "execution_count": 16,
      "outputs": [
        {
          "output_type": "stream",
          "name": "stdout",
          "text": [
            "b\n",
            "1\n",
            "9\n",
            "9\n",
            "0\n",
            "0\n",
            "4\n",
            "0\n"
          ]
        }
      ]
    },
    {
      "cell_type": "markdown",
      "source": [
        "今後「リスト」などを学習した際に活躍します。"
      ],
      "metadata": {
        "id": "oYkBmV1YPMpZ"
      }
    },
    {
      "cell_type": "markdown",
      "source": [
        "# 第2章補足\n"
      ],
      "metadata": {
        "id": "H4ORa_hfPRMR"
      }
    },
    {
      "cell_type": "markdown",
      "source": [
        "## 文字列同士の比較\n",
        "Pythonにおける数字と文字列の比較では、少しだけ違いがあります。  \n",
        "C言語よりは大分簡単に扱うことができます。  "
      ],
      "metadata": {
        "id": "dmsyJ5-MWR4w"
      }
    },
    {
      "cell_type": "markdown",
      "source": [
        "|比較演算子|使い方|説明|\n",
        "|:---:| :---: | :---: |\n",
        "|==|a==b|aとbが同じである(a=b)|\n",
        "|!=|a!=b|aがbではない(a≠b)|\n",
        "|<|a<b|aがbより辞書的に前|\n",
        "|>|a>b|aがbより辞書的に後|\n",
        "|<=|a<=b|aがbより辞書的に前または同じ|\n",
        "|>=|a>=b|aがbより辞書的に後または同じ|"
      ],
      "metadata": {
        "id": "u9o6t1FtWUeF"
      }
    },
    {
      "cell_type": "code",
      "source": [
        "name1 = \"Chitose\"\n",
        "name2 = \"Hokudai\"\n",
        "\n",
        "print(name1 == name2)  # \"Chitose\"と\"Hokudai\"は同じではないのでFalse\n",
        "print(name1 != name2)  # \"Chitose\"と\"Hokudai\"は同じではないのでTrue\n",
        "\n",
        "print(name1 < name2)  # \"Chitose\"は\"Hokudai\"より辞書的に前なのでTrue\n",
        "print(name1 > name2)  # \"Chitose\"は\"Hokudai\"より辞書的に後ではないなのでFalse\n",
        "print(name1 <= name2)  # \"Chitose\"は\"Hokudai\"より辞書的に前なのでTrue\n",
        "print(name1 >= name2)  # \"Chitose\"は\"Hokudai\"より辞書的に後ではないなのでFalse"
      ],
      "metadata": {
        "id": "hbJA9b_b7SeT",
        "colab": {
          "base_uri": "https://localhost:8080/"
        },
        "outputId": "27af6278-dcaf-439b-d918-736495161dc8"
      },
      "execution_count": 17,
      "outputs": [
        {
          "output_type": "stream",
          "name": "stdout",
          "text": [
            "False\n",
            "True\n",
            "True\n",
            "False\n",
            "True\n",
            "False\n"
          ]
        }
      ]
    },
    {
      "cell_type": "markdown",
      "source": [
        "## in演算子\n",
        "比較演算子の一種です。"
      ],
      "metadata": {
        "id": "gafoFgwjYaAz"
      }
    },
    {
      "cell_type": "markdown",
      "source": [
        "|比較演算子|使い方|説明|\n",
        "|:---:| :---: | :---: |\n",
        "|in|a  in b|aはbに含まれる|\n",
        "|not in|a not in b|aがbに含まれていない|"
      ],
      "metadata": {
        "id": "QcRJsKmSYh2y"
      }
    },
    {
      "cell_type": "code",
      "source": [
        "a = \"b1990040\"  \n",
        "b = \"b199\"\n",
        "\n",
        "print(b in a)  # \"b199\"が\"b1990040\"に含まれるのでTrue\n",
        "print(b not in a)  # \"b199\"が\"b199040\"に含まれるのでFalse"
      ],
      "metadata": {
        "colab": {
          "base_uri": "https://localhost:8080/"
        },
        "id": "weMQnOBjYlm2",
        "outputId": "01caff79-e5d1-414b-9a80-1c5b0c788582"
      },
      "execution_count": 18,
      "outputs": [
        {
          "output_type": "stream",
          "name": "stdout",
          "text": [
            "True\n",
            "False\n"
          ]
        }
      ]
    },
    {
      "cell_type": "markdown",
      "source": [
        "## 三項演算子\n",
        "if文は**三項演算子**という書き方を使うと1行で記述できます。"
      ],
      "metadata": {
        "id": "n1WcOe1ya8nO"
      }
    },
    {
      "cell_type": "markdown",
      "source": [
        "\n",
        "\n",
        "![test_2022-09-13-22-09-57.png](data:image/png;base64,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)\n",
        "\n",
        "![test_2022-09-13-22-10-13.png](data:image/png;base64,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)\n"
      ],
      "metadata": {
        "id": "lQ6tTgqxa4u9"
      }
    },
    {
      "cell_type": "markdown",
      "source": [
        "さきほどの関数のif文の箇所を1行で記述しましょう。"
      ],
      "metadata": {
        "id": "XikfLX34bHN9"
      }
    },
    {
      "cell_type": "code",
      "source": [
        "import random\n",
        "number = random.randint(0,101)  # 0～100までの整数をランダムに取得\n",
        "print(f\"この科目の合計点は{number}点です\")\n",
        "result = number % 2\n",
        "\n",
        "# 偶数奇数判定をするプログラム\n",
        "print(f\"{number} は偶数です\") if result==0 else print(f\"{number} は奇数です\")"
      ],
      "metadata": {
        "colab": {
          "base_uri": "https://localhost:8080/"
        },
        "id": "LAiS53VTbYf1",
        "outputId": "c4f7e806-681f-4223-f756-7a0346a1117f"
      },
      "execution_count": 19,
      "outputs": [
        {
          "output_type": "stream",
          "name": "stdout",
          "text": [
            "この科目の合計点は26点です\n",
            "26 は偶数です\n"
          ]
        }
      ]
    },
    {
      "cell_type": "markdown",
      "source": [
        "結構癖が強めです。"
      ],
      "metadata": {
        "id": "_dr6L3tbbkxX"
      }
    },
    {
      "cell_type": "markdown",
      "source": [
        "## enumerate関数\n",
        "要素と同時にそのインデックスの情報を取得することができます。"
      ],
      "metadata": {
        "id": "NYQVxDiVXrwV"
      }
    },
    {
      "cell_type": "code",
      "source": [
        "# numberという変数に、\"b1990040\"という文字列を入れる\n",
        "number = \"b1990040\" \n",
        "\n",
        "# range()を使わずにfor文で出力する\n",
        "for idx , s in enumerate(number):\n",
        "    print(idx , end=\" \")  # 改行せずに文字列のインデックスを表示\n",
        "    print(s)"
      ],
      "metadata": {
        "colab": {
          "base_uri": "https://localhost:8080/"
        },
        "id": "S6_XErAQXQJ_",
        "outputId": "99a020d6-c011-4152-81d0-5e413d358d99"
      },
      "execution_count": 20,
      "outputs": [
        {
          "output_type": "stream",
          "name": "stdout",
          "text": [
            "0 b\n",
            "1 1\n",
            "2 9\n",
            "3 9\n",
            "4 0\n",
            "5 0\n",
            "6 4\n",
            "7 0\n"
          ]
        }
      ]
    },
    {
      "cell_type": "markdown",
      "source": [
        "今後「リスト」などを学習した際に活躍します。"
      ],
      "metadata": {
        "id": "pQscoYWPX-Oa"
      }
    }
  ]
}
