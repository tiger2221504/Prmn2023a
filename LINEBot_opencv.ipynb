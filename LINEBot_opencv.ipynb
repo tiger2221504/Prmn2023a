{
  "nbformat": 4,
  "nbformat_minor": 0,
  "metadata": {
    "colab": {
      "provenance": [],
      "include_colab_link": true
    },
    "kernelspec": {
      "name": "python3",
      "display_name": "Python 3"
    },
    "language_info": {
      "name": "python"
    }
  },
  "cells": [
    {
      "cell_type": "markdown",
      "metadata": {
        "id": "view-in-github",
        "colab_type": "text"
      },
      "source": [
        "<a href=\"https://colab.research.google.com/github/tiger2221504/Prmn2023a/blob/main/LINEBot_opencv.ipynb\" target=\"_parent\"><img src=\"https://colab.research.google.com/assets/colab-badge.svg\" alt=\"Open In Colab\"/></a>"
      ]
    },
    {
      "cell_type": "markdown",
      "source": [
        "# 画像加工Bot\n",
        "LINE Developers\n",
        "https://developers.line.biz/console/\n",
        "\n",
        "※最初にhaarcascade_frontalface_alt.xmlを読み込む。"
      ],
      "metadata": {
        "id": "RzdE064F5o6o"
      }
    },
    {
      "cell_type": "code",
      "execution_count": 1,
      "metadata": {
        "id": "Zly44ELa5ilP",
        "outputId": "c7f94d14-face-4c60-8a63-118e57da11f2",
        "colab": {
          "base_uri": "https://localhost:8080/"
        }
      },
      "outputs": [
        {
          "output_type": "stream",
          "name": "stdout",
          "text": [
            "Collecting line-bot-sdk\n",
            "  Downloading line_bot_sdk-3.1.0-py2.py3-none-any.whl (729 kB)\n",
            "\u001b[2K     \u001b[90m━━━━━━━━━━━━━━━━━━━━━━━━━━━━━━━━━━━━━━\u001b[0m \u001b[32m729.1/729.1 kB\u001b[0m \u001b[31m14.0 MB/s\u001b[0m eta \u001b[36m0:00:00\u001b[0m\n",
            "\u001b[?25hCollecting requests==2.31.0 (from line-bot-sdk)\n",
            "  Downloading requests-2.31.0-py3-none-any.whl (62 kB)\n",
            "\u001b[2K     \u001b[90m━━━━━━━━━━━━━━━━━━━━━━━━━━━━━━━━━━━━━━━━\u001b[0m \u001b[32m62.6/62.6 kB\u001b[0m \u001b[31m9.4 MB/s\u001b[0m eta \u001b[36m0:00:00\u001b[0m\n",
            "\u001b[?25hRequirement already satisfied: aiohttp==3.8.4 in /usr/local/lib/python3.10/dist-packages (from line-bot-sdk) (3.8.4)\n",
            "Requirement already satisfied: future in /usr/local/lib/python3.10/dist-packages (from line-bot-sdk) (0.18.3)\n",
            "Requirement already satisfied: pydantic<2,>=1.10.5 in /usr/local/lib/python3.10/dist-packages (from line-bot-sdk) (1.10.9)\n",
            "Collecting aenum>=3.1.11 (from line-bot-sdk)\n",
            "  Downloading aenum-3.1.15-py3-none-any.whl (137 kB)\n",
            "\u001b[2K     \u001b[90m━━━━━━━━━━━━━━━━━━━━━━━━━━━━━━━━━━━━━━\u001b[0m \u001b[32m137.6/137.6 kB\u001b[0m \u001b[31m20.8 MB/s\u001b[0m eta \u001b[36m0:00:00\u001b[0m\n",
            "\u001b[?25hRequirement already satisfied: python-dateutil>=2.5.3 in /usr/local/lib/python3.10/dist-packages (from line-bot-sdk) (2.8.2)\n",
            "Collecting Deprecated (from line-bot-sdk)\n",
            "  Downloading Deprecated-1.2.14-py2.py3-none-any.whl (9.6 kB)\n",
            "Requirement already satisfied: attrs>=17.3.0 in /usr/local/lib/python3.10/dist-packages (from aiohttp==3.8.4->line-bot-sdk) (23.1.0)\n",
            "Requirement already satisfied: charset-normalizer<4.0,>=2.0 in /usr/local/lib/python3.10/dist-packages (from aiohttp==3.8.4->line-bot-sdk) (2.0.12)\n",
            "Requirement already satisfied: multidict<7.0,>=4.5 in /usr/local/lib/python3.10/dist-packages (from aiohttp==3.8.4->line-bot-sdk) (6.0.4)\n",
            "Requirement already satisfied: async-timeout<5.0,>=4.0.0a3 in /usr/local/lib/python3.10/dist-packages (from aiohttp==3.8.4->line-bot-sdk) (4.0.2)\n",
            "Requirement already satisfied: yarl<2.0,>=1.0 in /usr/local/lib/python3.10/dist-packages (from aiohttp==3.8.4->line-bot-sdk) (1.9.2)\n",
            "Requirement already satisfied: frozenlist>=1.1.1 in /usr/local/lib/python3.10/dist-packages (from aiohttp==3.8.4->line-bot-sdk) (1.3.3)\n",
            "Requirement already satisfied: aiosignal>=1.1.2 in /usr/local/lib/python3.10/dist-packages (from aiohttp==3.8.4->line-bot-sdk) (1.3.1)\n",
            "Requirement already satisfied: idna<4,>=2.5 in /usr/local/lib/python3.10/dist-packages (from requests==2.31.0->line-bot-sdk) (3.4)\n",
            "Requirement already satisfied: urllib3<3,>=1.21.1 in /usr/local/lib/python3.10/dist-packages (from requests==2.31.0->line-bot-sdk) (1.26.16)\n",
            "Requirement already satisfied: certifi>=2017.4.17 in /usr/local/lib/python3.10/dist-packages (from requests==2.31.0->line-bot-sdk) (2023.5.7)\n",
            "Requirement already satisfied: typing-extensions>=4.2.0 in /usr/local/lib/python3.10/dist-packages (from pydantic<2,>=1.10.5->line-bot-sdk) (4.6.3)\n",
            "Requirement already satisfied: six>=1.5 in /usr/local/lib/python3.10/dist-packages (from python-dateutil>=2.5.3->line-bot-sdk) (1.16.0)\n",
            "Requirement already satisfied: wrapt<2,>=1.10 in /usr/local/lib/python3.10/dist-packages (from Deprecated->line-bot-sdk) (1.14.1)\n",
            "Installing collected packages: aenum, requests, Deprecated, line-bot-sdk\n",
            "  Attempting uninstall: requests\n",
            "    Found existing installation: requests 2.27.1\n",
            "    Uninstalling requests-2.27.1:\n",
            "      Successfully uninstalled requests-2.27.1\n",
            "\u001b[31mERROR: pip's dependency resolver does not currently take into account all the packages that are installed. This behaviour is the source of the following dependency conflicts.\n",
            "google-colab 1.0.0 requires requests==2.27.1, but you have requests 2.31.0 which is incompatible.\u001b[0m\u001b[31m\n",
            "\u001b[0mSuccessfully installed Deprecated-1.2.14 aenum-3.1.15 line-bot-sdk-3.1.0 requests-2.31.0\n",
            "Collecting pyngrok\n",
            "  Downloading pyngrok-6.0.0.tar.gz (681 kB)\n",
            "\u001b[2K     \u001b[90m━━━━━━━━━━━━━━━━━━━━━━━━━━━━━━━━━━━━━━\u001b[0m \u001b[32m681.2/681.2 kB\u001b[0m \u001b[31m11.8 MB/s\u001b[0m eta \u001b[36m0:00:00\u001b[0m\n",
            "\u001b[?25h  Preparing metadata (setup.py) ... \u001b[?25l\u001b[?25hdone\n",
            "Requirement already satisfied: PyYAML in /usr/local/lib/python3.10/dist-packages (from pyngrok) (6.0)\n",
            "Building wheels for collected packages: pyngrok\n",
            "  Building wheel for pyngrok (setup.py) ... \u001b[?25l\u001b[?25hdone\n",
            "  Created wheel for pyngrok: filename=pyngrok-6.0.0-py3-none-any.whl size=19867 sha256=632ceb455dbc43986245f02fba9180960888cdd544cab4d6113ddf82a14f0090\n",
            "  Stored in directory: /root/.cache/pip/wheels/5c/42/78/0c3d438d7f5730451a25f7ac6cbf4391759d22a67576ed7c2c\n",
            "Successfully built pyngrok\n",
            "Installing collected packages: pyngrok\n",
            "Successfully installed pyngrok-6.0.0\n",
            "Collecting python-dotenv\n",
            "  Downloading python_dotenv-1.0.0-py3-none-any.whl (19 kB)\n",
            "Installing collected packages: python-dotenv\n",
            "Successfully installed python-dotenv-1.0.0\n",
            "Collecting pyimgur\n",
            "  Downloading pyimgur-0.6.0.tar.gz (33 kB)\n",
            "  Preparing metadata (setup.py) ... \u001b[?25l\u001b[?25hdone\n",
            "Requirement already satisfied: requests in /usr/local/lib/python3.10/dist-packages (from pyimgur) (2.31.0)\n",
            "Requirement already satisfied: charset-normalizer<4,>=2 in /usr/local/lib/python3.10/dist-packages (from requests->pyimgur) (2.0.12)\n",
            "Requirement already satisfied: idna<4,>=2.5 in /usr/local/lib/python3.10/dist-packages (from requests->pyimgur) (3.4)\n",
            "Requirement already satisfied: urllib3<3,>=1.21.1 in /usr/local/lib/python3.10/dist-packages (from requests->pyimgur) (1.26.16)\n",
            "Requirement already satisfied: certifi>=2017.4.17 in /usr/local/lib/python3.10/dist-packages (from requests->pyimgur) (2023.5.7)\n",
            "Building wheels for collected packages: pyimgur\n",
            "  Building wheel for pyimgur (setup.py) ... \u001b[?25l\u001b[?25hdone\n",
            "  Created wheel for pyimgur: filename=pyimgur-0.6.0-py3-none-any.whl size=32422 sha256=47454e495e0619984140ee687785f8222c6b3c95b6362c515c36690dc4d92ee9\n",
            "  Stored in directory: /root/.cache/pip/wheels/a1/94/27/de00e02ca21243ef394bccc7a139d5b392c7b1f51c8ce1aa34\n",
            "Successfully built pyimgur\n",
            "Installing collected packages: pyimgur\n",
            "Successfully installed pyimgur-0.6.0\n"
          ]
        }
      ],
      "source": [
        "# 最初に実行してください\n",
        "!pip install line-bot-sdk\n",
        "!pip install pyngrok\n",
        "!pip install python-dotenv\n",
        "!pip install pyimgur"
      ]
    },
    {
      "cell_type": "code",
      "source": [
        "# 自分のトークンを設定してください\n",
        "import os\n",
        "\n",
        "directory = 'content/info'\n",
        "if not os.path.exists(directory):\n",
        "    os.makedirs(directory)\n",
        "\n",
        "file_path = os.path.join(directory, '.env')\n",
        "with open(file_path, 'w') as f:\n",
        "    f.write('CHANNEL_ACCESS_TOKEN = \"S+6QsiayZAEulY8jRhzWEScbR5ctMPUtfqSPvRiNvqxEQXY9y6NlZBYlfds3YnfaIhhWh7TgKpyw3tMGHvcmmqpK5M8YAWSDZTWxrMPk9bQaEHSwS+Y7S7albRXQSM3PdK0ZWpleC/c4o60w62IlRAdB04t89/1O/w1cDnyilFU=\"\\n')\n",
        "    f.write('CHANNEL_SECRET = \"6a4dc8f36549946614607262615ceb0d\"\\n')"
      ],
      "metadata": {
        "id": "CTBvBGgx5vnI"
      },
      "execution_count": 3,
      "outputs": []
    },
    {
      "cell_type": "code",
      "source": [
        "import os\n",
        "from pathlib import Path\n",
        "from datetime import datetime\n",
        "import pytz\n",
        "\n",
        "from flask import Flask, request, abort\n",
        "from linebot import LineBotApi, WebhookHandler\n",
        "from linebot.exceptions import InvalidSignatureError\n",
        "from linebot.models import MessageEvent, TextMessage, TextSendMessage, ImageMessage, ImageSendMessage\n",
        "from pyngrok import ngrok\n",
        "import dotenv\n",
        "\n",
        "import cv2\n",
        "import pyimgur\n",
        "\n",
        "def mosaic(src, ratio=0.1):\n",
        "    blur = cv2.blur(src, ksize=(50, 50))\n",
        "    small = cv2.resize(blur, None, fx=ratio, fy=ratio, interpolation=cv2.INTER_NEAREST)\n",
        "    return cv2.resize(small, src.shape[:2][::-1], interpolation=cv2.INTER_NEAREST)\n",
        "\n",
        "def mosaic_area(src, x, y, width, height, ratio=0.1):\n",
        "    dst = src.copy()\n",
        "    dst[y:y + height, x:x + width] = mosaic(dst[y:y + height, x:x + width], ratio)\n",
        "    return dst\n",
        "\n",
        "ngrok.set_auth_token(\"2S3iDWMK7bFe4uOtFRVA8mWKpFo_2ztXxuGP15rSWH6HU6ET5\")\n",
        "\n",
        "app = Flask(__name__)\n",
        "# LineBotApiオブジェクトを作成\n",
        "dotenv.load_dotenv(\"content/info/.env\")\n",
        "line_bot_api = LineBotApi(os.getenv('CHANNEL_ACCESS_TOKEN'))\n",
        "handler = WebhookHandler(os.getenv('CHANNEL_SECRET'))\n",
        "\n",
        "@app.route(\"/callback\", methods=['POST'])\n",
        "def callback():\n",
        "    signature = request.headers['X-Line-Signature']\n",
        "    body = request.get_data(as_text=True)\n",
        "    try:\n",
        "        handler.handle(body, signature)  # リクエストの署名検証を行い、正しければハンドラを実行\n",
        "    except InvalidSignatureError:\n",
        "        abort(400)  # 署名が無効な場合はエラーを返す\n",
        "    return 'OK'\n",
        "\n",
        "@handler.add(MessageEvent, message=TextMessage)\n",
        "def handle_message(event):\n",
        "    print(\"text:\", event.message.text)  # 返受信したメッセージを表示\n",
        "\n",
        "@handler.add(MessageEvent, message=ImageMessage)\n",
        "def handle_image_message(event):\n",
        "    message_id = event.message.id  # 受信した画像メッセージのIDを取得\n",
        "    message_content = line_bot_api.get_message_content(message_id)  # 画像メッセージの内容を取得\n",
        "\n",
        "    # 画像を保存する一時ファイルのパスを作成\n",
        "    tmp_dir = \"image\"\n",
        "    os.makedirs(tmp_dir, exist_ok=True)\n",
        "    # タイムゾーンを設定\n",
        "    tz = pytz.timezone('Asia/Tokyo')\n",
        "    # 東京の現在の日時情報を取得\n",
        "    now = datetime.now(tz)\n",
        "    # 日時情報からファイル名を生成\n",
        "    tmp_path = f\"{tmp_dir}/{now.strftime('%Y%m%d%H%M%S')}.jpg\"\n",
        "\n",
        "    # 画像を一時ファイルとして保存\n",
        "    with open(tmp_path, \"wb\") as f:\n",
        "        for chunk in message_content.iter_content():\n",
        "            f.write(chunk)\n",
        "\n",
        "    # 画像の読み込み\n",
        "    src = cv2.imread(tmp_path)\n",
        "    dst_face = src.copy()\n",
        "\n",
        "    # OpenCVが用意した顔認識モデルを読み込み\n",
        "    face_cascade_path = 'haarcascade_frontalface_alt.xml'\n",
        "    face_cascade = cv2.CascadeClassifier(face_cascade_path)\n",
        "\n",
        "    # 画像のグレースケール化\n",
        "    src_gray = cv2.cvtColor(src, cv2.COLOR_BGR2GRAY)\n",
        "\n",
        "    # 顔認識\n",
        "    faces = face_cascade.detectMultiScale(src_gray)\n",
        "\n",
        "    # 顔にモザイクをかける\n",
        "    for x, y, w, h in faces:\n",
        "        dst_face = mosaic_area(dst_face, x, y, w, h)\n",
        "\n",
        "    cv2.imwrite(tmp_path, dst_face)\n",
        "\n",
        "    # imgurにアップロード\n",
        "    CLIENT_ID = \"8509cd01a827f0b\"\n",
        "    image = pyimgur.Imgur(CLIENT_ID)\n",
        "    uploaded_image = image.upload_image(tmp_path,title = \"LINE_BOT\")\n",
        "    print(uploaded_image.link)\n",
        "\n",
        "    # 画像を返す\n",
        "    line_bot_api.reply_message(\n",
        "        event.reply_token,\n",
        "        ImageSendMessage(original_content_url=uploaded_image.link, preview_image_url=uploaded_image.link)\n",
        "    )\n",
        "    print(\"返信完了!!\")  # 返信が完了したことを表示\n",
        "    os.remove(tmp_path) # ファイル削除\n",
        "\n",
        "\n",
        "ngrok_tunnel = ngrok.connect(5000)  # ポート5000でngrokのトンネルを作成\n",
        "print('Public URL:', ngrok_tunnel.public_url)  # 公開されたURLを表示\n",
        "\n",
        "if __name__ == \"__main__\":\n",
        "    app.run()  # アプリケーションを実行"
      ],
      "metadata": {
        "id": "ITZL2ClAGkxZ",
        "colab": {
          "base_uri": "https://localhost:8080/"
        },
        "outputId": "8e258848-cfb8-47a8-8dc6-e3fc666c8b12"
      },
      "execution_count": 4,
      "outputs": [
        {
          "output_type": "stream",
          "name": "stdout",
          "text": []
        },
        {
          "output_type": "stream",
          "name": "stderr",
          "text": [
            "<ipython-input-4-6f083ef135c6>:31: LineBotSdkDeprecatedIn30: Call to deprecated class LineBotApi. (Use v3 class; linebot.v3.<feature>. See https://github.com/line/line-bot-sdk-python/blob/master/README.rst for more details.) -- Deprecated since version 3.0.0.\n",
            "  line_bot_api = LineBotApi(os.getenv('CHANNEL_ACCESS_TOKEN'))\n",
            "<ipython-input-4-6f083ef135c6>:32: LineBotSdkDeprecatedIn30: Call to deprecated class WebhookHandler. (Use 'from linebot.v3.webhook import WebhookHandler' instead. See https://github.com/line/line-bot-sdk-python/blob/master/README.rst for more details.) -- Deprecated since version 3.0.0.\n",
            "  handler = WebhookHandler(os.getenv('CHANNEL_SECRET'))\n",
            "WARNING:pyngrok.process.ngrok:t=2023-07-08T13:33:22+0000 lvl=warn msg=\"ngrok config file found at legacy location, move to XDG location\" xdg_path=/root/.config/ngrok/ngrok.yml legacy_path=/root/.ngrok2/ngrok.yml\n"
          ]
        },
        {
          "output_type": "stream",
          "name": "stdout",
          "text": [
            "Public URL: https://2b32-34-171-216-21.ngrok-free.app\n",
            " * Serving Flask app '__main__'\n",
            " * Debug mode: off\n"
          ]
        },
        {
          "output_type": "stream",
          "name": "stderr",
          "text": [
            "INFO:werkzeug:\u001b[31m\u001b[1mWARNING: This is a development server. Do not use it in a production deployment. Use a production WSGI server instead.\u001b[0m\n",
            " * Running on http://127.0.0.1:5000\n",
            "INFO:werkzeug:\u001b[33mPress CTRL+C to quit\u001b[0m\n",
            "INFO:werkzeug:127.0.0.1 - - [08/Jul/2023 13:33:36] \"POST /callback HTTP/1.1\" 200 -\n",
            "<ipython-input-4-6f083ef135c6>:51: LineBotSdkDeprecatedIn30: Call to deprecated method get_message_content. (Use 'from linebot.v3.messaging import MessagingApiBlob' and 'MessagingApiBlob(...).get_message_content(...)' instead. See https://github.com/line/line-bot-sdk-python/blob/master/README.rst for more details.) -- Deprecated since version 3.0.0.\n",
            "  message_content = line_bot_api.get_message_content(message_id)  # 画像メッセージの内容を取得\n"
          ]
        },
        {
          "output_type": "stream",
          "name": "stdout",
          "text": [
            "https://i.imgur.com/GlTej7y.jpg\n"
          ]
        },
        {
          "output_type": "stream",
          "name": "stderr",
          "text": [
            "<ipython-input-4-6f083ef135c6>:95: LineBotSdkDeprecatedIn30: Call to deprecated method reply_message. (Use 'from linebot.v3.messaging import MessagingApi' and 'MessagingApi(...).reply_message(...)' instead. See https://github.com/line/line-bot-sdk-python/blob/master/README.rst for more details.) -- Deprecated since version 3.0.0.\n",
            "  line_bot_api.reply_message(\n",
            "INFO:werkzeug:127.0.0.1 - - [08/Jul/2023 13:33:55] \"POST /callback HTTP/1.1\" 200 -\n"
          ]
        },
        {
          "output_type": "stream",
          "name": "stdout",
          "text": [
            "返信完了!!\n"
          ]
        },
        {
          "output_type": "stream",
          "name": "stderr",
          "text": [
            "INFO:werkzeug:127.0.0.1 - - [08/Jul/2023 13:34:16] \"POST /callback HTTP/1.1\" 200 -\n"
          ]
        },
        {
          "output_type": "stream",
          "name": "stdout",
          "text": [
            "text: あああ\n"
          ]
        }
      ]
    }
  ]
}